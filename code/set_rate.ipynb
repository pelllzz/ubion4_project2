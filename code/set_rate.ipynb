{
 "cells": [
  {
   "cell_type": "code",
   "execution_count": 18,
   "metadata": {},
   "outputs": [],
   "source": [
    "import pandas as pd\n",
    "import numpy as np"
   ]
  },
  {
   "cell_type": "code",
   "execution_count": 19,
   "metadata": {},
   "outputs": [],
   "source": [
    "# 캐시플로 데이터\n",
    "cash_flow = pd.read_csv(\"../raw_data/CASHFLOW_REAL.csv\", thousands=\",\", encoding=\"CP949\")\n",
    "\n",
    "# 이 아래는 괜찮고\n",
    "self_jabon = pd.read_csv(\"../raw_data/자기자본구성비율_Raw.csv\", thousands=\",\", encoding=\"CP949\")\n",
    "jego = pd.read_csv(\"../raw_data/재고자산대유동자산비율_Raw.csv\", thousands=\",\", encoding=\"CP949\")\n",
    "udong = pd.read_csv(\"../raw_data/유동자산구성비율_Raw.csv\", thousands=\",\", encoding=\"CP949\")\n",
    "chaip = pd.read_csv(\"../raw_data/차입금평균이자율_Raw.csv\", thousands=\",\", encoding=\"CP949\")\n",
    "finance_fee = pd.read_csv(\"../raw_data/금융비용부담률_Raw.csv\", thousands=\",\", encoding=\"CP949\")\n",
    "income = pd.read_csv(\"../raw_data/매출원가대매출액비율_Raw.csv\", thousands=\",\", encoding=\"CP949\")"
   ]
  },
  {
   "cell_type": "code",
   "execution_count": 20,
   "metadata": {},
   "outputs": [
    {
     "data": {
      "text/html": [
       "<div>\n",
       "<style scoped>\n",
       "    .dataframe tbody tr th:only-of-type {\n",
       "        vertical-align: middle;\n",
       "    }\n",
       "\n",
       "    .dataframe tbody tr th {\n",
       "        vertical-align: top;\n",
       "    }\n",
       "\n",
       "    .dataframe thead th {\n",
       "        text-align: right;\n",
       "    }\n",
       "</style>\n",
       "<table border=\"1\" class=\"dataframe\">\n",
       "  <thead>\n",
       "    <tr style=\"text-align: right;\">\n",
       "      <th></th>\n",
       "      <th>회사명</th>\n",
       "      <th>거래소코드</th>\n",
       "      <th>회계년도</th>\n",
       "      <th>[제조]영업활동으로 인한 현금흐름(간접법)(*)(IFRS)</th>\n",
       "      <th>[제조]매출액(수익)(*)(IFRS)</th>\n",
       "      <th>[제조]부채(*)(IFRS)</th>\n",
       "      <th>[제조]영업활동으로 인한 현금흐름(간접법)(*)(IFRS연결)</th>\n",
       "      <th>[제조]매출액(수익)(*)(IFRS연결)</th>\n",
       "      <th>[제조]부채(*)(IFRS연결)</th>\n",
       "    </tr>\n",
       "  </thead>\n",
       "  <tbody>\n",
       "    <tr>\n",
       "      <th>0</th>\n",
       "      <td>(주)CMG제약</td>\n",
       "      <td>58820</td>\n",
       "      <td>2010/12</td>\n",
       "      <td>-5983864.0</td>\n",
       "      <td>11350419.0</td>\n",
       "      <td>8370511.0</td>\n",
       "      <td>-5983864.0</td>\n",
       "      <td>11350419.0</td>\n",
       "      <td>8370511.0</td>\n",
       "    </tr>\n",
       "  </tbody>\n",
       "</table>\n",
       "</div>"
      ],
      "text/plain": [
       "        회사명  거래소코드     회계년도  [제조]영업활동으로 인한 현금흐름(간접법)(*)(IFRS)  \\\n",
       "0  (주)CMG제약  58820  2010/12                        -5983864.0   \n",
       "\n",
       "   [제조]매출액(수익)(*)(IFRS)  [제조]부채(*)(IFRS)  [제조]영업활동으로 인한 현금흐름(간접법)(*)(IFRS연결)  \\\n",
       "0            11350419.0        8370511.0                          -5983864.0   \n",
       "\n",
       "   [제조]매출액(수익)(*)(IFRS연결)  [제조]부채(*)(IFRS연결)  \n",
       "0              11350419.0          8370511.0  "
      ]
     },
     "execution_count": 20,
     "metadata": {},
     "output_type": "execute_result"
    }
   ],
   "source": [
    "cash_flow.head(1)"
   ]
  },
  {
   "cell_type": "code",
   "execution_count": 21,
   "metadata": {},
   "outputs": [],
   "source": [
    "# cashflow shift 처리\n",
    "\n",
    "cash_flow[\"[제조]영업활동현금흐름(개별)\"] = cash_flow[\"[제조]영업활동으로 인한 현금흐름(간접법)(*)(IFRS)\"].shift().where(cash_flow.회사명.eq(cash_flow.회사명.shift()))\n",
    "cash_flow[\"[제조]영업활동현금흐름(연결)\"] = cash_flow[\"[제조]영업활동으로 인한 현금흐름(간접법)(*)(IFRS연결)\"].shift().where(cash_flow.회사명.eq(cash_flow.회사명.shift()))"
   ]
  },
  {
   "cell_type": "code",
   "execution_count": 22,
   "metadata": {},
   "outputs": [
    {
     "data": {
      "text/html": [
       "<div>\n",
       "<style scoped>\n",
       "    .dataframe tbody tr th:only-of-type {\n",
       "        vertical-align: middle;\n",
       "    }\n",
       "\n",
       "    .dataframe tbody tr th {\n",
       "        vertical-align: top;\n",
       "    }\n",
       "\n",
       "    .dataframe thead th {\n",
       "        text-align: right;\n",
       "    }\n",
       "</style>\n",
       "<table border=\"1\" class=\"dataframe\">\n",
       "  <thead>\n",
       "    <tr style=\"text-align: right;\">\n",
       "      <th></th>\n",
       "      <th>회사명</th>\n",
       "      <th>거래소코드</th>\n",
       "      <th>회계년도</th>\n",
       "      <th>[제조]영업활동으로 인한 현금흐름(간접법)(*)(IFRS)</th>\n",
       "      <th>[제조]매출액(수익)(*)(IFRS)</th>\n",
       "      <th>[제조]부채(*)(IFRS)</th>\n",
       "      <th>[제조]영업활동으로 인한 현금흐름(간접법)(*)(IFRS연결)</th>\n",
       "      <th>[제조]매출액(수익)(*)(IFRS연결)</th>\n",
       "      <th>[제조]부채(*)(IFRS연결)</th>\n",
       "      <th>[제조]영업활동현금흐름(개별)</th>\n",
       "      <th>[제조]영업활동현금흐름(연결)</th>\n",
       "    </tr>\n",
       "  </thead>\n",
       "  <tbody>\n",
       "    <tr>\n",
       "      <th>0</th>\n",
       "      <td>(주)CMG제약</td>\n",
       "      <td>58820</td>\n",
       "      <td>2010/12</td>\n",
       "      <td>-5983864.0</td>\n",
       "      <td>11350419.0</td>\n",
       "      <td>8370511.0</td>\n",
       "      <td>-5983864.0</td>\n",
       "      <td>11350419.0</td>\n",
       "      <td>8370511.0</td>\n",
       "      <td>NaN</td>\n",
       "      <td>NaN</td>\n",
       "    </tr>\n",
       "  </tbody>\n",
       "</table>\n",
       "</div>"
      ],
      "text/plain": [
       "        회사명  거래소코드     회계년도  [제조]영업활동으로 인한 현금흐름(간접법)(*)(IFRS)  \\\n",
       "0  (주)CMG제약  58820  2010/12                        -5983864.0   \n",
       "\n",
       "   [제조]매출액(수익)(*)(IFRS)  [제조]부채(*)(IFRS)  [제조]영업활동으로 인한 현금흐름(간접법)(*)(IFRS연결)  \\\n",
       "0            11350419.0        8370511.0                          -5983864.0   \n",
       "\n",
       "   [제조]매출액(수익)(*)(IFRS연결)  [제조]부채(*)(IFRS연결)  [제조]영업활동현금흐름(개별)  \\\n",
       "0              11350419.0          8370511.0               NaN   \n",
       "\n",
       "   [제조]영업활동현금흐름(연결)  \n",
       "0               NaN  "
      ]
     },
     "execution_count": 22,
     "metadata": {},
     "output_type": "execute_result"
    }
   ],
   "source": [
    "cash_flow.head(1)"
   ]
  },
  {
   "cell_type": "code",
   "execution_count": 23,
   "metadata": {},
   "outputs": [],
   "source": [
    "# # cashflow 대 부채 비율\n",
    "\n",
    "# for i in range(0, len(cash_flow)):\n",
    "#     if ((cash_flow.iloc[i][\"[제조]영업활동으로 인한 현금흐름(간접법)(*)(IFRS)\"] + cash_flow.iloc[i][\"[제조]영업활동현금흐름(개별)\"])/2) < 0 and cash_flow.iloc[i][\"[제조]부채(*)(IFRS)\"] < 0 :\n",
    "#         cash_flow.loc[i, \"cashflow_부채비율(개별)\"] = (((cash_flow.iloc[i][\"[제조]영업활동으로 인한 현금흐름(간접법)(*)(IFRS)\"] + cash_flow.iloc[i][\"[제조]영업활동현금흐름(개별)\"])/2)/cash_flow.iloc[i][\"[제조]부채(*)(IFRS)\"]) * -1\n",
    "#     else:\n",
    "#         cash_flow.loc[i, \"cashflow_부채비율(개별)\"] = ((cash_flow.iloc[i][\"[제조]영업활동으로 인한 현금흐름(간접법)(*)(IFRS)\"] + cash_flow.iloc[i][\"[제조]영업활동현금흐름(개별)\"])/2)/cash_flow.iloc[i][\"[제조]부채(*)(IFRS)\"]\n",
    "\n",
    "#     if ((cash_flow.iloc[i][\"[제조]영업활동으로 인한 현금흐름(간접법)(*)(IFRS연결)\"] - cash_flow.iloc[i][\"[제조]영업활동현금흐름(연결)\"])/2) < 0 and cash_flow.iloc[i][\"[제조]당기순이익(손실)(IFRS연결)\"] < 0 :\n",
    "#         cash_flow.loc[i, \"cashflow_부채비율(연결)\"] = (((cash_flow.iloc[i][\"[제조]영업활동으로 인한 현금흐름(간접법)(*)(IFRS연결)\"] + cash_flow.iloc[i][\"[제조]영업활동현금흐름(연결)\"])/2)/cash_flow.iloc[i][\"[제조]부채(*)(IFRS)\"]) * -1\n",
    "#     else:\n",
    "#         cash_flow.loc[i, \"cashflow_부채비율(연결)\"] = ((cash_flow.iloc[i][\"[제조]영업활동으로 인한 현금흐름(간접법)(*)(IFRS연결)\"] + cash_flow.iloc[i][\"[제조]영업활동현금흐름(연결)\"])/2)/cash_flow.iloc[i][\"[제조]부채(*)(IFRS)\"]\n",
    "\n",
    "# # cashflow 대 매출 비율\n",
    "\n",
    "# for i in range(0, len(cash_flow)):\n",
    "#     if ((cash_flow.iloc[i][\"[제조]영업활동으로 인한 현금흐름(간접법)(*)(IFRS)\"] + cash_flow.iloc[i][\"[제조]영업활동현금흐름(개별)\"])/2) < 0 and cash_flow.iloc[i][\"[제조]당기순이익(손실)(IFRS)\"] < 0 :\n",
    "#         cash_flow.loc[i, \"cashflow_매출비율(개별)\"] = (((cash_flow.iloc[i][\"[제조]영업활동으로 인한 현금흐름(간접법)(*)(IFRS)\"] + cash_flow.iloc[i][\"[제조]영업활동현금흐름(개별)\"])/2)/cash_flow.iloc[i][\"[제조]매출액(수익)(*)(IFRS)\"]) * -1\n",
    "#     else:\n",
    "#         cash_flow.loc[i, \"cashflow_매출비율(개별)\"] = ((cash_flow.iloc[i][\"[제조]영업활동으로 인한 현금흐름(간접법)(*)(IFRS)\"] + cash_flow.iloc[i][\"[제조]영업활동현금흐름(개별)\"])/2)/cash_flow.iloc[i][\"[제조]매출액(수익)(*)(IFRS)\"]\n",
    "    \n",
    "#     if cash_flow.iloc[i][\"[제조]자본(*)(IFRS연결)\"] < 0 and cash_flow.iloc[i][\"[제조]당기순이익(손실)(IFRS연결)\"] < 0 :\n",
    "#         cash_flow.loc[i, \"cashflow_매출비율(연결)\"] = (((cash_flow.iloc[i][\"[제조]영업활동으로 인한 현금흐름(간접법)(*)(IFRS연결)\"] + cash_flow.iloc[i][\"[제조]영업활동현금흐름(연결)\"])/2)/cash_flow.iloc[i][\"[제조]매출액(수익)(*)(IFRS연결)\"]) * -1\n",
    "#     else:\n",
    "#         cash_flow.loc[i, \"cashflow_매출비율(연결)\"] = ((cash_flow.iloc[i][\"[제조]영업활동으로 인한 현금흐름(간접법)(*)(IFRS연결)\"] + cash_flow.iloc[i][\"[제조]영업활동현금흐름(연결)\"])/2)/cash_flow.iloc[i][\"[제조]매출액(수익)(*)(IFRS연결)\"]"
   ]
  },
  {
   "cell_type": "code",
   "execution_count": 27,
   "metadata": {},
   "outputs": [
    {
     "data": {
      "text/html": [
       "<div>\n",
       "<style scoped>\n",
       "    .dataframe tbody tr th:only-of-type {\n",
       "        vertical-align: middle;\n",
       "    }\n",
       "\n",
       "    .dataframe tbody tr th {\n",
       "        vertical-align: top;\n",
       "    }\n",
       "\n",
       "    .dataframe thead th {\n",
       "        text-align: right;\n",
       "    }\n",
       "</style>\n",
       "<table border=\"1\" class=\"dataframe\">\n",
       "  <thead>\n",
       "    <tr style=\"text-align: right;\">\n",
       "      <th></th>\n",
       "      <th>회사명</th>\n",
       "      <th>거래소코드</th>\n",
       "      <th>회계년도</th>\n",
       "      <th>자본(IFRS연결)</th>\n",
       "      <th>자산(IFRS연결)</th>\n",
       "      <th>자본(IFRS개별)</th>\n",
       "      <th>자산(IFRS개별)</th>\n",
       "      <th>자기자본구성비율(연결)</th>\n",
       "      <th>자기자본구성비율(개별)</th>\n",
       "    </tr>\n",
       "  </thead>\n",
       "  <tbody>\n",
       "    <tr>\n",
       "      <th>0</th>\n",
       "      <td>(주)CMG제약</td>\n",
       "      <td>58820</td>\n",
       "      <td>Dec-11</td>\n",
       "      <td>18034249.0</td>\n",
       "      <td>27305198.0</td>\n",
       "      <td>18290915.0</td>\n",
       "      <td>27548539.0</td>\n",
       "      <td>66.046945</td>\n",
       "      <td>66.395227</td>\n",
       "    </tr>\n",
       "  </tbody>\n",
       "</table>\n",
       "</div>"
      ],
      "text/plain": [
       "        회사명  거래소코드    회계년도  자본(IFRS연결)  자산(IFRS연결)  자본(IFRS개별)  자산(IFRS개별)  \\\n",
       "0  (주)CMG제약  58820  Dec-11  18034249.0  27305198.0  18290915.0  27548539.0   \n",
       "\n",
       "   자기자본구성비율(연결)  자기자본구성비율(개별)  \n",
       "0     66.046945     66.395227  "
      ]
     },
     "execution_count": 27,
     "metadata": {},
     "output_type": "execute_result"
    }
   ],
   "source": [
    "self_jabon.head(1)"
   ]
  },
  {
   "cell_type": "code",
   "execution_count": 25,
   "metadata": {},
   "outputs": [],
   "source": [
    "# 자기자본구성비율\n",
    "\n",
    "for i in range(0, len(self_jabon)):\n",
    "    if self_jabon.iloc[i][\"자본(IFRS연결)\"] < 0 and self_jabon.iloc[i][\"자산(IFRS연결)\"] < 0 :\n",
    "        self_jabon.loc[i, \"자기자본구성비율(연결)\"] = self_jabon.iloc[i][\"자본(IFRS연결)\"]/self_jabon.iloc[i][\"자산(IFRS연결)\"] * -100\n",
    "    else:\n",
    "        self_jabon.loc[i, \"자기자본구성비율(연결)\"] = self_jabon.iloc[i][\"자본(IFRS연결)\"]/self_jabon.iloc[i][\"자산(IFRS연결)\"] * 100\n",
    "\n",
    "    if self_jabon.iloc[i][\"자본(IFRS개별)\"] < 0 and self_jabon.iloc[i][\"자본(IFRS개별)\"] < 0 :\n",
    "        self_jabon.loc[i, \"자기자본구성비율(개별)\"] = self_jabon.iloc[i][\"자본(IFRS개별)\"]/self_jabon.iloc[i][\"자산(IFRS개별)\"] * -100\n",
    "    else:\n",
    "        self_jabon.loc[i, \"자기자본구성비율(개별)\"] = self_jabon.iloc[i][\"자본(IFRS개별)\"]/self_jabon.iloc[i][\"자산(IFRS개별)\"] * 100"
   ]
  },
  {
   "cell_type": "code",
   "execution_count": 26,
   "metadata": {},
   "outputs": [
    {
     "data": {
      "text/html": [
       "<div>\n",
       "<style scoped>\n",
       "    .dataframe tbody tr th:only-of-type {\n",
       "        vertical-align: middle;\n",
       "    }\n",
       "\n",
       "    .dataframe tbody tr th {\n",
       "        vertical-align: top;\n",
       "    }\n",
       "\n",
       "    .dataframe thead th {\n",
       "        text-align: right;\n",
       "    }\n",
       "</style>\n",
       "<table border=\"1\" class=\"dataframe\">\n",
       "  <thead>\n",
       "    <tr style=\"text-align: right;\">\n",
       "      <th></th>\n",
       "      <th>회사명</th>\n",
       "      <th>거래소코드</th>\n",
       "      <th>회계년도</th>\n",
       "      <th>재고자산(IFRS연결)</th>\n",
       "      <th>유동자산(IFRS연결)</th>\n",
       "      <th>재고자산(IFRS개별)</th>\n",
       "      <th>유동자산(IFRS개별)</th>\n",
       "    </tr>\n",
       "  </thead>\n",
       "  <tbody>\n",
       "    <tr>\n",
       "      <th>0</th>\n",
       "      <td>(주)CMG제약</td>\n",
       "      <td>58820</td>\n",
       "      <td>Dec-11</td>\n",
       "      <td>2743103.0</td>\n",
       "      <td>15341167.0</td>\n",
       "      <td>2743103.0</td>\n",
       "      <td>15264885.0</td>\n",
       "    </tr>\n",
       "  </tbody>\n",
       "</table>\n",
       "</div>"
      ],
      "text/plain": [
       "        회사명  거래소코드    회계년도  재고자산(IFRS연결)  유동자산(IFRS연결)  재고자산(IFRS개별)  \\\n",
       "0  (주)CMG제약  58820  Dec-11     2743103.0    15341167.0     2743103.0   \n",
       "\n",
       "   유동자산(IFRS개별)  \n",
       "0    15264885.0  "
      ]
     },
     "execution_count": 26,
     "metadata": {},
     "output_type": "execute_result"
    }
   ],
   "source": [
    "jego.head(1)"
   ]
  },
  {
   "cell_type": "code",
   "execution_count": null,
   "metadata": {},
   "outputs": [],
   "source": [
    "# 재고자산 대 유동자산 비율\n",
    "\n",
    "for i in range(0, len(self_jabon)):\n",
    "    if self_jabon.iloc[i][\"재고자산(IFRS연결)\"] < 0 and self_jabon.iloc[i][\"유동자산(IFRS연결)\"] < 0 :\n",
    "        self_jabon.loc[i, \"재고자산유동비율(연결)\"] = self_jabon.iloc[i][\"재고자산(IFRS연결)\"]/self_jabon.iloc[i][\"유동자산(IFRS연결)\"] * -100\n",
    "    else:\n",
    "        self_jabon.loc[i, \"재고자산유동비율(연결)\"] = self_jabon.iloc[i][\"재고자산(IFRS연결)\"]/self_jabon.iloc[i][\"유동자산(IFRS연결)\"] * 100\n",
    "\n",
    "    if self_jabon.iloc[i][\"재고자산(IFRS개별)\"] < 0 and self_jabon.iloc[i][\"유동자산(IFRS개별)\"] < 0 :\n",
    "        self_jabon.loc[i, \"재고자산유동비율(개별)\"] = self_jabon.iloc[i][\"재고자산(IFRS개별)\"]/self_jabon.iloc[i][\"유동자산(IFRS개별)\"] * -100\n",
    "    else:\n",
    "        self_jabon.loc[i, \"재고자산유동비율(개별)\"] = self_jabon.iloc[i][\"재고자산(IFRS개별)\"]/self_jabon.iloc[i][\"유동자산(IFRS개별)\"] * 100"
   ]
  },
  {
   "cell_type": "code",
   "execution_count": null,
   "metadata": {},
   "outputs": [
    {
     "data": {
      "text/html": [
       "<div>\n",
       "<style scoped>\n",
       "    .dataframe tbody tr th:only-of-type {\n",
       "        vertical-align: middle;\n",
       "    }\n",
       "\n",
       "    .dataframe tbody tr th {\n",
       "        vertical-align: top;\n",
       "    }\n",
       "\n",
       "    .dataframe thead th {\n",
       "        text-align: right;\n",
       "    }\n",
       "</style>\n",
       "<table border=\"1\" class=\"dataframe\">\n",
       "  <thead>\n",
       "    <tr style=\"text-align: right;\">\n",
       "      <th></th>\n",
       "      <th>회사명</th>\n",
       "      <th>거래소코드</th>\n",
       "      <th>회계년도</th>\n",
       "      <th>유동자산(IFRS연결)</th>\n",
       "      <th>자산(IFRS연결)</th>\n",
       "      <th>유동자산(IFRS개별)</th>\n",
       "      <th>자산(IFRS개별)</th>\n",
       "    </tr>\n",
       "  </thead>\n",
       "  <tbody>\n",
       "    <tr>\n",
       "      <th>0</th>\n",
       "      <td>(주)CMG제약</td>\n",
       "      <td>58820</td>\n",
       "      <td>Dec-11</td>\n",
       "      <td>15341167.0</td>\n",
       "      <td>27305198.0</td>\n",
       "      <td>15264885.0</td>\n",
       "      <td>27548539.0</td>\n",
       "    </tr>\n",
       "  </tbody>\n",
       "</table>\n",
       "</div>"
      ],
      "text/plain": [
       "        회사명  거래소코드    회계년도  유동자산(IFRS연결)  자산(IFRS연결)  유동자산(IFRS개별)  자산(IFRS개별)\n",
       "0  (주)CMG제약  58820  Dec-11    15341167.0  27305198.0    15264885.0  27548539.0"
      ]
     },
     "execution_count": 9,
     "metadata": {},
     "output_type": "execute_result"
    }
   ],
   "source": [
    "udong.head(1)"
   ]
  },
  {
   "cell_type": "code",
   "execution_count": null,
   "metadata": {},
   "outputs": [],
   "source": [
    "# 유동자산 구성비율\n",
    "\n",
    "for i in range(0, len(udong)):\n",
    "    if udong.iloc[i][\"유동자산(IFRS연결)\"] < 0 and udong.iloc[i][\"자산(IFRS연결)\"] < 0 :\n",
    "        udong.loc[i, \"유동자산구성비율(연결)\"] = udong.iloc[i][\"유동자산(IFRS연결)\"]/udong.iloc[i][\"자산(IFRS연결)\"] * -100\n",
    "    else:\n",
    "        udong.loc[i, \"유동자산구성비율(연결)\"] = udong.iloc[i][\"유동자산(IFRS연결)\"]/udong.iloc[i][\"자산(IFRS연결)\"] * 100\n",
    "\n",
    "    if udong.iloc[i][\"유동자산(IFRS개별)\"] < 0 and udong.iloc[i][\"자산(IFRS개별)\"] < 0 :\n",
    "        udong.loc[i, \"유동자산구성비율(개별)\"] = udong.iloc[i][\"유동자산(IFRS개별)\"]/udong.iloc[i][\"자산(IFRS개별)\"] * -100\n",
    "    else:\n",
    "        udong.loc[i, \"유동자산구성비율(개별)\"] = udong.iloc[i][\"유동자산(IFRS개별)\"]/udong.iloc[i][\"자산(IFRS개별)\"] * 100"
   ]
  },
  {
   "cell_type": "code",
   "execution_count": null,
   "metadata": {},
   "outputs": [
    {
     "data": {
      "text/html": [
       "<div>\n",
       "<style scoped>\n",
       "    .dataframe tbody tr th:only-of-type {\n",
       "        vertical-align: middle;\n",
       "    }\n",
       "\n",
       "    .dataframe tbody tr th {\n",
       "        vertical-align: top;\n",
       "    }\n",
       "\n",
       "    .dataframe thead th {\n",
       "        text-align: right;\n",
       "    }\n",
       "</style>\n",
       "<table border=\"1\" class=\"dataframe\">\n",
       "  <thead>\n",
       "    <tr style=\"text-align: right;\">\n",
       "      <th></th>\n",
       "      <th>회사명</th>\n",
       "      <th>거래소코드</th>\n",
       "      <th>회계년도</th>\n",
       "      <th>장기차입금(IFRS연결)</th>\n",
       "      <th>단기차입금(IFRS연결)</th>\n",
       "      <th>유동성장기부채(IFRS연결)</th>\n",
       "      <th>이자비용(IFRS연결)</th>\n",
       "      <th>장기차입금(IFRS개별)</th>\n",
       "      <th>단기차입금(IFRS개별)</th>\n",
       "      <th>유동성장기부채(IFRS개별)</th>\n",
       "      <th>이자비용(IFRS개별)</th>\n",
       "    </tr>\n",
       "  </thead>\n",
       "  <tbody>\n",
       "    <tr>\n",
       "      <th>0</th>\n",
       "      <td>(주)CMG제약</td>\n",
       "      <td>58820</td>\n",
       "      <td>Dec-11</td>\n",
       "      <td>0.0</td>\n",
       "      <td>0.0</td>\n",
       "      <td>2000000.0</td>\n",
       "      <td>0.0</td>\n",
       "      <td>0.0</td>\n",
       "      <td>2134049.0</td>\n",
       "      <td>2000000.0</td>\n",
       "      <td>0.0</td>\n",
       "    </tr>\n",
       "  </tbody>\n",
       "</table>\n",
       "</div>"
      ],
      "text/plain": [
       "        회사명  거래소코드    회계년도  장기차입금(IFRS연결)  단기차입금(IFRS연결)  유동성장기부채(IFRS연결)  \\\n",
       "0  (주)CMG제약  58820  Dec-11            0.0            0.0        2000000.0   \n",
       "\n",
       "   이자비용(IFRS연결)  장기차입금(IFRS개별)  단기차입금(IFRS개별)  유동성장기부채(IFRS개별)  이자비용(IFRS개별)  \n",
       "0           0.0            0.0      2134049.0        2000000.0           0.0  "
      ]
     },
     "execution_count": 10,
     "metadata": {},
     "output_type": "execute_result"
    }
   ],
   "source": [
    "chaip.head(1)"
   ]
  },
  {
   "cell_type": "code",
   "execution_count": null,
   "metadata": {},
   "outputs": [],
   "source": [
    "# 차입금 평균 이자율\n",
    "\n",
    "for i in range(0, len(chaip)):\n",
    "    if chaip.iloc[i][\"이자비용(IFRS연결)\"] < 0 and ((chaip.iloc[i][\"장기차입금(IRFS연결)\"]+chaip.iloc[i][\"단기차입금(IFRS연결)\"]+chaip.iloc[i][\"유동성장기부채(IFRS연결)\"])/3) < 0 :\n",
    "        chaip.loc[i, \"차입금평균이자율(연결)\"] = chaip.iloc[i][\"이자비용(IFRS연결)\"]/((chaip.iloc[i][\"장기차입금(IRFS연결)\"]+chaip.iloc[i][\"단기차입금(IFRS연결)\"]+chaip.iloc[i][\"유동성장기부채(IFRS연결)\"])/3) * -100\n",
    "    else:\n",
    "        chaip.loc[i, \"차입금평균이자율(연결)\"] = ((chaip.iloc[i][\"장기차입금(IRFS연결)\"]+chaip.iloc[i][\"단기차입금(IFRS연결)\"]+chaip.iloc[i][\"유동성장기부채(IFRS연결)\"])/3) * 100\n",
    "\n",
    "    if chaip.iloc[i][\"이자비용(IFRS개별)\"] < 0 and ((chaip.iloc[i][\"장기차입금(IRFS개별)\"]+chaip.iloc[i][\"단기차입금(IFRS개별)\"]+chaip.iloc[i][\"유동성장기부채(IFRS개별)\"])/3) < 0 :\n",
    "        chaip.loc[i, \"차입금평균이자율(개별)\"] = chaip.iloc[i][\"유동자산(IFRS개별)\"]/((chaip.iloc[i][\"장기차입금(IRFS개별)\"]+chaip.iloc[i][\"단기차입금(IFRS개별)\"]+chaip.iloc[i][\"유동성장기부채(IFRS개별)\"])/3) * -100\n",
    "    else:\n",
    "        chaip.loc[i, \"차입금평균이자율(개별)\"] = chaip.iloc[i][\"유동자산(IFRS개별)\"]/((chaip.iloc[i][\"장기차입금(IRFS개별)\"]+chaip.iloc[i][\"단기차입금(IFRS개별)\"]+chaip.iloc[i][\"유동성장기부채(IFRS개별)\"])/3) * 100"
   ]
  },
  {
   "cell_type": "code",
   "execution_count": null,
   "metadata": {},
   "outputs": [
    {
     "data": {
      "text/html": [
       "<div>\n",
       "<style scoped>\n",
       "    .dataframe tbody tr th:only-of-type {\n",
       "        vertical-align: middle;\n",
       "    }\n",
       "\n",
       "    .dataframe tbody tr th {\n",
       "        vertical-align: top;\n",
       "    }\n",
       "\n",
       "    .dataframe thead th {\n",
       "        text-align: right;\n",
       "    }\n",
       "</style>\n",
       "<table border=\"1\" class=\"dataframe\">\n",
       "  <thead>\n",
       "    <tr style=\"text-align: right;\">\n",
       "      <th></th>\n",
       "      <th>회사명</th>\n",
       "      <th>거래소코드</th>\n",
       "      <th>회계년도</th>\n",
       "      <th>[제조]   금융비용(IFRS연결)</th>\n",
       "      <th>[제조]매출액(수익)(*)(IFRS연결)</th>\n",
       "      <th>[제조]   금융비용(IFRS)</th>\n",
       "      <th>[제조]매출액(수익)(*)(IFRS)</th>\n",
       "    </tr>\n",
       "  </thead>\n",
       "  <tbody>\n",
       "    <tr>\n",
       "      <th>0</th>\n",
       "      <td>(주)CMG제약</td>\n",
       "      <td>58820</td>\n",
       "      <td>2011/12</td>\n",
       "      <td>0.0</td>\n",
       "      <td>17751704.0</td>\n",
       "      <td>0.0</td>\n",
       "      <td>17751704.0</td>\n",
       "    </tr>\n",
       "  </tbody>\n",
       "</table>\n",
       "</div>"
      ],
      "text/plain": [
       "        회사명  거래소코드     회계년도  [제조]   금융비용(IFRS연결)  [제조]매출액(수익)(*)(IFRS연결)  \\\n",
       "0  (주)CMG제약  58820  2011/12                  0.0              17751704.0   \n",
       "\n",
       "   [제조]   금융비용(IFRS)  [제조]매출액(수익)(*)(IFRS)  \n",
       "0                0.0            17751704.0  "
      ]
     },
     "execution_count": 11,
     "metadata": {},
     "output_type": "execute_result"
    }
   ],
   "source": [
    "finance_fee.head(1)"
   ]
  },
  {
   "cell_type": "code",
   "execution_count": null,
   "metadata": {},
   "outputs": [],
   "source": [
    "# 금융비용 부담률\n",
    "\n",
    "for i in range(0, len(finance_fee)):\n",
    "    if finance_fee.iloc[i][\"[제조] 금융비용(IFRS연결)\"] < 0 and finance_fee.iloc[i][\"[제조]매출액(수익)(*)(IFRS연결)\"] < 0 :\n",
    "        finance_fee.loc[i, \"금융비용부담률(연결)\"] = finance_fee.iloc[i][\"[제조] 금융비용(IFRS연결)\"]/finance_fee.iloc[i][\"[제조]매출액(수익)(*)(IFRS연결)\"] * -100\n",
    "    else:\n",
    "        finance_fee.loc[i, \"금융비용부담률(연결)\"] = finance_fee.iloc[i][\"[제조] 금융비용(IFRS연결)\"]/finance_fee.iloc[i][\"[제조]매출액(수익)(*)(IFRS연결)\"] * 100\n",
    "\n",
    "    if finance_fee.iloc[i][\"[제조] 금융비용(IFRS)\"] < 0 and finance_fee.iloc[i][\"[제조]매출액(수익)(*)(IFRS)\"] < 0 :\n",
    "        finance_fee.loc[i, \"금융비용부담률(개별)\"] = finance_fee.iloc[i][\"[제조] 금융비용(IFRS)\"]/finance_fee.iloc[i][\"[제조]매출액(수익)(*)(IFRS)\"] * -100\n",
    "    else:\n",
    "        finance_fee.loc[i, \"금융비용부담률(개별)\"] = finance_fee.iloc[i][\"[제조] 금융비용(IFRS)\"]/finance_fee.iloc[i][\"[제조]매출액(수익)(*)(IFRS)\"] * 100"
   ]
  },
  {
   "cell_type": "code",
   "execution_count": null,
   "metadata": {},
   "outputs": [
    {
     "data": {
      "text/html": [
       "<div>\n",
       "<style scoped>\n",
       "    .dataframe tbody tr th:only-of-type {\n",
       "        vertical-align: middle;\n",
       "    }\n",
       "\n",
       "    .dataframe tbody tr th {\n",
       "        vertical-align: top;\n",
       "    }\n",
       "\n",
       "    .dataframe thead th {\n",
       "        text-align: right;\n",
       "    }\n",
       "</style>\n",
       "<table border=\"1\" class=\"dataframe\">\n",
       "  <thead>\n",
       "    <tr style=\"text-align: right;\">\n",
       "      <th></th>\n",
       "      <th>회사명</th>\n",
       "      <th>거래소코드</th>\n",
       "      <th>회계년도</th>\n",
       "      <th>[제조]매출원가(*)(IFRS연결)</th>\n",
       "      <th>[제조]매출액(수익)(*)(IFRS연결)</th>\n",
       "      <th>[제조]매출원가(*)(IFRS)</th>\n",
       "      <th>[제조]매출액(수익)(*)(IFRS)</th>\n",
       "      <th>매출원가_매출액비율(연결)</th>\n",
       "      <th>매출원가_매출액비율(개별)</th>\n",
       "    </tr>\n",
       "  </thead>\n",
       "  <tbody>\n",
       "    <tr>\n",
       "      <th>0</th>\n",
       "      <td>(주)CMG제약</td>\n",
       "      <td>58820</td>\n",
       "      <td>2011/12</td>\n",
       "      <td>10325799.0</td>\n",
       "      <td>17751704.0</td>\n",
       "      <td>10325799.0</td>\n",
       "      <td>17751704.0</td>\n",
       "      <td>58.167931</td>\n",
       "      <td>58.167931</td>\n",
       "    </tr>\n",
       "  </tbody>\n",
       "</table>\n",
       "</div>"
      ],
      "text/plain": [
       "        회사명  거래소코드     회계년도  [제조]매출원가(*)(IFRS연결)  [제조]매출액(수익)(*)(IFRS연결)  \\\n",
       "0  (주)CMG제약  58820  2011/12           10325799.0              17751704.0   \n",
       "\n",
       "   [제조]매출원가(*)(IFRS)  [제조]매출액(수익)(*)(IFRS)  매출원가_매출액비율(연결)  매출원가_매출액비율(개별)  \n",
       "0         10325799.0            17751704.0       58.167931       58.167931  "
      ]
     },
     "execution_count": 14,
     "metadata": {},
     "output_type": "execute_result"
    }
   ],
   "source": [
    "income.head(1)"
   ]
  },
  {
   "cell_type": "code",
   "execution_count": null,
   "metadata": {},
   "outputs": [
    {
     "name": "stderr",
     "output_type": "stream",
     "text": [
      "C:\\Users\\luck1\\AppData\\Local\\Temp\\ipykernel_12076\\3723378413.py:12: RuntimeWarning: invalid value encountered in double_scalars\n",
      "  income.loc[i, \"매출원가_매출액비율(개별)\"] = income.iloc[i][\"[제조]매출원가(*)(IFRS)\"]/income.iloc[i][\"[제조]매출액(수익)(*)(IFRS)\"] * 100\n",
      "C:\\Users\\luck1\\AppData\\Local\\Temp\\ipykernel_12076\\3723378413.py:7: RuntimeWarning: invalid value encountered in double_scalars\n",
      "  income.loc[i, \"매출원가_매출액비율(연결)\"] = income.iloc[i][\"[제조]매출원가(*)(IFRS연결)\"]/income.iloc[i][\"[제조]매출액(수익)(*)(IFRS연결)\"] * 100\n"
     ]
    }
   ],
   "source": [
    "# 매출원가 대 매출액 비율\n",
    "\n",
    "for i in range(0, len(income)):\n",
    "    if income.iloc[i][\"[제조]매출원가(*)(IFRS연결)\"] < 0 and income.iloc[i][\"[제조]매출액(수익)(*)(IFRS연결)\"] < 0 :\n",
    "        income.loc[i, \"매출원가_매출액비율(연결)\"] = income.iloc[i][\"[제조]매출원가(*)(IFRS연결)\"]/income.iloc[i][\"[제조]매출액(수익)(*)(IFRS연결)\"] * -100\n",
    "    else:\n",
    "        income.loc[i, \"매출원가_매출액비율(연결)\"] = income.iloc[i][\"[제조]매출원가(*)(IFRS연결)\"]/income.iloc[i][\"[제조]매출액(수익)(*)(IFRS연결)\"] * 100\n",
    "\n",
    "    if income.iloc[i][\"[제조]매출원가(*)(IFRS)\"] < 0 and income.iloc[i][\"[제조]매출액(수익)(*)(IFRS)\"] < 0 :\n",
    "        income.loc[i, \"매출원가_매출액비율(개별)\"] = income.iloc[i][\"[제조]매출원가(*)(IFRS)\"]/income.iloc[i][\"[제조]매출액(수익)(*)(IFRS)\"] * -100\n",
    "    else:\n",
    "        income.loc[i, \"매출원가_매출액비율(개별)\"] = income.iloc[i][\"[제조]매출원가(*)(IFRS)\"]/income.iloc[i][\"[제조]매출액(수익)(*)(IFRS)\"] * 100"
   ]
  }
 ],
 "metadata": {
  "kernelspec": {
   "display_name": "Python 3.10.4 64-bit",
   "language": "python",
   "name": "python3"
  },
  "language_info": {
   "codemirror_mode": {
    "name": "ipython",
    "version": 3
   },
   "file_extension": ".py",
   "mimetype": "text/x-python",
   "name": "python",
   "nbconvert_exporter": "python",
   "pygments_lexer": "ipython3",
   "version": "3.10.4"
  },
  "orig_nbformat": 4,
  "vscode": {
   "interpreter": {
    "hash": "d45b7667f15187787b62e9d1c54e096de9a2222ecb594bc9f5d6366f2c4af4e5"
   }
  }
 },
 "nbformat": 4,
 "nbformat_minor": 2
}
