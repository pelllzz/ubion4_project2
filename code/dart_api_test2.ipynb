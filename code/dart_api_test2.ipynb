{
 "cells": [
  {
   "cell_type": "code",
   "execution_count": 158,
   "metadata": {},
   "outputs": [],
   "source": [
    "# 2단계 : 상장기업만 뺄 겁니다\n",
    "\n",
    "import csv\n",
    "import pandas as pd\n",
    "from collections import Counter"
   ]
  },
  {
   "cell_type": "code",
   "execution_count": 159,
   "metadata": {},
   "outputs": [],
   "source": [
    "corp_code_csv_open = open(\"../raw_data/api_test.csv\", \"r\")\n",
    "corp_code_csv_read = csv.reader(corp_code_csv_open)"
   ]
  },
  {
   "cell_type": "code",
   "execution_count": 160,
   "metadata": {},
   "outputs": [],
   "source": [
    "corp_list = []\n",
    "\n",
    "for comp_row in corp_code_csv_read:\n",
    "    corp_list.append(comp_row)\n",
    "#title_list = [corp_list[0]]\n",
    "#del corp_list[0]"
   ]
  },
  {
   "cell_type": "code",
   "execution_count": 164,
   "metadata": {},
   "outputs": [
    {
     "data": {
      "text/plain": [
       "0        00434003\n",
       "1        00434456\n",
       "2        00430964\n",
       "3        00432403\n",
       "4        00388953\n",
       "           ...   \n",
       "95284    01682449\n",
       "95285    01685756\n",
       "95286    01685598\n",
       "95287    00526669\n",
       "95288    00112059\n",
       "Name: 0, Length: 95289, dtype: object"
      ]
     },
     "execution_count": 164,
     "metadata": {},
     "output_type": "execute_result"
    }
   ],
   "source": [
    "corp_list_df = pd.DataFrame(corp_list)\n",
    "corp_list_df[0]"
   ]
  },
  {
   "cell_type": "code",
   "execution_count": 162,
   "metadata": {},
   "outputs": [],
   "source": [
    "# 아니 대체 멀쩡한 CSV에서 못 뽑아 오는 거냐고...\n",
    "target_corp_list = []\n",
    "for row in corp_list:\n",
    "    if row[2] == None:\n",
    "        continue\n",
    "    else:\n",
    "        target_corp_list.append(row)"
   ]
  },
  {
   "cell_type": "code",
   "execution_count": 163,
   "metadata": {},
   "outputs": [],
   "source": [
    "#data_with_header = title_list + target_corp_list\n",
    "csv_temp = open(\"../raw_data/api_test_get_stock2.csv\", \"w\", newline=\"\")\n",
    "writer_temp = csv.writer(csv_temp)\n",
    "writer_temp.writerows(target_corp_list)\n",
    "#writer_temp.writerows(data_with_header)"
   ]
  }
 ],
 "metadata": {
  "kernelspec": {
   "display_name": "Python 3.10.4 64-bit",
   "language": "python",
   "name": "python3"
  },
  "language_info": {
   "codemirror_mode": {
    "name": "ipython",
    "version": 3
   },
   "file_extension": ".py",
   "mimetype": "text/x-python",
   "name": "python",
   "nbconvert_exporter": "python",
   "pygments_lexer": "ipython3",
   "version": "3.10.4"
  },
  "orig_nbformat": 4,
  "vscode": {
   "interpreter": {
    "hash": "d45b7667f15187787b62e9d1c54e096de9a2222ecb594bc9f5d6366f2c4af4e5"
   }
  }
 },
 "nbformat": 4,
 "nbformat_minor": 2
}
