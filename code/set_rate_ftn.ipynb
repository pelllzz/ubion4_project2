{
 "cells": [
  {
   "cell_type": "code",
   "execution_count": 132,
   "metadata": {},
   "outputs": [],
   "source": [
    "import pandas as pd\n",
    "import numpy as np"
   ]
  },
  {
   "cell_type": "code",
   "execution_count": 133,
   "metadata": {},
   "outputs": [],
   "source": [
    "############################ WARNING ######################################\n",
    "# 회사명 기준으로 shift 등의 조치가 필요한 경우 따로 취한 다음에 함수 적용하세요\n",
    "# 안 그러면 터집니다...\n",
    "###########################################################################\n",
    "\n",
    "\n",
    "# 단순하게 나누는 함수\n",
    "# df_name : raw_data 들어있는 데이터프레임\n",
    "# a, b : 계산을 하고자하는 데이터프레임의 컬럼명을 입력 (a가 분자, b가 분모)\n",
    "# c : 계산 결과를 저장하고자 하는 데이터프레임의 컬럼명을 입력\n",
    "\n",
    "def cal_div(df_name, a, b, c):\n",
    "    for i in range(0, len(df_name)):\n",
    "        if df_name.iloc[i][a] < 0 and df_name.iloc[i][b] < 0:\n",
    "            df_name.loc[i, c] = 0\n",
    "        else:\n",
    "            df_name.loc[i, c] = df_name.iloc[i][a]/df_name.iloc[i][b]\n",
    "\n",
    "# 단순 비율 계산 함수\n",
    "# df_name : raw_data 들어있는 데이터프레임\n",
    "# a, b : 계산을 하고자하는 데이터프레임의 컬럼명을 입력 (a가 분자, b가 분모)\n",
    "# c : 계산 결과를 저장하고자 하는 데이터프레임의 컬럼명을 입력\n",
    "def cal_rate(df_name, a, b, c):\n",
    "    for i in range(0, len(df_name)):\n",
    "        if df_name.iloc[i][a] < 0 and df_name.iloc[i][b] < 0 :\n",
    "            df_name.loc[i, c] = 0\n",
    "        else:\n",
    "            df_name.loc[i, c] = df_name.iloc[i][a]/df_name.iloc[i][b] * 100\n",
    "\n",
    "\n",
    "# 비율 계산 시 분자에서 덧셈을 수행하는 함수\n",
    "# df_name : raw_data 들어있는 데이터프레임\n",
    "# a, b, c : 계산을 하고자하는 데이터프레임의 컬럼명을 입력 (a, b가 분자, c가 분모)\n",
    "# d : 계산 결과를 저장하고자 하는 데이터프레임의 컬럼명을 입력\n",
    "def cal_rate_add(df_name, a, b, c, d):\n",
    "    for i in range(0, len(df_name)):\n",
    "        if (df_name.iloc[i][a]+df_name.iloc[i][b]) and df_name.iloc[i][c] < 0 :\n",
    "            df_name.loc[i, d] = 0\n",
    "        else:\n",
    "            df_name.loc[i, d] = (df_name.iloc[i][a]+df_name.iloc[i][b])/df_name.iloc[i][c] * 100\n",
    "\n",
    "\n",
    "# 비율 계산 시 분자에서 뺄셈을 수행하는 함수\n",
    "# df_name : raw_data 들어있는 데이터프레임\n",
    "# a, b, c : 계산을 하고자하는 데이터프레임의 컬럼명을 입력 (a, b가 분자, c가 분모)\n",
    "# d : 계산 결과를 저장하고자 하는 데이터프레임의 컬럼명을 입력\n",
    "def cal_rate_sub(df_name, a, b, c, d):\n",
    "    for i in range(0, len(df_name)):\n",
    "        if (df_name.iloc[i][a]-df_name.iloc[i][b]) < 0 and df_name.iloc[i][c] < 0 :\n",
    "            df_name.loc[i, d] = 0\n",
    "        else:\n",
    "            df_name.loc[i, d] = (df_name.iloc[i][a]-df_name.iloc[i][b])/df_name.iloc[i][c] * 100\n",
    "\n",
    "def cal_rate_sub_v2(df_name, a, b, c, d):\n",
    "    for i in range(0, len(df_name)):\n",
    "        if (df_name.iloc[i][a]-df_name.iloc[i][b]) < 0 and df_name.iloc[i][c] < 0 :\n",
    "            df_name.loc[i, d] = 0\n",
    "        else:\n",
    "            df_name.loc[i, d] = (df_name.iloc[i][a]-df_name.iloc[i][b])/df_name.iloc[i][c]\n",
    "\n",
    "\n",
    "# 비율 계산 시 분자에서 덧셈을 3번 수행하는 함수\n",
    "# df_name : raw_data 들어있는 데이터프레임\n",
    "# a, b, c, d : 계산을 하고자하는 데이터프레임의 컬럼명을 입력 (a, b, c가 분자, d가 분모)\n",
    "# e : 계산 결과를 저장하고자 하는 데이터프레임의 컬럼명을 입력\n",
    "def cal_rate_add_three(df_name, a, b, c, d, e):\n",
    "    for i in range(0, len(df_name)):\n",
    "        if (df_name.iloc[i][a]+df_name.iloc[i][b]+df_name.iloc[i][c]) and df_name.iloc[i][d] < 0 :\n",
    "            df_name.loc[i, e] = 0\n",
    "        else:\n",
    "            df_name.loc[i, e] = (df_name.iloc[i][a]+df_name.iloc[i][b]+df_name.iloc[i][c])/df_name.iloc[i][d] * 100\n",
    "\n",
    "\n",
    "# 비율 계산 시 분자에서 뺄셈을 3번 수행하는 함수\n",
    "# df_name : raw_data 들어있는 데이터프레임\n",
    "# a, b, c, d : 계산을 하고자하는 데이터프레임의 컬럼명을 입력 (a, b, c가 분자, d가 분모)\n",
    "# e : 계산 결과를 저장하고자 하는 데이터프레임의 컬럼명을 입력\n",
    "def cal_rate_sub_three(df_name, a, b, c, d, e):\n",
    "    for i in range(0, len(df_name)):\n",
    "        if (df_name.iloc[i][a]-df_name.iloc[i][b]-df_name.iloc[i][c]) and df_name.iloc[i][d] < 0 :\n",
    "            df_name.loc[i, e] = 0\n",
    "        else:\n",
    "            df_name.loc[i, e] = (df_name.iloc[i][a]-df_name.iloc[i][b]-df_name.iloc[i][c])/df_name.iloc[i][d] * 100\n",
    "\n",
    "\n",
    "# 차입금 평균 이자율 계산 함수\n",
    "# df_name : 차입금평균이자율 관련 raw_data 들어있는 데이터프레임\n",
    "# a, b, c, d : 계산을 하고자하는 데이터프레임의 컬럼명을 입력 (a가 분자, b~d는 분모)\n",
    "# e : 계산 결과를 저장하고자 하는 데이터프레임의 컬럼명을 입력\n",
    "def cal_chaip(df_name, a, b, c, d, e):\n",
    "    for i in range(0, len(df_name)):\n",
    "        if df_name.iloc[i][a] == 0:\n",
    "            df_name.loc[i, e] = 0\n",
    "        else:\n",
    "            if df_name.iloc[i][a] < 0 and df_name.iloc[i][b] < 0 :\n",
    "                df_name.loc[i, e] = df_name.iloc[i][a]/((df_name.iloc[i][b] + df_name.iloc[i][c] + df_name.iloc[i][d])) * -100\n",
    "            else:\n",
    "                df_name.loc[i, e] = df_name.iloc[i][a]/((df_name.iloc[i][b] + df_name.iloc[i][c] + df_name.iloc[i][d])) * 100\n",
    "\n",
    "# 매출액 영업 이익률 계산 함수\n",
    "# df_name : 차입금평균이자율 관련 raw_data 들어있는 데이터프레임\n",
    "# a, b, c, d : 계산을 하고자하는 데이터프레임의 컬럼명을 입력 (a가 분자, b~d는 분모)\n",
    "# e : 계산 결과를 저장하고자 하는 데이터프레임의 컬럼명을 입력\n",
    "def cal_income(df_name, a, b, c, d, e):\n",
    "    for i in range(0, len(df_name)):\n",
    "        if (df_name.iloc[i][a] - df_name.iloc[i][b] - df_name.iloc[i][c]) < 0 and df_name.iloc[i][d] < 0 :\n",
    "            df_name.loc[i, e] = 0\n",
    "        else:\n",
    "            df_name.loc[i, e] = (df_name.iloc[i][a] - df_name.iloc[i][b] - df_name.iloc[i][c])/df_name.iloc[i][d] * 100\n",
    "\n",
    "# CASHFLOW 계산 함수\n",
    "# df_name : CASH_FLOW 관련 raw_data 들어있는 데이터프레임\n",
    "# a, b, c : 계싼을 하고자하는 데이터프레임의 컬럼명을 입력 (a, b가 분자, c가 분모)\n",
    "# d : 계산 결과를 저장하고자 하는 데이터프레임의 컬럼명을 입력\n",
    "def cal_cash_flow(df_name, a, b, c, d):\n",
    "    for i in range(0, len(df_name)):\n",
    "        if ((df_name.iloc[i][a] + df_name.iloc[i][b])/2) < 0 and df_name.iloc[i][c] < 0:\n",
    "            df_name.loc[i, d] = 0\n",
    "        else :\n",
    "            df_name.loc[i, d] = ((df_name.iloc[i][a] + df_name.iloc[i][b])/2)/df_name.iloc[i][c] * 100\n",
    "\n",
    "\n",
    "# 총자본영업이익률 계산 함수\n",
    "# df_name : 총자본영업이익률 관련 raw_data가 들어있는 데이터프레임\n",
    "# a, b, c, d, e : 계산을 하고자하는 데이터프레임의 컬럼명을 입력 (a,b,c 분자 / d, e 분모)\n",
    "# f : 계산 결과를 저장하고자 하는 데이터프레임의 컬럼명을 입력\n",
    "def cal_total_income(df_name, a, b, c, d, e, f):\n",
    "    for i in range(0, len(df_name)):\n",
    "        if (df_name.iloc[i][a] - df_name.iloc[i][b] - df_name.iloc[i][c]) < 0 and (df_name.iloc[i][d]+df_name.iloc[i][e]) < 0 :\n",
    "            df_name.loc[i, f] = 0\n",
    "        else:\n",
    "            df_name.loc[i, f] = (df_name.iloc[i][a] - df_name.iloc[i][b] - df_name.iloc[i][c])/(df_name.iloc[i][d]+df_name.iloc[i][e]) * 100\n",
    "\n",
    "# 총자본순이익률 계산함수\n",
    "# df_name : 총자본순이익률 관련 raw_data가 들어있는 데이터프레임\n",
    "# a, b, c : 계산을 하고자하는 데이터프레임의 컬럼명을 입력 (a가 분자, b, c가 분모)\n",
    "# d : 계산 결과를 저장하고자 하는 데이터프레임의 컬럼명을 입력\n",
    "def cal_total_real_income(df_name, a, b, c, d):\n",
    "    for i in range(0, len(df_name)):\n",
    "        if df_name.iloc[i][a] < 0 and ((df_name.iloc[i][b]+ df_name.iloc[i][c])/2) < 0:\n",
    "            df_name.loc[i, d] = 0\n",
    "        else :\n",
    "            df_name.loc[i, d] = df_name.iloc[i][a]/((df_name.iloc[i][b]+ df_name.iloc[i][c])/2) * 100\n",
    "\n",
    "# 총자산 관련 함수\n",
    "# 유사한 방식으로 구성되어 있는 경우 함수 재사용 가능함\n",
    "# df_name : 총자산 관련 raw_data가 들어있는 데이터프레임\n",
    "# a, b : 계산을 하고자하는 데이터프레임의 컬럼명을 입력(a가 분자, b가 분모)\n",
    "# c : 계산 결과를 저장하고자 하는 데이터프레임의 컬럼명을 입력\n",
    "def cal_total_money(df_name, a, b, c):\n",
    "    for i in range(0, len(df_name)):\n",
    "        if df_name.iloc[i][a] < 0 and df_name.iloc[i][b] < 0:\n",
    "            df_name.loc[i, c] = 0\n",
    "        else:\n",
    "            df_name.loc[i, c] = ((df_name.iloc[i][a] / df_name.iloc[i][b])*100)-100\n",
    "\n",
    "\n",
    "# 영업이익증가율 관련 함수\n",
    "# df_name : 영업이익증가율 관련 raw_data가 들어있는 데이터프레임\n",
    "# a, b, c, d, e, f : 계산을 하고자하는 데이터프레임의 컬럼명을 입력(a, b, c 분자 / d, e, f 분모)\n",
    "# g : 계산 결과를 저장하고자 하는 데이터프레임의 컬럼명을 입력\n",
    "def cal_working_money(df_name, a, b, c, d, e, f, g):\n",
    "    for i in range(0, len(df_name)):\n",
    "        if df_name.iloc[i][a] < 0 and df_name.iloc[i][b] < 0:\n",
    "            df_name.loc[i, g] = 0\n",
    "        else:\n",
    "            df_name.loc[i, g] = ((df_name.iloc[i][a] - df_name.iloc[i][b] - df_name.iloc[i][c])/((df_name.iloc[i][d] + df_name.iloc[i][e] + df_name.iloc[i][f]))*100)-100\n",
    "\n",
    "\n",
    "# 비율 계산 시 분모에서 뺄셈을 수행하는 함수\n",
    "# df_name : raw_data 들어있는 데이터프레임\n",
    "# a, b, c : 계산을 하고자하는 데이터프레임의 컬럼명을 입력 (a가 분자, b, c가 분모)\n",
    "# d : 계산 결과를 저장하고자 하는 데이터프레임의 컬럼명을 입력\n",
    "def cal_rate_sub_under(df_name, a, b, c, d):\n",
    "    for i in range(0, len(df_name)):\n",
    "        if (df_name.iloc[i][b]-df_name.iloc[i][c]) < 0 and df_name.iloc[i][a] < 0 :\n",
    "            df_name.loc[i, d] = 0\n",
    "        # elif (df_name.iloc[i][b]-df_name.iloc[i][c]) == 0:\n",
    "            # df_name.loc[i, d] = 0\n",
    "        else:\n",
    "            df_name.loc[i, d] = df_name.iloc[i][a]/(df_name.iloc[i][b]-df_name.iloc[i][c]) * 100\n",
    "\n",
    "# 비율 계산 시 분모에서 덧셈하고 평균 구하는 함수\n",
    "# df_name : raw_data 들어있는 데이터프레임\n",
    "# a, b, c : 계산을 하고자하는 데이터프레임의 컬럼명을 입력 (a가 분자, b, c가 분모)\n",
    "# d : 계산 결과를 저장하고자 하는 데이터프레임의 컬럼명을 입력\n",
    "def cal_rate_under_avg(df_name, a, b, c, d):\n",
    "    for i in range(0, len(df_name)):\n",
    "        if ((df_name.iloc[i][b]+df_name.iloc[i][c])/2) < 0 and df_name.iloc[i][a] < 0 :\n",
    "            df_name.loc[i, d] = 0\n",
    "        # elif (df_name.iloc[i][b]-df_name.iloc[i][c]) == 0:\n",
    "            # df_name.loc[i, d] = 0\n",
    "        else:\n",
    "            df_name.loc[i, d] = df_name.iloc[i][a]/((df_name.iloc[i][b]+df_name.iloc[i][c])/2)\n",
    "\n",
    "\n",
    "\n",
    "# 비율 계산 시 분모에서 덧셈을 수행하는 함수\n",
    "# df_name : raw_data 들어있는 데이터프레임\n",
    "# a, b, c : 계산을 하고자하는 데이터프레임의 컬럼명을 입력 (a가 분자, b, c가 분모)\n",
    "# d : 계산 결과를 저장하고자 하는 데이터프레임의 컬럼명을 입력\n",
    "def cal_rate_sub_add(df_name, a, b, c, d):\n",
    "    for i in range(0, len(df_name)):\n",
    "        if (df_name.iloc[i][b]+df_name.iloc[i][c]) < 0 and df_name.iloc[i][a] < 0 :\n",
    "            df_name.loc[i, d] = 0\n",
    "        # elif (df_name.iloc[i][b]-df_name.iloc[i][c]) == 0:\n",
    "            # df_name.loc[i, d] = 0\n",
    "        else:\n",
    "            df_name.loc[i, d] = df_name.iloc[i][a]/(df_name.iloc[i][b]+df_name.iloc[i][c]) * 100\n",
    "\n",
    "# 단기차입금대총차입금비율 계산 함수\n",
    "# df_name : raw_data 들어있는 데이터프레임\n",
    "# a, b, c, d, e : 계산 하고자 하는 데이터프레임 컬럼명 입력 (a가 분자, 나머지 분모)\n",
    "# f : 계산 결과를 저장하고자 하는 데이터프레임 컬럼명 입력\n",
    "\n",
    "def cal_dangi_cha(df_name, a, b, c, d, e, f):\n",
    "    for i in range(0, len(df_name)):\n",
    "        if df_name.iloc[i][a] < 0 and (df_name.iloc[i][b]+df_name.iloc[i][c]+df_name.iloc[i][d]+df_name.iloc[i][e]) < 0:\n",
    "            df_name.loc[i, f] = 0\n",
    "        else:\n",
    "            df_name.loc[i, f] = (df_name.iloc[i][a] / (df_name.iloc[i][b]+df_name.iloc[i][c]+df_name.iloc[i][d]+df_name.iloc[i][e]))*100\n",
    "\n",
    "\n",
    "# 부가가치 처리용\n",
    "# 이젠 주석 없어도 되겠지...\n",
    "\n",
    "def cal_div_vta_upd(df_name, a, b, c):\n",
    "    for i in range(0, len(df_name)):\n",
    "        if df_name.iloc[i][a] < 0 and df_name.iloc[i][b] < 0:\n",
    "            df_name.loc[i, c] = 0\n",
    "        else:\n",
    "            df_name.loc[i, c] = (df_name.iloc[i][a]*1000)/df_name.iloc[i][b]\n",
    "\n",
    "def cal_div_vta_und(df_name, a, b, c):\n",
    "    for i in range(0, len(df_name)):\n",
    "        if df_name.iloc[i][a] < 0 and df_name.iloc[i][b] < 0:\n",
    "            df_name.loc[i, c] = 0\n",
    "        else:\n",
    "            df_name.loc[i, c] = df_name.iloc[i][a]/(df_name.iloc[i][b]*1000)\n",
    "\n",
    "def cal_div_vta_up(df_name, a, b, c):\n",
    "    for i in range(0, len(df_name)):\n",
    "        if df_name.iloc[i][a] < 0 and df_name.iloc[i][b] < 0:\n",
    "            df_name.loc[i, c] = 0\n",
    "        else:\n",
    "            df_name.loc[i, c] = ((df_name.iloc[i][a]*1000)/df_name.iloc[i][b])*100\n",
    "\n",
    "def cal_div_vta_down(df_name, a, b, c):\n",
    "    for i in range(0, len(df_name)):\n",
    "        if df_name.iloc[i][a] < 0 and df_name.iloc[i][b] < 0:\n",
    "            df_name.loc[i, c] = 0\n",
    "        else:\n",
    "            df_name.loc[i, c] = (df_name.iloc[i][a]/(df_name.iloc[i][b]*1000))*100\n",
    "\n",
    "def cal_rate_vta_sub_under(df_name, a, b, c, d):\n",
    "    for i in range(0, len(df_name)):\n",
    "        if (df_name.iloc[i][b]-df_name.iloc[i][c]) < 0 and df_name.iloc[i][a] < 0 :\n",
    "            df_name.loc[i, d] = 0\n",
    "        # elif (df_name.iloc[i][b]-df_name.iloc[i][c]) == 0:\n",
    "            # df_name.loc[i, d] = 0\n",
    "        else:\n",
    "            df_name.loc[i, d] = (df_name.iloc[i][a]*1000)/(df_name.iloc[i][b]-df_name.iloc[i][c]) * 100\n"
   ]
  },
  {
   "cell_type": "code",
   "execution_count": 134,
   "metadata": {},
   "outputs": [],
   "source": [
    "# 매출원가 대 매출액 비율\n",
    "maechul_rate = pd.read_csv(\"../raw_data/use/매출원가대매출액비율_Raw.csv\", thousands=\",\", encoding=\"CP949\")\n",
    "\n",
    "# 차입금평균이자율\n",
    "cha_income = pd.read_csv(\"../raw_data/use/차입금평균이자율_Raw.csv\", thousands=\",\", encoding=\"CP949\")\n",
    "\n",
    "# 유동자산구성비율\n",
    "udong_pie = pd.read_csv(\"../raw_data/use/유동자산구성비율_Raw.csv\", thousands=\",\", encoding=\"CP949\")\n",
    "\n",
    "# 재고자산 대 유동자산비율\n",
    "jego_rate = pd.read_csv(\"../raw_data/use/재고자산대유동자산비율_Raw.csv\", thousands=\",\", encoding=\"CP949\")\n",
    "\n",
    "# 자기자본구성비율\n",
    "self_pie = pd.read_csv(\"../raw_data/use/자기자본구성비율_Raw.csv\", thousands=\",\", encoding=\"CP949\")\n",
    "\n",
    "# CASH FLOW 대 부채비율, CASH FLOW 대 매출액 비율\n",
    "cashflow = pd.read_csv(\"../raw_data/use/CASHFLOW_REAL.csv\", thousands=\",\", encoding=\"CP949\")\n",
    "\n",
    "# 유동비율\n",
    "udong = pd.read_csv(\"../raw_data/use/유동비율_Raw.csv\", thousands=\",\", encoding=\"CP949\")\n",
    "\n",
    "# 당좌비율\n",
    "dang_rate = pd.read_csv(\"../raw_data/use/당좌비율_Raw.csv\", thousands=\",\", encoding=\"CP949\")\n",
    "\n",
    "# 현금비율\n",
    "cash_rate = pd.read_csv(\"../raw_data/use/현금비율_Raw.csv\", thousands=\",\", encoding=\"CP949\")\n",
    "\n",
    "# 부채비율\n",
    "dept_rate = pd.read_csv(\"../raw_data/use/부채비율_Raw.csv\", thousands=\",\", encoding=\"CP949\")\n",
    "\n",
    "# 차입금의존도\n",
    "chaip = pd.read_csv(\"../raw_data/use/차입금의존도_Raw.csv\", thousands=\",\", encoding=\"CP949\")\n",
    "\n",
    "# 유동부채비율\n",
    "udong_dept = pd.read_csv(\"../raw_data/use/유동부채비율_Raw.csv\", thousands=\",\", encoding=\"CP949\")\n",
    "\n",
    "# 매출액총이익률\n",
    "income_rate = pd.read_csv(\"../raw_data/use/매출액총이익률_Raw.csv\", thousands=\",\", encoding=\"CP949\")\n",
    "\n",
    "# 매출액순이익률\n",
    "income_real_rate = pd.read_csv(\"../raw_data/use/매출액순이익률_Raw.csv\", thousands=\",\", encoding=\"CP949\")\n",
    "\n",
    "# 매출액영업이익률\n",
    "income_sales_rate = pd.read_csv(\"../raw_data/use/매출액영업이익률_Raw.csv\", thousands=\",\", encoding=\"CP949\")\n",
    "\n",
    "# 총자본영업이익률\n",
    "total_sales_rate = pd.read_csv(\"../raw_data/use/총자본영업이익률_Raw.csv\", thousands=\",\", encoding=\"CP949\")\n",
    "\n",
    "# 총자산순이익률\n",
    "total_real_rate = pd.read_csv(\"../raw_data/use/총자산순이익률_Raw.csv\", thousands=\",\", encoding=\"CP949\")\n",
    "\n",
    "# 총자산증가율\n",
    "total_money_rate = pd.read_csv(\"../raw_data/use/총자산증가율_Raw.csv\", thousands=\",\", encoding=\"CP949\")\n",
    "\n",
    "# 유동자산증가율\n",
    "udong_money_rate = pd.read_csv(\"../raw_data/use/유동자산증가율_Raw.csv\", thousands=\",\", encoding=\"CP949\")\n",
    "\n",
    "# 매출액증가율\n",
    "incoming_rate = pd.read_csv(\"../raw_data/use/매출액증가율_Raw.csv\", thousands=\",\", encoding=\"CP949\")\n",
    "\n",
    "# 유형자산증가율\n",
    "u_money_rate = pd.read_csv(\"../raw_data/use/유형자산증가율_Raw.csv\", thousands=\",\", encoding=\"CP949\")\n",
    "\n",
    "# 재고자산 증가율\n",
    "jego_money_rate = pd.read_csv(\"../raw_data/use/재고자산증가율_Raw.csv\", thousands=\",\", encoding=\"CP949\")\n",
    "\n",
    "# 자기자본 증가율\n",
    "self_money_rate = pd.read_csv(\"../raw_data/use/자기자본증가율_Raw.csv\", thousands=\",\", encoding=\"CP949\")\n",
    "\n",
    "# 순이익 증가율\n",
    "pure_income_rate = pd.read_csv(\"../raw_data/use/순이익증가율_Raw.csv\", thousands=\",\", encoding=\"CP949\")\n",
    "\n",
    "# 영업이익 증가율\n",
    "working_money_rate = pd.read_csv(\"../raw_data/use/영업이익증가율_Raw.csv\",thousands=\",\", encoding=\"CP949\")"
   ]
  },
  {
   "cell_type": "code",
   "execution_count": 135,
   "metadata": {},
   "outputs": [],
   "source": [
    "# 총자산 회전율\n",
    "total_money_turn = pd.read_csv(\"../raw_data/use/총자산회전율_Raw.csv\", thousands=\",\", encoding=\"CP949\")\n",
    "\n",
    "# 재고자산 회전율\n",
    "jego_money_turn = pd.read_csv(\"../raw_data/use/재고자산회전율_Raw.csv\", thousands=\",\", encoding=\"CP949\")\n",
    "\n",
    "# 매출채권 회전율\n",
    "income_money_turn = pd.read_csv(\"../raw_data/use/매출채권회전율_Raw.csv\", thousands=\",\", encoding=\"CP949\")\n",
    "\n",
    "# 유형자산 회전율\n",
    "u_money_turn = pd.read_csv(\"../raw_data/use/유형자산회전율_Raw.csv\", thousands=\",\", encoding=\"CP949\")\n",
    "\n",
    "# 매입채무 회전율\n",
    "maep_money_turn = pd.read_csv(\"../raw_data/use/매입채무회전율_Raw.csv\", thousands=\",\", encoding=\"CP949\")\n",
    "\n",
    "# 자기자본 회전율\n",
    "self_jabon_turn = pd.read_csv(\"../raw_data/use/자기자본회전율_Raw.csv\", thousands=\",\", encoding=\"CP949\")\n",
    "\n",
    "# 타인자본 회전율\n",
    "other_jabon_turn = pd.read_csv(\"../raw_data/use/타인자본회전율_Raw.csv\", thousands=\",\", encoding=\"CP949\")\n",
    "\n",
    "# 유동자산 회전율\n",
    "udong_turn = pd.read_csv(\"../raw_data/use/유동자산회전율_Raw.csv\", thousands=\",\", encoding=\"CP949\")\n",
    "\n",
    "# 당좌자산 회전율\n",
    "dang_turn = pd.read_csv(\"../raw_data/use/당좌자산회전율_Raw.csv\", thousands=\",\", encoding=\"CP949\")\n",
    "\n",
    "# 당좌자산 구성비율\n",
    "dang_pie = pd.read_csv(\"../raw_data/use/당좌자산구성비율_Raw.csv\", thousands=\",\", encoding=\"CP949\")\n",
    "\n",
    "# 매출채권 대 매입채무비율\n",
    "income_money_rate = pd.read_csv(\"../raw_data/use/매출채권대매입채무비율_Raw.csv\", thousands=\",\", encoding=\"CP949\")\n",
    "\n",
    "# 단기차입금 대 총차입금비율\n",
    "dangi_rate = pd.read_csv(\"../raw_data/use/단기차입금대총차입금비율_Raw.csv\", thousands=\",\", encoding=\"CP949\")\n",
    "\n",
    "# 차입금 비율\n",
    "chaip_rate = pd.read_csv(\"../raw_data/use/차입금비율_Raw.csv\", thousands=\",\", encoding=\"CP949\")\n",
    "\n",
    "# 타인자본 구성비율\n",
    "other_jabon_rate = pd.read_csv(\"../raw_data/use/타인자본구성비율_Raw.csv\", thousands=\",\", encoding=\"CP949\")\n",
    "\n",
    "# 순운전자본회전율\n",
    "pure_income_turn = pd.read_csv(\"../raw_data/use/순운전자본회전율_Raw.csv\", thousands=\",\", encoding=\"CP949\")\n",
    "\n",
    "# 순운전자본 대 총자산\n",
    "pure_income_total_rate = pd.read_csv(\"../raw_data/use/순운전자본대총자산_Raw.csv\", thousands=\",\", encoding=\"CP949\")\n",
    "\n",
    "# 재고자산 대 순운전자본 비율\n",
    "jego_money_pure_rate = pd.read_csv(\"../raw_data/use/재고자산대순운전자본비율_Raw.csv\", thousands=\",\", encoding=\"CP949\")\n",
    "\n",
    "# 그냥 운전자본회전율\n",
    "normal_income_rate = pd.read_csv(\"../raw_data/use/운전자본회전율_Raw.csv\", thousands=\",\", encoding=\"CP949\")"
   ]
  },
  {
   "cell_type": "code",
   "execution_count": 240,
   "metadata": {},
   "outputs": [],
   "source": [
    "# 활동성 지표\n",
    "activity = pd.read_csv(\"../raw_data/use/활동성지표_v2.csv\", thousands=\",\", encoding=\"CP949\")"
   ]
  },
  {
   "cell_type": "code",
   "execution_count": 137,
   "metadata": {},
   "outputs": [],
   "source": [
    "# 생산성 지표\n",
    "productivity = pd.read_csv(\"../raw_data/use/생산성지표.csv\", thousands=\",\", encoding=\"CP949\")"
   ]
  },
  {
   "cell_type": "code",
   "execution_count": 138,
   "metadata": {},
   "outputs": [],
   "source": [
    "# # 노동장비율\n",
    "# rodong_rate = pd.read_csv(\"../raw_data/use/노동장비율_Raw.csv\", thousands=\",\", encoding=\"CP949\")\n",
    "\n",
    "# # 기계장비율\n",
    "# machine_rate = pd.read_csv(\"../raw_data/use/기계장비율_Raw.csv\", thousands=\",\", encoding=\"CP949\")\n",
    "\n",
    "# # 자본집약도\n",
    "# jabon_jp = pd.read_csv(\"../raw_data/use/자본집약도_Raw.csv\", thousands=\",\", encoding=\"CP949\")\n",
    "\n",
    "# # 노동소득분배율\n",
    "# rodong_fee_rate = pd.read_csv(\"../raw_data/use/노동소득분배율_Raw.csv\", thousands=\",\", encoding=\"CP949\")\n",
    "\n",
    "# # 설비투자효율\n",
    "# construction_rate = pd.read_csv(\"../raw_data/use/설비투자효율_Raw.csv\", thousands=\",\", encoding=\"CP949\")\n",
    "\n",
    "# # 총자본투자효율\n",
    "# total_jabon_rate = pd.read_csv(\"../raw_data/use/총자본투자효율_Raw.csv\", thousands=\",\", encoding=\"CP949\")\n",
    "\n",
    "# # 기계투자효율\n",
    "# machine_work_rate = pd.read_csv(\"../raw_data/use/기계투자효율_Raw.csv\", thousands=\",\", encoding=\"CP949\")\n",
    "\n",
    "# # 부가가치율\n",
    "# vta_rate = pd.read_csv(\"../raw_data/use/부가가치율_Raw.csv\", thousands=\",\", encoding=\"CP949\")"
   ]
  },
  {
   "cell_type": "code",
   "execution_count": 139,
   "metadata": {},
   "outputs": [
    {
     "data": {
      "text/html": [
       "<div>\n",
       "<style scoped>\n",
       "    .dataframe tbody tr th:only-of-type {\n",
       "        vertical-align: middle;\n",
       "    }\n",
       "\n",
       "    .dataframe tbody tr th {\n",
       "        vertical-align: top;\n",
       "    }\n",
       "\n",
       "    .dataframe thead th {\n",
       "        text-align: right;\n",
       "    }\n",
       "</style>\n",
       "<table border=\"1\" class=\"dataframe\">\n",
       "  <thead>\n",
       "    <tr style=\"text-align: right;\">\n",
       "      <th></th>\n",
       "      <th>회사명</th>\n",
       "      <th>거래소코드</th>\n",
       "      <th>회계년도</th>\n",
       "      <th>매출원가(IFRS연결)</th>\n",
       "      <th>매출액(IFRS연결)</th>\n",
       "      <th>매출원가(IFRS개별)</th>\n",
       "      <th>매출액(IFRS개별)</th>\n",
       "    </tr>\n",
       "  </thead>\n",
       "  <tbody>\n",
       "    <tr>\n",
       "      <th>0</th>\n",
       "      <td>(주)CMG제약</td>\n",
       "      <td>58820</td>\n",
       "      <td>Dec-11</td>\n",
       "      <td>10325799.0</td>\n",
       "      <td>17751704.0</td>\n",
       "      <td>10325799.0</td>\n",
       "      <td>17751704.0</td>\n",
       "    </tr>\n",
       "  </tbody>\n",
       "</table>\n",
       "</div>"
      ],
      "text/plain": [
       "        회사명  거래소코드    회계년도  매출원가(IFRS연결)  매출액(IFRS연결)  매출원가(IFRS개별)  \\\n",
       "0  (주)CMG제약  58820  Dec-11    10325799.0   17751704.0    10325799.0   \n",
       "\n",
       "   매출액(IFRS개별)  \n",
       "0   17751704.0  "
      ]
     },
     "execution_count": 139,
     "metadata": {},
     "output_type": "execute_result"
    }
   ],
   "source": [
    "# 매출원가 대 매출액비율\n",
    "maechul_rate.head(1)"
   ]
  },
  {
   "cell_type": "code",
   "execution_count": 140,
   "metadata": {},
   "outputs": [
    {
     "name": "stderr",
     "output_type": "stream",
     "text": [
      "C:\\Users\\luck1\\AppData\\Local\\Temp\\ipykernel_13260\\1936532931.py:28: RuntimeWarning: invalid value encountered in double_scalars\n",
      "  df_name.loc[i, c] = df_name.iloc[i][a]/df_name.iloc[i][b] * 100\n",
      "C:\\Users\\luck1\\AppData\\Local\\Temp\\ipykernel_13260\\1936532931.py:28: RuntimeWarning: invalid value encountered in double_scalars\n",
      "  df_name.loc[i, c] = df_name.iloc[i][a]/df_name.iloc[i][b] * 100\n"
     ]
    }
   ],
   "source": [
    "cal_rate(maechul_rate, \"매출원가(IFRS개별)\", \"매출액(IFRS개별)\", \"매출원가대매출액비율(개별)\")\n",
    "cal_rate(maechul_rate, \"매출원가(IFRS연결)\", \"매출액(IFRS연결)\", \"매출원가대매출액비율(연결)\")\n",
    "maechul_rate.to_csv(\"../csv_data/use/매출원가_대_매출액비율_전처리.csv\", encoding=\"CP949\")"
   ]
  },
  {
   "cell_type": "code",
   "execution_count": 141,
   "metadata": {},
   "outputs": [
    {
     "data": {
      "text/html": [
       "<div>\n",
       "<style scoped>\n",
       "    .dataframe tbody tr th:only-of-type {\n",
       "        vertical-align: middle;\n",
       "    }\n",
       "\n",
       "    .dataframe tbody tr th {\n",
       "        vertical-align: top;\n",
       "    }\n",
       "\n",
       "    .dataframe thead th {\n",
       "        text-align: right;\n",
       "    }\n",
       "</style>\n",
       "<table border=\"1\" class=\"dataframe\">\n",
       "  <thead>\n",
       "    <tr style=\"text-align: right;\">\n",
       "      <th></th>\n",
       "      <th>회사명</th>\n",
       "      <th>거래소코드</th>\n",
       "      <th>회계년도</th>\n",
       "      <th>이자비용(IFRS연결)</th>\n",
       "      <th>장기차입금(IFRS연결)</th>\n",
       "      <th>단기차입금(IFRS연결)</th>\n",
       "      <th>회사채(IFRS연결)</th>\n",
       "      <th>이자비용(IFRS개별)</th>\n",
       "      <th>장기차입금(IFRS개별)</th>\n",
       "      <th>단기차입금(IFRS개별)</th>\n",
       "      <th>회사채(IFRS개별)</th>\n",
       "    </tr>\n",
       "  </thead>\n",
       "  <tbody>\n",
       "    <tr>\n",
       "      <th>0</th>\n",
       "      <td>(주)CMG제약</td>\n",
       "      <td>58820</td>\n",
       "      <td>Dec-11</td>\n",
       "      <td>0.0</td>\n",
       "      <td>0.0</td>\n",
       "      <td>0.0</td>\n",
       "      <td>0.0</td>\n",
       "      <td>0.0</td>\n",
       "      <td>0.0</td>\n",
       "      <td>2134049.0</td>\n",
       "      <td>0.0</td>\n",
       "    </tr>\n",
       "  </tbody>\n",
       "</table>\n",
       "</div>"
      ],
      "text/plain": [
       "        회사명  거래소코드    회계년도  이자비용(IFRS연결)  장기차입금(IFRS연결)  단기차입금(IFRS연결)  \\\n",
       "0  (주)CMG제약  58820  Dec-11           0.0            0.0            0.0   \n",
       "\n",
       "   회사채(IFRS연결)  이자비용(IFRS개별)  장기차입금(IFRS개별)  단기차입금(IFRS개별)  회사채(IFRS개별)  \n",
       "0          0.0           0.0            0.0      2134049.0          0.0  "
      ]
     },
     "execution_count": 141,
     "metadata": {},
     "output_type": "execute_result"
    }
   ],
   "source": [
    "# 차입금평균이자율\n",
    "cha_income.head(1)"
   ]
  },
  {
   "cell_type": "code",
   "execution_count": 142,
   "metadata": {},
   "outputs": [
    {
     "name": "stderr",
     "output_type": "stream",
     "text": [
      "C:\\Users\\luck1\\AppData\\Local\\Temp\\ipykernel_13260\\1936532931.py:98: RuntimeWarning: divide by zero encountered in double_scalars\n",
      "  df_name.loc[i, e] = df_name.iloc[i][a]/((df_name.iloc[i][b] + df_name.iloc[i][c] + df_name.iloc[i][d])) * 100\n",
      "C:\\Users\\luck1\\AppData\\Local\\Temp\\ipykernel_13260\\1936532931.py:98: RuntimeWarning: divide by zero encountered in double_scalars\n",
      "  df_name.loc[i, e] = df_name.iloc[i][a]/((df_name.iloc[i][b] + df_name.iloc[i][c] + df_name.iloc[i][d])) * 100\n"
     ]
    }
   ],
   "source": [
    "cal_chaip(cha_income, \"이자비용(IFRS개별)\", \"장기차입금(IFRS개별)\", \"단기차입금(IFRS개별)\", \"회사채(IFRS개별)\", \"차입금평균이자율(개별)\")\n",
    "cal_chaip(cha_income, \"이자비용(IFRS연결)\", \"장기차입금(IFRS연결)\", \"단기차입금(IFRS연결)\", \"회사채(IFRS연결)\", \"차입금평균이자율(연결)\")\n",
    "cha_income.to_csv(\"../csv_data/use/차입금평균이자율_전처리.csv\", encoding=\"CP949\")"
   ]
  },
  {
   "cell_type": "code",
   "execution_count": 143,
   "metadata": {},
   "outputs": [
    {
     "data": {
      "text/html": [
       "<div>\n",
       "<style scoped>\n",
       "    .dataframe tbody tr th:only-of-type {\n",
       "        vertical-align: middle;\n",
       "    }\n",
       "\n",
       "    .dataframe tbody tr th {\n",
       "        vertical-align: top;\n",
       "    }\n",
       "\n",
       "    .dataframe thead th {\n",
       "        text-align: right;\n",
       "    }\n",
       "</style>\n",
       "<table border=\"1\" class=\"dataframe\">\n",
       "  <thead>\n",
       "    <tr style=\"text-align: right;\">\n",
       "      <th></th>\n",
       "      <th>회사명</th>\n",
       "      <th>거래소코드</th>\n",
       "      <th>회계년도</th>\n",
       "      <th>유동자산(IFRS연결)</th>\n",
       "      <th>자산(IFRS연결)</th>\n",
       "      <th>유동자산(IFRS개별)</th>\n",
       "      <th>자산(IFRS개별)</th>\n",
       "    </tr>\n",
       "  </thead>\n",
       "  <tbody>\n",
       "    <tr>\n",
       "      <th>0</th>\n",
       "      <td>(주)CMG제약</td>\n",
       "      <td>58820</td>\n",
       "      <td>Dec-11</td>\n",
       "      <td>15341167.0</td>\n",
       "      <td>27305198.0</td>\n",
       "      <td>15264885.0</td>\n",
       "      <td>27548539.0</td>\n",
       "    </tr>\n",
       "  </tbody>\n",
       "</table>\n",
       "</div>"
      ],
      "text/plain": [
       "        회사명  거래소코드    회계년도  유동자산(IFRS연결)  자산(IFRS연결)  유동자산(IFRS개별)  자산(IFRS개별)\n",
       "0  (주)CMG제약  58820  Dec-11    15341167.0  27305198.0    15264885.0  27548539.0"
      ]
     },
     "execution_count": 143,
     "metadata": {},
     "output_type": "execute_result"
    }
   ],
   "source": [
    "# 유동자산구성비율\n",
    "udong_pie.head(1)"
   ]
  },
  {
   "cell_type": "code",
   "execution_count": 144,
   "metadata": {},
   "outputs": [],
   "source": [
    "cal_rate(udong_pie, \"유동자산(IFRS개별)\", \"자산(IFRS개별)\", \"유동자산구성비율(개별)\")\n",
    "cal_rate(udong_pie, \"유동자산(IFRS연결)\", \"자산(IFRS연결)\", \"유동자산구성비율(연결)\")\n",
    "udong_pie.to_csv(\"../csv_data/use/유동자산구성비율_전처리.csv\", encoding=\"CP949\")"
   ]
  },
  {
   "cell_type": "code",
   "execution_count": 145,
   "metadata": {},
   "outputs": [
    {
     "data": {
      "text/html": [
       "<div>\n",
       "<style scoped>\n",
       "    .dataframe tbody tr th:only-of-type {\n",
       "        vertical-align: middle;\n",
       "    }\n",
       "\n",
       "    .dataframe tbody tr th {\n",
       "        vertical-align: top;\n",
       "    }\n",
       "\n",
       "    .dataframe thead th {\n",
       "        text-align: right;\n",
       "    }\n",
       "</style>\n",
       "<table border=\"1\" class=\"dataframe\">\n",
       "  <thead>\n",
       "    <tr style=\"text-align: right;\">\n",
       "      <th></th>\n",
       "      <th>회사명</th>\n",
       "      <th>거래소코드</th>\n",
       "      <th>회계년도</th>\n",
       "      <th>재고자산(IFRS연결)</th>\n",
       "      <th>유동자산(IFRS연결)</th>\n",
       "      <th>재고자산(IFRS개별)</th>\n",
       "      <th>유동자산(IFRS개별)</th>\n",
       "    </tr>\n",
       "  </thead>\n",
       "  <tbody>\n",
       "    <tr>\n",
       "      <th>0</th>\n",
       "      <td>(주)CMG제약</td>\n",
       "      <td>58820</td>\n",
       "      <td>Dec-11</td>\n",
       "      <td>2743103.0</td>\n",
       "      <td>15341167.0</td>\n",
       "      <td>2743103.0</td>\n",
       "      <td>15264885.0</td>\n",
       "    </tr>\n",
       "  </tbody>\n",
       "</table>\n",
       "</div>"
      ],
      "text/plain": [
       "        회사명  거래소코드    회계년도  재고자산(IFRS연결)  유동자산(IFRS연결)  재고자산(IFRS개별)  \\\n",
       "0  (주)CMG제약  58820  Dec-11     2743103.0    15341167.0     2743103.0   \n",
       "\n",
       "   유동자산(IFRS개별)  \n",
       "0    15264885.0  "
      ]
     },
     "execution_count": 145,
     "metadata": {},
     "output_type": "execute_result"
    }
   ],
   "source": [
    "# 재고자산 대 유동자산비율\n",
    "jego_rate.head(1)"
   ]
  },
  {
   "cell_type": "code",
   "execution_count": 146,
   "metadata": {},
   "outputs": [],
   "source": [
    "cal_rate(jego_rate, \"재고자산(IFRS개별)\", \"유동자산(IFRS개별)\", \"재고자산_유동자산비율(개별)\")\n",
    "cal_rate(jego_rate, \"재고자산(IFRS연결)\", \"유동자산(IFRS개별)\", \"재고자산_유동자산비율(연결)\")\n",
    "jego_rate.to_csv(\"../csv_data/use/재고자산_대_유동자산비율_전처리.csv\", encoding=\"CP949\")"
   ]
  },
  {
   "cell_type": "code",
   "execution_count": 147,
   "metadata": {},
   "outputs": [
    {
     "data": {
      "text/html": [
       "<div>\n",
       "<style scoped>\n",
       "    .dataframe tbody tr th:only-of-type {\n",
       "        vertical-align: middle;\n",
       "    }\n",
       "\n",
       "    .dataframe tbody tr th {\n",
       "        vertical-align: top;\n",
       "    }\n",
       "\n",
       "    .dataframe thead th {\n",
       "        text-align: right;\n",
       "    }\n",
       "</style>\n",
       "<table border=\"1\" class=\"dataframe\">\n",
       "  <thead>\n",
       "    <tr style=\"text-align: right;\">\n",
       "      <th></th>\n",
       "      <th>회사명</th>\n",
       "      <th>거래소코드</th>\n",
       "      <th>회계년도</th>\n",
       "      <th>자본(IFRS연결)</th>\n",
       "      <th>자산(IFRS연결)</th>\n",
       "      <th>자본(IFRS개별)</th>\n",
       "      <th>자산(IFRS개별)</th>\n",
       "    </tr>\n",
       "  </thead>\n",
       "  <tbody>\n",
       "    <tr>\n",
       "      <th>0</th>\n",
       "      <td>(주)CMG제약</td>\n",
       "      <td>58820</td>\n",
       "      <td>Dec-11</td>\n",
       "      <td>18034249.0</td>\n",
       "      <td>27305198.0</td>\n",
       "      <td>18290915.0</td>\n",
       "      <td>27548539.0</td>\n",
       "    </tr>\n",
       "  </tbody>\n",
       "</table>\n",
       "</div>"
      ],
      "text/plain": [
       "        회사명  거래소코드    회계년도  자본(IFRS연결)  자산(IFRS연결)  자본(IFRS개별)  자산(IFRS개별)\n",
       "0  (주)CMG제약  58820  Dec-11  18034249.0  27305198.0  18290915.0  27548539.0"
      ]
     },
     "execution_count": 147,
     "metadata": {},
     "output_type": "execute_result"
    }
   ],
   "source": [
    "# 자기자본구성비율\n",
    "self_pie.head(1)"
   ]
  },
  {
   "cell_type": "code",
   "execution_count": 148,
   "metadata": {},
   "outputs": [],
   "source": [
    "cal_rate(self_pie, \"자본(IFRS개별)\", \"자산(IFRS개별)\", \"자기자본구성비율(개별)\")\n",
    "cal_rate(self_pie, \"자본(IFRS연결)\", \"자산(IFRS연결)\", \"자기자본구성비율(연결)\")\n",
    "self_pie.to_csv(\"../csv_data/use/자기자본구성비율.csv\", encoding=\"CP949\")"
   ]
  },
  {
   "cell_type": "code",
   "execution_count": 149,
   "metadata": {},
   "outputs": [
    {
     "data": {
      "text/html": [
       "<div>\n",
       "<style scoped>\n",
       "    .dataframe tbody tr th:only-of-type {\n",
       "        vertical-align: middle;\n",
       "    }\n",
       "\n",
       "    .dataframe tbody tr th {\n",
       "        vertical-align: top;\n",
       "    }\n",
       "\n",
       "    .dataframe thead th {\n",
       "        text-align: right;\n",
       "    }\n",
       "</style>\n",
       "<table border=\"1\" class=\"dataframe\">\n",
       "  <thead>\n",
       "    <tr style=\"text-align: right;\">\n",
       "      <th></th>\n",
       "      <th>회사명</th>\n",
       "      <th>거래소코드</th>\n",
       "      <th>회계년도</th>\n",
       "      <th>[제조]영업활동으로 인한 현금흐름(간접법)(*)(IFRS)</th>\n",
       "      <th>[제조]매출액(수익)(*)(IFRS)</th>\n",
       "      <th>[제조]부채(*)(IFRS)</th>\n",
       "      <th>[제조]영업활동으로 인한 현금흐름(간접법)(*)(IFRS연결)</th>\n",
       "      <th>[제조]매출액(수익)(*)(IFRS연결)</th>\n",
       "      <th>[제조]부채(*)(IFRS연결)</th>\n",
       "    </tr>\n",
       "  </thead>\n",
       "  <tbody>\n",
       "    <tr>\n",
       "      <th>0</th>\n",
       "      <td>(주)CMG제약</td>\n",
       "      <td>58820</td>\n",
       "      <td>2010/12</td>\n",
       "      <td>-5983864.0</td>\n",
       "      <td>11350419.0</td>\n",
       "      <td>8370511.0</td>\n",
       "      <td>-5983864.0</td>\n",
       "      <td>11350419.0</td>\n",
       "      <td>8370511.0</td>\n",
       "    </tr>\n",
       "  </tbody>\n",
       "</table>\n",
       "</div>"
      ],
      "text/plain": [
       "        회사명  거래소코드     회계년도  [제조]영업활동으로 인한 현금흐름(간접법)(*)(IFRS)  \\\n",
       "0  (주)CMG제약  58820  2010/12                        -5983864.0   \n",
       "\n",
       "   [제조]매출액(수익)(*)(IFRS)  [제조]부채(*)(IFRS)  [제조]영업활동으로 인한 현금흐름(간접법)(*)(IFRS연결)  \\\n",
       "0            11350419.0        8370511.0                          -5983864.0   \n",
       "\n",
       "   [제조]매출액(수익)(*)(IFRS연결)  [제조]부채(*)(IFRS연결)  \n",
       "0              11350419.0          8370511.0  "
      ]
     },
     "execution_count": 149,
     "metadata": {},
     "output_type": "execute_result"
    }
   ],
   "source": [
    "# CASH FLOW 대 부채비율, CASH FLOW 대 매출액 비율\n",
    "cashflow.head(1)"
   ]
  },
  {
   "cell_type": "code",
   "execution_count": 150,
   "metadata": {},
   "outputs": [],
   "source": [
    "cashflow[\"[제조]전기영업흐름(IFRS개별)\"] = cashflow[\"[제조]영업활동으로 인한 현금흐름(간접법)(*)(IFRS)\"].shift().where(cashflow.회사명.eq(cashflow.회사명.shift()))\n",
    "cashflow[\"[제조]전기영업흐름(IFRS연결)\"] = cashflow[\"[제조]영업활동으로 인한 현금흐름(간접법)(*)(IFRS연결)\"].shift().where(cashflow.회사명.eq(cashflow.회사명.shift()))\n",
    "cashflow_2 = cashflow.copy()"
   ]
  },
  {
   "cell_type": "code",
   "execution_count": 151,
   "metadata": {},
   "outputs": [],
   "source": [
    "cal_cash_flow(cashflow, \"[제조]영업활동으로 인한 현금흐름(간접법)(*)(IFRS)\", \"[제조]전기영업흐름(IFRS개별)\", \"[제조]부채(*)(IFRS)\", \"cashflow_부채비율(개별)\")\n",
    "cal_cash_flow(cashflow, \"[제조]영업활동으로 인한 현금흐름(간접법)(*)(IFRS연결)\", \"[제조]전기영업흐름(IFRS연결)\", \"[제조]부채(*)(IFRS연결)\", \"cashflow_부채비율(연결)\")\n",
    "\n",
    "# 저장하기 전에 2010년 데이터 싹 다 제거하기\n",
    "kill_2010 = cashflow[cashflow['회계년도'].str.contains(\"2010\")].index\n",
    "cashflow_real = cashflow.drop(kill_2010)\n",
    "\n",
    "# 저장\n",
    "cashflow_real.to_csv(\"../csv_data/use/CASHFLOW_부채비율_전처리.csv\", encoding=\"CP949\")"
   ]
  },
  {
   "cell_type": "code",
   "execution_count": 152,
   "metadata": {},
   "outputs": [
    {
     "name": "stderr",
     "output_type": "stream",
     "text": [
      "C:\\Users\\luck1\\AppData\\Local\\Temp\\ipykernel_13260\\1936532931.py:120: RuntimeWarning: divide by zero encountered in double_scalars\n",
      "  df_name.loc[i, d] = ((df_name.iloc[i][a] + df_name.iloc[i][b])/2)/df_name.iloc[i][c] * 100\n",
      "C:\\Users\\luck1\\AppData\\Local\\Temp\\ipykernel_13260\\1936532931.py:120: RuntimeWarning: divide by zero encountered in double_scalars\n",
      "  df_name.loc[i, d] = ((df_name.iloc[i][a] + df_name.iloc[i][b])/2)/df_name.iloc[i][c] * 100\n"
     ]
    }
   ],
   "source": [
    "cal_cash_flow(cashflow_2, \"[제조]영업활동으로 인한 현금흐름(간접법)(*)(IFRS)\", \"[제조]전기영업흐름(IFRS개별)\", \"[제조]매출액(수익)(*)(IFRS)\", \"cashflow_매출액비율(개별)\")\n",
    "cal_cash_flow(cashflow_2, \"[제조]영업활동으로 인한 현금흐름(간접법)(*)(IFRS연결)\", \"[제조]전기영업흐름(IFRS연결)\", \"[제조]매출액(수익)(*)(IFRS연결)\", \"cashflow_매출액비율(연결)\")\n",
    "\n",
    "# 저장하기 전에 2010년 데이터 싹 다 제거하기\n",
    "kill_2010 = cashflow_2[cashflow_2['회계년도'].str.contains(\"2010\")].index\n",
    "cashflow_2_real = cashflow_2.drop(kill_2010)\n",
    "\n",
    "#저장\n",
    "cashflow_2_real.to_csv(\"../csv_data/use/CASHFLOW_매출액비율_전처리.csv\", encoding=\"CP949\")"
   ]
  },
  {
   "cell_type": "code",
   "execution_count": 153,
   "metadata": {},
   "outputs": [
    {
     "data": {
      "text/html": [
       "<div>\n",
       "<style scoped>\n",
       "    .dataframe tbody tr th:only-of-type {\n",
       "        vertical-align: middle;\n",
       "    }\n",
       "\n",
       "    .dataframe tbody tr th {\n",
       "        vertical-align: top;\n",
       "    }\n",
       "\n",
       "    .dataframe thead th {\n",
       "        text-align: right;\n",
       "    }\n",
       "</style>\n",
       "<table border=\"1\" class=\"dataframe\">\n",
       "  <thead>\n",
       "    <tr style=\"text-align: right;\">\n",
       "      <th></th>\n",
       "      <th>회사명</th>\n",
       "      <th>거래소코드</th>\n",
       "      <th>회계년도</th>\n",
       "      <th>유동자산(IFRS연결)</th>\n",
       "      <th>유동부채(IFRS연결)</th>\n",
       "      <th>유동자산(IFRS개별)</th>\n",
       "      <th>유동부채(IFRS개별)</th>\n",
       "    </tr>\n",
       "  </thead>\n",
       "  <tbody>\n",
       "    <tr>\n",
       "      <th>0</th>\n",
       "      <td>(주)CMG제약</td>\n",
       "      <td>58820</td>\n",
       "      <td>Dec-11</td>\n",
       "      <td>15341167.0</td>\n",
       "      <td>7633673.0</td>\n",
       "      <td>15264885.0</td>\n",
       "      <td>7620349.0</td>\n",
       "    </tr>\n",
       "  </tbody>\n",
       "</table>\n",
       "</div>"
      ],
      "text/plain": [
       "        회사명  거래소코드    회계년도  유동자산(IFRS연결)  유동부채(IFRS연결)  유동자산(IFRS개별)  \\\n",
       "0  (주)CMG제약  58820  Dec-11    15341167.0     7633673.0    15264885.0   \n",
       "\n",
       "   유동부채(IFRS개별)  \n",
       "0     7620349.0  "
      ]
     },
     "execution_count": 153,
     "metadata": {},
     "output_type": "execute_result"
    }
   ],
   "source": [
    "# 유동비율\n",
    "udong.head(1)"
   ]
  },
  {
   "cell_type": "code",
   "execution_count": 154,
   "metadata": {},
   "outputs": [],
   "source": [
    "cal_rate(udong, \"유동자산(IFRS개별)\", \"유동부채(IFRS개별)\", \"유동비율(개별)\")\n",
    "cal_rate(udong, \"유동자산(IFRS연결)\", \"유동부채(IFRS연결)\", \"유동비율(연결)\")\n",
    "udong.to_csv(\"../csv_data/use/유동비율_전처리.csv\", encoding=\"CP949\")"
   ]
  },
  {
   "cell_type": "code",
   "execution_count": 155,
   "metadata": {},
   "outputs": [
    {
     "data": {
      "text/html": [
       "<div>\n",
       "<style scoped>\n",
       "    .dataframe tbody tr th:only-of-type {\n",
       "        vertical-align: middle;\n",
       "    }\n",
       "\n",
       "    .dataframe tbody tr th {\n",
       "        vertical-align: top;\n",
       "    }\n",
       "\n",
       "    .dataframe thead th {\n",
       "        text-align: right;\n",
       "    }\n",
       "</style>\n",
       "<table border=\"1\" class=\"dataframe\">\n",
       "  <thead>\n",
       "    <tr style=\"text-align: right;\">\n",
       "      <th></th>\n",
       "      <th>회사명</th>\n",
       "      <th>거래소코드</th>\n",
       "      <th>회계년도</th>\n",
       "      <th>유동자산(IFRS연결)</th>\n",
       "      <th>재고자산(IFRS연결)</th>\n",
       "      <th>유동부채(IFRS연결)</th>\n",
       "      <th>유동자산(IFRS개별)</th>\n",
       "      <th>재고자산(IFRS개별)</th>\n",
       "      <th>유동부채(IFRS개별)</th>\n",
       "    </tr>\n",
       "  </thead>\n",
       "  <tbody>\n",
       "    <tr>\n",
       "      <th>0</th>\n",
       "      <td>(주)CMG제약</td>\n",
       "      <td>58820</td>\n",
       "      <td>Dec-11</td>\n",
       "      <td>15341167.0</td>\n",
       "      <td>2743103.0</td>\n",
       "      <td>7633673.0</td>\n",
       "      <td>15264885.0</td>\n",
       "      <td>2743103.0</td>\n",
       "      <td>7620349.0</td>\n",
       "    </tr>\n",
       "  </tbody>\n",
       "</table>\n",
       "</div>"
      ],
      "text/plain": [
       "        회사명  거래소코드    회계년도  유동자산(IFRS연결)  재고자산(IFRS연결)  유동부채(IFRS연결)  \\\n",
       "0  (주)CMG제약  58820  Dec-11    15341167.0     2743103.0     7633673.0   \n",
       "\n",
       "   유동자산(IFRS개별)  재고자산(IFRS개별)  유동부채(IFRS개별)  \n",
       "0    15264885.0     2743103.0     7620349.0  "
      ]
     },
     "execution_count": 155,
     "metadata": {},
     "output_type": "execute_result"
    }
   ],
   "source": [
    "# 당좌비율\n",
    "dang_rate.head(1)"
   ]
  },
  {
   "cell_type": "code",
   "execution_count": 156,
   "metadata": {},
   "outputs": [],
   "source": [
    "cal_rate_sub(dang_rate, \"유동자산(IFRS개별)\", \"재고자산(IFRS개별)\", \"유동부채(IFRS개별)\", \"당좌비율(개별)\")\n",
    "cal_rate_sub(dang_rate, \"유동자산(IFRS연결)\", \"재고자산(IFRS연결)\", \"유동부채(IFRS연결)\", \"당좌비율(연결)\")\n",
    "dang_rate.to_csv(\"../csv_data/use/당좌비율_전처리.csv\", encoding=\"CP949\")"
   ]
  },
  {
   "cell_type": "code",
   "execution_count": 157,
   "metadata": {},
   "outputs": [
    {
     "data": {
      "text/html": [
       "<div>\n",
       "<style scoped>\n",
       "    .dataframe tbody tr th:only-of-type {\n",
       "        vertical-align: middle;\n",
       "    }\n",
       "\n",
       "    .dataframe tbody tr th {\n",
       "        vertical-align: top;\n",
       "    }\n",
       "\n",
       "    .dataframe thead th {\n",
       "        text-align: right;\n",
       "    }\n",
       "</style>\n",
       "<table border=\"1\" class=\"dataframe\">\n",
       "  <thead>\n",
       "    <tr style=\"text-align: right;\">\n",
       "      <th></th>\n",
       "      <th>회사명</th>\n",
       "      <th>거래소코드</th>\n",
       "      <th>회계년도</th>\n",
       "      <th>현금및현금성자산(IFRS연결)</th>\n",
       "      <th>유동부채(IFRS연결)</th>\n",
       "      <th>현금및현금성자산(IFRS개별)</th>\n",
       "      <th>유동부채(IFRS개별)</th>\n",
       "    </tr>\n",
       "  </thead>\n",
       "  <tbody>\n",
       "    <tr>\n",
       "      <th>0</th>\n",
       "      <td>(주)CMG제약</td>\n",
       "      <td>58820</td>\n",
       "      <td>Dec-11</td>\n",
       "      <td>1152489.0</td>\n",
       "      <td>7633673.0</td>\n",
       "      <td>1152489.0</td>\n",
       "      <td>7620349.0</td>\n",
       "    </tr>\n",
       "  </tbody>\n",
       "</table>\n",
       "</div>"
      ],
      "text/plain": [
       "        회사명  거래소코드    회계년도  현금및현금성자산(IFRS연결)  유동부채(IFRS연결)  현금및현금성자산(IFRS개별)  \\\n",
       "0  (주)CMG제약  58820  Dec-11         1152489.0     7633673.0         1152489.0   \n",
       "\n",
       "   유동부채(IFRS개별)  \n",
       "0     7620349.0  "
      ]
     },
     "execution_count": 157,
     "metadata": {},
     "output_type": "execute_result"
    }
   ],
   "source": [
    "# 현금비율\n",
    "cash_rate.head(1)"
   ]
  },
  {
   "cell_type": "code",
   "execution_count": 158,
   "metadata": {},
   "outputs": [],
   "source": [
    "cal_rate(cash_rate, \"현금및현금성자산(IFRS개별)\", \"유동부채(IFRS개별)\", \"현금비율(개별)\")\n",
    "cal_rate(cash_rate, \"현금및현금성자산(IFRS연결)\", \"유동부채(IFRS연결)\", \"현금비율(연결)\")\n",
    "cash_rate.to_csv(\"../csv_data/use/현금비율_전처리.csv\", encoding=\"CP949\")"
   ]
  },
  {
   "cell_type": "code",
   "execution_count": 159,
   "metadata": {},
   "outputs": [
    {
     "data": {
      "text/html": [
       "<div>\n",
       "<style scoped>\n",
       "    .dataframe tbody tr th:only-of-type {\n",
       "        vertical-align: middle;\n",
       "    }\n",
       "\n",
       "    .dataframe tbody tr th {\n",
       "        vertical-align: top;\n",
       "    }\n",
       "\n",
       "    .dataframe thead th {\n",
       "        text-align: right;\n",
       "    }\n",
       "</style>\n",
       "<table border=\"1\" class=\"dataframe\">\n",
       "  <thead>\n",
       "    <tr style=\"text-align: right;\">\n",
       "      <th></th>\n",
       "      <th>회사명</th>\n",
       "      <th>거래소코드</th>\n",
       "      <th>회계년도</th>\n",
       "      <th>부채(IFRS연결)</th>\n",
       "      <th>자본(IFRS연결)</th>\n",
       "      <th>부채(IFRS개별)</th>\n",
       "      <th>자본(IFRS개별)</th>\n",
       "    </tr>\n",
       "  </thead>\n",
       "  <tbody>\n",
       "    <tr>\n",
       "      <th>0</th>\n",
       "      <td>(주)CMG제약</td>\n",
       "      <td>58820</td>\n",
       "      <td>Dec-11</td>\n",
       "      <td>9270949.0</td>\n",
       "      <td>18034249.0</td>\n",
       "      <td>9257624.0</td>\n",
       "      <td>18290915.0</td>\n",
       "    </tr>\n",
       "  </tbody>\n",
       "</table>\n",
       "</div>"
      ],
      "text/plain": [
       "        회사명  거래소코드    회계년도  부채(IFRS연결)  자본(IFRS연결)  부채(IFRS개별)  자본(IFRS개별)\n",
       "0  (주)CMG제약  58820  Dec-11   9270949.0  18034249.0   9257624.0  18290915.0"
      ]
     },
     "execution_count": 159,
     "metadata": {},
     "output_type": "execute_result"
    }
   ],
   "source": [
    "# 부채비율\n",
    "dept_rate.head(1)"
   ]
  },
  {
   "cell_type": "code",
   "execution_count": 160,
   "metadata": {},
   "outputs": [],
   "source": [
    "cal_rate(dept_rate, \"부채(IFRS개별)\", \"자본(IFRS개별)\", \"부채비율(개별)\")\n",
    "cal_rate(dept_rate, \"부채(IFRS연결)\", \"자본(IFRS연결)\", \"부채비율(연결)\")\n",
    "dept_rate.to_csv(\"../csv_data/use/부채비율_전처리.csv\", encoding=\"CP949\")"
   ]
  },
  {
   "cell_type": "code",
   "execution_count": 161,
   "metadata": {},
   "outputs": [
    {
     "data": {
      "text/html": [
       "<div>\n",
       "<style scoped>\n",
       "    .dataframe tbody tr th:only-of-type {\n",
       "        vertical-align: middle;\n",
       "    }\n",
       "\n",
       "    .dataframe tbody tr th {\n",
       "        vertical-align: top;\n",
       "    }\n",
       "\n",
       "    .dataframe thead th {\n",
       "        text-align: right;\n",
       "    }\n",
       "</style>\n",
       "<table border=\"1\" class=\"dataframe\">\n",
       "  <thead>\n",
       "    <tr style=\"text-align: right;\">\n",
       "      <th></th>\n",
       "      <th>회사명</th>\n",
       "      <th>거래소코드</th>\n",
       "      <th>회계년도</th>\n",
       "      <th>유동부채(IFRS연결)</th>\n",
       "      <th>부채(IFRS연결)</th>\n",
       "      <th>유동부채(IFRS개별)</th>\n",
       "      <th>부채(IFRS개별)</th>\n",
       "    </tr>\n",
       "  </thead>\n",
       "  <tbody>\n",
       "    <tr>\n",
       "      <th>0</th>\n",
       "      <td>(주)CMG제약</td>\n",
       "      <td>58820</td>\n",
       "      <td>Dec-11</td>\n",
       "      <td>7633673.0</td>\n",
       "      <td>9270949.0</td>\n",
       "      <td>7620349.0</td>\n",
       "      <td>9257624.0</td>\n",
       "    </tr>\n",
       "  </tbody>\n",
       "</table>\n",
       "</div>"
      ],
      "text/plain": [
       "        회사명  거래소코드    회계년도  유동부채(IFRS연결)  부채(IFRS연결)  유동부채(IFRS개별)  부채(IFRS개별)\n",
       "0  (주)CMG제약  58820  Dec-11     7633673.0   9270949.0     7620349.0   9257624.0"
      ]
     },
     "execution_count": 161,
     "metadata": {},
     "output_type": "execute_result"
    }
   ],
   "source": [
    "# 유동부채비율\n",
    "udong_dept.head(1)"
   ]
  },
  {
   "cell_type": "code",
   "execution_count": 162,
   "metadata": {},
   "outputs": [],
   "source": [
    "cal_rate(udong_dept, \"유동부채(IFRS개별)\", \"부채(IFRS개별)\", \"유동부채(개별)\")\n",
    "cal_rate(udong_dept, \"유동부채(IFRS연결)\", \"부채(IFRS연결)\", \"유동부채(연결)\")\n",
    "udong_dept.to_csv(\"../csv_data/use/유동부채비율_전처리.csv\", encoding=\"CP949\")"
   ]
  },
  {
   "cell_type": "code",
   "execution_count": 163,
   "metadata": {},
   "outputs": [
    {
     "data": {
      "text/html": [
       "<div>\n",
       "<style scoped>\n",
       "    .dataframe tbody tr th:only-of-type {\n",
       "        vertical-align: middle;\n",
       "    }\n",
       "\n",
       "    .dataframe tbody tr th {\n",
       "        vertical-align: top;\n",
       "    }\n",
       "\n",
       "    .dataframe thead th {\n",
       "        text-align: right;\n",
       "    }\n",
       "</style>\n",
       "<table border=\"1\" class=\"dataframe\">\n",
       "  <thead>\n",
       "    <tr style=\"text-align: right;\">\n",
       "      <th></th>\n",
       "      <th>회사명</th>\n",
       "      <th>거래소코드</th>\n",
       "      <th>회계년도</th>\n",
       "      <th>매출액(IFRS연결)</th>\n",
       "      <th>매출원가(IFRS연결)</th>\n",
       "      <th>매출액(IFRS개별)</th>\n",
       "      <th>매출원가(IFRS개별)</th>\n",
       "    </tr>\n",
       "  </thead>\n",
       "  <tbody>\n",
       "    <tr>\n",
       "      <th>0</th>\n",
       "      <td>(주)CMG제약</td>\n",
       "      <td>58820</td>\n",
       "      <td>Dec-11</td>\n",
       "      <td>17751704.0</td>\n",
       "      <td>10325799.0</td>\n",
       "      <td>17751704.0</td>\n",
       "      <td>10325799.0</td>\n",
       "    </tr>\n",
       "  </tbody>\n",
       "</table>\n",
       "</div>"
      ],
      "text/plain": [
       "        회사명  거래소코드    회계년도  매출액(IFRS연결)  매출원가(IFRS연결)  매출액(IFRS개별)  \\\n",
       "0  (주)CMG제약  58820  Dec-11   17751704.0    10325799.0   17751704.0   \n",
       "\n",
       "   매출원가(IFRS개별)  \n",
       "0    10325799.0  "
      ]
     },
     "execution_count": 163,
     "metadata": {},
     "output_type": "execute_result"
    }
   ],
   "source": [
    "# 매출액총이익률\n",
    "income_rate.head(1)"
   ]
  },
  {
   "cell_type": "code",
   "execution_count": 164,
   "metadata": {},
   "outputs": [
    {
     "name": "stderr",
     "output_type": "stream",
     "text": [
      "C:\\Users\\luck1\\AppData\\Local\\Temp\\ipykernel_13260\\1936532931.py:52: RuntimeWarning: invalid value encountered in double_scalars\n",
      "  df_name.loc[i, d] = (df_name.iloc[i][a]-df_name.iloc[i][b])/df_name.iloc[i][c] * 100\n",
      "C:\\Users\\luck1\\AppData\\Local\\Temp\\ipykernel_13260\\1936532931.py:52: RuntimeWarning: invalid value encountered in double_scalars\n",
      "  df_name.loc[i, d] = (df_name.iloc[i][a]-df_name.iloc[i][b])/df_name.iloc[i][c] * 100\n"
     ]
    }
   ],
   "source": [
    "cal_rate_sub(income_rate, \"매출액(IFRS개별)\", \"매출원가(IFRS개별)\", \"매출액(IFRS개별)\",\"매출액총이익률(개별)\")\n",
    "cal_rate_sub(income_rate, \"매출액(IFRS연결)\", \"매출원가(IFRS연결)\", \"매출액(IFRS연결)\" ,\"매출액총이익률(연결)\")\n",
    "income_rate.to_csv(\"../csv_data/use/매출액_총_이익률_전처리.csv\", encoding=\"CP949\")"
   ]
  },
  {
   "cell_type": "code",
   "execution_count": 165,
   "metadata": {},
   "outputs": [
    {
     "data": {
      "text/html": [
       "<div>\n",
       "<style scoped>\n",
       "    .dataframe tbody tr th:only-of-type {\n",
       "        vertical-align: middle;\n",
       "    }\n",
       "\n",
       "    .dataframe tbody tr th {\n",
       "        vertical-align: top;\n",
       "    }\n",
       "\n",
       "    .dataframe thead th {\n",
       "        text-align: right;\n",
       "    }\n",
       "</style>\n",
       "<table border=\"1\" class=\"dataframe\">\n",
       "  <thead>\n",
       "    <tr style=\"text-align: right;\">\n",
       "      <th></th>\n",
       "      <th>회사명</th>\n",
       "      <th>거래소코드</th>\n",
       "      <th>회계년도</th>\n",
       "      <th>당기순이익(IFRS연결)</th>\n",
       "      <th>매출액(IFRS연결)</th>\n",
       "      <th>당기순이익(IFRS개별)</th>\n",
       "      <th>매출액(IFRS개별)</th>\n",
       "    </tr>\n",
       "  </thead>\n",
       "  <tbody>\n",
       "    <tr>\n",
       "      <th>0</th>\n",
       "      <td>(주)CMG제약</td>\n",
       "      <td>58820</td>\n",
       "      <td>Dec-11</td>\n",
       "      <td>-1508282.0</td>\n",
       "      <td>17751704.0</td>\n",
       "      <td>-1264488.0</td>\n",
       "      <td>17751704.0</td>\n",
       "    </tr>\n",
       "  </tbody>\n",
       "</table>\n",
       "</div>"
      ],
      "text/plain": [
       "        회사명  거래소코드    회계년도  당기순이익(IFRS연결)  매출액(IFRS연결)  당기순이익(IFRS개별)  \\\n",
       "0  (주)CMG제약  58820  Dec-11     -1508282.0   17751704.0     -1264488.0   \n",
       "\n",
       "   매출액(IFRS개별)  \n",
       "0   17751704.0  "
      ]
     },
     "execution_count": 165,
     "metadata": {},
     "output_type": "execute_result"
    }
   ],
   "source": [
    "# 매출액순이익률\n",
    "income_real_rate.head(1)"
   ]
  },
  {
   "cell_type": "code",
   "execution_count": 166,
   "metadata": {},
   "outputs": [
    {
     "name": "stderr",
     "output_type": "stream",
     "text": [
      "C:\\Users\\luck1\\AppData\\Local\\Temp\\ipykernel_13260\\1936532931.py:28: RuntimeWarning: divide by zero encountered in double_scalars\n",
      "  df_name.loc[i, c] = df_name.iloc[i][a]/df_name.iloc[i][b] * 100\n",
      "C:\\Users\\luck1\\AppData\\Local\\Temp\\ipykernel_13260\\1936532931.py:28: RuntimeWarning: divide by zero encountered in double_scalars\n",
      "  df_name.loc[i, c] = df_name.iloc[i][a]/df_name.iloc[i][b] * 100\n"
     ]
    }
   ],
   "source": [
    "cal_rate(income_real_rate, \"당기순이익(IFRS개별)\", \"매출액(IFRS개별)\",\"매출액순이익률(개별)\")\n",
    "cal_rate(income_real_rate, \"당기순이익(IFRS연결)\", \"매출액(IFRS연결)\" ,\"매출액순이익률(연결)\")\n",
    "income_real_rate.to_csv(\"../csv_data/use/매출액_순_이익률_전처리.csv\", encoding=\"CP949\")"
   ]
  },
  {
   "cell_type": "code",
   "execution_count": 167,
   "metadata": {},
   "outputs": [
    {
     "data": {
      "text/html": [
       "<div>\n",
       "<style scoped>\n",
       "    .dataframe tbody tr th:only-of-type {\n",
       "        vertical-align: middle;\n",
       "    }\n",
       "\n",
       "    .dataframe tbody tr th {\n",
       "        vertical-align: top;\n",
       "    }\n",
       "\n",
       "    .dataframe thead th {\n",
       "        text-align: right;\n",
       "    }\n",
       "</style>\n",
       "<table border=\"1\" class=\"dataframe\">\n",
       "  <thead>\n",
       "    <tr style=\"text-align: right;\">\n",
       "      <th></th>\n",
       "      <th>회사명</th>\n",
       "      <th>거래소코드</th>\n",
       "      <th>회계년도</th>\n",
       "      <th>매출액(IFRS연결)</th>\n",
       "      <th>매출원가(IFRS연결)</th>\n",
       "      <th>판관비(IFRS연결)</th>\n",
       "      <th>매출액(IFRS개별)</th>\n",
       "      <th>매출원가(IFRS개별)</th>\n",
       "      <th>판관비(IFRS개별)</th>\n",
       "    </tr>\n",
       "  </thead>\n",
       "  <tbody>\n",
       "    <tr>\n",
       "      <th>0</th>\n",
       "      <td>(주)CMG제약</td>\n",
       "      <td>58820</td>\n",
       "      <td>Dec-11</td>\n",
       "      <td>17751704.0</td>\n",
       "      <td>10325799.0</td>\n",
       "      <td>6802089.0</td>\n",
       "      <td>17751704.0</td>\n",
       "      <td>10325799.0</td>\n",
       "      <td>6727421.0</td>\n",
       "    </tr>\n",
       "  </tbody>\n",
       "</table>\n",
       "</div>"
      ],
      "text/plain": [
       "        회사명  거래소코드    회계년도  매출액(IFRS연결)  매출원가(IFRS연결)  판관비(IFRS연결)  \\\n",
       "0  (주)CMG제약  58820  Dec-11   17751704.0    10325799.0    6802089.0   \n",
       "\n",
       "   매출액(IFRS개별)  매출원가(IFRS개별)  판관비(IFRS개별)  \n",
       "0   17751704.0    10325799.0    6727421.0  "
      ]
     },
     "execution_count": 167,
     "metadata": {},
     "output_type": "execute_result"
    }
   ],
   "source": [
    "# 매출액영업이익률\n",
    "income_sales_rate.head(1)"
   ]
  },
  {
   "cell_type": "code",
   "execution_count": 168,
   "metadata": {},
   "outputs": [
    {
     "name": "stderr",
     "output_type": "stream",
     "text": [
      "C:\\Users\\luck1\\AppData\\Local\\Temp\\ipykernel_13260\\1936532931.py:83: RuntimeWarning: divide by zero encountered in double_scalars\n",
      "  df_name.loc[i, e] = (df_name.iloc[i][a]-df_name.iloc[i][b]-df_name.iloc[i][c])/df_name.iloc[i][d] * 100\n",
      "C:\\Users\\luck1\\AppData\\Local\\Temp\\ipykernel_13260\\1936532931.py:83: RuntimeWarning: divide by zero encountered in double_scalars\n",
      "  df_name.loc[i, e] = (df_name.iloc[i][a]-df_name.iloc[i][b]-df_name.iloc[i][c])/df_name.iloc[i][d] * 100\n"
     ]
    }
   ],
   "source": [
    "cal_rate_sub_three(income_sales_rate, \"매출액(IFRS개별)\", \"매출원가(IFRS개별)\", \"판관비(IFRS개별)\", \"매출액(IFRS개별)\", \"매출액영업이익률(개별)\")\n",
    "cal_rate_sub_three(income_sales_rate, \"매출액(IFRS연결)\", \"매출원가(IFRS연결)\", \"판관비(IFRS연결)\", \"매출액(IFRS연결)\", \"매출액영업이익률(연결)\")\n",
    "income_sales_rate.to_csv(\"../csv_data/use/매출액영업이익률_전처리.csv\", encoding=\"CP949\")"
   ]
  },
  {
   "cell_type": "code",
   "execution_count": 169,
   "metadata": {},
   "outputs": [
    {
     "data": {
      "text/html": [
       "<div>\n",
       "<style scoped>\n",
       "    .dataframe tbody tr th:only-of-type {\n",
       "        vertical-align: middle;\n",
       "    }\n",
       "\n",
       "    .dataframe tbody tr th {\n",
       "        vertical-align: top;\n",
       "    }\n",
       "\n",
       "    .dataframe thead th {\n",
       "        text-align: right;\n",
       "    }\n",
       "</style>\n",
       "<table border=\"1\" class=\"dataframe\">\n",
       "  <thead>\n",
       "    <tr style=\"text-align: right;\">\n",
       "      <th></th>\n",
       "      <th>회사명</th>\n",
       "      <th>거래소코드</th>\n",
       "      <th>회계년도</th>\n",
       "      <th>매출액(IFRS연결)</th>\n",
       "      <th>매출원가(IFRS연결)</th>\n",
       "      <th>판관비(IFRS연결)</th>\n",
       "      <th>당기자본(IFRS연결)</th>\n",
       "      <th>전기자본(IFRS연결)</th>\n",
       "      <th>매출액(IFRS개별)</th>\n",
       "      <th>매출원가(IFRS연결).1</th>\n",
       "      <th>판관비(IFRS개별)</th>\n",
       "      <th>당기자본(IFRS개별)</th>\n",
       "      <th>전기자본(IFRS개별)</th>\n",
       "    </tr>\n",
       "  </thead>\n",
       "  <tbody>\n",
       "    <tr>\n",
       "      <th>0</th>\n",
       "      <td>(주)CMG제약</td>\n",
       "      <td>58820</td>\n",
       "      <td>Dec-11</td>\n",
       "      <td>17751704.0</td>\n",
       "      <td>10325799.0</td>\n",
       "      <td>6802089.0</td>\n",
       "      <td>18034249.0</td>\n",
       "      <td>18034249.0</td>\n",
       "      <td>17751704.0</td>\n",
       "      <td>10325799.0</td>\n",
       "      <td>6727421.0</td>\n",
       "      <td>18290915.0</td>\n",
       "      <td>18290915.0</td>\n",
       "    </tr>\n",
       "  </tbody>\n",
       "</table>\n",
       "</div>"
      ],
      "text/plain": [
       "        회사명  거래소코드    회계년도  매출액(IFRS연결)  매출원가(IFRS연결)  판관비(IFRS연결)  \\\n",
       "0  (주)CMG제약  58820  Dec-11   17751704.0    10325799.0    6802089.0   \n",
       "\n",
       "   당기자본(IFRS연결)  전기자본(IFRS연결)  매출액(IFRS개별)  매출원가(IFRS연결).1  판관비(IFRS개별)  \\\n",
       "0    18034249.0    18034249.0   17751704.0      10325799.0    6727421.0   \n",
       "\n",
       "   당기자본(IFRS개별)  전기자본(IFRS개별)  \n",
       "0    18290915.0    18290915.0  "
      ]
     },
     "execution_count": 169,
     "metadata": {},
     "output_type": "execute_result"
    }
   ],
   "source": [
    "# 총자본영업이익률\n",
    "total_sales_rate.head(1)"
   ]
  },
  {
   "cell_type": "code",
   "execution_count": 170,
   "metadata": {},
   "outputs": [],
   "source": [
    "cal_total_income(total_sales_rate, \"매출액(IFRS개별)\", \"매출원가(IFRS연결).1\", \"판관비(IFRS개별)\", \"전기자본(IFRS개별)\", \"당기자본(IFRS개별)\", \"총자본영업이익률(개별)\")\n",
    "cal_total_income(total_sales_rate, \"매출액(IFRS연결)\", \"매출원가(IFRS연결)\", \"판관비(IFRS연결)\", \"전기자본(IFRS연결)\", \"당기자본(IFRS연결)\", \"총자본영업이익률(연결)\")\n",
    "total_sales_rate.to_csv(\"../csv_data/use/총자본영업이익률_전처리.csv\", encoding=\"CP949\")"
   ]
  },
  {
   "cell_type": "code",
   "execution_count": 171,
   "metadata": {},
   "outputs": [
    {
     "data": {
      "text/html": [
       "<div>\n",
       "<style scoped>\n",
       "    .dataframe tbody tr th:only-of-type {\n",
       "        vertical-align: middle;\n",
       "    }\n",
       "\n",
       "    .dataframe tbody tr th {\n",
       "        vertical-align: top;\n",
       "    }\n",
       "\n",
       "    .dataframe thead th {\n",
       "        text-align: right;\n",
       "    }\n",
       "</style>\n",
       "<table border=\"1\" class=\"dataframe\">\n",
       "  <thead>\n",
       "    <tr style=\"text-align: right;\">\n",
       "      <th></th>\n",
       "      <th>회사명</th>\n",
       "      <th>거래소코드</th>\n",
       "      <th>회계년도</th>\n",
       "      <th>당기순이익(IFRS연결)</th>\n",
       "      <th>자산(IFRS연결)</th>\n",
       "      <th>당기순이익(IFRS개별)</th>\n",
       "      <th>자산(IFRS개별)</th>\n",
       "    </tr>\n",
       "  </thead>\n",
       "  <tbody>\n",
       "    <tr>\n",
       "      <th>0</th>\n",
       "      <td>(주)CMG제약</td>\n",
       "      <td>58820</td>\n",
       "      <td>Dec-11</td>\n",
       "      <td>-1508282.0</td>\n",
       "      <td>27305198.0</td>\n",
       "      <td>-1264488.0</td>\n",
       "      <td>27548539.0</td>\n",
       "    </tr>\n",
       "  </tbody>\n",
       "</table>\n",
       "</div>"
      ],
      "text/plain": [
       "        회사명  거래소코드    회계년도  당기순이익(IFRS연결)  자산(IFRS연결)  당기순이익(IFRS개별)  \\\n",
       "0  (주)CMG제약  58820  Dec-11     -1508282.0  27305198.0     -1264488.0   \n",
       "\n",
       "   자산(IFRS개별)  \n",
       "0  27548539.0  "
      ]
     },
     "execution_count": 171,
     "metadata": {},
     "output_type": "execute_result"
    }
   ],
   "source": [
    "#총자산순이익률\n",
    "total_real_rate.head(1)"
   ]
  },
  {
   "cell_type": "code",
   "execution_count": 172,
   "metadata": {},
   "outputs": [],
   "source": [
    "cal_rate(total_real_rate, \"당기순이익(IFRS개별)\", \"자산(IFRS개별)\", \"총자산순이익률(개별)\")\n",
    "cal_rate(total_real_rate, \"당기순이익(IFRS연결)\", \"자산(IFRS연결)\", \"총자산순이익률(연결)\")\n",
    "total_real_rate.to_csv(\"../csv_data/use/총자산순이익률_전처리.csv\", encoding=\"CP949\")"
   ]
  },
  {
   "cell_type": "code",
   "execution_count": 173,
   "metadata": {},
   "outputs": [
    {
     "data": {
      "text/html": [
       "<div>\n",
       "<style scoped>\n",
       "    .dataframe tbody tr th:only-of-type {\n",
       "        vertical-align: middle;\n",
       "    }\n",
       "\n",
       "    .dataframe tbody tr th {\n",
       "        vertical-align: top;\n",
       "    }\n",
       "\n",
       "    .dataframe thead th {\n",
       "        text-align: right;\n",
       "    }\n",
       "</style>\n",
       "<table border=\"1\" class=\"dataframe\">\n",
       "  <thead>\n",
       "    <tr style=\"text-align: right;\">\n",
       "      <th></th>\n",
       "      <th>회사명</th>\n",
       "      <th>거래소코드</th>\n",
       "      <th>회계년도</th>\n",
       "      <th>장기차입금(IFRS연결)</th>\n",
       "      <th>단기차입금(IFRS연결)</th>\n",
       "      <th>회사채(IFRS연결)</th>\n",
       "      <th>자산(IFRS연결)</th>\n",
       "      <th>장기차입금(IFRS개별)</th>\n",
       "      <th>단기차입금(IFRS개별)</th>\n",
       "      <th>회사채(IFRS개별)</th>\n",
       "    </tr>\n",
       "  </thead>\n",
       "  <tbody>\n",
       "    <tr>\n",
       "      <th>0</th>\n",
       "      <td>(주)CMG제약</td>\n",
       "      <td>58820</td>\n",
       "      <td>Dec-11</td>\n",
       "      <td>0.0</td>\n",
       "      <td>0.0</td>\n",
       "      <td>0.0</td>\n",
       "      <td>27305198.0</td>\n",
       "      <td>0.0</td>\n",
       "      <td>2134049.0</td>\n",
       "      <td>0.0</td>\n",
       "    </tr>\n",
       "  </tbody>\n",
       "</table>\n",
       "</div>"
      ],
      "text/plain": [
       "        회사명  거래소코드    회계년도  장기차입금(IFRS연결)  단기차입금(IFRS연결)  회사채(IFRS연결)  \\\n",
       "0  (주)CMG제약  58820  Dec-11            0.0            0.0          0.0   \n",
       "\n",
       "   자산(IFRS연결)  장기차입금(IFRS개별)  단기차입금(IFRS개별)  회사채(IFRS개별)  \n",
       "0  27305198.0            0.0      2134049.0          0.0  "
      ]
     },
     "execution_count": 173,
     "metadata": {},
     "output_type": "execute_result"
    }
   ],
   "source": [
    "# 차입금의존도\n",
    "chaip.head(1)"
   ]
  },
  {
   "cell_type": "code",
   "execution_count": 174,
   "metadata": {},
   "outputs": [],
   "source": [
    "chaip[\"자산(IFRS개별)\"] = total_real_rate[\"자산(IFRS개별)\"]\n",
    "\n",
    "cal_rate_add_three(chaip, \"장기차입금(IFRS개별)\", \"단기차입금(IFRS개별)\", \"회사채(IFRS개별)\", \"자산(IFRS개별)\", \"차입금의존도(개별)\")\n",
    "cal_rate_add_three(chaip, \"장기차입금(IFRS연결)\", \"단기차입금(IFRS연결)\", \"회사채(IFRS연결)\", \"자산(IFRS연결)\", \"차입금의존도(연결)\")\n",
    "chaip.to_csv(\"../csv_data/use/차입금의존도_전처리.csv\", encoding=\"CP949\")"
   ]
  },
  {
   "cell_type": "code",
   "execution_count": 175,
   "metadata": {},
   "outputs": [
    {
     "data": {
      "text/html": [
       "<div>\n",
       "<style scoped>\n",
       "    .dataframe tbody tr th:only-of-type {\n",
       "        vertical-align: middle;\n",
       "    }\n",
       "\n",
       "    .dataframe tbody tr th {\n",
       "        vertical-align: top;\n",
       "    }\n",
       "\n",
       "    .dataframe thead th {\n",
       "        text-align: right;\n",
       "    }\n",
       "</style>\n",
       "<table border=\"1\" class=\"dataframe\">\n",
       "  <thead>\n",
       "    <tr style=\"text-align: right;\">\n",
       "      <th></th>\n",
       "      <th>회사명</th>\n",
       "      <th>거래소코드</th>\n",
       "      <th>회계년도</th>\n",
       "      <th>당기자산(IFRS연결)</th>\n",
       "      <th>전기자산(IFRS연결)</th>\n",
       "      <th>당기자산(IFRS개별)</th>\n",
       "      <th>전기자산(IFRS개별)</th>\n",
       "    </tr>\n",
       "  </thead>\n",
       "  <tbody>\n",
       "    <tr>\n",
       "      <th>0</th>\n",
       "      <td>(주)CMG제약</td>\n",
       "      <td>58820</td>\n",
       "      <td>Dec-11</td>\n",
       "      <td>27305198.0</td>\n",
       "      <td>27305198.0</td>\n",
       "      <td>27548539.0</td>\n",
       "      <td>27548539.0</td>\n",
       "    </tr>\n",
       "  </tbody>\n",
       "</table>\n",
       "</div>"
      ],
      "text/plain": [
       "        회사명  거래소코드    회계년도  당기자산(IFRS연결)  전기자산(IFRS연결)  당기자산(IFRS개별)  \\\n",
       "0  (주)CMG제약  58820  Dec-11    27305198.0    27305198.0    27548539.0   \n",
       "\n",
       "   전기자산(IFRS개별)  \n",
       "0    27548539.0  "
      ]
     },
     "execution_count": 175,
     "metadata": {},
     "output_type": "execute_result"
    }
   ],
   "source": [
    "# 총자산증가율\n",
    "total_money_rate.head(1)"
   ]
  },
  {
   "cell_type": "code",
   "execution_count": 176,
   "metadata": {},
   "outputs": [
    {
     "name": "stderr",
     "output_type": "stream",
     "text": [
      "C:\\Users\\luck1\\AppData\\Local\\Temp\\ipykernel_13260\\1936532931.py:155: RuntimeWarning: divide by zero encountered in double_scalars\n",
      "  df_name.loc[i, c] = ((df_name.iloc[i][a] / df_name.iloc[i][b])*100)-100\n",
      "C:\\Users\\luck1\\AppData\\Local\\Temp\\ipykernel_13260\\1936532931.py:155: RuntimeWarning: divide by zero encountered in double_scalars\n",
      "  df_name.loc[i, c] = ((df_name.iloc[i][a] / df_name.iloc[i][b])*100)-100\n"
     ]
    }
   ],
   "source": [
    "cal_total_money(total_money_rate, \"당기자산(IFRS개별)\", \"전기자산(IFRS개별)\", \"총자산증가율(개별)\")\n",
    "cal_total_money(total_money_rate, \"당기자산(IFRS개별)\", \"전기자산(IFRS연결)\", \"총자산증가율(연결)\")\n",
    "total_money_rate.to_csv(\"../csv_data/use/총자산증가율_전처리.csv\", encoding=\"CP949\")"
   ]
  },
  {
   "cell_type": "code",
   "execution_count": 177,
   "metadata": {},
   "outputs": [
    {
     "data": {
      "text/html": [
       "<div>\n",
       "<style scoped>\n",
       "    .dataframe tbody tr th:only-of-type {\n",
       "        vertical-align: middle;\n",
       "    }\n",
       "\n",
       "    .dataframe tbody tr th {\n",
       "        vertical-align: top;\n",
       "    }\n",
       "\n",
       "    .dataframe thead th {\n",
       "        text-align: right;\n",
       "    }\n",
       "</style>\n",
       "<table border=\"1\" class=\"dataframe\">\n",
       "  <thead>\n",
       "    <tr style=\"text-align: right;\">\n",
       "      <th></th>\n",
       "      <th>회사명</th>\n",
       "      <th>거래소코드</th>\n",
       "      <th>회계년도</th>\n",
       "      <th>당기유동자산(IFRS연결)</th>\n",
       "      <th>전기유동자산(IFRS연결)</th>\n",
       "      <th>당기유동자산(IFRS개별)</th>\n",
       "      <th>전기유동자산(IFRS개별)</th>\n",
       "    </tr>\n",
       "  </thead>\n",
       "  <tbody>\n",
       "    <tr>\n",
       "      <th>0</th>\n",
       "      <td>(주)CMG제약</td>\n",
       "      <td>58820</td>\n",
       "      <td>Dec-11</td>\n",
       "      <td>15341167.0</td>\n",
       "      <td>15341167.0</td>\n",
       "      <td>15264885.0</td>\n",
       "      <td>15264885.0</td>\n",
       "    </tr>\n",
       "  </tbody>\n",
       "</table>\n",
       "</div>"
      ],
      "text/plain": [
       "        회사명  거래소코드    회계년도  당기유동자산(IFRS연결)  전기유동자산(IFRS연결)  당기유동자산(IFRS개별)  \\\n",
       "0  (주)CMG제약  58820  Dec-11      15341167.0      15341167.0      15264885.0   \n",
       "\n",
       "   전기유동자산(IFRS개별)  \n",
       "0      15264885.0  "
      ]
     },
     "execution_count": 177,
     "metadata": {},
     "output_type": "execute_result"
    }
   ],
   "source": [
    "# 유동자산증가율\n",
    "udong_money_rate.head(1)"
   ]
  },
  {
   "cell_type": "code",
   "execution_count": 178,
   "metadata": {},
   "outputs": [
    {
     "name": "stderr",
     "output_type": "stream",
     "text": [
      "C:\\Users\\luck1\\AppData\\Local\\Temp\\ipykernel_13260\\1936532931.py:155: RuntimeWarning: divide by zero encountered in double_scalars\n",
      "  df_name.loc[i, c] = ((df_name.iloc[i][a] / df_name.iloc[i][b])*100)-100\n",
      "C:\\Users\\luck1\\AppData\\Local\\Temp\\ipykernel_13260\\1936532931.py:155: RuntimeWarning: divide by zero encountered in double_scalars\n",
      "  df_name.loc[i, c] = ((df_name.iloc[i][a] / df_name.iloc[i][b])*100)-100\n"
     ]
    }
   ],
   "source": [
    "cal_total_money(udong_money_rate, \"당기유동자산(IFRS개별)\", \"전기유동자산(IFRS개별)\", \"유동자산증가율(개별)\")\n",
    "cal_total_money(udong_money_rate, \"당기유동자산(IFRS개별)\", \"전기유동자산(IFRS연결)\", \"유동자산증가율(연결)\")\n",
    "udong_money_rate.to_csv(\"../csv_data/use/유동자산증가율_전처리.csv\", encoding=\"CP949\")"
   ]
  },
  {
   "cell_type": "code",
   "execution_count": 179,
   "metadata": {},
   "outputs": [
    {
     "data": {
      "text/html": [
       "<div>\n",
       "<style scoped>\n",
       "    .dataframe tbody tr th:only-of-type {\n",
       "        vertical-align: middle;\n",
       "    }\n",
       "\n",
       "    .dataframe tbody tr th {\n",
       "        vertical-align: top;\n",
       "    }\n",
       "\n",
       "    .dataframe thead th {\n",
       "        text-align: right;\n",
       "    }\n",
       "</style>\n",
       "<table border=\"1\" class=\"dataframe\">\n",
       "  <thead>\n",
       "    <tr style=\"text-align: right;\">\n",
       "      <th></th>\n",
       "      <th>회사명</th>\n",
       "      <th>거래소코드</th>\n",
       "      <th>회계년도</th>\n",
       "      <th>당기매출액(IFRS연결)</th>\n",
       "      <th>전기매출액(IFRS연결)</th>\n",
       "      <th>당기매출액(IFRS개별)</th>\n",
       "      <th>전기매출액(IFRS개별)</th>\n",
       "    </tr>\n",
       "  </thead>\n",
       "  <tbody>\n",
       "    <tr>\n",
       "      <th>0</th>\n",
       "      <td>(주)CMG제약</td>\n",
       "      <td>58820</td>\n",
       "      <td>Dec-11</td>\n",
       "      <td>17751704.0</td>\n",
       "      <td>17751704.0</td>\n",
       "      <td>17751704.0</td>\n",
       "      <td>17751704.0</td>\n",
       "    </tr>\n",
       "  </tbody>\n",
       "</table>\n",
       "</div>"
      ],
      "text/plain": [
       "        회사명  거래소코드    회계년도  당기매출액(IFRS연결)  전기매출액(IFRS연결)  당기매출액(IFRS개별)  \\\n",
       "0  (주)CMG제약  58820  Dec-11     17751704.0     17751704.0     17751704.0   \n",
       "\n",
       "   전기매출액(IFRS개별)  \n",
       "0     17751704.0  "
      ]
     },
     "execution_count": 179,
     "metadata": {},
     "output_type": "execute_result"
    }
   ],
   "source": [
    "# 매출액증가율\n",
    "incoming_rate.head(1)"
   ]
  },
  {
   "cell_type": "code",
   "execution_count": 180,
   "metadata": {},
   "outputs": [
    {
     "name": "stderr",
     "output_type": "stream",
     "text": [
      "C:\\Users\\luck1\\AppData\\Local\\Temp\\ipykernel_13260\\1936532931.py:155: RuntimeWarning: invalid value encountered in double_scalars\n",
      "  df_name.loc[i, c] = ((df_name.iloc[i][a] / df_name.iloc[i][b])*100)-100\n",
      "C:\\Users\\luck1\\AppData\\Local\\Temp\\ipykernel_13260\\1936532931.py:155: RuntimeWarning: divide by zero encountered in double_scalars\n",
      "  df_name.loc[i, c] = ((df_name.iloc[i][a] / df_name.iloc[i][b])*100)-100\n",
      "C:\\Users\\luck1\\AppData\\Local\\Temp\\ipykernel_13260\\1936532931.py:155: RuntimeWarning: divide by zero encountered in double_scalars\n",
      "  df_name.loc[i, c] = ((df_name.iloc[i][a] / df_name.iloc[i][b])*100)-100\n",
      "C:\\Users\\luck1\\AppData\\Local\\Temp\\ipykernel_13260\\1936532931.py:155: RuntimeWarning: invalid value encountered in double_scalars\n",
      "  df_name.loc[i, c] = ((df_name.iloc[i][a] / df_name.iloc[i][b])*100)-100\n"
     ]
    }
   ],
   "source": [
    "cal_total_money(incoming_rate, \"당기매출액(IFRS개별)\", \"전기매출액(IFRS개별)\", \"매출액증가율(개별)\")\n",
    "cal_total_money(incoming_rate, \"당기매출액(IFRS개별)\", \"전기매출액(IFRS연결)\", \"매출액증가율(연결)\")\n",
    "incoming_rate.to_csv(\"../csv_data/use/매출액증가율_전처리.csv\", encoding=\"CP949\")"
   ]
  },
  {
   "cell_type": "code",
   "execution_count": 181,
   "metadata": {},
   "outputs": [
    {
     "data": {
      "text/html": [
       "<div>\n",
       "<style scoped>\n",
       "    .dataframe tbody tr th:only-of-type {\n",
       "        vertical-align: middle;\n",
       "    }\n",
       "\n",
       "    .dataframe tbody tr th {\n",
       "        vertical-align: top;\n",
       "    }\n",
       "\n",
       "    .dataframe thead th {\n",
       "        text-align: right;\n",
       "    }\n",
       "</style>\n",
       "<table border=\"1\" class=\"dataframe\">\n",
       "  <thead>\n",
       "    <tr style=\"text-align: right;\">\n",
       "      <th></th>\n",
       "      <th>회사명</th>\n",
       "      <th>거래소코드</th>\n",
       "      <th>회계년도</th>\n",
       "      <th>당기유형자산(IFRS연결)</th>\n",
       "      <th>전기유형자산(IFRS연결)</th>\n",
       "      <th>당기유형자산(IFRS개별)</th>\n",
       "      <th>전기유형자산(IFRS개별)</th>\n",
       "    </tr>\n",
       "  </thead>\n",
       "  <tbody>\n",
       "    <tr>\n",
       "      <th>0</th>\n",
       "      <td>(주)CMG제약</td>\n",
       "      <td>58820</td>\n",
       "      <td>Dec-11</td>\n",
       "      <td>9707759.0</td>\n",
       "      <td>9707759.0</td>\n",
       "      <td>9652599.0</td>\n",
       "      <td>9652599.0</td>\n",
       "    </tr>\n",
       "  </tbody>\n",
       "</table>\n",
       "</div>"
      ],
      "text/plain": [
       "        회사명  거래소코드    회계년도  당기유형자산(IFRS연결)  전기유형자산(IFRS연결)  당기유형자산(IFRS개별)  \\\n",
       "0  (주)CMG제약  58820  Dec-11       9707759.0       9707759.0       9652599.0   \n",
       "\n",
       "   전기유형자산(IFRS개별)  \n",
       "0       9652599.0  "
      ]
     },
     "execution_count": 181,
     "metadata": {},
     "output_type": "execute_result"
    }
   ],
   "source": [
    "# 유형자산증가율\n",
    "u_money_rate.head(1)"
   ]
  },
  {
   "cell_type": "code",
   "execution_count": 182,
   "metadata": {},
   "outputs": [
    {
     "name": "stderr",
     "output_type": "stream",
     "text": [
      "C:\\Users\\luck1\\AppData\\Local\\Temp\\ipykernel_13260\\1936532931.py:155: RuntimeWarning: invalid value encountered in double_scalars\n",
      "  df_name.loc[i, c] = ((df_name.iloc[i][a] / df_name.iloc[i][b])*100)-100\n",
      "C:\\Users\\luck1\\AppData\\Local\\Temp\\ipykernel_13260\\1936532931.py:155: RuntimeWarning: divide by zero encountered in double_scalars\n",
      "  df_name.loc[i, c] = ((df_name.iloc[i][a] / df_name.iloc[i][b])*100)-100\n",
      "C:\\Users\\luck1\\AppData\\Local\\Temp\\ipykernel_13260\\1936532931.py:155: RuntimeWarning: divide by zero encountered in double_scalars\n",
      "  df_name.loc[i, c] = ((df_name.iloc[i][a] / df_name.iloc[i][b])*100)-100\n",
      "C:\\Users\\luck1\\AppData\\Local\\Temp\\ipykernel_13260\\1936532931.py:155: RuntimeWarning: invalid value encountered in double_scalars\n",
      "  df_name.loc[i, c] = ((df_name.iloc[i][a] / df_name.iloc[i][b])*100)-100\n"
     ]
    }
   ],
   "source": [
    "cal_total_money(u_money_rate, \"당기유형자산(IFRS개별)\", \"전기유형자산(IFRS개별)\", \"유형자산증가율(개별)\")\n",
    "cal_total_money(u_money_rate, \"당기유형자산(IFRS개별)\", \"전기유형자산(IFRS연결)\", \"유형자산증가율(연결)\")\n",
    "u_money_rate.to_csv(\"../csv_data/use/유형자산증가율_전처리.csv\", encoding=\"CP949\")"
   ]
  },
  {
   "cell_type": "code",
   "execution_count": 183,
   "metadata": {},
   "outputs": [
    {
     "data": {
      "text/html": [
       "<div>\n",
       "<style scoped>\n",
       "    .dataframe tbody tr th:only-of-type {\n",
       "        vertical-align: middle;\n",
       "    }\n",
       "\n",
       "    .dataframe tbody tr th {\n",
       "        vertical-align: top;\n",
       "    }\n",
       "\n",
       "    .dataframe thead th {\n",
       "        text-align: right;\n",
       "    }\n",
       "</style>\n",
       "<table border=\"1\" class=\"dataframe\">\n",
       "  <thead>\n",
       "    <tr style=\"text-align: right;\">\n",
       "      <th></th>\n",
       "      <th>회사명</th>\n",
       "      <th>거래소코드</th>\n",
       "      <th>회계년도</th>\n",
       "      <th>당기재고자산(IFRS연결)</th>\n",
       "      <th>전기재고자산(IFRS연결)</th>\n",
       "      <th>당기재고자산(IFRS개별)</th>\n",
       "      <th>전기재고자산(IFRS개별)</th>\n",
       "    </tr>\n",
       "  </thead>\n",
       "  <tbody>\n",
       "    <tr>\n",
       "      <th>0</th>\n",
       "      <td>(주)CMG제약</td>\n",
       "      <td>58820</td>\n",
       "      <td>Dec-11</td>\n",
       "      <td>2743103.0</td>\n",
       "      <td>2743103.0</td>\n",
       "      <td>2743103.0</td>\n",
       "      <td>2743103.0</td>\n",
       "    </tr>\n",
       "  </tbody>\n",
       "</table>\n",
       "</div>"
      ],
      "text/plain": [
       "        회사명  거래소코드    회계년도  당기재고자산(IFRS연결)  전기재고자산(IFRS연결)  당기재고자산(IFRS개별)  \\\n",
       "0  (주)CMG제약  58820  Dec-11       2743103.0       2743103.0       2743103.0   \n",
       "\n",
       "   전기재고자산(IFRS개별)  \n",
       "0       2743103.0  "
      ]
     },
     "execution_count": 183,
     "metadata": {},
     "output_type": "execute_result"
    }
   ],
   "source": [
    "# 재고자산증가율\n",
    "jego_money_rate.head(1)"
   ]
  },
  {
   "cell_type": "code",
   "execution_count": 184,
   "metadata": {},
   "outputs": [
    {
     "name": "stderr",
     "output_type": "stream",
     "text": [
      "C:\\Users\\luck1\\AppData\\Local\\Temp\\ipykernel_13260\\1936532931.py:155: RuntimeWarning: invalid value encountered in double_scalars\n",
      "  df_name.loc[i, c] = ((df_name.iloc[i][a] / df_name.iloc[i][b])*100)-100\n",
      "C:\\Users\\luck1\\AppData\\Local\\Temp\\ipykernel_13260\\1936532931.py:155: RuntimeWarning: divide by zero encountered in double_scalars\n",
      "  df_name.loc[i, c] = ((df_name.iloc[i][a] / df_name.iloc[i][b])*100)-100\n",
      "C:\\Users\\luck1\\AppData\\Local\\Temp\\ipykernel_13260\\1936532931.py:155: RuntimeWarning: invalid value encountered in double_scalars\n",
      "  df_name.loc[i, c] = ((df_name.iloc[i][a] / df_name.iloc[i][b])*100)-100\n",
      "C:\\Users\\luck1\\AppData\\Local\\Temp\\ipykernel_13260\\1936532931.py:155: RuntimeWarning: divide by zero encountered in double_scalars\n",
      "  df_name.loc[i, c] = ((df_name.iloc[i][a] / df_name.iloc[i][b])*100)-100\n"
     ]
    }
   ],
   "source": [
    "cal_total_money(jego_money_rate, \"당기재고자산(IFRS개별)\", \"전기재고자산(IFRS개별)\", \"재고자산증가율(개별)\")\n",
    "cal_total_money(jego_money_rate, \"당기재고자산(IFRS개별)\", \"전기재고자산(IFRS연결)\", \"재고자산증가율(연결)\")\n",
    "jego_money_rate.to_csv(\"../csv_data/use/재고자산증가율_전처리.csv\", encoding=\"CP949\")"
   ]
  },
  {
   "cell_type": "code",
   "execution_count": 185,
   "metadata": {},
   "outputs": [
    {
     "data": {
      "text/html": [
       "<div>\n",
       "<style scoped>\n",
       "    .dataframe tbody tr th:only-of-type {\n",
       "        vertical-align: middle;\n",
       "    }\n",
       "\n",
       "    .dataframe tbody tr th {\n",
       "        vertical-align: top;\n",
       "    }\n",
       "\n",
       "    .dataframe thead th {\n",
       "        text-align: right;\n",
       "    }\n",
       "</style>\n",
       "<table border=\"1\" class=\"dataframe\">\n",
       "  <thead>\n",
       "    <tr style=\"text-align: right;\">\n",
       "      <th></th>\n",
       "      <th>회사명</th>\n",
       "      <th>거래소코드</th>\n",
       "      <th>회계년도</th>\n",
       "      <th>당기자본(IFRS연결)</th>\n",
       "      <th>전기자본(IFRS연결)</th>\n",
       "      <th>당기자본(IFRS개별)</th>\n",
       "      <th>전기자본(IFRS개별)</th>\n",
       "    </tr>\n",
       "  </thead>\n",
       "  <tbody>\n",
       "    <tr>\n",
       "      <th>0</th>\n",
       "      <td>(주)CMG제약</td>\n",
       "      <td>58820</td>\n",
       "      <td>Dec-11</td>\n",
       "      <td>18034249.0</td>\n",
       "      <td>18034249.0</td>\n",
       "      <td>18290915.0</td>\n",
       "      <td>18290915.0</td>\n",
       "    </tr>\n",
       "  </tbody>\n",
       "</table>\n",
       "</div>"
      ],
      "text/plain": [
       "        회사명  거래소코드    회계년도  당기자본(IFRS연결)  전기자본(IFRS연결)  당기자본(IFRS개별)  \\\n",
       "0  (주)CMG제약  58820  Dec-11    18034249.0    18034249.0    18290915.0   \n",
       "\n",
       "   전기자본(IFRS개별)  \n",
       "0    18290915.0  "
      ]
     },
     "execution_count": 185,
     "metadata": {},
     "output_type": "execute_result"
    }
   ],
   "source": [
    "# 자기자본증가율\n",
    "self_money_rate.head(1)"
   ]
  },
  {
   "cell_type": "code",
   "execution_count": 186,
   "metadata": {},
   "outputs": [
    {
     "name": "stderr",
     "output_type": "stream",
     "text": [
      "C:\\Users\\luck1\\AppData\\Local\\Temp\\ipykernel_13260\\1936532931.py:155: RuntimeWarning: divide by zero encountered in double_scalars\n",
      "  df_name.loc[i, c] = ((df_name.iloc[i][a] / df_name.iloc[i][b])*100)-100\n",
      "C:\\Users\\luck1\\AppData\\Local\\Temp\\ipykernel_13260\\1936532931.py:155: RuntimeWarning: divide by zero encountered in double_scalars\n",
      "  df_name.loc[i, c] = ((df_name.iloc[i][a] / df_name.iloc[i][b])*100)-100\n"
     ]
    }
   ],
   "source": [
    "cal_total_money(self_money_rate, \"당기자본(IFRS개별)\", \"전기자본(IFRS개별)\", \"자본증가율(개별)\")\n",
    "cal_total_money(self_money_rate, \"당기자본(IFRS개별)\", \"전기자본(IFRS연결)\", \"자본증가율(연결)\")\n",
    "self_money_rate.to_csv(\"../csv_data/use/자기자본증가율_전처리.csv\", encoding=\"CP949\")"
   ]
  },
  {
   "cell_type": "code",
   "execution_count": 187,
   "metadata": {},
   "outputs": [
    {
     "data": {
      "text/html": [
       "<div>\n",
       "<style scoped>\n",
       "    .dataframe tbody tr th:only-of-type {\n",
       "        vertical-align: middle;\n",
       "    }\n",
       "\n",
       "    .dataframe tbody tr th {\n",
       "        vertical-align: top;\n",
       "    }\n",
       "\n",
       "    .dataframe thead th {\n",
       "        text-align: right;\n",
       "    }\n",
       "</style>\n",
       "<table border=\"1\" class=\"dataframe\">\n",
       "  <thead>\n",
       "    <tr style=\"text-align: right;\">\n",
       "      <th></th>\n",
       "      <th>회사명</th>\n",
       "      <th>거래소코드</th>\n",
       "      <th>회계년도</th>\n",
       "      <th>당기순이익(IFRS연결)</th>\n",
       "      <th>전기순이익(IFRS연결)</th>\n",
       "      <th>당기순이익(IFRS개별)</th>\n",
       "      <th>전기순이익(IFRS개별)</th>\n",
       "    </tr>\n",
       "  </thead>\n",
       "  <tbody>\n",
       "    <tr>\n",
       "      <th>0</th>\n",
       "      <td>(주)CMG제약</td>\n",
       "      <td>58820</td>\n",
       "      <td>Dec-11</td>\n",
       "      <td>-1508282.0</td>\n",
       "      <td>-1508282.0</td>\n",
       "      <td>-1264488.0</td>\n",
       "      <td>-1264488.0</td>\n",
       "    </tr>\n",
       "  </tbody>\n",
       "</table>\n",
       "</div>"
      ],
      "text/plain": [
       "        회사명  거래소코드    회계년도  당기순이익(IFRS연결)  전기순이익(IFRS연결)  당기순이익(IFRS개별)  \\\n",
       "0  (주)CMG제약  58820  Dec-11     -1508282.0     -1508282.0     -1264488.0   \n",
       "\n",
       "   전기순이익(IFRS개별)  \n",
       "0     -1264488.0  "
      ]
     },
     "execution_count": 187,
     "metadata": {},
     "output_type": "execute_result"
    }
   ],
   "source": [
    "# 순이익증가율\n",
    "pure_income_rate.head(1)"
   ]
  },
  {
   "cell_type": "code",
   "execution_count": 188,
   "metadata": {},
   "outputs": [
    {
     "name": "stderr",
     "output_type": "stream",
     "text": [
      "C:\\Users\\luck1\\AppData\\Local\\Temp\\ipykernel_13260\\1936532931.py:155: RuntimeWarning: divide by zero encountered in double_scalars\n",
      "  df_name.loc[i, c] = ((df_name.iloc[i][a] / df_name.iloc[i][b])*100)-100\n",
      "C:\\Users\\luck1\\AppData\\Local\\Temp\\ipykernel_13260\\1936532931.py:155: RuntimeWarning: divide by zero encountered in double_scalars\n",
      "  df_name.loc[i, c] = ((df_name.iloc[i][a] / df_name.iloc[i][b])*100)-100\n"
     ]
    }
   ],
   "source": [
    "cal_total_money(pure_income_rate, \"당기순이익(IFRS개별)\", \"전기순이익(IFRS개별)\", \"순이익증가율(개별)\")\n",
    "cal_total_money(pure_income_rate, \"당기순이익(IFRS개별)\", \"전기순이익(IFRS연결)\", \"순이익증가율(연결)\")\n",
    "pure_income_rate.to_csv(\"../csv_data/use/순이익증가율_전처리.csv\", encoding=\"CP949\")"
   ]
  },
  {
   "cell_type": "code",
   "execution_count": 189,
   "metadata": {},
   "outputs": [
    {
     "data": {
      "text/html": [
       "<div>\n",
       "<style scoped>\n",
       "    .dataframe tbody tr th:only-of-type {\n",
       "        vertical-align: middle;\n",
       "    }\n",
       "\n",
       "    .dataframe tbody tr th {\n",
       "        vertical-align: top;\n",
       "    }\n",
       "\n",
       "    .dataframe thead th {\n",
       "        text-align: right;\n",
       "    }\n",
       "</style>\n",
       "<table border=\"1\" class=\"dataframe\">\n",
       "  <thead>\n",
       "    <tr style=\"text-align: right;\">\n",
       "      <th></th>\n",
       "      <th>회사명</th>\n",
       "      <th>거래소코드</th>\n",
       "      <th>회계년도</th>\n",
       "      <th>당기매출액(IFRS연결)</th>\n",
       "      <th>당기매출원가(IFRS연결)</th>\n",
       "      <th>당기판관비(IFRS연결)</th>\n",
       "      <th>전기매출액(IFRS연결)</th>\n",
       "      <th>전기매출원가(IFRS연결)</th>\n",
       "      <th>전기판관비(IFRS연결)</th>\n",
       "      <th>당기매출액(IFRS개별)</th>\n",
       "      <th>당기매출원가(IFRS개별)</th>\n",
       "      <th>당기판관비(IFRS개별)</th>\n",
       "      <th>전기매출액(IFRS개별)</th>\n",
       "      <th>전기매출원가(IFRS개별)</th>\n",
       "      <th>전기판관비(IFRS개별)</th>\n",
       "    </tr>\n",
       "  </thead>\n",
       "  <tbody>\n",
       "    <tr>\n",
       "      <th>0</th>\n",
       "      <td>(주)CMG제약</td>\n",
       "      <td>58820</td>\n",
       "      <td>Dec-11</td>\n",
       "      <td>17751704.0</td>\n",
       "      <td>10325799.0</td>\n",
       "      <td>6802089.0</td>\n",
       "      <td>17751704.0</td>\n",
       "      <td>10325799.0</td>\n",
       "      <td>6802089.0</td>\n",
       "      <td>17751704.0</td>\n",
       "      <td>10325799.0</td>\n",
       "      <td>6727421.0</td>\n",
       "      <td>17751704.0</td>\n",
       "      <td>10325799.0</td>\n",
       "      <td>6727421.0</td>\n",
       "    </tr>\n",
       "  </tbody>\n",
       "</table>\n",
       "</div>"
      ],
      "text/plain": [
       "        회사명  거래소코드    회계년도  당기매출액(IFRS연결)  당기매출원가(IFRS연결)  당기판관비(IFRS연결)  \\\n",
       "0  (주)CMG제약  58820  Dec-11     17751704.0      10325799.0      6802089.0   \n",
       "\n",
       "   전기매출액(IFRS연결)  전기매출원가(IFRS연결)  전기판관비(IFRS연결)  당기매출액(IFRS개별)  \\\n",
       "0     17751704.0      10325799.0      6802089.0     17751704.0   \n",
       "\n",
       "   당기매출원가(IFRS개별)  당기판관비(IFRS개별)  전기매출액(IFRS개별)  전기매출원가(IFRS개별)  전기판관비(IFRS개별)  \n",
       "0      10325799.0      6727421.0     17751704.0      10325799.0      6727421.0  "
      ]
     },
     "execution_count": 189,
     "metadata": {},
     "output_type": "execute_result"
    }
   ],
   "source": [
    "# 영업이익증가율\n",
    "working_money_rate.head(1)"
   ]
  },
  {
   "cell_type": "code",
   "execution_count": 190,
   "metadata": {},
   "outputs": [
    {
     "name": "stderr",
     "output_type": "stream",
     "text": [
      "C:\\Users\\luck1\\AppData\\Local\\Temp\\ipykernel_13260\\1936532931.py:167: RuntimeWarning: divide by zero encountered in double_scalars\n",
      "  df_name.loc[i, g] = ((df_name.iloc[i][a] - df_name.iloc[i][b] - df_name.iloc[i][c])/((df_name.iloc[i][d] + df_name.iloc[i][e] + df_name.iloc[i][f]))*100)-100\n",
      "C:\\Users\\luck1\\AppData\\Local\\Temp\\ipykernel_13260\\1936532931.py:167: RuntimeWarning: divide by zero encountered in double_scalars\n",
      "  df_name.loc[i, g] = ((df_name.iloc[i][a] - df_name.iloc[i][b] - df_name.iloc[i][c])/((df_name.iloc[i][d] + df_name.iloc[i][e] + df_name.iloc[i][f]))*100)-100\n"
     ]
    }
   ],
   "source": [
    "cal_working_money(working_money_rate, \"당기매출액(IFRS개별)\", \"당기매출원가(IFRS개별)\", \"당기판관비(IFRS개별)\", \"전기매출액(IFRS개별)\", \"전기매출원가(IFRS개별)\", \"전기판관비(IFRS개별)\", \"영업이익증가율(개별)\")\n",
    "cal_working_money(working_money_rate, \"당기매출액(IFRS연결)\", \"당기매출원가(IFRS연결)\", \"당기판관비(IFRS연결)\", \"전기매출액(IFRS연결)\", \"전기매출원가(IFRS연결)\", \"전기판관비(IFRS연결)\", \"영업이익증가율(연결)\")\n",
    "working_money_rate.to_csv(\"../csv_data/use/영업이익증가율_전처리.csv\", encoding=\"CP949\")"
   ]
  },
  {
   "cell_type": "code",
   "execution_count": 191,
   "metadata": {},
   "outputs": [
    {
     "data": {
      "text/html": [
       "<div>\n",
       "<style scoped>\n",
       "    .dataframe tbody tr th:only-of-type {\n",
       "        vertical-align: middle;\n",
       "    }\n",
       "\n",
       "    .dataframe tbody tr th {\n",
       "        vertical-align: top;\n",
       "    }\n",
       "\n",
       "    .dataframe thead th {\n",
       "        text-align: right;\n",
       "    }\n",
       "</style>\n",
       "<table border=\"1\" class=\"dataframe\">\n",
       "  <thead>\n",
       "    <tr style=\"text-align: right;\">\n",
       "      <th></th>\n",
       "      <th>회사명</th>\n",
       "      <th>거래소코드</th>\n",
       "      <th>회계년도</th>\n",
       "      <th>매출액(IFRS연결)</th>\n",
       "      <th>자산(IFRS연결)</th>\n",
       "      <th>매출액(IFRS개별)</th>\n",
       "      <th>자산(IFRS개별)</th>\n",
       "    </tr>\n",
       "  </thead>\n",
       "  <tbody>\n",
       "    <tr>\n",
       "      <th>0</th>\n",
       "      <td>(주)CMG제약</td>\n",
       "      <td>58820</td>\n",
       "      <td>Dec-11</td>\n",
       "      <td>17751704.0</td>\n",
       "      <td>27305198.0</td>\n",
       "      <td>17751704.0</td>\n",
       "      <td>27548539.0</td>\n",
       "    </tr>\n",
       "  </tbody>\n",
       "</table>\n",
       "</div>"
      ],
      "text/plain": [
       "        회사명  거래소코드    회계년도  매출액(IFRS연결)  자산(IFRS연결)  매출액(IFRS개별)  자산(IFRS개별)\n",
       "0  (주)CMG제약  58820  Dec-11   17751704.0  27305198.0   17751704.0  27548539.0"
      ]
     },
     "execution_count": 191,
     "metadata": {},
     "output_type": "execute_result"
    }
   ],
   "source": [
    "# 총자산 회전율\n",
    "total_money_turn.head(1)"
   ]
  },
  {
   "cell_type": "code",
   "execution_count": 192,
   "metadata": {},
   "outputs": [],
   "source": [
    "cal_div(total_money_turn, \"매출액(IFRS개별)\", \"자산(IFRS개별)\", \"총자산회전율(개별)\")\n",
    "cal_div(total_money_turn, \"매출액(IFRS연결)\", \"자산(IFRS연결)\", \"총자산회전율(연결)\")\n",
    "total_money_turn.to_csv(\"../csv_data/use/총자산회전율_전처리.csv\", encoding=\"CP949\")"
   ]
  },
  {
   "cell_type": "code",
   "execution_count": 193,
   "metadata": {},
   "outputs": [
    {
     "data": {
      "text/html": [
       "<div>\n",
       "<style scoped>\n",
       "    .dataframe tbody tr th:only-of-type {\n",
       "        vertical-align: middle;\n",
       "    }\n",
       "\n",
       "    .dataframe tbody tr th {\n",
       "        vertical-align: top;\n",
       "    }\n",
       "\n",
       "    .dataframe thead th {\n",
       "        text-align: right;\n",
       "    }\n",
       "</style>\n",
       "<table border=\"1\" class=\"dataframe\">\n",
       "  <thead>\n",
       "    <tr style=\"text-align: right;\">\n",
       "      <th></th>\n",
       "      <th>회사명</th>\n",
       "      <th>거래소코드</th>\n",
       "      <th>회계년도</th>\n",
       "      <th>매출액(IFRS연결)</th>\n",
       "      <th>재고자산(IFRS연결)</th>\n",
       "      <th>매출액(IFRS개별)</th>\n",
       "      <th>재고자산(IFRS개별)</th>\n",
       "    </tr>\n",
       "  </thead>\n",
       "  <tbody>\n",
       "    <tr>\n",
       "      <th>0</th>\n",
       "      <td>(주)CMG제약</td>\n",
       "      <td>58820</td>\n",
       "      <td>Dec-11</td>\n",
       "      <td>17751704.0</td>\n",
       "      <td>2743103.0</td>\n",
       "      <td>17751704.0</td>\n",
       "      <td>2743103.0</td>\n",
       "    </tr>\n",
       "  </tbody>\n",
       "</table>\n",
       "</div>"
      ],
      "text/plain": [
       "        회사명  거래소코드    회계년도  매출액(IFRS연결)  재고자산(IFRS연결)  매출액(IFRS개별)  \\\n",
       "0  (주)CMG제약  58820  Dec-11   17751704.0     2743103.0   17751704.0   \n",
       "\n",
       "   재고자산(IFRS개별)  \n",
       "0     2743103.0  "
      ]
     },
     "execution_count": 193,
     "metadata": {},
     "output_type": "execute_result"
    }
   ],
   "source": [
    "# 재고자산 회전율\n",
    "jego_money_turn.head(1)"
   ]
  },
  {
   "cell_type": "code",
   "execution_count": 194,
   "metadata": {},
   "outputs": [
    {
     "name": "stderr",
     "output_type": "stream",
     "text": [
      "C:\\Users\\luck1\\AppData\\Local\\Temp\\ipykernel_13260\\1936532931.py:17: RuntimeWarning: divide by zero encountered in double_scalars\n",
      "  df_name.loc[i, c] = df_name.iloc[i][a]/df_name.iloc[i][b]\n",
      "C:\\Users\\luck1\\AppData\\Local\\Temp\\ipykernel_13260\\1936532931.py:17: RuntimeWarning: invalid value encountered in double_scalars\n",
      "  df_name.loc[i, c] = df_name.iloc[i][a]/df_name.iloc[i][b]\n",
      "C:\\Users\\luck1\\AppData\\Local\\Temp\\ipykernel_13260\\1936532931.py:17: RuntimeWarning: divide by zero encountered in double_scalars\n",
      "  df_name.loc[i, c] = df_name.iloc[i][a]/df_name.iloc[i][b]\n",
      "C:\\Users\\luck1\\AppData\\Local\\Temp\\ipykernel_13260\\1936532931.py:17: RuntimeWarning: invalid value encountered in double_scalars\n",
      "  df_name.loc[i, c] = df_name.iloc[i][a]/df_name.iloc[i][b]\n"
     ]
    }
   ],
   "source": [
    "cal_div(jego_money_turn, \"매출액(IFRS개별)\", \"재고자산(IFRS개별)\", \"재고자산회전율(개별)\")\n",
    "cal_div(jego_money_turn, \"매출액(IFRS연결)\", \"재고자산(IFRS연결)\", \"재고자산회전율(연결)\")\n",
    "jego_money_turn.to_csv(\"../csv_data/use/재고자산회전율_전처리.csv\", encoding=\"CP949\")"
   ]
  },
  {
   "cell_type": "code",
   "execution_count": 195,
   "metadata": {},
   "outputs": [
    {
     "data": {
      "text/html": [
       "<div>\n",
       "<style scoped>\n",
       "    .dataframe tbody tr th:only-of-type {\n",
       "        vertical-align: middle;\n",
       "    }\n",
       "\n",
       "    .dataframe tbody tr th {\n",
       "        vertical-align: top;\n",
       "    }\n",
       "\n",
       "    .dataframe thead th {\n",
       "        text-align: right;\n",
       "    }\n",
       "</style>\n",
       "<table border=\"1\" class=\"dataframe\">\n",
       "  <thead>\n",
       "    <tr style=\"text-align: right;\">\n",
       "      <th></th>\n",
       "      <th>회사명</th>\n",
       "      <th>거래소코드</th>\n",
       "      <th>회계년도</th>\n",
       "      <th>매출액(IFRS연결)</th>\n",
       "      <th>매출채권(IFRS연결)</th>\n",
       "      <th>매출액(IFRS개별)</th>\n",
       "      <th>매출채권(IFRS개별)</th>\n",
       "    </tr>\n",
       "  </thead>\n",
       "  <tbody>\n",
       "    <tr>\n",
       "      <th>0</th>\n",
       "      <td>(주)CMG제약</td>\n",
       "      <td>58820</td>\n",
       "      <td>Dec-11</td>\n",
       "      <td>17751704.0</td>\n",
       "      <td>11050219.0</td>\n",
       "      <td>17751704.0</td>\n",
       "      <td>11050219.0</td>\n",
       "    </tr>\n",
       "  </tbody>\n",
       "</table>\n",
       "</div>"
      ],
      "text/plain": [
       "        회사명  거래소코드    회계년도  매출액(IFRS연결)  매출채권(IFRS연결)  매출액(IFRS개별)  \\\n",
       "0  (주)CMG제약  58820  Dec-11   17751704.0    11050219.0   17751704.0   \n",
       "\n",
       "   매출채권(IFRS개별)  \n",
       "0    11050219.0  "
      ]
     },
     "execution_count": 195,
     "metadata": {},
     "output_type": "execute_result"
    }
   ],
   "source": [
    "# 매출채권 회전율\n",
    "income_money_turn.head(1)"
   ]
  },
  {
   "cell_type": "code",
   "execution_count": 196,
   "metadata": {},
   "outputs": [
    {
     "name": "stderr",
     "output_type": "stream",
     "text": [
      "C:\\Users\\luck1\\AppData\\Local\\Temp\\ipykernel_13260\\1936532931.py:17: RuntimeWarning: divide by zero encountered in double_scalars\n",
      "  df_name.loc[i, c] = df_name.iloc[i][a]/df_name.iloc[i][b]\n",
      "C:\\Users\\luck1\\AppData\\Local\\Temp\\ipykernel_13260\\1936532931.py:17: RuntimeWarning: invalid value encountered in double_scalars\n",
      "  df_name.loc[i, c] = df_name.iloc[i][a]/df_name.iloc[i][b]\n",
      "C:\\Users\\luck1\\AppData\\Local\\Temp\\ipykernel_13260\\1936532931.py:17: RuntimeWarning: divide by zero encountered in double_scalars\n",
      "  df_name.loc[i, c] = df_name.iloc[i][a]/df_name.iloc[i][b]\n",
      "C:\\Users\\luck1\\AppData\\Local\\Temp\\ipykernel_13260\\1936532931.py:17: RuntimeWarning: invalid value encountered in double_scalars\n",
      "  df_name.loc[i, c] = df_name.iloc[i][a]/df_name.iloc[i][b]\n"
     ]
    }
   ],
   "source": [
    "cal_div(income_money_turn, \"매출액(IFRS개별)\", \"매출채권(IFRS개별)\", \"매출채권회전율(개별)\")\n",
    "cal_div(income_money_turn, \"매출액(IFRS연결)\", \"매출채권(IFRS연결)\", \"매출채권회전율(연결)\")\n",
    "income_money_turn.to_csv(\"../csv_data/use/매출채권회전율_전처리.csv\", encoding=\"CP949\")"
   ]
  },
  {
   "cell_type": "code",
   "execution_count": 197,
   "metadata": {},
   "outputs": [
    {
     "data": {
      "text/html": [
       "<div>\n",
       "<style scoped>\n",
       "    .dataframe tbody tr th:only-of-type {\n",
       "        vertical-align: middle;\n",
       "    }\n",
       "\n",
       "    .dataframe tbody tr th {\n",
       "        vertical-align: top;\n",
       "    }\n",
       "\n",
       "    .dataframe thead th {\n",
       "        text-align: right;\n",
       "    }\n",
       "</style>\n",
       "<table border=\"1\" class=\"dataframe\">\n",
       "  <thead>\n",
       "    <tr style=\"text-align: right;\">\n",
       "      <th></th>\n",
       "      <th>회사명</th>\n",
       "      <th>거래소코드</th>\n",
       "      <th>회계년도</th>\n",
       "      <th>매출액(IFRS연결)</th>\n",
       "      <th>유형자산(IFRS연결)</th>\n",
       "      <th>매출액(IFRS개별)</th>\n",
       "      <th>유형자산(IFRS개별)</th>\n",
       "    </tr>\n",
       "  </thead>\n",
       "  <tbody>\n",
       "    <tr>\n",
       "      <th>0</th>\n",
       "      <td>(주)CMG제약</td>\n",
       "      <td>58820</td>\n",
       "      <td>Dec-11</td>\n",
       "      <td>17751704.0</td>\n",
       "      <td>9707759.0</td>\n",
       "      <td>17751704.0</td>\n",
       "      <td>9652599.0</td>\n",
       "    </tr>\n",
       "  </tbody>\n",
       "</table>\n",
       "</div>"
      ],
      "text/plain": [
       "        회사명  거래소코드    회계년도  매출액(IFRS연결)  유형자산(IFRS연결)  매출액(IFRS개별)  \\\n",
       "0  (주)CMG제약  58820  Dec-11   17751704.0     9707759.0   17751704.0   \n",
       "\n",
       "   유형자산(IFRS개별)  \n",
       "0     9652599.0  "
      ]
     },
     "execution_count": 197,
     "metadata": {},
     "output_type": "execute_result"
    }
   ],
   "source": [
    "# 유형자산 회전율\n",
    "u_money_turn.head(1)"
   ]
  },
  {
   "cell_type": "code",
   "execution_count": 198,
   "metadata": {},
   "outputs": [
    {
     "name": "stderr",
     "output_type": "stream",
     "text": [
      "C:\\Users\\luck1\\AppData\\Local\\Temp\\ipykernel_13260\\1936532931.py:17: RuntimeWarning: divide by zero encountered in double_scalars\n",
      "  df_name.loc[i, c] = df_name.iloc[i][a]/df_name.iloc[i][b]\n",
      "C:\\Users\\luck1\\AppData\\Local\\Temp\\ipykernel_13260\\1936532931.py:17: RuntimeWarning: divide by zero encountered in double_scalars\n",
      "  df_name.loc[i, c] = df_name.iloc[i][a]/df_name.iloc[i][b]\n"
     ]
    }
   ],
   "source": [
    "cal_div(u_money_turn, \"매출액(IFRS개별)\", \"유형자산(IFRS개별)\", \"유형자산회전율(개별)\")\n",
    "cal_div(u_money_turn, \"매출액(IFRS연결)\", \"유형자산(IFRS연결)\", \"유형자산회전율(연결)\")\n",
    "u_money_turn.to_csv(\"../csv_data/use/유형자산회전율_전처리.csv\", encoding=\"CP949\")"
   ]
  },
  {
   "cell_type": "code",
   "execution_count": 199,
   "metadata": {},
   "outputs": [
    {
     "data": {
      "text/html": [
       "<div>\n",
       "<style scoped>\n",
       "    .dataframe tbody tr th:only-of-type {\n",
       "        vertical-align: middle;\n",
       "    }\n",
       "\n",
       "    .dataframe tbody tr th {\n",
       "        vertical-align: top;\n",
       "    }\n",
       "\n",
       "    .dataframe thead th {\n",
       "        text-align: right;\n",
       "    }\n",
       "</style>\n",
       "<table border=\"1\" class=\"dataframe\">\n",
       "  <thead>\n",
       "    <tr style=\"text-align: right;\">\n",
       "      <th></th>\n",
       "      <th>회사명</th>\n",
       "      <th>거래소코드</th>\n",
       "      <th>회계년도</th>\n",
       "      <th>매출액(IFRS연결)</th>\n",
       "      <th>매입채무(IFRS연결)</th>\n",
       "      <th>매출액(IFRS개별)</th>\n",
       "      <th>매입채무(IFRS개별)</th>\n",
       "    </tr>\n",
       "  </thead>\n",
       "  <tbody>\n",
       "    <tr>\n",
       "      <th>0</th>\n",
       "      <td>(주)CMG제약</td>\n",
       "      <td>58820</td>\n",
       "      <td>Dec-11</td>\n",
       "      <td>17751704.0</td>\n",
       "      <td>1481481.0</td>\n",
       "      <td>17751704.0</td>\n",
       "      <td>1481481.0</td>\n",
       "    </tr>\n",
       "  </tbody>\n",
       "</table>\n",
       "</div>"
      ],
      "text/plain": [
       "        회사명  거래소코드    회계년도  매출액(IFRS연결)  매입채무(IFRS연결)  매출액(IFRS개별)  \\\n",
       "0  (주)CMG제약  58820  Dec-11   17751704.0     1481481.0   17751704.0   \n",
       "\n",
       "   매입채무(IFRS개별)  \n",
       "0     1481481.0  "
      ]
     },
     "execution_count": 199,
     "metadata": {},
     "output_type": "execute_result"
    }
   ],
   "source": [
    "# 매입채무 회전율\n",
    "maep_money_turn.head(1)"
   ]
  },
  {
   "cell_type": "code",
   "execution_count": 200,
   "metadata": {},
   "outputs": [
    {
     "name": "stderr",
     "output_type": "stream",
     "text": [
      "C:\\Users\\luck1\\AppData\\Local\\Temp\\ipykernel_13260\\1936532931.py:17: RuntimeWarning: divide by zero encountered in double_scalars\n",
      "  df_name.loc[i, c] = df_name.iloc[i][a]/df_name.iloc[i][b]\n",
      "C:\\Users\\luck1\\AppData\\Local\\Temp\\ipykernel_13260\\1936532931.py:17: RuntimeWarning: invalid value encountered in double_scalars\n",
      "  df_name.loc[i, c] = df_name.iloc[i][a]/df_name.iloc[i][b]\n",
      "C:\\Users\\luck1\\AppData\\Local\\Temp\\ipykernel_13260\\1936532931.py:17: RuntimeWarning: divide by zero encountered in double_scalars\n",
      "  df_name.loc[i, c] = df_name.iloc[i][a]/df_name.iloc[i][b]\n",
      "C:\\Users\\luck1\\AppData\\Local\\Temp\\ipykernel_13260\\1936532931.py:17: RuntimeWarning: invalid value encountered in double_scalars\n",
      "  df_name.loc[i, c] = df_name.iloc[i][a]/df_name.iloc[i][b]\n"
     ]
    }
   ],
   "source": [
    "cal_div(maep_money_turn, \"매출액(IFRS개별)\", \"매입채무(IFRS개별)\", \"매입채무회전율(개별)\")\n",
    "cal_div(maep_money_turn, \"매출액(IFRS연결)\", \"매입채무(IFRS연결)\", \"매입채무회전율(연결)\")\n",
    "maep_money_turn.to_csv(\"../csv_data/use/매입채무회전율_전처리.csv\", encoding=\"CP949\")"
   ]
  },
  {
   "cell_type": "code",
   "execution_count": 201,
   "metadata": {},
   "outputs": [
    {
     "data": {
      "text/html": [
       "<div>\n",
       "<style scoped>\n",
       "    .dataframe tbody tr th:only-of-type {\n",
       "        vertical-align: middle;\n",
       "    }\n",
       "\n",
       "    .dataframe tbody tr th {\n",
       "        vertical-align: top;\n",
       "    }\n",
       "\n",
       "    .dataframe thead th {\n",
       "        text-align: right;\n",
       "    }\n",
       "</style>\n",
       "<table border=\"1\" class=\"dataframe\">\n",
       "  <thead>\n",
       "    <tr style=\"text-align: right;\">\n",
       "      <th></th>\n",
       "      <th>회사명</th>\n",
       "      <th>거래소코드</th>\n",
       "      <th>회계년도</th>\n",
       "      <th>매출액(IFRS연결)</th>\n",
       "      <th>자본(IFRS연결)</th>\n",
       "      <th>매출액(IFRS개별)</th>\n",
       "      <th>자본(IFRS개별)</th>\n",
       "    </tr>\n",
       "  </thead>\n",
       "  <tbody>\n",
       "    <tr>\n",
       "      <th>0</th>\n",
       "      <td>(주)CMG제약</td>\n",
       "      <td>58820</td>\n",
       "      <td>Dec-11</td>\n",
       "      <td>17751704.0</td>\n",
       "      <td>18034249.0</td>\n",
       "      <td>17751704.0</td>\n",
       "      <td>18290915.0</td>\n",
       "    </tr>\n",
       "  </tbody>\n",
       "</table>\n",
       "</div>"
      ],
      "text/plain": [
       "        회사명  거래소코드    회계년도  매출액(IFRS연결)  자본(IFRS연결)  매출액(IFRS개별)  자본(IFRS개별)\n",
       "0  (주)CMG제약  58820  Dec-11   17751704.0  18034249.0   17751704.0  18290915.0"
      ]
     },
     "execution_count": 201,
     "metadata": {},
     "output_type": "execute_result"
    }
   ],
   "source": [
    "# 자기자본 회전율\n",
    "self_jabon_turn.head(1)"
   ]
  },
  {
   "cell_type": "code",
   "execution_count": 202,
   "metadata": {},
   "outputs": [],
   "source": [
    "cal_div(self_jabon_turn, \"매출액(IFRS개별)\", \"자본(IFRS개별)\", \"자기자본회전율(개별)\")\n",
    "cal_div(self_jabon_turn, \"매출액(IFRS연결)\", \"자본(IFRS연결)\", \"자기자본회전율(연결)\")\n",
    "self_jabon_turn.to_csv(\"../csv_data/use/자기자본회전율_전처리.csv\", encoding=\"CP949\")"
   ]
  },
  {
   "cell_type": "code",
   "execution_count": 203,
   "metadata": {},
   "outputs": [
    {
     "data": {
      "text/html": [
       "<div>\n",
       "<style scoped>\n",
       "    .dataframe tbody tr th:only-of-type {\n",
       "        vertical-align: middle;\n",
       "    }\n",
       "\n",
       "    .dataframe tbody tr th {\n",
       "        vertical-align: top;\n",
       "    }\n",
       "\n",
       "    .dataframe thead th {\n",
       "        text-align: right;\n",
       "    }\n",
       "</style>\n",
       "<table border=\"1\" class=\"dataframe\">\n",
       "  <thead>\n",
       "    <tr style=\"text-align: right;\">\n",
       "      <th></th>\n",
       "      <th>회사명</th>\n",
       "      <th>거래소코드</th>\n",
       "      <th>회계년도</th>\n",
       "      <th>매출액(IFRS연결)</th>\n",
       "      <th>부채(IFRS연결)</th>\n",
       "      <th>매출액(IFRS개별)</th>\n",
       "      <th>부채(IFRS개별)</th>\n",
       "    </tr>\n",
       "  </thead>\n",
       "  <tbody>\n",
       "    <tr>\n",
       "      <th>0</th>\n",
       "      <td>(주)CMG제약</td>\n",
       "      <td>58820</td>\n",
       "      <td>Dec-11</td>\n",
       "      <td>17751704.0</td>\n",
       "      <td>9270949.0</td>\n",
       "      <td>17751704.0</td>\n",
       "      <td>9257624.0</td>\n",
       "    </tr>\n",
       "  </tbody>\n",
       "</table>\n",
       "</div>"
      ],
      "text/plain": [
       "        회사명  거래소코드    회계년도  매출액(IFRS연결)  부채(IFRS연결)  매출액(IFRS개별)  부채(IFRS개별)\n",
       "0  (주)CMG제약  58820  Dec-11   17751704.0   9270949.0   17751704.0   9257624.0"
      ]
     },
     "execution_count": 203,
     "metadata": {},
     "output_type": "execute_result"
    }
   ],
   "source": [
    "# 타인자본 회전율(부채?)\n",
    "other_jabon_turn.head(1)"
   ]
  },
  {
   "cell_type": "code",
   "execution_count": 204,
   "metadata": {},
   "outputs": [],
   "source": [
    "cal_div(other_jabon_turn, \"매출액(IFRS개별)\", \"부채(IFRS개별)\", \"타인자본회전율(개별)\")\n",
    "cal_div(other_jabon_turn, \"매출액(IFRS연결)\", \"부채(IFRS연결)\", \"타인자본회전율(연결)\")\n",
    "other_jabon_turn.to_csv(\"../csv_data/use/자기자본회전율_전처리.csv\", encoding=\"CP949\")"
   ]
  },
  {
   "cell_type": "code",
   "execution_count": 205,
   "metadata": {},
   "outputs": [
    {
     "data": {
      "text/html": [
       "<div>\n",
       "<style scoped>\n",
       "    .dataframe tbody tr th:only-of-type {\n",
       "        vertical-align: middle;\n",
       "    }\n",
       "\n",
       "    .dataframe tbody tr th {\n",
       "        vertical-align: top;\n",
       "    }\n",
       "\n",
       "    .dataframe thead th {\n",
       "        text-align: right;\n",
       "    }\n",
       "</style>\n",
       "<table border=\"1\" class=\"dataframe\">\n",
       "  <thead>\n",
       "    <tr style=\"text-align: right;\">\n",
       "      <th></th>\n",
       "      <th>회사명</th>\n",
       "      <th>거래소코드</th>\n",
       "      <th>회계년도</th>\n",
       "      <th>매출액(IFRS연결)</th>\n",
       "      <th>유동자산(IFRS연결)</th>\n",
       "      <th>매출액(IFRS개별)</th>\n",
       "      <th>유동자산(IFRS개별)</th>\n",
       "    </tr>\n",
       "  </thead>\n",
       "  <tbody>\n",
       "    <tr>\n",
       "      <th>0</th>\n",
       "      <td>(주)CMG제약</td>\n",
       "      <td>58820</td>\n",
       "      <td>Dec-11</td>\n",
       "      <td>17751704.0</td>\n",
       "      <td>15341167.0</td>\n",
       "      <td>17751704.0</td>\n",
       "      <td>15264885.0</td>\n",
       "    </tr>\n",
       "  </tbody>\n",
       "</table>\n",
       "</div>"
      ],
      "text/plain": [
       "        회사명  거래소코드    회계년도  매출액(IFRS연결)  유동자산(IFRS연결)  매출액(IFRS개별)  \\\n",
       "0  (주)CMG제약  58820  Dec-11   17751704.0    15341167.0   17751704.0   \n",
       "\n",
       "   유동자산(IFRS개별)  \n",
       "0    15264885.0  "
      ]
     },
     "execution_count": 205,
     "metadata": {},
     "output_type": "execute_result"
    }
   ],
   "source": [
    "# 유동자산 회전율\n",
    "udong_turn.head(1)"
   ]
  },
  {
   "cell_type": "code",
   "execution_count": 206,
   "metadata": {},
   "outputs": [],
   "source": [
    "cal_div(udong_turn, \"매출액(IFRS개별)\", \"유동자산(IFRS개별)\", \"유동자산회전율(개별)\")\n",
    "cal_div(udong_turn, \"매출액(IFRS연결)\", \"유동자산(IFRS연결)\", \"유동자산회전율(연결)\")\n",
    "udong_turn.to_csv(\"../csv_data/use/유동자산회전율_전처리.csv\", encoding=\"CP949\")"
   ]
  },
  {
   "cell_type": "code",
   "execution_count": 207,
   "metadata": {},
   "outputs": [
    {
     "data": {
      "text/html": [
       "<div>\n",
       "<style scoped>\n",
       "    .dataframe tbody tr th:only-of-type {\n",
       "        vertical-align: middle;\n",
       "    }\n",
       "\n",
       "    .dataframe tbody tr th {\n",
       "        vertical-align: top;\n",
       "    }\n",
       "\n",
       "    .dataframe thead th {\n",
       "        text-align: right;\n",
       "    }\n",
       "</style>\n",
       "<table border=\"1\" class=\"dataframe\">\n",
       "  <thead>\n",
       "    <tr style=\"text-align: right;\">\n",
       "      <th></th>\n",
       "      <th>회사명</th>\n",
       "      <th>거래소코드</th>\n",
       "      <th>회계년도</th>\n",
       "      <th>매출액(IFRS연결)</th>\n",
       "      <th>유동자산(IFRS연결)</th>\n",
       "      <th>재고자산(IFRS연결)</th>\n",
       "      <th>매출액(IFRS개별)</th>\n",
       "      <th>유동자산(IFRS개별)</th>\n",
       "      <th>재고자산(IFRS개별)</th>\n",
       "    </tr>\n",
       "  </thead>\n",
       "  <tbody>\n",
       "    <tr>\n",
       "      <th>0</th>\n",
       "      <td>(주)CMG제약</td>\n",
       "      <td>58820</td>\n",
       "      <td>Dec-11</td>\n",
       "      <td>17751704.0</td>\n",
       "      <td>15341167.0</td>\n",
       "      <td>2743103.0</td>\n",
       "      <td>17751704.0</td>\n",
       "      <td>15264885.0</td>\n",
       "      <td>2743103.0</td>\n",
       "    </tr>\n",
       "  </tbody>\n",
       "</table>\n",
       "</div>"
      ],
      "text/plain": [
       "        회사명  거래소코드    회계년도  매출액(IFRS연결)  유동자산(IFRS연결)  재고자산(IFRS연결)  \\\n",
       "0  (주)CMG제약  58820  Dec-11   17751704.0    15341167.0     2743103.0   \n",
       "\n",
       "   매출액(IFRS개별)  유동자산(IFRS개별)  재고자산(IFRS개별)  \n",
       "0   17751704.0    15264885.0     2743103.0  "
      ]
     },
     "execution_count": 207,
     "metadata": {},
     "output_type": "execute_result"
    }
   ],
   "source": [
    "# 당좌자산 회전율\n",
    "dang_turn.head(1)"
   ]
  },
  {
   "cell_type": "code",
   "execution_count": 208,
   "metadata": {},
   "outputs": [],
   "source": [
    "cal_rate_sub_under(dang_turn, \"매출액(IFRS개별)\", \"유동자산(IFRS개별)\", \"재고자산(IFRS개별)\", \"당좌자산회전율(개별)\")\n",
    "cal_rate_sub_under(dang_turn, \"매출액(IFRS연결)\", \"유동자산(IFRS연결)\", \"재고자산(IFRS연결)\", \"당좌자산회전율(연결)\")\n",
    "dang_turn.to_csv(\"../csv_data/use/당좌자산회전율_전처리.csv\", encoding=\"CP949\")"
   ]
  },
  {
   "cell_type": "code",
   "execution_count": 209,
   "metadata": {},
   "outputs": [
    {
     "data": {
      "text/html": [
       "<div>\n",
       "<style scoped>\n",
       "    .dataframe tbody tr th:only-of-type {\n",
       "        vertical-align: middle;\n",
       "    }\n",
       "\n",
       "    .dataframe tbody tr th {\n",
       "        vertical-align: top;\n",
       "    }\n",
       "\n",
       "    .dataframe thead th {\n",
       "        text-align: right;\n",
       "    }\n",
       "</style>\n",
       "<table border=\"1\" class=\"dataframe\">\n",
       "  <thead>\n",
       "    <tr style=\"text-align: right;\">\n",
       "      <th></th>\n",
       "      <th>회사명</th>\n",
       "      <th>거래소코드</th>\n",
       "      <th>회계년도</th>\n",
       "      <th>유동자산(IFRS연결)</th>\n",
       "      <th>재고자산(IFRS연결)</th>\n",
       "      <th>자산(IFRS연결)</th>\n",
       "      <th>유동자산(IFRS개별)</th>\n",
       "      <th>재고자산(IFRS개별)</th>\n",
       "      <th>자산(IFRS개별)</th>\n",
       "    </tr>\n",
       "  </thead>\n",
       "  <tbody>\n",
       "    <tr>\n",
       "      <th>0</th>\n",
       "      <td>(주)CMG제약</td>\n",
       "      <td>58820</td>\n",
       "      <td>Dec-11</td>\n",
       "      <td>15341167.0</td>\n",
       "      <td>2743103.0</td>\n",
       "      <td>27305198.0</td>\n",
       "      <td>15264885.0</td>\n",
       "      <td>2743103.0</td>\n",
       "      <td>27548539.0</td>\n",
       "    </tr>\n",
       "  </tbody>\n",
       "</table>\n",
       "</div>"
      ],
      "text/plain": [
       "        회사명  거래소코드    회계년도  유동자산(IFRS연결)  재고자산(IFRS연결)  자산(IFRS연결)  \\\n",
       "0  (주)CMG제약  58820  Dec-11    15341167.0     2743103.0  27305198.0   \n",
       "\n",
       "   유동자산(IFRS개별)  재고자산(IFRS개별)  자산(IFRS개별)  \n",
       "0    15264885.0     2743103.0  27548539.0  "
      ]
     },
     "execution_count": 209,
     "metadata": {},
     "output_type": "execute_result"
    }
   ],
   "source": [
    "# 당좌자산 구성비율\n",
    "dang_pie.head(1)"
   ]
  },
  {
   "cell_type": "code",
   "execution_count": 210,
   "metadata": {},
   "outputs": [],
   "source": [
    "cal_rate_sub(dang_pie, \"유동자산(IFRS개별)\", \"재고자산(IFRS개별)\", \"자산(IFRS개별)\", \"당좌자산구성비율(개별)\")\n",
    "cal_rate_sub(dang_pie, \"유동자산(IFRS연결)\", \"재고자산(IFRS연결)\", \"자산(IFRS연결)\", \"당좌자산구성비율(연결)\")\n",
    "dang_pie.to_csv(\"../csv_data/use/당좌자산회전율_전처리.csv\", encoding=\"CP949\")"
   ]
  },
  {
   "cell_type": "code",
   "execution_count": 211,
   "metadata": {},
   "outputs": [
    {
     "data": {
      "text/html": [
       "<div>\n",
       "<style scoped>\n",
       "    .dataframe tbody tr th:only-of-type {\n",
       "        vertical-align: middle;\n",
       "    }\n",
       "\n",
       "    .dataframe tbody tr th {\n",
       "        vertical-align: top;\n",
       "    }\n",
       "\n",
       "    .dataframe thead th {\n",
       "        text-align: right;\n",
       "    }\n",
       "</style>\n",
       "<table border=\"1\" class=\"dataframe\">\n",
       "  <thead>\n",
       "    <tr style=\"text-align: right;\">\n",
       "      <th></th>\n",
       "      <th>회사명</th>\n",
       "      <th>거래소코드</th>\n",
       "      <th>회계년도</th>\n",
       "      <th>매출채권(IFRS연결)(천원)</th>\n",
       "      <th>매입채무(IFRS연결)(천원)</th>\n",
       "      <th>매출채권(IFRS)(천원)</th>\n",
       "      <th>매입채무(IFRS)(천원)</th>\n",
       "    </tr>\n",
       "  </thead>\n",
       "  <tbody>\n",
       "    <tr>\n",
       "      <th>0</th>\n",
       "      <td>(주)CMG제약</td>\n",
       "      <td>58820</td>\n",
       "      <td>2011/12</td>\n",
       "      <td>11050219.0</td>\n",
       "      <td>1481481.0</td>\n",
       "      <td>11050219.0</td>\n",
       "      <td>1481481.0</td>\n",
       "    </tr>\n",
       "  </tbody>\n",
       "</table>\n",
       "</div>"
      ],
      "text/plain": [
       "        회사명  거래소코드     회계년도  매출채권(IFRS연결)(천원)  매입채무(IFRS연결)(천원)  \\\n",
       "0  (주)CMG제약  58820  2011/12        11050219.0         1481481.0   \n",
       "\n",
       "   매출채권(IFRS)(천원)  매입채무(IFRS)(천원)  \n",
       "0      11050219.0       1481481.0  "
      ]
     },
     "execution_count": 211,
     "metadata": {},
     "output_type": "execute_result"
    }
   ],
   "source": [
    "# 매출채권 대 매입채무비율\n",
    "income_money_rate.head(1)"
   ]
  },
  {
   "cell_type": "code",
   "execution_count": 212,
   "metadata": {},
   "outputs": [
    {
     "name": "stderr",
     "output_type": "stream",
     "text": [
      "C:\\Users\\luck1\\AppData\\Local\\Temp\\ipykernel_13260\\1936532931.py:28: RuntimeWarning: divide by zero encountered in double_scalars\n",
      "  df_name.loc[i, c] = df_name.iloc[i][a]/df_name.iloc[i][b] * 100\n",
      "C:\\Users\\luck1\\AppData\\Local\\Temp\\ipykernel_13260\\1936532931.py:28: RuntimeWarning: invalid value encountered in double_scalars\n",
      "  df_name.loc[i, c] = df_name.iloc[i][a]/df_name.iloc[i][b] * 100\n",
      "C:\\Users\\luck1\\AppData\\Local\\Temp\\ipykernel_13260\\1936532931.py:28: RuntimeWarning: divide by zero encountered in double_scalars\n",
      "  df_name.loc[i, c] = df_name.iloc[i][a]/df_name.iloc[i][b] * 100\n",
      "C:\\Users\\luck1\\AppData\\Local\\Temp\\ipykernel_13260\\1936532931.py:28: RuntimeWarning: invalid value encountered in double_scalars\n",
      "  df_name.loc[i, c] = df_name.iloc[i][a]/df_name.iloc[i][b] * 100\n"
     ]
    }
   ],
   "source": [
    "cal_rate(income_money_rate, \"매출채권(IFRS)(천원)\", \"매입채무(IFRS)(천원)\", \"매출채권대매입채무비율(개별)\")\n",
    "cal_rate(income_money_rate, \"매출채권(IFRS연결)(천원)\", \"매입채무(IFRS연결)(천원)\", \"매출채권대매입채무비율(연결)\")\n",
    "income_money_rate.to_csv(\"../csv_data/use/매출채권_대_매입채무비율_전처리.csv\", encoding=\"CP949\")"
   ]
  },
  {
   "cell_type": "code",
   "execution_count": 213,
   "metadata": {},
   "outputs": [
    {
     "data": {
      "text/html": [
       "<div>\n",
       "<style scoped>\n",
       "    .dataframe tbody tr th:only-of-type {\n",
       "        vertical-align: middle;\n",
       "    }\n",
       "\n",
       "    .dataframe tbody tr th {\n",
       "        vertical-align: top;\n",
       "    }\n",
       "\n",
       "    .dataframe thead th {\n",
       "        text-align: right;\n",
       "    }\n",
       "</style>\n",
       "<table border=\"1\" class=\"dataframe\">\n",
       "  <thead>\n",
       "    <tr style=\"text-align: right;\">\n",
       "      <th></th>\n",
       "      <th>회사명</th>\n",
       "      <th>거래소코드</th>\n",
       "      <th>회계년도</th>\n",
       "      <th>장기차입금(IFRS연결)</th>\n",
       "      <th>단기차입금(IFRS연결)</th>\n",
       "      <th>유동성장기부채(IFRS연결)</th>\n",
       "      <th>사채(IFRS연결)</th>\n",
       "      <th>장기차입금(IFRS개별)</th>\n",
       "      <th>단기차입금(IFRS개별)</th>\n",
       "      <th>유동성장기부채(IFRS개별)</th>\n",
       "      <th>사채(IFRS개별)</th>\n",
       "    </tr>\n",
       "  </thead>\n",
       "  <tbody>\n",
       "    <tr>\n",
       "      <th>0</th>\n",
       "      <td>(주)CMG제약</td>\n",
       "      <td>58820</td>\n",
       "      <td>Dec-11</td>\n",
       "      <td>0.0</td>\n",
       "      <td>0.0</td>\n",
       "      <td>2000000.0</td>\n",
       "      <td>478017.0</td>\n",
       "      <td>0.0</td>\n",
       "      <td>2134049.0</td>\n",
       "      <td>2000000.0</td>\n",
       "      <td>478017.0</td>\n",
       "    </tr>\n",
       "  </tbody>\n",
       "</table>\n",
       "</div>"
      ],
      "text/plain": [
       "        회사명  거래소코드    회계년도  장기차입금(IFRS연결)  단기차입금(IFRS연결)  유동성장기부채(IFRS연결)  \\\n",
       "0  (주)CMG제약  58820  Dec-11            0.0            0.0        2000000.0   \n",
       "\n",
       "   사채(IFRS연결)  장기차입금(IFRS개별)  단기차입금(IFRS개별)  유동성장기부채(IFRS개별)  사채(IFRS개별)  \n",
       "0    478017.0            0.0      2134049.0        2000000.0    478017.0  "
      ]
     },
     "execution_count": 213,
     "metadata": {},
     "output_type": "execute_result"
    }
   ],
   "source": [
    "# 단기차입금 대 총차입금비율\n",
    "dangi_rate.head(1)"
   ]
  },
  {
   "cell_type": "code",
   "execution_count": 214,
   "metadata": {},
   "outputs": [
    {
     "name": "stderr",
     "output_type": "stream",
     "text": [
      "C:\\Users\\luck1\\AppData\\Local\\Temp\\ipykernel_13260\\1936532931.py:221: RuntimeWarning: invalid value encountered in double_scalars\n",
      "  df_name.loc[i, f] = (df_name.iloc[i][a] / (df_name.iloc[i][b]+df_name.iloc[i][c]+df_name.iloc[i][d]+df_name.iloc[i][e]))*100\n",
      "C:\\Users\\luck1\\AppData\\Local\\Temp\\ipykernel_13260\\1936532931.py:221: RuntimeWarning: invalid value encountered in double_scalars\n",
      "  df_name.loc[i, f] = (df_name.iloc[i][a] / (df_name.iloc[i][b]+df_name.iloc[i][c]+df_name.iloc[i][d]+df_name.iloc[i][e]))*100\n",
      "C:\\Users\\luck1\\AppData\\Local\\Temp\\ipykernel_13260\\1936532931.py:221: RuntimeWarning: divide by zero encountered in double_scalars\n",
      "  df_name.loc[i, f] = (df_name.iloc[i][a] / (df_name.iloc[i][b]+df_name.iloc[i][c]+df_name.iloc[i][d]+df_name.iloc[i][e]))*100\n"
     ]
    }
   ],
   "source": [
    "cal_dangi_cha(dangi_rate,\"단기차입금(IFRS개별)\", \"장기차입금(IFRS개별)\", \"단기차입금(IFRS개별)\", \"유동성장기부채(IFRS개별)\", \"사채(IFRS개별)\", \"단기차입금대총차입금비율(개별)\")\n",
    "cal_dangi_cha(dangi_rate,\"단기차입금(IFRS개별)\", \"장기차입금(IFRS연결)\", \"단기차입금(IFRS연결)\", \"유동성장기부채(IFRS연결)\", \"사채(IFRS연결)\", \"단기차입금대총차입금비율(연결)\")\n",
    "dangi_rate.to_csv(\"../csv_data/use/단기차입금_대_총차입금비율_전처리.csv\", encoding=\"CP949\")"
   ]
  },
  {
   "cell_type": "code",
   "execution_count": 215,
   "metadata": {},
   "outputs": [
    {
     "data": {
      "text/html": [
       "<div>\n",
       "<style scoped>\n",
       "    .dataframe tbody tr th:only-of-type {\n",
       "        vertical-align: middle;\n",
       "    }\n",
       "\n",
       "    .dataframe tbody tr th {\n",
       "        vertical-align: top;\n",
       "    }\n",
       "\n",
       "    .dataframe thead th {\n",
       "        text-align: right;\n",
       "    }\n",
       "</style>\n",
       "<table border=\"1\" class=\"dataframe\">\n",
       "  <thead>\n",
       "    <tr style=\"text-align: right;\">\n",
       "      <th></th>\n",
       "      <th>회사명</th>\n",
       "      <th>거래소코드</th>\n",
       "      <th>회계년도</th>\n",
       "      <th>장기차입금(IFRS연결)</th>\n",
       "      <th>단기차입금(IFRS연결)</th>\n",
       "      <th>자산(IFRS연결)</th>\n",
       "      <th>장기차입금(IFRS개별)</th>\n",
       "      <th>단기차입금(IFRS개별)</th>\n",
       "      <th>자산(IFRS개별)</th>\n",
       "    </tr>\n",
       "  </thead>\n",
       "  <tbody>\n",
       "    <tr>\n",
       "      <th>0</th>\n",
       "      <td>(주)CMG제약</td>\n",
       "      <td>58820</td>\n",
       "      <td>Dec-11</td>\n",
       "      <td>0.0</td>\n",
       "      <td>0.0</td>\n",
       "      <td>27305198.0</td>\n",
       "      <td>0.0</td>\n",
       "      <td>2134049.0</td>\n",
       "      <td>27548539.0</td>\n",
       "    </tr>\n",
       "  </tbody>\n",
       "</table>\n",
       "</div>"
      ],
      "text/plain": [
       "        회사명  거래소코드    회계년도  장기차입금(IFRS연결)  단기차입금(IFRS연결)  자산(IFRS연결)  \\\n",
       "0  (주)CMG제약  58820  Dec-11            0.0            0.0  27305198.0   \n",
       "\n",
       "   장기차입금(IFRS개별)  단기차입금(IFRS개별)  자산(IFRS개별)  \n",
       "0            0.0      2134049.0  27548539.0  "
      ]
     },
     "execution_count": 215,
     "metadata": {},
     "output_type": "execute_result"
    }
   ],
   "source": [
    "# 차입금 비율\n",
    "chaip_rate.head(1)"
   ]
  },
  {
   "cell_type": "code",
   "execution_count": 216,
   "metadata": {},
   "outputs": [],
   "source": [
    "cal_rate_add(chaip_rate, \"장기차입금(IFRS개별)\", \"단기차입금(IFRS개별)\", \"자산(IFRS개별)\", \"차입금비율(개별)\")\n",
    "cal_rate_add(chaip_rate, \"장기차입금(IFRS연결)\", \"단기차입금(IFRS연결)\", \"자산(IFRS연결)\", \"차입금비율(연결)\")\n",
    "chaip_rate.to_csv(\"../csv_data/use/차입금비율_전처리.csv\", encoding=\"CP949\")"
   ]
  },
  {
   "cell_type": "code",
   "execution_count": 217,
   "metadata": {},
   "outputs": [
    {
     "data": {
      "text/html": [
       "<div>\n",
       "<style scoped>\n",
       "    .dataframe tbody tr th:only-of-type {\n",
       "        vertical-align: middle;\n",
       "    }\n",
       "\n",
       "    .dataframe tbody tr th {\n",
       "        vertical-align: top;\n",
       "    }\n",
       "\n",
       "    .dataframe thead th {\n",
       "        text-align: right;\n",
       "    }\n",
       "</style>\n",
       "<table border=\"1\" class=\"dataframe\">\n",
       "  <thead>\n",
       "    <tr style=\"text-align: right;\">\n",
       "      <th></th>\n",
       "      <th>회사명</th>\n",
       "      <th>거래소코드</th>\n",
       "      <th>회계년도</th>\n",
       "      <th>부채(IFRS연결)</th>\n",
       "      <th>자산(IFRS연결)</th>\n",
       "      <th>부채(IFRS개별)</th>\n",
       "      <th>자산(IFRS개별)</th>\n",
       "    </tr>\n",
       "  </thead>\n",
       "  <tbody>\n",
       "    <tr>\n",
       "      <th>0</th>\n",
       "      <td>(주)CMG제약</td>\n",
       "      <td>58820</td>\n",
       "      <td>Dec-11</td>\n",
       "      <td>9270949.0</td>\n",
       "      <td>27305198.0</td>\n",
       "      <td>9257624.0</td>\n",
       "      <td>27548539.0</td>\n",
       "    </tr>\n",
       "  </tbody>\n",
       "</table>\n",
       "</div>"
      ],
      "text/plain": [
       "        회사명  거래소코드    회계년도  부채(IFRS연결)  자산(IFRS연결)  부채(IFRS개별)  자산(IFRS개별)\n",
       "0  (주)CMG제약  58820  Dec-11   9270949.0  27305198.0   9257624.0  27548539.0"
      ]
     },
     "execution_count": 217,
     "metadata": {},
     "output_type": "execute_result"
    }
   ],
   "source": [
    "# 타인자본 구성비율\n",
    "other_jabon_rate.head(1)"
   ]
  },
  {
   "cell_type": "code",
   "execution_count": 218,
   "metadata": {},
   "outputs": [],
   "source": [
    "cal_rate(other_jabon_rate, \"부채(IFRS개별)\", \"자산(IFRS개별)\", \"타인자본구성비율(개별)\")\n",
    "cal_rate(other_jabon_rate, \"부채(IFRS연결)\", \"자산(IFRS연결)\", \"타인자본구성비율(연결)\")\n",
    "other_jabon_rate.to_csv(\"../csv_data/use/타인자본구성비율_전처리.csv\", encoding=\"CP949\")"
   ]
  },
  {
   "cell_type": "code",
   "execution_count": 219,
   "metadata": {},
   "outputs": [
    {
     "data": {
      "text/html": [
       "<div>\n",
       "<style scoped>\n",
       "    .dataframe tbody tr th:only-of-type {\n",
       "        vertical-align: middle;\n",
       "    }\n",
       "\n",
       "    .dataframe tbody tr th {\n",
       "        vertical-align: top;\n",
       "    }\n",
       "\n",
       "    .dataframe thead th {\n",
       "        text-align: right;\n",
       "    }\n",
       "</style>\n",
       "<table border=\"1\" class=\"dataframe\">\n",
       "  <thead>\n",
       "    <tr style=\"text-align: right;\">\n",
       "      <th></th>\n",
       "      <th>회사명</th>\n",
       "      <th>거래소코드</th>\n",
       "      <th>회계년도</th>\n",
       "      <th>매출액(IFRS연결)</th>\n",
       "      <th>유동자산(IFRS연결)</th>\n",
       "      <th>유동부채(IFRS연결)</th>\n",
       "      <th>매출액(IFRS개별)</th>\n",
       "      <th>유동자산(IFRS개별)</th>\n",
       "      <th>유동부채(IFRS개별)</th>\n",
       "    </tr>\n",
       "  </thead>\n",
       "  <tbody>\n",
       "    <tr>\n",
       "      <th>0</th>\n",
       "      <td>(주)CMG제약</td>\n",
       "      <td>58820</td>\n",
       "      <td>Dec-11</td>\n",
       "      <td>17751704.0</td>\n",
       "      <td>15341167.0</td>\n",
       "      <td>7633673.0</td>\n",
       "      <td>17751704.0</td>\n",
       "      <td>15264885.0</td>\n",
       "      <td>7620349.0</td>\n",
       "    </tr>\n",
       "  </tbody>\n",
       "</table>\n",
       "</div>"
      ],
      "text/plain": [
       "        회사명  거래소코드    회계년도  매출액(IFRS연결)  유동자산(IFRS연결)  유동부채(IFRS연결)  \\\n",
       "0  (주)CMG제약  58820  Dec-11   17751704.0    15341167.0     7633673.0   \n",
       "\n",
       "   매출액(IFRS개별)  유동자산(IFRS개별)  유동부채(IFRS개별)  \n",
       "0   17751704.0    15264885.0     7620349.0  "
      ]
     },
     "execution_count": 219,
     "metadata": {},
     "output_type": "execute_result"
    }
   ],
   "source": [
    "# 순운전자본회전율\n",
    "pure_income_turn.head(1)"
   ]
  },
  {
   "cell_type": "code",
   "execution_count": 220,
   "metadata": {},
   "outputs": [],
   "source": [
    "cal_rate_sub_under(pure_income_turn, \"매출액(IFRS개별)\", \"유동자산(IFRS개별)\", \"유동부채(IFRS개별)\", \"순운전자본회전율(개별)\")\n",
    "cal_rate_sub_under(pure_income_turn, \"매출액(IFRS연결)\", \"유동자산(IFRS연결)\", \"유동부채(IFRS연결)\", \"순운전자본회전율(연결)\")\n",
    "pure_income_turn.to_csv(\"../csv_data/use/순운전자본회전율_전처리.csv\", encoding=\"CP949\")"
   ]
  },
  {
   "cell_type": "code",
   "execution_count": 221,
   "metadata": {},
   "outputs": [
    {
     "data": {
      "text/html": [
       "<div>\n",
       "<style scoped>\n",
       "    .dataframe tbody tr th:only-of-type {\n",
       "        vertical-align: middle;\n",
       "    }\n",
       "\n",
       "    .dataframe tbody tr th {\n",
       "        vertical-align: top;\n",
       "    }\n",
       "\n",
       "    .dataframe thead th {\n",
       "        text-align: right;\n",
       "    }\n",
       "</style>\n",
       "<table border=\"1\" class=\"dataframe\">\n",
       "  <thead>\n",
       "    <tr style=\"text-align: right;\">\n",
       "      <th></th>\n",
       "      <th>회사명</th>\n",
       "      <th>거래소코드</th>\n",
       "      <th>회계년도</th>\n",
       "      <th>유동자산(IFRS연결)</th>\n",
       "      <th>유동부채(IFRS연결)</th>\n",
       "      <th>자산(IFRS연결)</th>\n",
       "      <th>유동자산(IFRS개별)</th>\n",
       "      <th>유동부채(IFRS개별)</th>\n",
       "      <th>자산(IFRS개별)</th>\n",
       "    </tr>\n",
       "  </thead>\n",
       "  <tbody>\n",
       "    <tr>\n",
       "      <th>0</th>\n",
       "      <td>(주)CMG제약</td>\n",
       "      <td>58820</td>\n",
       "      <td>Dec-11</td>\n",
       "      <td>15341167.0</td>\n",
       "      <td>7633673.0</td>\n",
       "      <td>27305198.0</td>\n",
       "      <td>15264885.0</td>\n",
       "      <td>7620349.0</td>\n",
       "      <td>27548539.0</td>\n",
       "    </tr>\n",
       "  </tbody>\n",
       "</table>\n",
       "</div>"
      ],
      "text/plain": [
       "        회사명  거래소코드    회계년도  유동자산(IFRS연결)  유동부채(IFRS연결)  자산(IFRS연결)  \\\n",
       "0  (주)CMG제약  58820  Dec-11    15341167.0     7633673.0  27305198.0   \n",
       "\n",
       "   유동자산(IFRS개별)  유동부채(IFRS개별)  자산(IFRS개별)  \n",
       "0    15264885.0     7620349.0  27548539.0  "
      ]
     },
     "execution_count": 221,
     "metadata": {},
     "output_type": "execute_result"
    }
   ],
   "source": [
    "# 순운전자본 대 총자산\n",
    "pure_income_total_rate.head(1)"
   ]
  },
  {
   "cell_type": "code",
   "execution_count": 223,
   "metadata": {},
   "outputs": [],
   "source": [
    "cal_rate_sub(pure_income_total_rate, \"유동자산(IFRS개별)\", \"유동부채(IFRS개별)\", \"자산(IFRS개별)\", \"순운전자본대총자산(개별)\")\n",
    "cal_rate_sub(pure_income_total_rate, \"유동자산(IFRS연결)\", \"유동부채(IFRS연결)\", \"자산(IFRS연결)\", \"순운전자본대총자산(연결)\")\n",
    "pure_income_total_rate.to_csv(\"../csv_data/use/순운전자본_대_총자산_전처리.csv\", encoding=\"CP949\")"
   ]
  },
  {
   "cell_type": "code",
   "execution_count": 224,
   "metadata": {},
   "outputs": [
    {
     "data": {
      "text/html": [
       "<div>\n",
       "<style scoped>\n",
       "    .dataframe tbody tr th:only-of-type {\n",
       "        vertical-align: middle;\n",
       "    }\n",
       "\n",
       "    .dataframe tbody tr th {\n",
       "        vertical-align: top;\n",
       "    }\n",
       "\n",
       "    .dataframe thead th {\n",
       "        text-align: right;\n",
       "    }\n",
       "</style>\n",
       "<table border=\"1\" class=\"dataframe\">\n",
       "  <thead>\n",
       "    <tr style=\"text-align: right;\">\n",
       "      <th></th>\n",
       "      <th>회사명</th>\n",
       "      <th>거래소코드</th>\n",
       "      <th>회계년도</th>\n",
       "      <th>재고자산(IFRS연결)</th>\n",
       "      <th>유동자산(IFRS연결)</th>\n",
       "      <th>유동부채(IFRS연결)</th>\n",
       "      <th>재고자산(IFRS개별)</th>\n",
       "      <th>유동자산(IFRS개별)</th>\n",
       "      <th>유동부채(IFRS개별)</th>\n",
       "    </tr>\n",
       "  </thead>\n",
       "  <tbody>\n",
       "    <tr>\n",
       "      <th>0</th>\n",
       "      <td>(주)CMG제약</td>\n",
       "      <td>58820</td>\n",
       "      <td>Dec-11</td>\n",
       "      <td>2743103.0</td>\n",
       "      <td>15341167.0</td>\n",
       "      <td>7633673.0</td>\n",
       "      <td>2743103.0</td>\n",
       "      <td>15264885.0</td>\n",
       "      <td>0.0</td>\n",
       "    </tr>\n",
       "  </tbody>\n",
       "</table>\n",
       "</div>"
      ],
      "text/plain": [
       "        회사명  거래소코드    회계년도  재고자산(IFRS연결)  유동자산(IFRS연결)  유동부채(IFRS연결)  \\\n",
       "0  (주)CMG제약  58820  Dec-11     2743103.0    15341167.0     7633673.0   \n",
       "\n",
       "   재고자산(IFRS개별)  유동자산(IFRS개별)  유동부채(IFRS개별)  \n",
       "0     2743103.0    15264885.0           0.0  "
      ]
     },
     "execution_count": 224,
     "metadata": {},
     "output_type": "execute_result"
    }
   ],
   "source": [
    "# 재고자산 대 순운전자본 비율\n",
    "jego_money_pure_rate.head(1)"
   ]
  },
  {
   "cell_type": "code",
   "execution_count": 225,
   "metadata": {},
   "outputs": [],
   "source": [
    "cal_rate_sub_under(jego_money_pure_rate, \"재고자산(IFRS개별)\", \"유동자산(IFRS개별)\", \"유동부채(IFRS개별)\", \"재고자산대순운전자본비율(개별)\")\n",
    "cal_rate_sub_under(jego_money_pure_rate, \"재고자산(IFRS연결)\", \"유동자산(IFRS연결)\", \"유동부채(IFRS연결)\", \"재고자산대순운전자본비율(연결)\")\n",
    "jego_money_pure_rate.to_csv(\"../csv_data/use/재고자산_대_순운전자본_비율_전처리.csv\", encoding=\"CP949\")"
   ]
  },
  {
   "cell_type": "code",
   "execution_count": 226,
   "metadata": {},
   "outputs": [
    {
     "data": {
      "text/html": [
       "<div>\n",
       "<style scoped>\n",
       "    .dataframe tbody tr th:only-of-type {\n",
       "        vertical-align: middle;\n",
       "    }\n",
       "\n",
       "    .dataframe tbody tr th {\n",
       "        vertical-align: top;\n",
       "    }\n",
       "\n",
       "    .dataframe thead th {\n",
       "        text-align: right;\n",
       "    }\n",
       "</style>\n",
       "<table border=\"1\" class=\"dataframe\">\n",
       "  <thead>\n",
       "    <tr style=\"text-align: right;\">\n",
       "      <th></th>\n",
       "      <th>회사명</th>\n",
       "      <th>거래소코드</th>\n",
       "      <th>회계년도</th>\n",
       "      <th>매출액(IFRS연결)</th>\n",
       "      <th>매출채권(IFRS연결)</th>\n",
       "      <th>재고자산(IFRS연결)</th>\n",
       "      <th>매출액(IFRS개별)</th>\n",
       "      <th>매출채권(IFRS개별)</th>\n",
       "      <th>재고자산(IFRS개별)</th>\n",
       "    </tr>\n",
       "  </thead>\n",
       "  <tbody>\n",
       "    <tr>\n",
       "      <th>0</th>\n",
       "      <td>(주)CMG제약</td>\n",
       "      <td>58820</td>\n",
       "      <td>Dec-11</td>\n",
       "      <td>17751704.0</td>\n",
       "      <td>11050219.0</td>\n",
       "      <td>2743103.0</td>\n",
       "      <td>17751704.0</td>\n",
       "      <td>11050219.0</td>\n",
       "      <td>2743103.0</td>\n",
       "    </tr>\n",
       "  </tbody>\n",
       "</table>\n",
       "</div>"
      ],
      "text/plain": [
       "        회사명  거래소코드    회계년도  매출액(IFRS연결)  매출채권(IFRS연결)  재고자산(IFRS연결)  \\\n",
       "0  (주)CMG제약  58820  Dec-11   17751704.0    11050219.0     2743103.0   \n",
       "\n",
       "   매출액(IFRS개별)  매출채권(IFRS개별)  재고자산(IFRS개별)  \n",
       "0   17751704.0    11050219.0     2743103.0  "
      ]
     },
     "execution_count": 226,
     "metadata": {},
     "output_type": "execute_result"
    }
   ],
   "source": [
    "# 그냥 운전자본회전율\n",
    "normal_income_rate.head(1)"
   ]
  },
  {
   "cell_type": "code",
   "execution_count": 227,
   "metadata": {},
   "outputs": [
    {
     "name": "stderr",
     "output_type": "stream",
     "text": [
      "C:\\Users\\luck1\\AppData\\Local\\Temp\\ipykernel_13260\\1936532931.py:209: RuntimeWarning: divide by zero encountered in double_scalars\n",
      "  df_name.loc[i, d] = df_name.iloc[i][a]/(df_name.iloc[i][b]+df_name.iloc[i][c]) * 100\n",
      "C:\\Users\\luck1\\AppData\\Local\\Temp\\ipykernel_13260\\1936532931.py:209: RuntimeWarning: invalid value encountered in double_scalars\n",
      "  df_name.loc[i, d] = df_name.iloc[i][a]/(df_name.iloc[i][b]+df_name.iloc[i][c]) * 100\n",
      "C:\\Users\\luck1\\AppData\\Local\\Temp\\ipykernel_13260\\1936532931.py:209: RuntimeWarning: divide by zero encountered in double_scalars\n",
      "  df_name.loc[i, d] = df_name.iloc[i][a]/(df_name.iloc[i][b]+df_name.iloc[i][c]) * 100\n",
      "C:\\Users\\luck1\\AppData\\Local\\Temp\\ipykernel_13260\\1936532931.py:209: RuntimeWarning: invalid value encountered in double_scalars\n",
      "  df_name.loc[i, d] = df_name.iloc[i][a]/(df_name.iloc[i][b]+df_name.iloc[i][c]) * 100\n"
     ]
    }
   ],
   "source": [
    "cal_rate_sub_add(normal_income_rate, \"매출액(IFRS개별)\", \"매출채권(IFRS개별)\", \"재고자산(IFRS개별)\", \"운전자본회전비율(개별)\")\n",
    "cal_rate_sub_add(normal_income_rate, \"매출액(IFRS연결)\", \"매출채권(IFRS연결)\", \"재고자산(IFRS연결)\", \"운전자본회전비율(연결)\")\n",
    "normal_income_rate.to_csv(\"../csv_data/use/운전자본회전비율_전처리.csv\", encoding=\"CP949\")"
   ]
  },
  {
   "cell_type": "code",
   "execution_count": 228,
   "metadata": {},
   "outputs": [
    {
     "data": {
      "text/plain": [
       "Index(['회사명', '거래소코드', '회계년도', '매출액(수익)(*)(IFRS연결)(천원)',\n",
       "       '매출액(수익)(*)(IFRS)(천원)', '자산(*)(IFRS연결)(천원)', '자산(*)(IFRS)(천원)',\n",
       "       '매출원가(*)(IFRS연결)(천원)', '매출원가(*)(IFRS)(천원)', '재고자산(*)(IFRS연결)(천원)',\n",
       "       '재고자산(*)(IFRS)(천원)', '매출채권(IFRS연결)(천원)', '매출채권(IFRS)(천원)',\n",
       "       '유형자산(*)(IFRS연결)(천원)', '유형자산(*)(IFRS)(천원)', '매입채무(IFRS연결)(천원)',\n",
       "       '매입채무(IFRS)(천원)', '자본(*)(IFRS연결)(천원)', '자본(*)(IFRS)(천원)',\n",
       "       '부채(*)(IFRS연결)(천원)', '부채(*)(IFRS)(천원)', '유동자산(*)(IFRS연결)(천원)',\n",
       "       '유동자산(*)(IFRS)(천원)'],\n",
       "      dtype='object')"
      ]
     },
     "execution_count": 228,
     "metadata": {},
     "output_type": "execute_result"
    }
   ],
   "source": [
    "# 활동성 지표 확인\n",
    "\n",
    "activity.columns"
   ]
  },
  {
   "cell_type": "code",
   "execution_count": 241,
   "metadata": {},
   "outputs": [],
   "source": [
    "activity[\"전기매출액(개별)\"] = activity[\"매출액(수익)(*)(IFRS)(천원)\"].shift().where(activity.회사명.eq(activity.회사명.shift()))\n",
    "activity[\"전기매출액(연결)\"] = activity[\"매출액(수익)(*)(IFRS연결)(천원)\"].shift().where(activity.회사명.eq(activity.회사명.shift()))\n",
    "\n",
    "activity[\"전기자산(개별)\"] = activity[\"자산(*)(IFRS)(천원)\"].shift().where(activity.회사명.eq(activity.회사명.shift()))\n",
    "activity[\"전기자산(연결)\"] = activity[\"자산(*)(IFRS연결)(천원)\"].shift().where(activity.회사명.eq(activity.회사명.shift()))\n",
    "\n",
    "activity[\"전기매출원가(개별)\"] = activity[\"매출원가(*)(IFRS)(천원)\"].shift().where(activity.회사명.eq(activity.회사명.shift()))\n",
    "activity[\"전기매출원가(연결)\"] = activity[\"매출원가(*)(IFRS연결)(천원)\"].shift().where(activity.회사명.eq(activity.회사명.shift()))\n",
    "\n",
    "activity[\"전기재고자산(개별)\"] = activity[\"재고자산(*)(IFRS)(천원)\"].shift().where(activity.회사명.eq(activity.회사명.shift()))\n",
    "activity[\"전기재고자산(연결)\"] = activity[\"재고자산(*)(IFRS연결)(천원)\"].shift().where(activity.회사명.eq(activity.회사명.shift()))\n",
    "\n",
    "activity[\"전기매출채권(개별)\"] = activity[\"매출채권(IFRS)(천원)\"].shift().where(activity.회사명.eq(activity.회사명.shift()))\n",
    "activity[\"전기매출채권(연결)\"] = activity[\"매출채권(IFRS연결)(천원)\"].shift().where(activity.회사명.eq(activity.회사명.shift()))\n",
    "\n",
    "activity[\"전기유형자산(개별)\"] = activity[\"유형자산(*)(IFRS)(천원)\"].shift().where(activity.회사명.eq(activity.회사명.shift()))\n",
    "activity[\"전기유형자산(연결)\"] = activity[\"유형자산(*)(IFRS연결)(천원)\"].shift().where(activity.회사명.eq(activity.회사명.shift()))\n",
    "\n",
    "activity[\"전기매입채무(개별)\"] = activity[\"매입채무(IFRS)(천원)\"].shift().where(activity.회사명.eq(activity.회사명.shift()))\n",
    "activity[\"전기매입채무(연결)\"] = activity[\"매입채무(IFRS연결)(천원)\"].shift().where(activity.회사명.eq(activity.회사명.shift()))\n",
    "\n",
    "activity[\"전기자본(개별)\"] = activity[\"자본(*)(IFRS)(천원)\"].shift().where(activity.회사명.eq(activity.회사명.shift()))\n",
    "activity[\"전기자본(연결)\"] = activity[\"자본(*)(IFRS연결)(천원)\"].shift().where(activity.회사명.eq(activity.회사명.shift()))\n",
    "\n",
    "activity[\"전기부채(개별)\"] = activity[\"부채(*)(IFRS)(천원)\"].shift().where(activity.회사명.eq(activity.회사명.shift()))\n",
    "activity[\"전기부채(연결)\"] = activity[\"부채(*)(IFRS연결)(천원)\"].shift().where(activity.회사명.eq(activity.회사명.shift()))\n",
    "\n",
    "activity[\"전기유동자산(개별)\"] = activity[\"유동자산(*)(IFRS)(천원)\"].shift().where(activity.회사명.eq(activity.회사명.shift()))\n",
    "activity[\"전기유동자산(연결)\"] = activity[\"유동자산(*)(IFRS연결)(천원)\"].shift().where(activity.회사명.eq(activity.회사명.shift()))"
   ]
  },
  {
   "cell_type": "code",
   "execution_count": 242,
   "metadata": {},
   "outputs": [
    {
     "data": {
      "text/html": [
       "<div>\n",
       "<style scoped>\n",
       "    .dataframe tbody tr th:only-of-type {\n",
       "        vertical-align: middle;\n",
       "    }\n",
       "\n",
       "    .dataframe tbody tr th {\n",
       "        vertical-align: top;\n",
       "    }\n",
       "\n",
       "    .dataframe thead th {\n",
       "        text-align: right;\n",
       "    }\n",
       "</style>\n",
       "<table border=\"1\" class=\"dataframe\">\n",
       "  <thead>\n",
       "    <tr style=\"text-align: right;\">\n",
       "      <th></th>\n",
       "      <th>회사명</th>\n",
       "      <th>거래소코드</th>\n",
       "      <th>회계년도</th>\n",
       "      <th>매출액(수익)(*)(IFRS연결)(천원)</th>\n",
       "      <th>매출액(수익)(*)(IFRS)(천원)</th>\n",
       "      <th>자산(*)(IFRS연결)(천원)</th>\n",
       "      <th>자산(*)(IFRS)(천원)</th>\n",
       "      <th>매출원가(*)(IFRS연결)(천원)</th>\n",
       "      <th>매출원가(*)(IFRS)(천원)</th>\n",
       "      <th>재고자산(*)(IFRS연결)(천원)</th>\n",
       "      <th>...</th>\n",
       "      <th>전기유형자산(개별)</th>\n",
       "      <th>전기유형자산(연결)</th>\n",
       "      <th>전기매입채무(개별)</th>\n",
       "      <th>전기매입채무(연결)</th>\n",
       "      <th>전기자본(개별)</th>\n",
       "      <th>전기자본(연결)</th>\n",
       "      <th>전기부채(개별)</th>\n",
       "      <th>전기부채(연결)</th>\n",
       "      <th>전기유동자산(개별)</th>\n",
       "      <th>전기유동자산(연결)</th>\n",
       "    </tr>\n",
       "  </thead>\n",
       "  <tbody>\n",
       "    <tr>\n",
       "      <th>0</th>\n",
       "      <td>(주)CMG제약</td>\n",
       "      <td>58820</td>\n",
       "      <td>2010/12</td>\n",
       "      <td>11350419.0</td>\n",
       "      <td>11350419.0</td>\n",
       "      <td>26775627.0</td>\n",
       "      <td>26775627.0</td>\n",
       "      <td>8217627.0</td>\n",
       "      <td>8217627.0</td>\n",
       "      <td>2782759.0</td>\n",
       "      <td>...</td>\n",
       "      <td>NaN</td>\n",
       "      <td>NaN</td>\n",
       "      <td>NaN</td>\n",
       "      <td>NaN</td>\n",
       "      <td>NaN</td>\n",
       "      <td>NaN</td>\n",
       "      <td>NaN</td>\n",
       "      <td>NaN</td>\n",
       "      <td>NaN</td>\n",
       "      <td>NaN</td>\n",
       "    </tr>\n",
       "  </tbody>\n",
       "</table>\n",
       "<p>1 rows × 43 columns</p>\n",
       "</div>"
      ],
      "text/plain": [
       "        회사명  거래소코드     회계년도  매출액(수익)(*)(IFRS연결)(천원)  매출액(수익)(*)(IFRS)(천원)  \\\n",
       "0  (주)CMG제약  58820  2010/12              11350419.0            11350419.0   \n",
       "\n",
       "   자산(*)(IFRS연결)(천원)  자산(*)(IFRS)(천원)  매출원가(*)(IFRS연결)(천원)  매출원가(*)(IFRS)(천원)  \\\n",
       "0         26775627.0       26775627.0            8217627.0          8217627.0   \n",
       "\n",
       "   재고자산(*)(IFRS연결)(천원)  ...  전기유형자산(개별)  전기유형자산(연결)  전기매입채무(개별)  전기매입채무(연결)  \\\n",
       "0            2782759.0  ...         NaN         NaN         NaN         NaN   \n",
       "\n",
       "   전기자본(개별)  전기자본(연결)  전기부채(개별)  전기부채(연결)  전기유동자산(개별)  전기유동자산(연결)  \n",
       "0       NaN       NaN       NaN       NaN         NaN         NaN  \n",
       "\n",
       "[1 rows x 43 columns]"
      ]
     },
     "execution_count": 242,
     "metadata": {},
     "output_type": "execute_result"
    }
   ],
   "source": [
    "activity.head(1)"
   ]
  },
  {
   "cell_type": "code",
   "execution_count": 243,
   "metadata": {},
   "outputs": [
    {
     "name": "stderr",
     "output_type": "stream",
     "text": [
      "C:\\Users\\luck1\\AppData\\Local\\Temp\\ipykernel_13260\\1936532931.py:194: RuntimeWarning: invalid value encountered in double_scalars\n",
      "  df_name.loc[i, d] = df_name.iloc[i][a]/((df_name.iloc[i][b]+df_name.iloc[i][c])/2)\n",
      "C:\\Users\\luck1\\AppData\\Local\\Temp\\ipykernel_13260\\1936532931.py:194: RuntimeWarning: divide by zero encountered in double_scalars\n",
      "  df_name.loc[i, d] = df_name.iloc[i][a]/((df_name.iloc[i][b]+df_name.iloc[i][c])/2)\n",
      "C:\\Users\\luck1\\AppData\\Local\\Temp\\ipykernel_13260\\1936532931.py:194: RuntimeWarning: divide by zero encountered in double_scalars\n",
      "  df_name.loc[i, d] = df_name.iloc[i][a]/((df_name.iloc[i][b]+df_name.iloc[i][c])/2)\n",
      "C:\\Users\\luck1\\AppData\\Local\\Temp\\ipykernel_13260\\1936532931.py:194: RuntimeWarning: invalid value encountered in double_scalars\n",
      "  df_name.loc[i, d] = df_name.iloc[i][a]/((df_name.iloc[i][b]+df_name.iloc[i][c])/2)\n",
      "C:\\Users\\luck1\\AppData\\Local\\Temp\\ipykernel_13260\\1936532931.py:194: RuntimeWarning: divide by zero encountered in double_scalars\n",
      "  df_name.loc[i, d] = df_name.iloc[i][a]/((df_name.iloc[i][b]+df_name.iloc[i][c])/2)\n",
      "C:\\Users\\luck1\\AppData\\Local\\Temp\\ipykernel_13260\\1936532931.py:194: RuntimeWarning: invalid value encountered in double_scalars\n",
      "  df_name.loc[i, d] = df_name.iloc[i][a]/((df_name.iloc[i][b]+df_name.iloc[i][c])/2)\n",
      "C:\\Users\\luck1\\AppData\\Local\\Temp\\ipykernel_13260\\1936532931.py:194: RuntimeWarning: divide by zero encountered in double_scalars\n",
      "  df_name.loc[i, d] = df_name.iloc[i][a]/((df_name.iloc[i][b]+df_name.iloc[i][c])/2)\n",
      "C:\\Users\\luck1\\AppData\\Local\\Temp\\ipykernel_13260\\1936532931.py:194: RuntimeWarning: invalid value encountered in double_scalars\n",
      "  df_name.loc[i, d] = df_name.iloc[i][a]/((df_name.iloc[i][b]+df_name.iloc[i][c])/2)\n",
      "C:\\Users\\luck1\\AppData\\Local\\Temp\\ipykernel_13260\\1936532931.py:194: RuntimeWarning: divide by zero encountered in double_scalars\n",
      "  df_name.loc[i, d] = df_name.iloc[i][a]/((df_name.iloc[i][b]+df_name.iloc[i][c])/2)\n",
      "C:\\Users\\luck1\\AppData\\Local\\Temp\\ipykernel_13260\\1936532931.py:194: RuntimeWarning: divide by zero encountered in double_scalars\n",
      "  df_name.loc[i, d] = df_name.iloc[i][a]/((df_name.iloc[i][b]+df_name.iloc[i][c])/2)\n",
      "C:\\Users\\luck1\\AppData\\Local\\Temp\\ipykernel_13260\\1936532931.py:194: RuntimeWarning: invalid value encountered in double_scalars\n",
      "  df_name.loc[i, d] = df_name.iloc[i][a]/((df_name.iloc[i][b]+df_name.iloc[i][c])/2)\n",
      "C:\\Users\\luck1\\AppData\\Local\\Temp\\ipykernel_13260\\1936532931.py:194: RuntimeWarning: divide by zero encountered in double_scalars\n",
      "  df_name.loc[i, d] = df_name.iloc[i][a]/((df_name.iloc[i][b]+df_name.iloc[i][c])/2)\n",
      "C:\\Users\\luck1\\AppData\\Local\\Temp\\ipykernel_13260\\1936532931.py:194: RuntimeWarning: invalid value encountered in double_scalars\n",
      "  df_name.loc[i, d] = df_name.iloc[i][a]/((df_name.iloc[i][b]+df_name.iloc[i][c])/2)\n",
      "C:\\Users\\luck1\\AppData\\Local\\Temp\\ipykernel_13260\\1936532931.py:194: RuntimeWarning: divide by zero encountered in double_scalars\n",
      "  df_name.loc[i, d] = df_name.iloc[i][a]/((df_name.iloc[i][b]+df_name.iloc[i][c])/2)\n",
      "C:\\Users\\luck1\\AppData\\Local\\Temp\\ipykernel_13260\\1936532931.py:194: RuntimeWarning: invalid value encountered in double_scalars\n",
      "  df_name.loc[i, d] = df_name.iloc[i][a]/((df_name.iloc[i][b]+df_name.iloc[i][c])/2)\n"
     ]
    }
   ],
   "source": [
    "cal_rate_under_avg(activity, \"매출액(수익)(*)(IFRS)(천원)\", \"전기자본(개별)\", \"자본(*)(IFRS)(천원)\", \"총자본회전율(개별)\")\n",
    "cal_rate_under_avg(activity, \"매출액(수익)(*)(IFRS연결)(천원)\", \"전기자본(연결)\", \"자본(*)(IFRS연결)(천원)\", \"총자본회전율(연결)\")\n",
    "\n",
    "cal_rate_under_avg(activity, \"매출원가(*)(IFRS)(천원)\", \"전기재고자산(개별)\", \"재고자산(*)(IFRS)(천원)\", \"재고자산회전율(개별)\")\n",
    "cal_rate_under_avg(activity, \"매출원가(*)(IFRS연결)(천원)\", \"전기재고자산(연결)\", \"재고자산(*)(IFRS연결)(천원)\", \"재고자산회전율(연결)\")\n",
    "\n",
    "cal_rate_under_avg(activity, \"매출액(수익)(*)(IFRS)(천원)\", \"전기매출채권(개별)\", \"매출채권(IFRS)(천원)\", \"매출채권회전율(개별)\")\n",
    "cal_rate_under_avg(activity, \"매출액(수익)(*)(IFRS연결)(천원)\", \"전기매출채권(연결)\", \"매출채권(IFRS연결)(천원)\", \"매출채권회전율(연결)\")\n",
    "\n",
    "cal_rate_under_avg(activity, \"매출액(수익)(*)(IFRS)(천원)\", \"전기유형자산(개별)\", \"유형자산(*)(IFRS)(천원)\", \"유형자산회전율(개별)\")\n",
    "cal_rate_under_avg(activity, \"매출액(수익)(*)(IFRS연결)(천원)\", \"전기유형자산(연결)\", \"유형자산(*)(IFRS연결)(천원)\", \"유형자산회전율(연결))\")\n",
    "\n",
    "cal_rate_under_avg(activity, \"매출액(수익)(*)(IFRS)(천원)\", \"전기매입채무(개별)\", \"매입채무(IFRS)(천원)\", \"매입채무회전율(개별)\")\n",
    "cal_rate_under_avg(activity, \"매출액(수익)(*)(IFRS연결)(천원)\", \"전기매입채무(연결)\", \"매입채무(IFRS연결)(천원)\", \"매입채무회전율(연결)\")\n",
    "\n",
    "cal_rate_under_avg(activity, \"매출액(수익)(*)(IFRS)(천원)\", \"전기자본(개별)\", \"자본(*)(IFRS)(천원)\", \"자기자본회전율(개별)\")\n",
    "cal_rate_under_avg(activity, \"매출액(수익)(*)(IFRS연결)(천원)\", \"전기자본(연결)\", \"자본(*)(IFRS연결)(천원)\", \"자기자본회전율(연결)\")\n",
    "\n",
    "cal_rate_under_avg(activity, \"매출액(수익)(*)(IFRS)(천원)\", \"전기부채(개별)\", \"부채(*)(IFRS)(천원)\", \"타인자본회전율(개별)\")\n",
    "cal_rate_under_avg(activity, \"매출액(수익)(*)(IFRS연결)(천원)\", \"전기부채(연결)\", \"부채(*)(IFRS연결)(천원)\", \"타인자본회전율(연결)\")\n",
    "\n",
    "cal_rate_under_avg(activity, \"매출액(수익)(*)(IFRS)(천원)\", \"전기유동자산(개별)\", \"유동자산(*)(IFRS)(천원)\", \"유동자산회전율(개별)\")\n",
    "cal_rate_under_avg(activity, \"매출액(수익)(*)(IFRS연결)(천원)\", \"전기유동자산(연결)\", \"유동자산(*)(IFRS연결)(천원)\", \"유동자산회전율(연결)\")"
   ]
  },
  {
   "cell_type": "code",
   "execution_count": 244,
   "metadata": {},
   "outputs": [
    {
     "data": {
      "text/html": [
       "<div>\n",
       "<style scoped>\n",
       "    .dataframe tbody tr th:only-of-type {\n",
       "        vertical-align: middle;\n",
       "    }\n",
       "\n",
       "    .dataframe tbody tr th {\n",
       "        vertical-align: top;\n",
       "    }\n",
       "\n",
       "    .dataframe thead th {\n",
       "        text-align: right;\n",
       "    }\n",
       "</style>\n",
       "<table border=\"1\" class=\"dataframe\">\n",
       "  <thead>\n",
       "    <tr style=\"text-align: right;\">\n",
       "      <th></th>\n",
       "      <th>회사명</th>\n",
       "      <th>거래소코드</th>\n",
       "      <th>회계년도</th>\n",
       "      <th>매출액(수익)(*)(IFRS연결)(천원)</th>\n",
       "      <th>매출액(수익)(*)(IFRS)(천원)</th>\n",
       "      <th>자산(*)(IFRS연결)(천원)</th>\n",
       "      <th>자산(*)(IFRS)(천원)</th>\n",
       "      <th>매출원가(*)(IFRS연결)(천원)</th>\n",
       "      <th>매출원가(*)(IFRS)(천원)</th>\n",
       "      <th>재고자산(*)(IFRS연결)(천원)</th>\n",
       "      <th>...</th>\n",
       "      <th>유형자산회전율(개별)</th>\n",
       "      <th>유형자산회전율(연결))</th>\n",
       "      <th>매입채무회전율(개별)</th>\n",
       "      <th>매입채무회전율(연결)</th>\n",
       "      <th>자기자본회전율(개별)</th>\n",
       "      <th>자기자본회전율(연결)</th>\n",
       "      <th>타인자본회전율(개별)</th>\n",
       "      <th>타인자본회전율(연결)</th>\n",
       "      <th>유동자산회전율(개별)</th>\n",
       "      <th>유동자산회전율(연결)</th>\n",
       "    </tr>\n",
       "  </thead>\n",
       "  <tbody>\n",
       "    <tr>\n",
       "      <th>1</th>\n",
       "      <td>(주)CMG제약</td>\n",
       "      <td>58820</td>\n",
       "      <td>2011</td>\n",
       "      <td>17751704.0</td>\n",
       "      <td>17751704.0</td>\n",
       "      <td>27305198.0</td>\n",
       "      <td>27548539.0</td>\n",
       "      <td>10325799.0</td>\n",
       "      <td>10325799.0</td>\n",
       "      <td>2743103.0</td>\n",
       "      <td>...</td>\n",
       "      <td>1.777885</td>\n",
       "      <td>1.772988</td>\n",
       "      <td>11.953510</td>\n",
       "      <td>11.953510</td>\n",
       "      <td>0.967500</td>\n",
       "      <td>0.974315</td>\n",
       "      <td>2.014020</td>\n",
       "      <td>2.012498</td>\n",
       "      <td>inf</td>\n",
       "      <td>1.250896</td>\n",
       "    </tr>\n",
       "    <tr>\n",
       "      <th>2</th>\n",
       "      <td>(주)CMG제약</td>\n",
       "      <td>58820</td>\n",
       "      <td>2012</td>\n",
       "      <td>16255389.0</td>\n",
       "      <td>16255389.0</td>\n",
       "      <td>57108035.0</td>\n",
       "      <td>56988604.0</td>\n",
       "      <td>11648690.0</td>\n",
       "      <td>11648690.0</td>\n",
       "      <td>2955172.0</td>\n",
       "      <td>...</td>\n",
       "      <td>1.718625</td>\n",
       "      <td>1.709722</td>\n",
       "      <td>7.829457</td>\n",
       "      <td>7.829457</td>\n",
       "      <td>0.651604</td>\n",
       "      <td>0.655130</td>\n",
       "      <td>0.938433</td>\n",
       "      <td>0.934532</td>\n",
       "      <td>inf</td>\n",
       "      <td>0.520586</td>\n",
       "    </tr>\n",
       "    <tr>\n",
       "      <th>3</th>\n",
       "      <td>(주)CMG제약</td>\n",
       "      <td>58820</td>\n",
       "      <td>2013</td>\n",
       "      <td>20402140.0</td>\n",
       "      <td>20322140.0</td>\n",
       "      <td>55912563.0</td>\n",
       "      <td>55961620.0</td>\n",
       "      <td>12506817.0</td>\n",
       "      <td>12506817.0</td>\n",
       "      <td>4618718.0</td>\n",
       "      <td>...</td>\n",
       "      <td>2.025203</td>\n",
       "      <td>2.028795</td>\n",
       "      <td>6.174374</td>\n",
       "      <td>6.198680</td>\n",
       "      <td>0.503954</td>\n",
       "      <td>0.506332</td>\n",
       "      <td>1.258357</td>\n",
       "      <td>1.258124</td>\n",
       "      <td>inf</td>\n",
       "      <td>0.478256</td>\n",
       "    </tr>\n",
       "    <tr>\n",
       "      <th>4</th>\n",
       "      <td>(주)CMG제약</td>\n",
       "      <td>58820</td>\n",
       "      <td>2014</td>\n",
       "      <td>22752584.0</td>\n",
       "      <td>22752584.0</td>\n",
       "      <td>58068326.0</td>\n",
       "      <td>58127098.0</td>\n",
       "      <td>14318048.0</td>\n",
       "      <td>14318048.0</td>\n",
       "      <td>4913103.0</td>\n",
       "      <td>...</td>\n",
       "      <td>1.535321</td>\n",
       "      <td>1.535321</td>\n",
       "      <td>5.272077</td>\n",
       "      <td>5.272077</td>\n",
       "      <td>0.463793</td>\n",
       "      <td>0.464339</td>\n",
       "      <td>2.848797</td>\n",
       "      <td>2.847461</td>\n",
       "      <td>inf</td>\n",
       "      <td>0.684179</td>\n",
       "    </tr>\n",
       "    <tr>\n",
       "      <th>5</th>\n",
       "      <td>(주)CMG제약</td>\n",
       "      <td>58820</td>\n",
       "      <td>2015</td>\n",
       "      <td>27041894.0</td>\n",
       "      <td>27041894.0</td>\n",
       "      <td>56532821.0</td>\n",
       "      <td>56591972.0</td>\n",
       "      <td>17237814.0</td>\n",
       "      <td>17237814.0</td>\n",
       "      <td>5455617.0</td>\n",
       "      <td>...</td>\n",
       "      <td>1.475432</td>\n",
       "      <td>1.475432</td>\n",
       "      <td>5.655170</td>\n",
       "      <td>5.655170</td>\n",
       "      <td>0.563727</td>\n",
       "      <td>0.564493</td>\n",
       "      <td>2.879964</td>\n",
       "      <td>2.878081</td>\n",
       "      <td>inf</td>\n",
       "      <td>0.991044</td>\n",
       "    </tr>\n",
       "    <tr>\n",
       "      <th>...</th>\n",
       "      <td>...</td>\n",
       "      <td>...</td>\n",
       "      <td>...</td>\n",
       "      <td>...</td>\n",
       "      <td>...</td>\n",
       "      <td>...</td>\n",
       "      <td>...</td>\n",
       "      <td>...</td>\n",
       "      <td>...</td>\n",
       "      <td>...</td>\n",
       "      <td>...</td>\n",
       "      <td>...</td>\n",
       "      <td>...</td>\n",
       "      <td>...</td>\n",
       "      <td>...</td>\n",
       "      <td>...</td>\n",
       "      <td>...</td>\n",
       "      <td>...</td>\n",
       "      <td>...</td>\n",
       "      <td>...</td>\n",
       "      <td>...</td>\n",
       "    </tr>\n",
       "    <tr>\n",
       "      <th>16498</th>\n",
       "      <td>흥아해운(주)</td>\n",
       "      <td>3280</td>\n",
       "      <td>2015</td>\n",
       "      <td>845115359.0</td>\n",
       "      <td>801560945.0</td>\n",
       "      <td>791640802.0</td>\n",
       "      <td>771212062.0</td>\n",
       "      <td>792690121.0</td>\n",
       "      <td>763642673.0</td>\n",
       "      <td>11488626.0</td>\n",
       "      <td>...</td>\n",
       "      <td>2.004289</td>\n",
       "      <td>2.094676</td>\n",
       "      <td>15.739421</td>\n",
       "      <td>16.050269</td>\n",
       "      <td>5.077020</td>\n",
       "      <td>4.964267</td>\n",
       "      <td>1.479909</td>\n",
       "      <td>1.536013</td>\n",
       "      <td>inf</td>\n",
       "      <td>5.833991</td>\n",
       "    </tr>\n",
       "    <tr>\n",
       "      <th>16499</th>\n",
       "      <td>흥아해운(주)</td>\n",
       "      <td>3280</td>\n",
       "      <td>2016</td>\n",
       "      <td>831746081.0</td>\n",
       "      <td>779990350.0</td>\n",
       "      <td>958532259.0</td>\n",
       "      <td>942586770.0</td>\n",
       "      <td>794370084.0</td>\n",
       "      <td>756984914.0</td>\n",
       "      <td>17967554.0</td>\n",
       "      <td>...</td>\n",
       "      <td>1.359188</td>\n",
       "      <td>1.441049</td>\n",
       "      <td>15.875451</td>\n",
       "      <td>16.257836</td>\n",
       "      <td>4.513130</td>\n",
       "      <td>4.550483</td>\n",
       "      <td>1.140216</td>\n",
       "      <td>1.201416</td>\n",
       "      <td>inf</td>\n",
       "      <td>6.978201</td>\n",
       "    </tr>\n",
       "    <tr>\n",
       "      <th>16500</th>\n",
       "      <td>흥아해운(주)</td>\n",
       "      <td>3280</td>\n",
       "      <td>2017</td>\n",
       "      <td>836427496.0</td>\n",
       "      <td>780863972.0</td>\n",
       "      <td>848958520.0</td>\n",
       "      <td>834107402.0</td>\n",
       "      <td>818958179.0</td>\n",
       "      <td>778062692.0</td>\n",
       "      <td>19976759.0</td>\n",
       "      <td>...</td>\n",
       "      <td>1.274368</td>\n",
       "      <td>1.358548</td>\n",
       "      <td>14.895284</td>\n",
       "      <td>15.392707</td>\n",
       "      <td>5.358582</td>\n",
       "      <td>5.407265</td>\n",
       "      <td>1.051492</td>\n",
       "      <td>1.116637</td>\n",
       "      <td>inf</td>\n",
       "      <td>7.681440</td>\n",
       "    </tr>\n",
       "    <tr>\n",
       "      <th>16501</th>\n",
       "      <td>흥아해운(주)</td>\n",
       "      <td>3280</td>\n",
       "      <td>2018</td>\n",
       "      <td>753865569.0</td>\n",
       "      <td>705007198.0</td>\n",
       "      <td>803698457.0</td>\n",
       "      <td>782787041.0</td>\n",
       "      <td>760867431.0</td>\n",
       "      <td>724528226.0</td>\n",
       "      <td>18807927.0</td>\n",
       "      <td>...</td>\n",
       "      <td>1.345698</td>\n",
       "      <td>1.431814</td>\n",
       "      <td>11.159149</td>\n",
       "      <td>11.869002</td>\n",
       "      <td>8.579521</td>\n",
       "      <td>7.934063</td>\n",
       "      <td>0.970718</td>\n",
       "      <td>1.030840</td>\n",
       "      <td>inf</td>\n",
       "      <td>6.730041</td>\n",
       "    </tr>\n",
       "    <tr>\n",
       "      <th>16502</th>\n",
       "      <td>흥아해운(주)</td>\n",
       "      <td>3280</td>\n",
       "      <td>2019</td>\n",
       "      <td>102166838.0</td>\n",
       "      <td>97376909.0</td>\n",
       "      <td>430962722.0</td>\n",
       "      <td>386550839.0</td>\n",
       "      <td>96504366.0</td>\n",
       "      <td>98752599.0</td>\n",
       "      <td>7715548.0</td>\n",
       "      <td>...</td>\n",
       "      <td>0.267504</td>\n",
       "      <td>0.279288</td>\n",
       "      <td>2.258365</td>\n",
       "      <td>2.407800</td>\n",
       "      <td>2.618934</td>\n",
       "      <td>1.963471</td>\n",
       "      <td>0.177862</td>\n",
       "      <td>0.180731</td>\n",
       "      <td>inf</td>\n",
       "      <td>1.010727</td>\n",
       "    </tr>\n",
       "  </tbody>\n",
       "</table>\n",
       "<p>15150 rows × 59 columns</p>\n",
       "</div>"
      ],
      "text/plain": [
       "            회사명  거래소코드  회계년도  매출액(수익)(*)(IFRS연결)(천원)  매출액(수익)(*)(IFRS)(천원)  \\\n",
       "1      (주)CMG제약  58820  2011              17751704.0            17751704.0   \n",
       "2      (주)CMG제약  58820  2012              16255389.0            16255389.0   \n",
       "3      (주)CMG제약  58820  2013              20402140.0            20322140.0   \n",
       "4      (주)CMG제약  58820  2014              22752584.0            22752584.0   \n",
       "5      (주)CMG제약  58820  2015              27041894.0            27041894.0   \n",
       "...         ...    ...   ...                     ...                   ...   \n",
       "16498   흥아해운(주)   3280  2015             845115359.0           801560945.0   \n",
       "16499   흥아해운(주)   3280  2016             831746081.0           779990350.0   \n",
       "16500   흥아해운(주)   3280  2017             836427496.0           780863972.0   \n",
       "16501   흥아해운(주)   3280  2018             753865569.0           705007198.0   \n",
       "16502   흥아해운(주)   3280  2019             102166838.0            97376909.0   \n",
       "\n",
       "       자산(*)(IFRS연결)(천원)  자산(*)(IFRS)(천원)  매출원가(*)(IFRS연결)(천원)  \\\n",
       "1             27305198.0       27548539.0           10325799.0   \n",
       "2             57108035.0       56988604.0           11648690.0   \n",
       "3             55912563.0       55961620.0           12506817.0   \n",
       "4             58068326.0       58127098.0           14318048.0   \n",
       "5             56532821.0       56591972.0           17237814.0   \n",
       "...                  ...              ...                  ...   \n",
       "16498        791640802.0      771212062.0          792690121.0   \n",
       "16499        958532259.0      942586770.0          794370084.0   \n",
       "16500        848958520.0      834107402.0          818958179.0   \n",
       "16501        803698457.0      782787041.0          760867431.0   \n",
       "16502        430962722.0      386550839.0           96504366.0   \n",
       "\n",
       "       매출원가(*)(IFRS)(천원)  재고자산(*)(IFRS연결)(천원)  ...  유형자산회전율(개별)  유형자산회전율(연결))  \\\n",
       "1             10325799.0            2743103.0  ...     1.777885      1.772988   \n",
       "2             11648690.0            2955172.0  ...     1.718625      1.709722   \n",
       "3             12506817.0            4618718.0  ...     2.025203      2.028795   \n",
       "4             14318048.0            4913103.0  ...     1.535321      1.535321   \n",
       "5             17237814.0            5455617.0  ...     1.475432      1.475432   \n",
       "...                  ...                  ...  ...          ...           ...   \n",
       "16498        763642673.0           11488626.0  ...     2.004289      2.094676   \n",
       "16499        756984914.0           17967554.0  ...     1.359188      1.441049   \n",
       "16500        778062692.0           19976759.0  ...     1.274368      1.358548   \n",
       "16501        724528226.0           18807927.0  ...     1.345698      1.431814   \n",
       "16502         98752599.0            7715548.0  ...     0.267504      0.279288   \n",
       "\n",
       "       매입채무회전율(개별)  매입채무회전율(연결)  자기자본회전율(개별)  자기자본회전율(연결)  타인자본회전율(개별)  \\\n",
       "1        11.953510    11.953510     0.967500     0.974315     2.014020   \n",
       "2         7.829457     7.829457     0.651604     0.655130     0.938433   \n",
       "3         6.174374     6.198680     0.503954     0.506332     1.258357   \n",
       "4         5.272077     5.272077     0.463793     0.464339     2.848797   \n",
       "5         5.655170     5.655170     0.563727     0.564493     2.879964   \n",
       "...            ...          ...          ...          ...          ...   \n",
       "16498    15.739421    16.050269     5.077020     4.964267     1.479909   \n",
       "16499    15.875451    16.257836     4.513130     4.550483     1.140216   \n",
       "16500    14.895284    15.392707     5.358582     5.407265     1.051492   \n",
       "16501    11.159149    11.869002     8.579521     7.934063     0.970718   \n",
       "16502     2.258365     2.407800     2.618934     1.963471     0.177862   \n",
       "\n",
       "       타인자본회전율(연결)  유동자산회전율(개별)  유동자산회전율(연결)  \n",
       "1         2.012498          inf     1.250896  \n",
       "2         0.934532          inf     0.520586  \n",
       "3         1.258124          inf     0.478256  \n",
       "4         2.847461          inf     0.684179  \n",
       "5         2.878081          inf     0.991044  \n",
       "...            ...          ...          ...  \n",
       "16498     1.536013          inf     5.833991  \n",
       "16499     1.201416          inf     6.978201  \n",
       "16500     1.116637          inf     7.681440  \n",
       "16501     1.030840          inf     6.730041  \n",
       "16502     0.180731          inf     1.010727  \n",
       "\n",
       "[15150 rows x 59 columns]"
      ]
     },
     "execution_count": 244,
     "metadata": {},
     "output_type": "execute_result"
    }
   ],
   "source": [
    "#activity.to_csv(\"../csv_data/01_임시확인.csv\", encoding=\"CP949\")\n",
    "activity[\"회계년도\"] = pd.to_datetime(activity['회계년도'].str.upper(), format=\"%Y/%m\").dt.strftime(\"%Y\")\n",
    "kill_2010 = activity[activity['회계년도'].str.contains(\"2010\")].index\n",
    "activity_real = activity.drop(kill_2010)\n",
    "activity_real"
   ]
  },
  {
   "cell_type": "code",
   "execution_count": 245,
   "metadata": {},
   "outputs": [],
   "source": [
    "activity_real.to_csv(\"../csv_data/00_활동성확인용v3.csv\", encoding=\"CP949\")"
   ]
  },
  {
   "cell_type": "code",
   "execution_count": 234,
   "metadata": {},
   "outputs": [
    {
     "data": {
      "text/html": [
       "<div>\n",
       "<style scoped>\n",
       "    .dataframe tbody tr th:only-of-type {\n",
       "        vertical-align: middle;\n",
       "    }\n",
       "\n",
       "    .dataframe tbody tr th {\n",
       "        vertical-align: top;\n",
       "    }\n",
       "\n",
       "    .dataframe thead th {\n",
       "        text-align: right;\n",
       "    }\n",
       "</style>\n",
       "<table border=\"1\" class=\"dataframe\">\n",
       "  <thead>\n",
       "    <tr style=\"text-align: right;\">\n",
       "      <th></th>\n",
       "      <th>회사명</th>\n",
       "      <th>거래소코드</th>\n",
       "      <th>회계년도</th>\n",
       "      <th>유형자산(*)(IFRS연결)(천원)</th>\n",
       "      <th>유형자산(*)(IFRS)(천원)</th>\n",
       "      <th>건설중인자산(IFRS연결)(천원)</th>\n",
       "      <th>건설중인자산(IFRS)(천원)</th>\n",
       "      <th>합계_기말인원(명)</th>\n",
       "      <th>기계장치(IFRS연결)(천원)</th>\n",
       "      <th>기계장치(IFRS)(천원)</th>\n",
       "      <th>자산(*)(IFRS연결)(천원)</th>\n",
       "      <th>자산(*)(IFRS)(천원)</th>\n",
       "      <th>인건비(IFRS연결)(백만원)</th>\n",
       "      <th>인건비(IFRS)(백만원)</th>\n",
       "      <th>부가가치(IFRS연결)(백만원)</th>\n",
       "      <th>부가가치(IFRS)(백만원)</th>\n",
       "      <th>매출액(수익)(*)(IFRS연결)(천원)</th>\n",
       "      <th>매출액(수익)(*)(IFRS)(천원)</th>\n",
       "    </tr>\n",
       "  </thead>\n",
       "  <tbody>\n",
       "    <tr>\n",
       "      <th>0</th>\n",
       "      <td>(주)CMG제약</td>\n",
       "      <td>58820</td>\n",
       "      <td>2011/12</td>\n",
       "      <td>9707759.0</td>\n",
       "      <td>9652599.0</td>\n",
       "      <td>24700.0</td>\n",
       "      <td>24700.0</td>\n",
       "      <td>135.0</td>\n",
       "      <td>3944218.0</td>\n",
       "      <td>3944218.0</td>\n",
       "      <td>27305198.0</td>\n",
       "      <td>27548539.0</td>\n",
       "      <td>3118.67</td>\n",
       "      <td>3110.72</td>\n",
       "      <td>3472.17</td>\n",
       "      <td>3669.25</td>\n",
       "      <td>17751704.0</td>\n",
       "      <td>17751704.0</td>\n",
       "    </tr>\n",
       "  </tbody>\n",
       "</table>\n",
       "</div>"
      ],
      "text/plain": [
       "        회사명  거래소코드     회계년도  유형자산(*)(IFRS연결)(천원)  유형자산(*)(IFRS)(천원)  \\\n",
       "0  (주)CMG제약  58820  2011/12            9707759.0          9652599.0   \n",
       "\n",
       "   건설중인자산(IFRS연결)(천원)  건설중인자산(IFRS)(천원)  합계_기말인원(명)  기계장치(IFRS연결)(천원)  \\\n",
       "0             24700.0           24700.0       135.0         3944218.0   \n",
       "\n",
       "   기계장치(IFRS)(천원)  자산(*)(IFRS연결)(천원)  자산(*)(IFRS)(천원)  인건비(IFRS연결)(백만원)  \\\n",
       "0       3944218.0         27305198.0       27548539.0           3118.67   \n",
       "\n",
       "   인건비(IFRS)(백만원)  부가가치(IFRS연결)(백만원)  부가가치(IFRS)(백만원)  매출액(수익)(*)(IFRS연결)(천원)  \\\n",
       "0         3110.72            3472.17          3669.25              17751704.0   \n",
       "\n",
       "   매출액(수익)(*)(IFRS)(천원)  \n",
       "0            17751704.0  "
      ]
     },
     "execution_count": 234,
     "metadata": {},
     "output_type": "execute_result"
    }
   ],
   "source": [
    "productivity.head(1)"
   ]
  },
  {
   "cell_type": "code",
   "execution_count": 235,
   "metadata": {},
   "outputs": [],
   "source": [
    "productivity[\"부가가치(IFRS)(천원)\"] = productivity[\"부가가치(IFRS)(백만원)\"] * 1000\n",
    "productivity[\"부가가치(IFRS연결)(천원)\"] = productivity[\"부가가치(IFRS연결)(백만원)\"] * 1000\n",
    "productivity[\"인건비(IFRS)(천원)\"] = productivity[\"인건비(IFRS)(백만원)\"] * 1000\n",
    "productivity[\"인건비(IFRS연결)(천원)\"] = productivity[\"인건비(IFRS연결)(백만원)\"] * 1000"
   ]
  },
  {
   "cell_type": "code",
   "execution_count": 236,
   "metadata": {},
   "outputs": [
    {
     "data": {
      "text/plain": [
       "Index(['회사명', '거래소코드', '회계년도', '유형자산(*)(IFRS연결)(천원)', '유형자산(*)(IFRS)(천원)',\n",
       "       '건설중인자산(IFRS연결)(천원)', '건설중인자산(IFRS)(천원)', '합계_기말인원(명)',\n",
       "       '기계장치(IFRS연결)(천원)', '기계장치(IFRS)(천원)', '자산(*)(IFRS연결)(천원)',\n",
       "       '자산(*)(IFRS)(천원)', '인건비(IFRS연결)(백만원)', '인건비(IFRS)(백만원)',\n",
       "       '부가가치(IFRS연결)(백만원)', '부가가치(IFRS)(백만원)', '매출액(수익)(*)(IFRS연결)(천원)',\n",
       "       '매출액(수익)(*)(IFRS)(천원)', '부가가치(IFRS)(천원)', '부가가치(IFRS연결)(천원)',\n",
       "       '인건비(IFRS)(천원)', '인건비(IFRS연결)(천원)'],\n",
       "      dtype='object')"
      ]
     },
     "execution_count": 236,
     "metadata": {},
     "output_type": "execute_result"
    }
   ],
   "source": [
    "productivity.columns"
   ]
  },
  {
   "cell_type": "code",
   "execution_count": 238,
   "metadata": {},
   "outputs": [
    {
     "name": "stderr",
     "output_type": "stream",
     "text": [
      "C:\\Users\\luck1\\AppData\\Local\\Temp\\ipykernel_13260\\1936532931.py:181: RuntimeWarning: divide by zero encountered in double_scalars\n",
      "  df_name.loc[i, d] = df_name.iloc[i][a]/(df_name.iloc[i][b]-df_name.iloc[i][c]) * 100\n",
      "C:\\Users\\luck1\\AppData\\Local\\Temp\\ipykernel_13260\\1936532931.py:17: RuntimeWarning: divide by zero encountered in double_scalars\n",
      "  df_name.loc[i, c] = df_name.iloc[i][a]/df_name.iloc[i][b]\n",
      "C:\\Users\\luck1\\AppData\\Local\\Temp\\ipykernel_13260\\1936532931.py:17: RuntimeWarning: divide by zero encountered in double_scalars\n",
      "  df_name.loc[i, c] = df_name.iloc[i][a]/df_name.iloc[i][b]\n",
      "C:\\Users\\luck1\\AppData\\Local\\Temp\\ipykernel_13260\\1936532931.py:17: RuntimeWarning: divide by zero encountered in double_scalars\n",
      "  df_name.loc[i, c] = df_name.iloc[i][a]/df_name.iloc[i][b]\n"
     ]
    }
   ],
   "source": [
    "# 노동장비율\n",
    "cal_rate_sub_v2(productivity, \"유형자산(*)(IFRS)(천원)\", \"건설중인자산(IFRS)(천원)\", \"합계_기말인원(명)\", \"노동장비율(개별)\")\n",
    "cal_rate_sub_v2(productivity, \"유형자산(*)(IFRS연결)(천원)\", \"건설중인자산(IFRS연결)(천원)\", \"합계_기말인원(명)\", \"노동장비율(연결)\")\n",
    "\n",
    "# 기계장비율\n",
    "cal_div(productivity, \"기계장치(IFRS)(천원)\", \"합계_기말인원(명)\", \"기계장비율(개별)\")\n",
    "cal_div(productivity, \"기계장치(IFRS연결)(천원)\", \"합계_기말인원(명)\", \"기계장비율(연결)\")\n",
    "\n",
    "# 자본집약도\n",
    "cal_div(productivity, \"자산(*)(IFRS)(천원)\", \"합계_기말인원(명)\", \"자본집약도(개별)\")\n",
    "cal_div(productivity, \"자산(*)(IFRS연결)(천원)\", \"합계_기말인원(명)\", \"자본집약도(연결)\")\n",
    "\n",
    "# 노동소득분배율\n",
    "cal_div_vta_und(productivity, \"인건비(IFRS)(백만원)\", \"부가가치(IFRS)(백만원)\", \"노동소득분배율(개별)\")\n",
    "cal_div_vta_und(productivity, \"인건비(IFRS연결)(백만원)\", \"부가가치(IFRS연결)(백만원)\", \"노동소득분배율(연결)\")\n",
    "\n",
    "# 설비투자효율\n",
    "cal_rate_sub_under(productivity, \"부가가치(IFRS)(천원)\", \"유형자산(*)(IFRS)(천원)\", \"건설중인자산(IFRS)(천원)\", \"설비투자효율(개별)\")\n",
    "cal_rate_sub_under(productivity, \"부가가치(IFRS연결)(천원)\", \"유형자산(*)(IFRS연결)(천원)\", \"건설중인자산(IFRS연결)(천원)\", \"설비투자효율(연결)\")\n",
    "\n",
    "# 총자본투자효율\n",
    "cal_div(productivity, \"부가가치(IFRS)(천원)\", \"자산(*)(IFRS)(천원)\", \"총자본투자효율(개별)\")\n",
    "cal_div(productivity, \"부가가치(IFRS연결)(천원)\", \"자산(*)(IFRS연결)(천원)\", \"총자본투자효율(연결)\")\n",
    "\n",
    "# 기계투자효율\n",
    "cal_div(productivity, \"부가가치(IFRS)(천원)\", \"기계장치(IFRS)(천원)\", \"기계투자효율(개별)\")\n",
    "cal_div(productivity, \"부가가치(IFRS연결)(천원)\", \"기계장치(IFRS연결)(천원)\", \"기계투자효율(연결)\")\n",
    "\n",
    "# 부가가치율\n",
    "cal_div(productivity, \"부가가치(IFRS)(천원)\", \"매출액(수익)(*)(IFRS)(천원)\", \"부가가치율(개별)\")\n",
    "cal_div(productivity, \"부가가치(IFRS연결)(천원)\", \"매출액(수익)(*)(IFRS연결)(천원)\", \"부가가치율(연결)\")"
   ]
  },
  {
   "cell_type": "code",
   "execution_count": 239,
   "metadata": {},
   "outputs": [],
   "source": [
    "productivity.to_csv(\"../csv_data/01_생산성확인용.csv\", encoding=\"CP949\")"
   ]
  }
 ],
 "metadata": {
  "kernelspec": {
   "display_name": "Python 3.10.4 64-bit",
   "language": "python",
   "name": "python3"
  },
  "language_info": {
   "codemirror_mode": {
    "name": "ipython",
    "version": 3
   },
   "file_extension": ".py",
   "mimetype": "text/x-python",
   "name": "python",
   "nbconvert_exporter": "python",
   "pygments_lexer": "ipython3",
   "version": "3.10.4"
  },
  "orig_nbformat": 4,
  "vscode": {
   "interpreter": {
    "hash": "d45b7667f15187787b62e9d1c54e096de9a2222ecb594bc9f5d6366f2c4af4e5"
   }
  }
 },
 "nbformat": 4,
 "nbformat_minor": 2
}
