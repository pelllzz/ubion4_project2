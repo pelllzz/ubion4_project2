{
 "cells": [
  {
   "cell_type": "code",
   "execution_count": 14,
   "metadata": {},
   "outputs": [],
   "source": [
    "import pandas as pd\n",
    "import numpy as np"
   ]
  },
  {
   "cell_type": "code",
   "execution_count": 109,
   "metadata": {},
   "outputs": [],
   "source": [
    "############################ WARNING ######################################\n",
    "# 회사명 기준으로 shift 등의 조치가 필요한 경우 따로 취한 다음에 함수 적용하세요\n",
    "# 안 그러면 터집니다...\n",
    "###########################################################################\n",
    "\n",
    "\n",
    "# 단순하게 나누는 함수\n",
    "# df_name : raw_data 들어있는 데이터프레임\n",
    "# a, b : 계산을 하고자하는 데이터프레임의 컬럼명을 입력 (a가 분자, b가 분모)\n",
    "# c : 계산 결과를 저장하고자 하는 데이터프레임의 컬럼명을 입력\n",
    "\n",
    "def cal_div(df_name, a, b, c):\n",
    "    for i in range(0, len(df_name)):\n",
    "        if df_name.iloc[i][a] < 0 and df_name.iloc[i][b] < 0:\n",
    "            df_name.loc[i, c] = 0\n",
    "        else:\n",
    "            df_name.loc[i, c] = df_name.iloc[i][a]/df_name.iloc[i][b]\n",
    "\n",
    "# 단순 비율 계산 함수\n",
    "# df_name : raw_data 들어있는 데이터프레임\n",
    "# a, b : 계산을 하고자하는 데이터프레임의 컬럼명을 입력 (a가 분자, b가 분모)\n",
    "# c : 계산 결과를 저장하고자 하는 데이터프레임의 컬럼명을 입력\n",
    "def cal_rate(df_name, a, b, c):\n",
    "    for i in range(0, len(df_name)):\n",
    "        if df_name.iloc[i][a] < 0 and df_name.iloc[i][b] < 0 :\n",
    "            df_name.loc[i, c] = 0\n",
    "        else:\n",
    "            df_name.loc[i, c] = df_name.iloc[i][a]/df_name.iloc[i][b] * 100\n",
    "\n",
    "\n",
    "# 비율 계산 시 분자에서 덧셈을 수행하는 함수\n",
    "# df_name : raw_data 들어있는 데이터프레임\n",
    "# a, b, c : 계산을 하고자하는 데이터프레임의 컬럼명을 입력 (a, b가 분자, c가 분모)\n",
    "# d : 계산 결과를 저장하고자 하는 데이터프레임의 컬럼명을 입력\n",
    "def cal_rate_add(df_name, a, b, c, d):\n",
    "    for i in range(0, len(df_name)):\n",
    "        if (df_name.iloc[i][a]+df_name.iloc[i][b]) and df_name.iloc[i][c] < 0 :\n",
    "            df_name.loc[i, d] = 0\n",
    "        else:\n",
    "            df_name.loc[i, d] = (df_name.iloc[i][a]+df_name.iloc[i][b])/df_name.iloc[i][c] * 100\n",
    "\n",
    "\n",
    "# 비율 계산 시 분자에서 뺄셈을 수행하는 함수\n",
    "# df_name : raw_data 들어있는 데이터프레임\n",
    "# a, b, c : 계산을 하고자하는 데이터프레임의 컬럼명을 입력 (a, b가 분자, c가 분모)\n",
    "# d : 계산 결과를 저장하고자 하는 데이터프레임의 컬럼명을 입력\n",
    "def cal_rate_sub(df_name, a, b, c, d):\n",
    "    for i in range(0, len(df_name)):\n",
    "        if (df_name.iloc[i][a]-df_name.iloc[i][b]) < 0 and df_name.iloc[i][c] < 0 :\n",
    "            df_name.loc[i, d] = 0\n",
    "        else:\n",
    "            df_name.loc[i, d] = (df_name.iloc[i][a]-df_name.iloc[i][b])/df_name.iloc[i][c] * 100\n",
    "\n",
    "def cal_rate_sub_v2(df_name, a, b, c, d):\n",
    "    for i in range(0, len(df_name)):\n",
    "        if (df_name.iloc[i][a]-df_name.iloc[i][b]) < 0 and df_name.iloc[i][c] < 0 :\n",
    "            df_name.loc[i, d] = 0\n",
    "        else:\n",
    "            df_name.loc[i, d] = (df_name.iloc[i][a]-df_name.iloc[i][b])/df_name.iloc[i][c]\n",
    "\n",
    "\n",
    "# 비율 계산 시 분자에서 덧셈을 3번 수행하는 함수\n",
    "# df_name : raw_data 들어있는 데이터프레임\n",
    "# a, b, c, d : 계산을 하고자하는 데이터프레임의 컬럼명을 입력 (a, b, c가 분자, d가 분모)\n",
    "# e : 계산 결과를 저장하고자 하는 데이터프레임의 컬럼명을 입력\n",
    "def cal_rate_add_three(df_name, a, b, c, d, e):\n",
    "    for i in range(0, len(df_name)):\n",
    "        if (df_name.iloc[i][a]+df_name.iloc[i][b]+df_name.iloc[i][c]) and df_name.iloc[i][d] < 0 :\n",
    "            df_name.loc[i, e] = 0\n",
    "        else:\n",
    "            df_name.loc[i, e] = (df_name.iloc[i][a]+df_name.iloc[i][b]+df_name.iloc[i][c])/df_name.iloc[i][d] * 100\n",
    "\n",
    "\n",
    "# 비율 계산 시 분자에서 뺄셈을 3번 수행하는 함수\n",
    "# df_name : raw_data 들어있는 데이터프레임\n",
    "# a, b, c, d : 계산을 하고자하는 데이터프레임의 컬럼명을 입력 (a, b, c가 분자, d가 분모)\n",
    "# e : 계산 결과를 저장하고자 하는 데이터프레임의 컬럼명을 입력\n",
    "def cal_rate_sub_three(df_name, a, b, c, d, e):\n",
    "    for i in range(0, len(df_name)):\n",
    "        if (df_name.iloc[i][a]-df_name.iloc[i][b]-df_name.iloc[i][c]) and df_name.iloc[i][d] < 0 :\n",
    "            df_name.loc[i, e] = 0\n",
    "        else:\n",
    "            df_name.loc[i, e] = (df_name.iloc[i][a]-df_name.iloc[i][b]-df_name.iloc[i][c])/df_name.iloc[i][d] * 100\n",
    "\n",
    "\n",
    "# 차입금 평균 이자율 계산 함수\n",
    "# df_name : 차입금평균이자율 관련 raw_data 들어있는 데이터프레임\n",
    "# a, b, c, d : 계산을 하고자하는 데이터프레임의 컬럼명을 입력 (a가 분자, b~d는 분모)\n",
    "# e : 계산 결과를 저장하고자 하는 데이터프레임의 컬럼명을 입력\n",
    "def cal_chaip(df_name, a, b, c, d, e):\n",
    "    for i in range(0, len(df_name)):\n",
    "        if df_name.iloc[i][a] == 0:\n",
    "            df_name.loc[i, e] = 0\n",
    "        else:\n",
    "            if df_name.iloc[i][a] < 0 and df_name.iloc[i][b] < 0 :\n",
    "                df_name.loc[i, e] = df_name.iloc[i][a]/((df_name.iloc[i][b] + df_name.iloc[i][c] + df_name.iloc[i][d])) * -100\n",
    "            else:\n",
    "                df_name.loc[i, e] = df_name.iloc[i][a]/((df_name.iloc[i][b] + df_name.iloc[i][c] + df_name.iloc[i][d])) * 100\n",
    "\n",
    "# 매출액 영업 이익률 계산 함수\n",
    "# df_name : 차입금평균이자율 관련 raw_data 들어있는 데이터프레임\n",
    "# a, b, c, d : 계산을 하고자하는 데이터프레임의 컬럼명을 입력 (a가 분자, b~d는 분모)\n",
    "# e : 계산 결과를 저장하고자 하는 데이터프레임의 컬럼명을 입력\n",
    "def cal_income(df_name, a, b, c, d, e):\n",
    "    for i in range(0, len(df_name)):\n",
    "        if (df_name.iloc[i][a] - df_name.iloc[i][b] - df_name.iloc[i][c]) < 0 and df_name.iloc[i][d] < 0 :\n",
    "            df_name.loc[i, e] = 0\n",
    "        else:\n",
    "            df_name.loc[i, e] = (df_name.iloc[i][a] - df_name.iloc[i][b] - df_name.iloc[i][c])/df_name.iloc[i][d] * 100\n",
    "\n",
    "# CASHFLOW 계산 함수\n",
    "# df_name : CASH_FLOW 관련 raw_data 들어있는 데이터프레임\n",
    "# a, b, c : 계싼을 하고자하는 데이터프레임의 컬럼명을 입력 (a, b가 분자, c가 분모)\n",
    "# d : 계산 결과를 저장하고자 하는 데이터프레임의 컬럼명을 입력\n",
    "def cal_cash_flow(df_name, a, b, c, d):\n",
    "    for i in range(0, len(df_name)):\n",
    "        if ((df_name.iloc[i][a] + df_name.iloc[i][b])/2) < 0 and df_name.iloc[i][c] < 0:\n",
    "            df_name.loc[i, d] = 0\n",
    "        else :\n",
    "            df_name.loc[i, d] = ((df_name.iloc[i][a] + df_name.iloc[i][b])/2)/df_name.iloc[i][c] * 100\n",
    "\n",
    "\n",
    "# 총자본영업이익률 계산 함수\n",
    "# df_name : 총자본영업이익률 관련 raw_data가 들어있는 데이터프레임\n",
    "# a, b, c, d, e : 계산을 하고자하는 데이터프레임의 컬럼명을 입력 (a,b,c 분자 / d, e 분모)\n",
    "# f : 계산 결과를 저장하고자 하는 데이터프레임의 컬럼명을 입력\n",
    "def cal_total_income(df_name, a, b, c, d, e, f):\n",
    "    for i in range(0, len(df_name)):\n",
    "        if (df_name.iloc[i][a] - df_name.iloc[i][b] - df_name.iloc[i][c]) < 0 and (df_name.iloc[i][d]+df_name.iloc[i][e]) < 0 :\n",
    "            df_name.loc[i, f] = 0\n",
    "        else:\n",
    "            df_name.loc[i, f] = (df_name.iloc[i][a] - df_name.iloc[i][b] - df_name.iloc[i][c])/(df_name.iloc[i][d]+df_name.iloc[i][e]) * 100\n",
    "\n",
    "# 총자본순이익률 계산함수\n",
    "# df_name : 총자본순이익률 관련 raw_data가 들어있는 데이터프레임\n",
    "# a, b, c : 계산을 하고자하는 데이터프레임의 컬럼명을 입력 (a가 분자, b, c가 분모)\n",
    "# d : 계산 결과를 저장하고자 하는 데이터프레임의 컬럼명을 입력\n",
    "def cal_total_real_income(df_name, a, b, c, d):\n",
    "    for i in range(0, len(df_name)):\n",
    "        if df_name.iloc[i][a] < 0 and ((df_name.iloc[i][b]+ df_name.iloc[i][c])/2) < 0:\n",
    "            df_name.loc[i, d] = 0\n",
    "        else :\n",
    "            df_name.loc[i, d] = df_name.iloc[i][a]/((df_name.iloc[i][b]+ df_name.iloc[i][c])/2) * 100\n",
    "\n",
    "# 총자산 관련 함수\n",
    "# 유사한 방식으로 구성되어 있는 경우 함수 재사용 가능함\n",
    "# df_name : 총자산 관련 raw_data가 들어있는 데이터프레임\n",
    "# a, b : 계산을 하고자하는 데이터프레임의 컬럼명을 입력(a가 분자, b가 분모)\n",
    "# c : 계산 결과를 저장하고자 하는 데이터프레임의 컬럼명을 입력\n",
    "def cal_total_money(df_name, a, b, c):\n",
    "    for i in range(0, len(df_name)):\n",
    "        if df_name.iloc[i][a] < 0 and df_name.iloc[i][b] < 0:\n",
    "            df_name.loc[i, c] = 0\n",
    "        else:\n",
    "            df_name.loc[i, c] = ((df_name.iloc[i][a] / df_name.iloc[i][b])*100)-100\n",
    "\n",
    "\n",
    "# 영업이익증가율 관련 함수\n",
    "# df_name : 영업이익증가율 관련 raw_data가 들어있는 데이터프레임\n",
    "# a, b, c, d, e, f : 계산을 하고자하는 데이터프레임의 컬럼명을 입력(a, b, c 분자 / d, e, f 분모)\n",
    "# g : 계산 결과를 저장하고자 하는 데이터프레임의 컬럼명을 입력\n",
    "def cal_working_money(df_name, a, b, c, d, e, f, g):\n",
    "    for i in range(0, len(df_name)):\n",
    "        if df_name.iloc[i][a] < 0 and df_name.iloc[i][b] < 0:\n",
    "            df_name.loc[i, g] = 0\n",
    "        else:\n",
    "            df_name.loc[i, g] = ((df_name.iloc[i][a] - df_name.iloc[i][b] - df_name.iloc[i][c])/((df_name.iloc[i][d] + df_name.iloc[i][e] + df_name.iloc[i][f]))*100)-100\n",
    "\n",
    "\n",
    "# 비율 계산 시 분모에서 뺄셈을 수행하는 함수\n",
    "# df_name : raw_data 들어있는 데이터프레임\n",
    "# a, b, c : 계산을 하고자하는 데이터프레임의 컬럼명을 입력 (a가 분자, b, c가 분모)\n",
    "# d : 계산 결과를 저장하고자 하는 데이터프레임의 컬럼명을 입력\n",
    "def cal_rate_sub_under(df_name, a, b, c, d):\n",
    "    for i in range(0, len(df_name)):\n",
    "        if (df_name.iloc[i][b]-df_name.iloc[i][c]) < 0 and df_name.iloc[i][a] < 0 :\n",
    "            df_name.loc[i, d] = 0\n",
    "        # elif (df_name.iloc[i][b]-df_name.iloc[i][c]) == 0:\n",
    "            # df_name.loc[i, d] = 0\n",
    "        else:\n",
    "            df_name.loc[i, d] = df_name.iloc[i][a]/(df_name.iloc[i][b]-df_name.iloc[i][c]) * 100\n",
    "\n",
    "# 비율 계산 시 분모에서 덧셈하고 평균 구하는 함수\n",
    "# df_name : raw_data 들어있는 데이터프레임\n",
    "# a, b, c : 계산을 하고자하는 데이터프레임의 컬럼명을 입력 (a가 분자, b, c가 분모)\n",
    "# d : 계산 결과를 저장하고자 하는 데이터프레임의 컬럼명을 입력\n",
    "def cal_rate_under_avg(df_name, a, b, c, d):\n",
    "    for i in range(0, len(df_name)):\n",
    "        if ((df_name.iloc[i][b]+df_name.iloc[i][c])/2) < 0 and df_name.iloc[i][a] < 0 :\n",
    "            df_name.loc[i, d] = 0\n",
    "        # elif (df_name.iloc[i][b]-df_name.iloc[i][c]) == 0:\n",
    "            # df_name.loc[i, d] = 0\n",
    "        else:\n",
    "            df_name.loc[i, d] = df_name.iloc[i][a]/((df_name.iloc[i][b]+df_name.iloc[i][c])/2)\n",
    "\n",
    "\n",
    "\n",
    "# 비율 계산 시 분모에서 덧셈을 수행하는 함수\n",
    "# df_name : raw_data 들어있는 데이터프레임\n",
    "# a, b, c : 계산을 하고자하는 데이터프레임의 컬럼명을 입력 (a가 분자, b, c가 분모)\n",
    "# d : 계산 결과를 저장하고자 하는 데이터프레임의 컬럼명을 입력\n",
    "def cal_rate_sub_add(df_name, a, b, c, d):\n",
    "    for i in range(0, len(df_name)):\n",
    "        if (df_name.iloc[i][b]+df_name.iloc[i][c]) < 0 and df_name.iloc[i][a] < 0 :\n",
    "            df_name.loc[i, d] = 0\n",
    "        # elif (df_name.iloc[i][b]-df_name.iloc[i][c]) == 0:\n",
    "            # df_name.loc[i, d] = 0\n",
    "        else:\n",
    "            df_name.loc[i, d] = df_name.iloc[i][a]/(df_name.iloc[i][b]+df_name.iloc[i][c]) * 100\n",
    "\n",
    "# 단기차입금대총차입금비율 계산 함수\n",
    "# df_name : raw_data 들어있는 데이터프레임\n",
    "# a, b, c, d, e : 계산 하고자 하는 데이터프레임 컬럼명 입력 (a가 분자, 나머지 분모)\n",
    "# f : 계산 결과를 저장하고자 하는 데이터프레임 컬럼명 입력\n",
    "\n",
    "def cal_dangi_cha(df_name, a, b, c, d, e, f):\n",
    "    for i in range(0, len(df_name)):\n",
    "        if df_name.iloc[i][a] < 0 and (df_name.iloc[i][b]+df_name.iloc[i][c]+df_name.iloc[i][d]+df_name.iloc[i][e]) < 0:\n",
    "            df_name.loc[i, f] = 0\n",
    "        else:\n",
    "            df_name.loc[i, f] = (df_name.iloc[i][a] / (df_name.iloc[i][b]+df_name.iloc[i][c]+df_name.iloc[i][d]+df_name.iloc[i][e]))*100\n",
    "\n",
    "\n",
    "# 부가가치 처리용\n",
    "# 이젠 주석 없어도 되겠지...\n",
    "\n",
    "def cal_div_vta_upd(df_name, a, b, c):\n",
    "    for i in range(0, len(df_name)):\n",
    "        if df_name.iloc[i][a] < 0 and df_name.iloc[i][b] < 0:\n",
    "            df_name.loc[i, c] = 0\n",
    "        else:\n",
    "            df_name.loc[i, c] = (df_name.iloc[i][a]*100)/df_name.iloc[i][b]\n",
    "\n",
    "def cal_div_vta_und(df_name, a, b, c):\n",
    "    for i in range(0, len(df_name)):\n",
    "        if df_name.iloc[i][a] < 0 and df_name.iloc[i][b] < 0:\n",
    "            df_name.loc[i, c] = 0\n",
    "        else:\n",
    "            df_name.loc[i, c] = df_name.iloc[i][a]/(df_name.iloc[i][b]*100)\n",
    "\n",
    "def cal_div_vta_up(df_name, a, b, c):\n",
    "    for i in range(0, len(df_name)):\n",
    "        if df_name.iloc[i][a] < 0 and df_name.iloc[i][b] < 0:\n",
    "            df_name.loc[i, c] = 0\n",
    "        else:\n",
    "            df_name.loc[i, c] = ((df_name.iloc[i][a]*100)/df_name.iloc[i][b])*100\n",
    "\n",
    "def cal_div_vta_down(df_name, a, b, c):\n",
    "    for i in range(0, len(df_name)):\n",
    "        if df_name.iloc[i][a] < 0 and df_name.iloc[i][b] < 0:\n",
    "            df_name.loc[i, c] = 0\n",
    "        else:\n",
    "            df_name.loc[i, c] = (df_name.iloc[i][a]/(df_name.iloc[i][b]*100))*100\n",
    "\n",
    "def cal_rate_vta_sub_under(df_name, a, b, c, d):\n",
    "    for i in range(0, len(df_name)):\n",
    "        if (df_name.iloc[i][b]-df_name.iloc[i][c]) < 0 and df_name.iloc[i][a] < 0 :\n",
    "            df_name.loc[i, d] = 0\n",
    "        # elif (df_name.iloc[i][b]-df_name.iloc[i][c]) == 0:\n",
    "            # df_name.loc[i, d] = 0\n",
    "        else:\n",
    "            df_name.loc[i, d] = (df_name.iloc[i][a]*100)/(df_name.iloc[i][b]-df_name.iloc[i][c]) * 100\n"
   ]
  },
  {
   "cell_type": "code",
   "execution_count": 16,
   "metadata": {},
   "outputs": [],
   "source": [
    "# 매출원가 대 매출액 비율\n",
    "maechul_rate = pd.read_csv(\"../raw_data/use/매출원가대매출액비율_Raw.csv\", thousands=\",\", encoding=\"CP949\")\n",
    "\n",
    "# 차입금평균이자율\n",
    "cha_income = pd.read_csv(\"../raw_data/use/차입금평균이자율_Raw.csv\", thousands=\",\", encoding=\"CP949\")\n",
    "\n",
    "# 유동자산구성비율\n",
    "udong_pie = pd.read_csv(\"../raw_data/use/유동자산구성비율_Raw.csv\", thousands=\",\", encoding=\"CP949\")\n",
    "\n",
    "# 재고자산 대 유동자산비율\n",
    "jego_rate = pd.read_csv(\"../raw_data/use/재고자산대유동자산비율_Raw.csv\", thousands=\",\", encoding=\"CP949\")\n",
    "\n",
    "# 자기자본구성비율\n",
    "self_pie = pd.read_csv(\"../raw_data/use/자기자본구성비율_Raw.csv\", thousands=\",\", encoding=\"CP949\")\n",
    "\n",
    "# CASH FLOW 대 부채비율, CASH FLOW 대 매출액 비율\n",
    "cashflow = pd.read_csv(\"../raw_data/use/CASHFLOW_REAL.csv\", thousands=\",\", encoding=\"CP949\")\n",
    "\n",
    "# 유동비율\n",
    "udong = pd.read_csv(\"../raw_data/use/유동비율_Raw.csv\", thousands=\",\", encoding=\"CP949\")\n",
    "\n",
    "# 당좌비율\n",
    "dang_rate = pd.read_csv(\"../raw_data/use/당좌비율_Raw.csv\", thousands=\",\", encoding=\"CP949\")\n",
    "\n",
    "# 현금비율\n",
    "cash_rate = pd.read_csv(\"../raw_data/use/현금비율_Raw.csv\", thousands=\",\", encoding=\"CP949\")\n",
    "\n",
    "# 부채비율\n",
    "dept_rate = pd.read_csv(\"../raw_data/use/부채비율_Raw.csv\", thousands=\",\", encoding=\"CP949\")\n",
    "\n",
    "# 차입금의존도\n",
    "chaip = pd.read_csv(\"../raw_data/use/차입금의존도_Raw.csv\", thousands=\",\", encoding=\"CP949\")\n",
    "\n",
    "# 유동부채비율\n",
    "udong_dept = pd.read_csv(\"../raw_data/use/유동부채비율_Raw.csv\", thousands=\",\", encoding=\"CP949\")\n",
    "\n",
    "# 매출액총이익률\n",
    "income_rate = pd.read_csv(\"../raw_data/use/매출액총이익률_Raw.csv\", thousands=\",\", encoding=\"CP949\")\n",
    "\n",
    "# 매출액순이익률\n",
    "income_real_rate = pd.read_csv(\"../raw_data/use/매출액순이익률_Raw.csv\", thousands=\",\", encoding=\"CP949\")\n",
    "\n",
    "# 매출액영업이익률\n",
    "income_sales_rate = pd.read_csv(\"../raw_data/use/매출액영업이익률_Raw.csv\", thousands=\",\", encoding=\"CP949\")\n",
    "\n",
    "# 총자본영업이익률\n",
    "total_sales_rate = pd.read_csv(\"../raw_data/use/총자본영업이익률_Raw.csv\", thousands=\",\", encoding=\"CP949\")\n",
    "\n",
    "# 총자산순이익률\n",
    "total_real_rate = pd.read_csv(\"../raw_data/use/총자산순이익률_Raw.csv\", thousands=\",\", encoding=\"CP949\")\n",
    "\n",
    "# 총자산증가율\n",
    "total_money_rate = pd.read_csv(\"../raw_data/use/총자산증가율_Raw.csv\", thousands=\",\", encoding=\"CP949\")\n",
    "\n",
    "# 유동자산증가율\n",
    "udong_money_rate = pd.read_csv(\"../raw_data/use/유동자산증가율_Raw.csv\", thousands=\",\", encoding=\"CP949\")\n",
    "\n",
    "# 매출액증가율\n",
    "incoming_rate = pd.read_csv(\"../raw_data/use/매출액증가율_Raw.csv\", thousands=\",\", encoding=\"CP949\")\n",
    "\n",
    "# 유형자산증가율\n",
    "u_money_rate = pd.read_csv(\"../raw_data/use/유형자산증가율_Raw.csv\", thousands=\",\", encoding=\"CP949\")\n",
    "\n",
    "# 재고자산 증가율\n",
    "jego_money_rate = pd.read_csv(\"../raw_data/use/재고자산증가율_Raw.csv\", thousands=\",\", encoding=\"CP949\")\n",
    "\n",
    "# 자기자본 증가율\n",
    "self_money_rate = pd.read_csv(\"../raw_data/use/자기자본증가율_Raw.csv\", thousands=\",\", encoding=\"CP949\")\n",
    "\n",
    "# 순이익 증가율\n",
    "pure_income_rate = pd.read_csv(\"../raw_data/use/순이익증가율_Raw.csv\", thousands=\",\", encoding=\"CP949\")\n",
    "\n",
    "# 영업이익 증가율\n",
    "working_money_rate = pd.read_csv(\"../raw_data/use/영업이익증가율_Raw.csv\",thousands=\",\", encoding=\"CP949\")"
   ]
  },
  {
   "cell_type": "code",
   "execution_count": 17,
   "metadata": {},
   "outputs": [],
   "source": [
    "# 총자산 회전율\n",
    "total_money_turn = pd.read_csv(\"../raw_data/use/총자산회전율_Raw.csv\", thousands=\",\", encoding=\"CP949\")\n",
    "\n",
    "# 재고자산 회전율\n",
    "jego_money_turn = pd.read_csv(\"../raw_data/use/재고자산회전율_Raw.csv\", thousands=\",\", encoding=\"CP949\")\n",
    "\n",
    "# 매출채권 회전율\n",
    "income_money_turn = pd.read_csv(\"../raw_data/use/매출채권회전율_Raw.csv\", thousands=\",\", encoding=\"CP949\")\n",
    "\n",
    "# 유형자산 회전율\n",
    "u_money_turn = pd.read_csv(\"../raw_data/use/유형자산회전율_Raw.csv\", thousands=\",\", encoding=\"CP949\")\n",
    "\n",
    "# 매입채무 회전율\n",
    "maep_money_turn = pd.read_csv(\"../raw_data/use/매입채무회전율_Raw.csv\", thousands=\",\", encoding=\"CP949\")\n",
    "\n",
    "# 자기자본 회전율\n",
    "self_jabon_turn = pd.read_csv(\"../raw_data/use/자기자본회전율_Raw.csv\", thousands=\",\", encoding=\"CP949\")\n",
    "\n",
    "# 타인자본 회전율\n",
    "other_jabon_turn = pd.read_csv(\"../raw_data/use/타인자본회전율_Raw.csv\", thousands=\",\", encoding=\"CP949\")\n",
    "\n",
    "# 유동자산 회전율\n",
    "udong_turn = pd.read_csv(\"../raw_data/use/유동자산회전율_Raw.csv\", thousands=\",\", encoding=\"CP949\")\n",
    "\n",
    "# 당좌자산 회전율\n",
    "dang_turn = pd.read_csv(\"../raw_data/use/당좌자산회전율_Raw.csv\", thousands=\",\", encoding=\"CP949\")\n",
    "\n",
    "# 당좌자산 구성비율\n",
    "dang_pie = pd.read_csv(\"../raw_data/use/당좌자산구성비율_Raw.csv\", thousands=\",\", encoding=\"CP949\")\n",
    "\n",
    "# 매출채권 대 매입채무비율\n",
    "income_money_rate = pd.read_csv(\"../raw_data/use/매출채권대매입채무비율_Raw.csv\", thousands=\",\", encoding=\"CP949\")\n",
    "\n",
    "# 단기차입금 대 총차입금비율\n",
    "dangi_rate = pd.read_csv(\"../raw_data/use/단기차입금대총차입금비율_Raw.csv\", thousands=\",\", encoding=\"CP949\")\n",
    "\n",
    "# 차입금 비율\n",
    "chaip_rate = pd.read_csv(\"../raw_data/use/차입금비율_Raw.csv\", thousands=\",\", encoding=\"CP949\")\n",
    "\n",
    "# 타인자본 구성비율\n",
    "other_jabon_rate = pd.read_csv(\"../raw_data/use/타인자본구성비율_Raw.csv\", thousands=\",\", encoding=\"CP949\")\n",
    "\n",
    "# 순운전자본회전율\n",
    "pure_income_turn = pd.read_csv(\"../raw_data/use/순운전자본회전율_Raw.csv\", thousands=\",\", encoding=\"CP949\")\n",
    "\n",
    "# 순운전자본 대 총자산\n",
    "pure_income_total_rate = pd.read_csv(\"../raw_data/use/순운전자본대총자산_Raw.csv\", thousands=\",\", encoding=\"CP949\")\n",
    "\n",
    "# 재고자산 대 순운전자본 비율\n",
    "jego_money_pure_rate = pd.read_csv(\"../raw_data/use/재고자산대순운전자본비율_Raw.csv\", thousands=\",\", encoding=\"CP949\")\n",
    "\n",
    "# 그냥 운전자본회전율\n",
    "normal_income_rate = pd.read_csv(\"../raw_data/use/운전자본회전율_Raw.csv\", thousands=\",\", encoding=\"CP949\")"
   ]
  },
  {
   "cell_type": "code",
   "execution_count": 75,
   "metadata": {},
   "outputs": [],
   "source": [
    "# 활동성 지표\n",
    "activity = pd.read_csv(\"../raw_data/use/활동성지표.csv\", thousands=\",\", encoding=\"CP949\")"
   ]
  },
  {
   "cell_type": "code",
   "execution_count": 83,
   "metadata": {},
   "outputs": [],
   "source": [
    "# 노동장비율\n",
    "rodong_rate = pd.read_csv(\"../raw_data/use/노동장비율_Raw.csv\", thousands=\",\", encoding=\"CP949\")\n",
    "\n",
    "# 기계장비율\n",
    "machine_rate = pd.read_csv(\"../raw_data/use/기계장비율_Raw.csv\", thousands=\",\", encoding=\"CP949\")\n",
    "\n",
    "# 자본집약도\n",
    "jabon_jp = pd.read_csv(\"../raw_data/use/자본집약도_Raw.csv\", thousands=\",\", encoding=\"CP949\")\n",
    "\n",
    "# 노동소득분배율\n",
    "rodong_fee_rate = pd.read_csv(\"../raw_data/use/노동소득분배율_Raw.csv\", thousands=\",\", encoding=\"CP949\")\n",
    "\n",
    "# 설비투자효율\n",
    "construction_rate = pd.read_csv(\"../raw_data/use/설비투자효율_Raw.csv\", thousands=\",\", encoding=\"CP949\")\n",
    "\n",
    "# 총자본투자효율\n",
    "total_jabon_rate = pd.read_csv(\"../raw_data/use/총자본투자효율_Raw.csv\", thousands=\",\", encoding=\"CP949\")\n",
    "\n",
    "# 기계투자효율\n",
    "machine_work_rate = pd.read_csv(\"../raw_data/use/기계투자효율_Raw.csv\", thousands=\",\", encoding=\"CP949\")\n",
    "\n",
    "# 부가가치율\n",
    "vta_rate = pd.read_csv(\"../raw_data/use/부가가치율_Raw.csv\", thousands=\",\", encoding=\"CP949\")"
   ]
  },
  {
   "cell_type": "code",
   "execution_count": 19,
   "metadata": {},
   "outputs": [
    {
     "data": {
      "text/html": [
       "<div>\n",
       "<style scoped>\n",
       "    .dataframe tbody tr th:only-of-type {\n",
       "        vertical-align: middle;\n",
       "    }\n",
       "\n",
       "    .dataframe tbody tr th {\n",
       "        vertical-align: top;\n",
       "    }\n",
       "\n",
       "    .dataframe thead th {\n",
       "        text-align: right;\n",
       "    }\n",
       "</style>\n",
       "<table border=\"1\" class=\"dataframe\">\n",
       "  <thead>\n",
       "    <tr style=\"text-align: right;\">\n",
       "      <th></th>\n",
       "      <th>회사명</th>\n",
       "      <th>거래소코드</th>\n",
       "      <th>회계년도</th>\n",
       "      <th>매출원가(IFRS연결)</th>\n",
       "      <th>매출액(IFRS연결)</th>\n",
       "      <th>매출원가(IFRS개별)</th>\n",
       "      <th>매출액(IFRS개별)</th>\n",
       "    </tr>\n",
       "  </thead>\n",
       "  <tbody>\n",
       "    <tr>\n",
       "      <th>0</th>\n",
       "      <td>(주)CMG제약</td>\n",
       "      <td>58820</td>\n",
       "      <td>Dec-11</td>\n",
       "      <td>10325799.0</td>\n",
       "      <td>17751704.0</td>\n",
       "      <td>10325799.0</td>\n",
       "      <td>17751704.0</td>\n",
       "    </tr>\n",
       "  </tbody>\n",
       "</table>\n",
       "</div>"
      ],
      "text/plain": [
       "        회사명  거래소코드    회계년도  매출원가(IFRS연결)  매출액(IFRS연결)  매출원가(IFRS개별)  \\\n",
       "0  (주)CMG제약  58820  Dec-11    10325799.0   17751704.0    10325799.0   \n",
       "\n",
       "   매출액(IFRS개별)  \n",
       "0   17751704.0  "
      ]
     },
     "execution_count": 19,
     "metadata": {},
     "output_type": "execute_result"
    }
   ],
   "source": [
    "# 매출원가 대 매출액비율\n",
    "maechul_rate.head(1)"
   ]
  },
  {
   "cell_type": "code",
   "execution_count": 20,
   "metadata": {},
   "outputs": [
    {
     "name": "stderr",
     "output_type": "stream",
     "text": [
      "C:\\Users\\luck1\\AppData\\Local\\Temp\\ipykernel_13260\\3689145824.py:28: RuntimeWarning: invalid value encountered in double_scalars\n",
      "  df_name.loc[i, c] = df_name.iloc[i][a]/df_name.iloc[i][b] * 100\n",
      "C:\\Users\\luck1\\AppData\\Local\\Temp\\ipykernel_13260\\3689145824.py:28: RuntimeWarning: invalid value encountered in double_scalars\n",
      "  df_name.loc[i, c] = df_name.iloc[i][a]/df_name.iloc[i][b] * 100\n"
     ]
    }
   ],
   "source": [
    "cal_rate(maechul_rate, \"매출원가(IFRS개별)\", \"매출액(IFRS개별)\", \"매출원가대매출액비율(개별)\")\n",
    "cal_rate(maechul_rate, \"매출원가(IFRS연결)\", \"매출액(IFRS연결)\", \"매출원가대매출액비율(연결)\")\n",
    "maechul_rate.to_csv(\"../csv_data/use/매출원가_대_매출액비율_전처리.csv\", encoding=\"CP949\")"
   ]
  },
  {
   "cell_type": "code",
   "execution_count": 21,
   "metadata": {},
   "outputs": [
    {
     "data": {
      "text/html": [
       "<div>\n",
       "<style scoped>\n",
       "    .dataframe tbody tr th:only-of-type {\n",
       "        vertical-align: middle;\n",
       "    }\n",
       "\n",
       "    .dataframe tbody tr th {\n",
       "        vertical-align: top;\n",
       "    }\n",
       "\n",
       "    .dataframe thead th {\n",
       "        text-align: right;\n",
       "    }\n",
       "</style>\n",
       "<table border=\"1\" class=\"dataframe\">\n",
       "  <thead>\n",
       "    <tr style=\"text-align: right;\">\n",
       "      <th></th>\n",
       "      <th>회사명</th>\n",
       "      <th>거래소코드</th>\n",
       "      <th>회계년도</th>\n",
       "      <th>이자비용(IFRS연결)</th>\n",
       "      <th>장기차입금(IFRS연결)</th>\n",
       "      <th>단기차입금(IFRS연결)</th>\n",
       "      <th>회사채(IFRS연결)</th>\n",
       "      <th>이자비용(IFRS개별)</th>\n",
       "      <th>장기차입금(IFRS개별)</th>\n",
       "      <th>단기차입금(IFRS개별)</th>\n",
       "      <th>회사채(IFRS개별)</th>\n",
       "    </tr>\n",
       "  </thead>\n",
       "  <tbody>\n",
       "    <tr>\n",
       "      <th>0</th>\n",
       "      <td>(주)CMG제약</td>\n",
       "      <td>58820</td>\n",
       "      <td>Dec-11</td>\n",
       "      <td>0.0</td>\n",
       "      <td>0.0</td>\n",
       "      <td>0.0</td>\n",
       "      <td>0.0</td>\n",
       "      <td>0.0</td>\n",
       "      <td>0.0</td>\n",
       "      <td>2134049.0</td>\n",
       "      <td>0.0</td>\n",
       "    </tr>\n",
       "  </tbody>\n",
       "</table>\n",
       "</div>"
      ],
      "text/plain": [
       "        회사명  거래소코드    회계년도  이자비용(IFRS연결)  장기차입금(IFRS연결)  단기차입금(IFRS연결)  \\\n",
       "0  (주)CMG제약  58820  Dec-11           0.0            0.0            0.0   \n",
       "\n",
       "   회사채(IFRS연결)  이자비용(IFRS개별)  장기차입금(IFRS개별)  단기차입금(IFRS개별)  회사채(IFRS개별)  \n",
       "0          0.0           0.0            0.0      2134049.0          0.0  "
      ]
     },
     "execution_count": 21,
     "metadata": {},
     "output_type": "execute_result"
    }
   ],
   "source": [
    "# 차입금평균이자율\n",
    "cha_income.head(1)"
   ]
  },
  {
   "cell_type": "code",
   "execution_count": 22,
   "metadata": {},
   "outputs": [
    {
     "name": "stderr",
     "output_type": "stream",
     "text": [
      "C:\\Users\\luck1\\AppData\\Local\\Temp\\ipykernel_13260\\3689145824.py:91: RuntimeWarning: divide by zero encountered in double_scalars\n",
      "  df_name.loc[i, e] = df_name.iloc[i][a]/((df_name.iloc[i][b] + df_name.iloc[i][c] + df_name.iloc[i][d])) * 100\n",
      "C:\\Users\\luck1\\AppData\\Local\\Temp\\ipykernel_13260\\3689145824.py:91: RuntimeWarning: divide by zero encountered in double_scalars\n",
      "  df_name.loc[i, e] = df_name.iloc[i][a]/((df_name.iloc[i][b] + df_name.iloc[i][c] + df_name.iloc[i][d])) * 100\n"
     ]
    }
   ],
   "source": [
    "cal_chaip(cha_income, \"이자비용(IFRS개별)\", \"장기차입금(IFRS개별)\", \"단기차입금(IFRS개별)\", \"회사채(IFRS개별)\", \"차입금평균이자율(개별)\")\n",
    "cal_chaip(cha_income, \"이자비용(IFRS연결)\", \"장기차입금(IFRS연결)\", \"단기차입금(IFRS연결)\", \"회사채(IFRS연결)\", \"차입금평균이자율(연결)\")\n",
    "cha_income.to_csv(\"../csv_data/use/차입금평균이자율_전처리.csv\", encoding=\"CP949\")"
   ]
  },
  {
   "cell_type": "code",
   "execution_count": 23,
   "metadata": {},
   "outputs": [
    {
     "data": {
      "text/html": [
       "<div>\n",
       "<style scoped>\n",
       "    .dataframe tbody tr th:only-of-type {\n",
       "        vertical-align: middle;\n",
       "    }\n",
       "\n",
       "    .dataframe tbody tr th {\n",
       "        vertical-align: top;\n",
       "    }\n",
       "\n",
       "    .dataframe thead th {\n",
       "        text-align: right;\n",
       "    }\n",
       "</style>\n",
       "<table border=\"1\" class=\"dataframe\">\n",
       "  <thead>\n",
       "    <tr style=\"text-align: right;\">\n",
       "      <th></th>\n",
       "      <th>회사명</th>\n",
       "      <th>거래소코드</th>\n",
       "      <th>회계년도</th>\n",
       "      <th>유동자산(IFRS연결)</th>\n",
       "      <th>자산(IFRS연결)</th>\n",
       "      <th>유동자산(IFRS개별)</th>\n",
       "      <th>자산(IFRS개별)</th>\n",
       "    </tr>\n",
       "  </thead>\n",
       "  <tbody>\n",
       "    <tr>\n",
       "      <th>0</th>\n",
       "      <td>(주)CMG제약</td>\n",
       "      <td>58820</td>\n",
       "      <td>Dec-11</td>\n",
       "      <td>15341167.0</td>\n",
       "      <td>27305198.0</td>\n",
       "      <td>15264885.0</td>\n",
       "      <td>27548539.0</td>\n",
       "    </tr>\n",
       "  </tbody>\n",
       "</table>\n",
       "</div>"
      ],
      "text/plain": [
       "        회사명  거래소코드    회계년도  유동자산(IFRS연결)  자산(IFRS연결)  유동자산(IFRS개별)  자산(IFRS개별)\n",
       "0  (주)CMG제약  58820  Dec-11    15341167.0  27305198.0    15264885.0  27548539.0"
      ]
     },
     "execution_count": 23,
     "metadata": {},
     "output_type": "execute_result"
    }
   ],
   "source": [
    "# 유동자산구성비율\n",
    "udong_pie.head(1)"
   ]
  },
  {
   "cell_type": "code",
   "execution_count": 24,
   "metadata": {},
   "outputs": [],
   "source": [
    "cal_rate(udong_pie, \"유동자산(IFRS개별)\", \"자산(IFRS개별)\", \"유동자산구성비율(개별)\")\n",
    "cal_rate(udong_pie, \"유동자산(IFRS연결)\", \"자산(IFRS연결)\", \"유동자산구성비율(연결)\")\n",
    "udong_pie.to_csv(\"../csv_data/use/유동자산구성비율_전처리.csv\", encoding=\"CP949\")"
   ]
  },
  {
   "cell_type": "code",
   "execution_count": 25,
   "metadata": {},
   "outputs": [
    {
     "data": {
      "text/html": [
       "<div>\n",
       "<style scoped>\n",
       "    .dataframe tbody tr th:only-of-type {\n",
       "        vertical-align: middle;\n",
       "    }\n",
       "\n",
       "    .dataframe tbody tr th {\n",
       "        vertical-align: top;\n",
       "    }\n",
       "\n",
       "    .dataframe thead th {\n",
       "        text-align: right;\n",
       "    }\n",
       "</style>\n",
       "<table border=\"1\" class=\"dataframe\">\n",
       "  <thead>\n",
       "    <tr style=\"text-align: right;\">\n",
       "      <th></th>\n",
       "      <th>회사명</th>\n",
       "      <th>거래소코드</th>\n",
       "      <th>회계년도</th>\n",
       "      <th>재고자산(IFRS연결)</th>\n",
       "      <th>유동자산(IFRS연결)</th>\n",
       "      <th>재고자산(IFRS개별)</th>\n",
       "      <th>유동자산(IFRS개별)</th>\n",
       "    </tr>\n",
       "  </thead>\n",
       "  <tbody>\n",
       "    <tr>\n",
       "      <th>0</th>\n",
       "      <td>(주)CMG제약</td>\n",
       "      <td>58820</td>\n",
       "      <td>Dec-11</td>\n",
       "      <td>2743103.0</td>\n",
       "      <td>15341167.0</td>\n",
       "      <td>2743103.0</td>\n",
       "      <td>15264885.0</td>\n",
       "    </tr>\n",
       "  </tbody>\n",
       "</table>\n",
       "</div>"
      ],
      "text/plain": [
       "        회사명  거래소코드    회계년도  재고자산(IFRS연결)  유동자산(IFRS연결)  재고자산(IFRS개별)  \\\n",
       "0  (주)CMG제약  58820  Dec-11     2743103.0    15341167.0     2743103.0   \n",
       "\n",
       "   유동자산(IFRS개별)  \n",
       "0    15264885.0  "
      ]
     },
     "execution_count": 25,
     "metadata": {},
     "output_type": "execute_result"
    }
   ],
   "source": [
    "# 재고자산 대 유동자산비율\n",
    "jego_rate.head(1)"
   ]
  },
  {
   "cell_type": "code",
   "execution_count": 26,
   "metadata": {},
   "outputs": [],
   "source": [
    "cal_rate(jego_rate, \"재고자산(IFRS개별)\", \"유동자산(IFRS개별)\", \"재고자산_유동자산비율(개별)\")\n",
    "cal_rate(jego_rate, \"재고자산(IFRS연결)\", \"유동자산(IFRS개별)\", \"재고자산_유동자산비율(연결)\")\n",
    "jego_rate.to_csv(\"../csv_data/use/재고자산_대_유동자산비율_전처리.csv\", encoding=\"CP949\")"
   ]
  },
  {
   "cell_type": "code",
   "execution_count": 27,
   "metadata": {},
   "outputs": [
    {
     "data": {
      "text/html": [
       "<div>\n",
       "<style scoped>\n",
       "    .dataframe tbody tr th:only-of-type {\n",
       "        vertical-align: middle;\n",
       "    }\n",
       "\n",
       "    .dataframe tbody tr th {\n",
       "        vertical-align: top;\n",
       "    }\n",
       "\n",
       "    .dataframe thead th {\n",
       "        text-align: right;\n",
       "    }\n",
       "</style>\n",
       "<table border=\"1\" class=\"dataframe\">\n",
       "  <thead>\n",
       "    <tr style=\"text-align: right;\">\n",
       "      <th></th>\n",
       "      <th>회사명</th>\n",
       "      <th>거래소코드</th>\n",
       "      <th>회계년도</th>\n",
       "      <th>자본(IFRS연결)</th>\n",
       "      <th>자산(IFRS연결)</th>\n",
       "      <th>자본(IFRS개별)</th>\n",
       "      <th>자산(IFRS개별)</th>\n",
       "    </tr>\n",
       "  </thead>\n",
       "  <tbody>\n",
       "    <tr>\n",
       "      <th>0</th>\n",
       "      <td>(주)CMG제약</td>\n",
       "      <td>58820</td>\n",
       "      <td>Dec-11</td>\n",
       "      <td>18034249.0</td>\n",
       "      <td>27305198.0</td>\n",
       "      <td>18290915.0</td>\n",
       "      <td>27548539.0</td>\n",
       "    </tr>\n",
       "  </tbody>\n",
       "</table>\n",
       "</div>"
      ],
      "text/plain": [
       "        회사명  거래소코드    회계년도  자본(IFRS연결)  자산(IFRS연결)  자본(IFRS개별)  자산(IFRS개별)\n",
       "0  (주)CMG제약  58820  Dec-11  18034249.0  27305198.0  18290915.0  27548539.0"
      ]
     },
     "execution_count": 27,
     "metadata": {},
     "output_type": "execute_result"
    }
   ],
   "source": [
    "# 자기자본구성비율\n",
    "self_pie.head(1)"
   ]
  },
  {
   "cell_type": "code",
   "execution_count": 28,
   "metadata": {},
   "outputs": [],
   "source": [
    "cal_rate(self_pie, \"자본(IFRS개별)\", \"자산(IFRS개별)\", \"자기자본구성비율(개별)\")\n",
    "cal_rate(self_pie, \"자본(IFRS연결)\", \"자산(IFRS연결)\", \"자기자본구성비율(연결)\")\n",
    "self_pie.to_csv(\"../csv_data/use/자기자본구성비율.csv\", encoding=\"CP949\")"
   ]
  },
  {
   "cell_type": "code",
   "execution_count": 29,
   "metadata": {},
   "outputs": [
    {
     "data": {
      "text/html": [
       "<div>\n",
       "<style scoped>\n",
       "    .dataframe tbody tr th:only-of-type {\n",
       "        vertical-align: middle;\n",
       "    }\n",
       "\n",
       "    .dataframe tbody tr th {\n",
       "        vertical-align: top;\n",
       "    }\n",
       "\n",
       "    .dataframe thead th {\n",
       "        text-align: right;\n",
       "    }\n",
       "</style>\n",
       "<table border=\"1\" class=\"dataframe\">\n",
       "  <thead>\n",
       "    <tr style=\"text-align: right;\">\n",
       "      <th></th>\n",
       "      <th>회사명</th>\n",
       "      <th>거래소코드</th>\n",
       "      <th>회계년도</th>\n",
       "      <th>[제조]영업활동으로 인한 현금흐름(간접법)(*)(IFRS)</th>\n",
       "      <th>[제조]매출액(수익)(*)(IFRS)</th>\n",
       "      <th>[제조]부채(*)(IFRS)</th>\n",
       "      <th>[제조]영업활동으로 인한 현금흐름(간접법)(*)(IFRS연결)</th>\n",
       "      <th>[제조]매출액(수익)(*)(IFRS연결)</th>\n",
       "      <th>[제조]부채(*)(IFRS연결)</th>\n",
       "    </tr>\n",
       "  </thead>\n",
       "  <tbody>\n",
       "    <tr>\n",
       "      <th>0</th>\n",
       "      <td>(주)CMG제약</td>\n",
       "      <td>58820</td>\n",
       "      <td>2010/12</td>\n",
       "      <td>-5983864.0</td>\n",
       "      <td>11350419.0</td>\n",
       "      <td>8370511.0</td>\n",
       "      <td>-5983864.0</td>\n",
       "      <td>11350419.0</td>\n",
       "      <td>8370511.0</td>\n",
       "    </tr>\n",
       "  </tbody>\n",
       "</table>\n",
       "</div>"
      ],
      "text/plain": [
       "        회사명  거래소코드     회계년도  [제조]영업활동으로 인한 현금흐름(간접법)(*)(IFRS)  \\\n",
       "0  (주)CMG제약  58820  2010/12                        -5983864.0   \n",
       "\n",
       "   [제조]매출액(수익)(*)(IFRS)  [제조]부채(*)(IFRS)  [제조]영업활동으로 인한 현금흐름(간접법)(*)(IFRS연결)  \\\n",
       "0            11350419.0        8370511.0                          -5983864.0   \n",
       "\n",
       "   [제조]매출액(수익)(*)(IFRS연결)  [제조]부채(*)(IFRS연결)  \n",
       "0              11350419.0          8370511.0  "
      ]
     },
     "execution_count": 29,
     "metadata": {},
     "output_type": "execute_result"
    }
   ],
   "source": [
    "# CASH FLOW 대 부채비율, CASH FLOW 대 매출액 비율\n",
    "cashflow.head(1)"
   ]
  },
  {
   "cell_type": "code",
   "execution_count": 30,
   "metadata": {},
   "outputs": [],
   "source": [
    "cashflow[\"[제조]전기영업흐름(IFRS개별)\"] = cashflow[\"[제조]영업활동으로 인한 현금흐름(간접법)(*)(IFRS)\"].shift().where(cashflow.회사명.eq(cashflow.회사명.shift()))\n",
    "cashflow[\"[제조]전기영업흐름(IFRS연결)\"] = cashflow[\"[제조]영업활동으로 인한 현금흐름(간접법)(*)(IFRS연결)\"].shift().where(cashflow.회사명.eq(cashflow.회사명.shift()))\n",
    "cashflow_2 = cashflow.copy()"
   ]
  },
  {
   "cell_type": "code",
   "execution_count": 31,
   "metadata": {},
   "outputs": [],
   "source": [
    "cal_cash_flow(cashflow, \"[제조]영업활동으로 인한 현금흐름(간접법)(*)(IFRS)\", \"[제조]전기영업흐름(IFRS개별)\", \"[제조]부채(*)(IFRS)\", \"cashflow_부채비율(개별)\")\n",
    "cal_cash_flow(cashflow, \"[제조]영업활동으로 인한 현금흐름(간접법)(*)(IFRS연결)\", \"[제조]전기영업흐름(IFRS연결)\", \"[제조]부채(*)(IFRS연결)\", \"cashflow_부채비율(연결)\")\n",
    "\n",
    "# 저장하기 전에 2010년 데이터 싹 다 제거하기\n",
    "kill_2010 = cashflow[cashflow['회계년도'].str.contains(\"2010\")].index\n",
    "cashflow_real = cashflow.drop(kill_2010)\n",
    "\n",
    "# 저장\n",
    "cashflow_real.to_csv(\"../csv_data/use/CASHFLOW_부채비율_전처리.csv\", encoding=\"CP949\")"
   ]
  },
  {
   "cell_type": "code",
   "execution_count": 32,
   "metadata": {},
   "outputs": [
    {
     "name": "stderr",
     "output_type": "stream",
     "text": [
      "C:\\Users\\luck1\\AppData\\Local\\Temp\\ipykernel_13260\\3689145824.py:113: RuntimeWarning: divide by zero encountered in double_scalars\n",
      "  df_name.loc[i, d] = ((df_name.iloc[i][a] + df_name.iloc[i][b])/2)/df_name.iloc[i][c] * 100\n",
      "C:\\Users\\luck1\\AppData\\Local\\Temp\\ipykernel_13260\\3689145824.py:113: RuntimeWarning: divide by zero encountered in double_scalars\n",
      "  df_name.loc[i, d] = ((df_name.iloc[i][a] + df_name.iloc[i][b])/2)/df_name.iloc[i][c] * 100\n"
     ]
    }
   ],
   "source": [
    "cal_cash_flow(cashflow_2, \"[제조]영업활동으로 인한 현금흐름(간접법)(*)(IFRS)\", \"[제조]전기영업흐름(IFRS개별)\", \"[제조]매출액(수익)(*)(IFRS)\", \"cashflow_매출액비율(개별)\")\n",
    "cal_cash_flow(cashflow_2, \"[제조]영업활동으로 인한 현금흐름(간접법)(*)(IFRS연결)\", \"[제조]전기영업흐름(IFRS연결)\", \"[제조]매출액(수익)(*)(IFRS연결)\", \"cashflow_매출액비율(연결)\")\n",
    "\n",
    "# 저장하기 전에 2010년 데이터 싹 다 제거하기\n",
    "kill_2010 = cashflow_2[cashflow_2['회계년도'].str.contains(\"2010\")].index\n",
    "cashflow_2_real = cashflow_2.drop(kill_2010)\n",
    "\n",
    "#저장\n",
    "cashflow_2_real.to_csv(\"../csv_data/use/CASHFLOW_매출액비율_전처리.csv\", encoding=\"CP949\")"
   ]
  },
  {
   "cell_type": "code",
   "execution_count": 33,
   "metadata": {},
   "outputs": [
    {
     "data": {
      "text/html": [
       "<div>\n",
       "<style scoped>\n",
       "    .dataframe tbody tr th:only-of-type {\n",
       "        vertical-align: middle;\n",
       "    }\n",
       "\n",
       "    .dataframe tbody tr th {\n",
       "        vertical-align: top;\n",
       "    }\n",
       "\n",
       "    .dataframe thead th {\n",
       "        text-align: right;\n",
       "    }\n",
       "</style>\n",
       "<table border=\"1\" class=\"dataframe\">\n",
       "  <thead>\n",
       "    <tr style=\"text-align: right;\">\n",
       "      <th></th>\n",
       "      <th>회사명</th>\n",
       "      <th>거래소코드</th>\n",
       "      <th>회계년도</th>\n",
       "      <th>유동자산(IFRS연결)</th>\n",
       "      <th>유동부채(IFRS연결)</th>\n",
       "      <th>유동자산(IFRS개별)</th>\n",
       "      <th>유동부채(IFRS개별)</th>\n",
       "    </tr>\n",
       "  </thead>\n",
       "  <tbody>\n",
       "    <tr>\n",
       "      <th>0</th>\n",
       "      <td>(주)CMG제약</td>\n",
       "      <td>58820</td>\n",
       "      <td>Dec-11</td>\n",
       "      <td>15341167.0</td>\n",
       "      <td>7633673.0</td>\n",
       "      <td>15264885.0</td>\n",
       "      <td>7620349.0</td>\n",
       "    </tr>\n",
       "  </tbody>\n",
       "</table>\n",
       "</div>"
      ],
      "text/plain": [
       "        회사명  거래소코드    회계년도  유동자산(IFRS연결)  유동부채(IFRS연결)  유동자산(IFRS개별)  \\\n",
       "0  (주)CMG제약  58820  Dec-11    15341167.0     7633673.0    15264885.0   \n",
       "\n",
       "   유동부채(IFRS개별)  \n",
       "0     7620349.0  "
      ]
     },
     "execution_count": 33,
     "metadata": {},
     "output_type": "execute_result"
    }
   ],
   "source": [
    "# 유동비율\n",
    "udong.head(1)"
   ]
  },
  {
   "cell_type": "code",
   "execution_count": 34,
   "metadata": {},
   "outputs": [],
   "source": [
    "cal_rate(udong, \"유동자산(IFRS개별)\", \"유동부채(IFRS개별)\", \"유동비율(개별)\")\n",
    "cal_rate(udong, \"유동자산(IFRS연결)\", \"유동부채(IFRS연결)\", \"유동비율(연결)\")\n",
    "udong.to_csv(\"../csv_data/use/유동비율_전처리.csv\", encoding=\"CP949\")"
   ]
  },
  {
   "cell_type": "code",
   "execution_count": 35,
   "metadata": {},
   "outputs": [
    {
     "data": {
      "text/html": [
       "<div>\n",
       "<style scoped>\n",
       "    .dataframe tbody tr th:only-of-type {\n",
       "        vertical-align: middle;\n",
       "    }\n",
       "\n",
       "    .dataframe tbody tr th {\n",
       "        vertical-align: top;\n",
       "    }\n",
       "\n",
       "    .dataframe thead th {\n",
       "        text-align: right;\n",
       "    }\n",
       "</style>\n",
       "<table border=\"1\" class=\"dataframe\">\n",
       "  <thead>\n",
       "    <tr style=\"text-align: right;\">\n",
       "      <th></th>\n",
       "      <th>회사명</th>\n",
       "      <th>거래소코드</th>\n",
       "      <th>회계년도</th>\n",
       "      <th>유동자산(IFRS연결)</th>\n",
       "      <th>재고자산(IFRS연결)</th>\n",
       "      <th>유동부채(IFRS연결)</th>\n",
       "      <th>유동자산(IFRS개별)</th>\n",
       "      <th>재고자산(IFRS개별)</th>\n",
       "      <th>유동부채(IFRS개별)</th>\n",
       "    </tr>\n",
       "  </thead>\n",
       "  <tbody>\n",
       "    <tr>\n",
       "      <th>0</th>\n",
       "      <td>(주)CMG제약</td>\n",
       "      <td>58820</td>\n",
       "      <td>Dec-11</td>\n",
       "      <td>15341167.0</td>\n",
       "      <td>2743103.0</td>\n",
       "      <td>7633673.0</td>\n",
       "      <td>15264885.0</td>\n",
       "      <td>2743103.0</td>\n",
       "      <td>7620349.0</td>\n",
       "    </tr>\n",
       "  </tbody>\n",
       "</table>\n",
       "</div>"
      ],
      "text/plain": [
       "        회사명  거래소코드    회계년도  유동자산(IFRS연결)  재고자산(IFRS연결)  유동부채(IFRS연결)  \\\n",
       "0  (주)CMG제약  58820  Dec-11    15341167.0     2743103.0     7633673.0   \n",
       "\n",
       "   유동자산(IFRS개별)  재고자산(IFRS개별)  유동부채(IFRS개별)  \n",
       "0    15264885.0     2743103.0     7620349.0  "
      ]
     },
     "execution_count": 35,
     "metadata": {},
     "output_type": "execute_result"
    }
   ],
   "source": [
    "# 당좌비율\n",
    "dang_rate.head(1)"
   ]
  },
  {
   "cell_type": "code",
   "execution_count": 36,
   "metadata": {},
   "outputs": [],
   "source": [
    "cal_rate_sub(dang_rate, \"유동자산(IFRS개별)\", \"재고자산(IFRS개별)\", \"유동부채(IFRS개별)\", \"당좌비율(개별)\")\n",
    "cal_rate_sub(dang_rate, \"유동자산(IFRS연결)\", \"재고자산(IFRS연결)\", \"유동부채(IFRS연결)\", \"당좌비율(연결)\")\n",
    "dang_rate.to_csv(\"../csv_data/use/당좌비율_전처리.csv\", encoding=\"CP949\")"
   ]
  },
  {
   "cell_type": "code",
   "execution_count": 37,
   "metadata": {},
   "outputs": [
    {
     "data": {
      "text/html": [
       "<div>\n",
       "<style scoped>\n",
       "    .dataframe tbody tr th:only-of-type {\n",
       "        vertical-align: middle;\n",
       "    }\n",
       "\n",
       "    .dataframe tbody tr th {\n",
       "        vertical-align: top;\n",
       "    }\n",
       "\n",
       "    .dataframe thead th {\n",
       "        text-align: right;\n",
       "    }\n",
       "</style>\n",
       "<table border=\"1\" class=\"dataframe\">\n",
       "  <thead>\n",
       "    <tr style=\"text-align: right;\">\n",
       "      <th></th>\n",
       "      <th>회사명</th>\n",
       "      <th>거래소코드</th>\n",
       "      <th>회계년도</th>\n",
       "      <th>현금및현금성자산(IFRS연결)</th>\n",
       "      <th>유동부채(IFRS연결)</th>\n",
       "      <th>현금및현금성자산(IFRS개별)</th>\n",
       "      <th>유동부채(IFRS개별)</th>\n",
       "    </tr>\n",
       "  </thead>\n",
       "  <tbody>\n",
       "    <tr>\n",
       "      <th>0</th>\n",
       "      <td>(주)CMG제약</td>\n",
       "      <td>58820</td>\n",
       "      <td>Dec-11</td>\n",
       "      <td>1152489.0</td>\n",
       "      <td>7633673.0</td>\n",
       "      <td>1152489.0</td>\n",
       "      <td>7620349.0</td>\n",
       "    </tr>\n",
       "  </tbody>\n",
       "</table>\n",
       "</div>"
      ],
      "text/plain": [
       "        회사명  거래소코드    회계년도  현금및현금성자산(IFRS연결)  유동부채(IFRS연결)  현금및현금성자산(IFRS개별)  \\\n",
       "0  (주)CMG제약  58820  Dec-11         1152489.0     7633673.0         1152489.0   \n",
       "\n",
       "   유동부채(IFRS개별)  \n",
       "0     7620349.0  "
      ]
     },
     "execution_count": 37,
     "metadata": {},
     "output_type": "execute_result"
    }
   ],
   "source": [
    "# 현금비율\n",
    "cash_rate.head(1)"
   ]
  },
  {
   "cell_type": "code",
   "execution_count": 38,
   "metadata": {},
   "outputs": [],
   "source": [
    "cal_rate(cash_rate, \"현금및현금성자산(IFRS개별)\", \"유동부채(IFRS개별)\", \"현금비율(개별)\")\n",
    "cal_rate(cash_rate, \"현금및현금성자산(IFRS연결)\", \"유동부채(IFRS연결)\", \"현금비율(연결)\")\n",
    "cash_rate.to_csv(\"../csv_data/use/현금비율_전처리.csv\", encoding=\"CP949\")"
   ]
  },
  {
   "cell_type": "code",
   "execution_count": 39,
   "metadata": {},
   "outputs": [
    {
     "data": {
      "text/html": [
       "<div>\n",
       "<style scoped>\n",
       "    .dataframe tbody tr th:only-of-type {\n",
       "        vertical-align: middle;\n",
       "    }\n",
       "\n",
       "    .dataframe tbody tr th {\n",
       "        vertical-align: top;\n",
       "    }\n",
       "\n",
       "    .dataframe thead th {\n",
       "        text-align: right;\n",
       "    }\n",
       "</style>\n",
       "<table border=\"1\" class=\"dataframe\">\n",
       "  <thead>\n",
       "    <tr style=\"text-align: right;\">\n",
       "      <th></th>\n",
       "      <th>회사명</th>\n",
       "      <th>거래소코드</th>\n",
       "      <th>회계년도</th>\n",
       "      <th>부채(IFRS연결)</th>\n",
       "      <th>자본(IFRS연결)</th>\n",
       "      <th>부채(IFRS개별)</th>\n",
       "      <th>자본(IFRS개별)</th>\n",
       "    </tr>\n",
       "  </thead>\n",
       "  <tbody>\n",
       "    <tr>\n",
       "      <th>0</th>\n",
       "      <td>(주)CMG제약</td>\n",
       "      <td>58820</td>\n",
       "      <td>Dec-11</td>\n",
       "      <td>9270949.0</td>\n",
       "      <td>18034249.0</td>\n",
       "      <td>9257624.0</td>\n",
       "      <td>18290915.0</td>\n",
       "    </tr>\n",
       "  </tbody>\n",
       "</table>\n",
       "</div>"
      ],
      "text/plain": [
       "        회사명  거래소코드    회계년도  부채(IFRS연결)  자본(IFRS연결)  부채(IFRS개별)  자본(IFRS개별)\n",
       "0  (주)CMG제약  58820  Dec-11   9270949.0  18034249.0   9257624.0  18290915.0"
      ]
     },
     "execution_count": 39,
     "metadata": {},
     "output_type": "execute_result"
    }
   ],
   "source": [
    "# 부채비율\n",
    "dept_rate.head(1)"
   ]
  },
  {
   "cell_type": "code",
   "execution_count": 40,
   "metadata": {},
   "outputs": [],
   "source": [
    "cal_rate(dept_rate, \"부채(IFRS개별)\", \"자본(IFRS개별)\", \"부채비율(개별)\")\n",
    "cal_rate(dept_rate, \"부채(IFRS연결)\", \"자본(IFRS연결)\", \"부채비율(연결)\")\n",
    "dept_rate.to_csv(\"../csv_data/use/부채비율_전처리.csv\", encoding=\"CP949\")"
   ]
  },
  {
   "cell_type": "code",
   "execution_count": null,
   "metadata": {},
   "outputs": [
    {
     "data": {
      "text/html": [
       "<div>\n",
       "<style scoped>\n",
       "    .dataframe tbody tr th:only-of-type {\n",
       "        vertical-align: middle;\n",
       "    }\n",
       "\n",
       "    .dataframe tbody tr th {\n",
       "        vertical-align: top;\n",
       "    }\n",
       "\n",
       "    .dataframe thead th {\n",
       "        text-align: right;\n",
       "    }\n",
       "</style>\n",
       "<table border=\"1\" class=\"dataframe\">\n",
       "  <thead>\n",
       "    <tr style=\"text-align: right;\">\n",
       "      <th></th>\n",
       "      <th>회사명</th>\n",
       "      <th>거래소코드</th>\n",
       "      <th>회계년도</th>\n",
       "      <th>유동부채(IFRS연결)</th>\n",
       "      <th>부채(IFRS연결)</th>\n",
       "      <th>유동부채(IFRS개별)</th>\n",
       "      <th>부채(IFRS개별)</th>\n",
       "    </tr>\n",
       "  </thead>\n",
       "  <tbody>\n",
       "    <tr>\n",
       "      <th>0</th>\n",
       "      <td>(주)CMG제약</td>\n",
       "      <td>58820</td>\n",
       "      <td>Dec-11</td>\n",
       "      <td>7633673.0</td>\n",
       "      <td>9270949.0</td>\n",
       "      <td>7620349.0</td>\n",
       "      <td>9257624.0</td>\n",
       "    </tr>\n",
       "  </tbody>\n",
       "</table>\n",
       "</div>"
      ],
      "text/plain": [
       "        회사명  거래소코드    회계년도  유동부채(IFRS연결)  부채(IFRS연결)  유동부채(IFRS개별)  부채(IFRS개별)\n",
       "0  (주)CMG제약  58820  Dec-11     7633673.0   9270949.0     7620349.0   9257624.0"
      ]
     },
     "execution_count": 118,
     "metadata": {},
     "output_type": "execute_result"
    }
   ],
   "source": [
    "# 유동부채비율\n",
    "udong_dept.head(1)"
   ]
  },
  {
   "cell_type": "code",
   "execution_count": null,
   "metadata": {},
   "outputs": [],
   "source": [
    "cal_rate(udong_dept, \"유동부채(IFRS개별)\", \"부채(IFRS개별)\", \"유동부채(개별)\")\n",
    "cal_rate(udong_dept, \"유동부채(IFRS연결)\", \"부채(IFRS연결)\", \"유동부채(연결)\")\n",
    "udong_dept.to_csv(\"../csv_data/use/유동부채비율_전처리.csv\", encoding=\"CP949\")"
   ]
  },
  {
   "cell_type": "code",
   "execution_count": null,
   "metadata": {},
   "outputs": [
    {
     "data": {
      "text/html": [
       "<div>\n",
       "<style scoped>\n",
       "    .dataframe tbody tr th:only-of-type {\n",
       "        vertical-align: middle;\n",
       "    }\n",
       "\n",
       "    .dataframe tbody tr th {\n",
       "        vertical-align: top;\n",
       "    }\n",
       "\n",
       "    .dataframe thead th {\n",
       "        text-align: right;\n",
       "    }\n",
       "</style>\n",
       "<table border=\"1\" class=\"dataframe\">\n",
       "  <thead>\n",
       "    <tr style=\"text-align: right;\">\n",
       "      <th></th>\n",
       "      <th>회사명</th>\n",
       "      <th>거래소코드</th>\n",
       "      <th>회계년도</th>\n",
       "      <th>매출액(IFRS연결)</th>\n",
       "      <th>매출원가(IFRS연결)</th>\n",
       "      <th>매출액(IFRS개별)</th>\n",
       "      <th>매출원가(IFRS개별)</th>\n",
       "    </tr>\n",
       "  </thead>\n",
       "  <tbody>\n",
       "    <tr>\n",
       "      <th>0</th>\n",
       "      <td>(주)CMG제약</td>\n",
       "      <td>58820</td>\n",
       "      <td>Dec-11</td>\n",
       "      <td>17751704.0</td>\n",
       "      <td>10325799.0</td>\n",
       "      <td>17751704.0</td>\n",
       "      <td>10325799.0</td>\n",
       "    </tr>\n",
       "  </tbody>\n",
       "</table>\n",
       "</div>"
      ],
      "text/plain": [
       "        회사명  거래소코드    회계년도  매출액(IFRS연결)  매출원가(IFRS연결)  매출액(IFRS개별)  \\\n",
       "0  (주)CMG제약  58820  Dec-11   17751704.0    10325799.0   17751704.0   \n",
       "\n",
       "   매출원가(IFRS개별)  \n",
       "0    10325799.0  "
      ]
     },
     "execution_count": 120,
     "metadata": {},
     "output_type": "execute_result"
    }
   ],
   "source": [
    "# 매출액총이익률\n",
    "income_rate.head(1)"
   ]
  },
  {
   "cell_type": "code",
   "execution_count": null,
   "metadata": {},
   "outputs": [
    {
     "name": "stderr",
     "output_type": "stream",
     "text": [
      "C:\\Users\\luck1\\AppData\\Local\\Temp\\ipykernel_23568\\3833412330.py:52: RuntimeWarning: invalid value encountered in double_scalars\n",
      "  df_name.loc[i, d] = (df_name.iloc[i][a]-df_name.iloc[i][b])/df_name.iloc[i][c] * 100\n",
      "C:\\Users\\luck1\\AppData\\Local\\Temp\\ipykernel_23568\\3833412330.py:52: RuntimeWarning: invalid value encountered in double_scalars\n",
      "  df_name.loc[i, d] = (df_name.iloc[i][a]-df_name.iloc[i][b])/df_name.iloc[i][c] * 100\n"
     ]
    }
   ],
   "source": [
    "cal_rate_sub(income_rate, \"매출액(IFRS개별)\", \"매출원가(IFRS개별)\", \"매출액(IFRS개별)\",\"매출액총이익률(개별)\")\n",
    "cal_rate_sub(income_rate, \"매출액(IFRS연결)\", \"매출원가(IFRS연결)\", \"매출액(IFRS연결)\" ,\"매출액총이익률(연결)\")\n",
    "income_rate.to_csv(\"../csv_data/use/매출액_총_이익률_전처리.csv\", encoding=\"CP949\")"
   ]
  },
  {
   "cell_type": "code",
   "execution_count": null,
   "metadata": {},
   "outputs": [
    {
     "data": {
      "text/html": [
       "<div>\n",
       "<style scoped>\n",
       "    .dataframe tbody tr th:only-of-type {\n",
       "        vertical-align: middle;\n",
       "    }\n",
       "\n",
       "    .dataframe tbody tr th {\n",
       "        vertical-align: top;\n",
       "    }\n",
       "\n",
       "    .dataframe thead th {\n",
       "        text-align: right;\n",
       "    }\n",
       "</style>\n",
       "<table border=\"1\" class=\"dataframe\">\n",
       "  <thead>\n",
       "    <tr style=\"text-align: right;\">\n",
       "      <th></th>\n",
       "      <th>회사명</th>\n",
       "      <th>거래소코드</th>\n",
       "      <th>회계년도</th>\n",
       "      <th>당기순이익(IFRS연결)</th>\n",
       "      <th>매출액(IFRS연결)</th>\n",
       "      <th>당기순이익(IFRS개별)</th>\n",
       "      <th>매출액(IFRS개별)</th>\n",
       "    </tr>\n",
       "  </thead>\n",
       "  <tbody>\n",
       "    <tr>\n",
       "      <th>0</th>\n",
       "      <td>(주)CMG제약</td>\n",
       "      <td>58820</td>\n",
       "      <td>Dec-11</td>\n",
       "      <td>-1508282.0</td>\n",
       "      <td>17751704.0</td>\n",
       "      <td>-1264488.0</td>\n",
       "      <td>17751704.0</td>\n",
       "    </tr>\n",
       "  </tbody>\n",
       "</table>\n",
       "</div>"
      ],
      "text/plain": [
       "        회사명  거래소코드    회계년도  당기순이익(IFRS연결)  매출액(IFRS연결)  당기순이익(IFRS개별)  \\\n",
       "0  (주)CMG제약  58820  Dec-11     -1508282.0   17751704.0     -1264488.0   \n",
       "\n",
       "   매출액(IFRS개별)  \n",
       "0   17751704.0  "
      ]
     },
     "execution_count": 122,
     "metadata": {},
     "output_type": "execute_result"
    }
   ],
   "source": [
    "# 매출액순이익률\n",
    "income_real_rate.head(1)"
   ]
  },
  {
   "cell_type": "code",
   "execution_count": null,
   "metadata": {},
   "outputs": [
    {
     "name": "stderr",
     "output_type": "stream",
     "text": [
      "C:\\Users\\luck1\\AppData\\Local\\Temp\\ipykernel_23568\\3833412330.py:28: RuntimeWarning: divide by zero encountered in double_scalars\n",
      "  df_name.loc[i, c] = df_name.iloc[i][a]/df_name.iloc[i][b] * 100\n",
      "C:\\Users\\luck1\\AppData\\Local\\Temp\\ipykernel_23568\\3833412330.py:28: RuntimeWarning: divide by zero encountered in double_scalars\n",
      "  df_name.loc[i, c] = df_name.iloc[i][a]/df_name.iloc[i][b] * 100\n"
     ]
    }
   ],
   "source": [
    "cal_rate(income_real_rate, \"당기순이익(IFRS개별)\", \"매출액(IFRS개별)\",\"매출액순이익률(개별)\")\n",
    "cal_rate(income_real_rate, \"당기순이익(IFRS연결)\", \"매출액(IFRS연결)\" ,\"매출액순이익률(연결)\")\n",
    "income_real_rate.to_csv(\"../csv_data/use/매출액_순_이익률_전처리.csv\", encoding=\"CP949\")"
   ]
  },
  {
   "cell_type": "code",
   "execution_count": null,
   "metadata": {},
   "outputs": [
    {
     "data": {
      "text/html": [
       "<div>\n",
       "<style scoped>\n",
       "    .dataframe tbody tr th:only-of-type {\n",
       "        vertical-align: middle;\n",
       "    }\n",
       "\n",
       "    .dataframe tbody tr th {\n",
       "        vertical-align: top;\n",
       "    }\n",
       "\n",
       "    .dataframe thead th {\n",
       "        text-align: right;\n",
       "    }\n",
       "</style>\n",
       "<table border=\"1\" class=\"dataframe\">\n",
       "  <thead>\n",
       "    <tr style=\"text-align: right;\">\n",
       "      <th></th>\n",
       "      <th>회사명</th>\n",
       "      <th>거래소코드</th>\n",
       "      <th>회계년도</th>\n",
       "      <th>매출액(IFRS연결)</th>\n",
       "      <th>매출원가(IFRS연결)</th>\n",
       "      <th>판관비(IFRS연결)</th>\n",
       "      <th>매출액(IFRS개별)</th>\n",
       "      <th>매출원가(IFRS개별)</th>\n",
       "      <th>판관비(IFRS개별)</th>\n",
       "    </tr>\n",
       "  </thead>\n",
       "  <tbody>\n",
       "    <tr>\n",
       "      <th>0</th>\n",
       "      <td>(주)CMG제약</td>\n",
       "      <td>58820</td>\n",
       "      <td>Dec-11</td>\n",
       "      <td>17751704.0</td>\n",
       "      <td>10325799.0</td>\n",
       "      <td>6802089.0</td>\n",
       "      <td>17751704.0</td>\n",
       "      <td>10325799.0</td>\n",
       "      <td>6727421.0</td>\n",
       "    </tr>\n",
       "  </tbody>\n",
       "</table>\n",
       "</div>"
      ],
      "text/plain": [
       "        회사명  거래소코드    회계년도  매출액(IFRS연결)  매출원가(IFRS연결)  판관비(IFRS연결)  \\\n",
       "0  (주)CMG제약  58820  Dec-11   17751704.0    10325799.0    6802089.0   \n",
       "\n",
       "   매출액(IFRS개별)  매출원가(IFRS개별)  판관비(IFRS개별)  \n",
       "0   17751704.0    10325799.0    6727421.0  "
      ]
     },
     "execution_count": 124,
     "metadata": {},
     "output_type": "execute_result"
    }
   ],
   "source": [
    "# 매출액영업이익률\n",
    "income_sales_rate.head(1)"
   ]
  },
  {
   "cell_type": "code",
   "execution_count": null,
   "metadata": {},
   "outputs": [
    {
     "name": "stderr",
     "output_type": "stream",
     "text": [
      "C:\\Users\\luck1\\AppData\\Local\\Temp\\ipykernel_23568\\3833412330.py:76: RuntimeWarning: divide by zero encountered in double_scalars\n",
      "  df_name.loc[i, e] = (df_name.iloc[i][a]-df_name.iloc[i][b]-df_name.iloc[i][c])/df_name.iloc[i][d] * 100\n",
      "C:\\Users\\luck1\\AppData\\Local\\Temp\\ipykernel_23568\\3833412330.py:76: RuntimeWarning: divide by zero encountered in double_scalars\n",
      "  df_name.loc[i, e] = (df_name.iloc[i][a]-df_name.iloc[i][b]-df_name.iloc[i][c])/df_name.iloc[i][d] * 100\n"
     ]
    }
   ],
   "source": [
    "cal_rate_sub_three(income_sales_rate, \"매출액(IFRS개별)\", \"매출원가(IFRS개별)\", \"판관비(IFRS개별)\", \"매출액(IFRS개별)\", \"매출액영업이익률(개별)\")\n",
    "cal_rate_sub_three(income_sales_rate, \"매출액(IFRS연결)\", \"매출원가(IFRS연결)\", \"판관비(IFRS연결)\", \"매출액(IFRS연결)\", \"매출액영업이익률(연결)\")\n",
    "income_sales_rate.to_csv(\"../csv_data/use/매출액영업이익률_전처리.csv\", encoding=\"CP949\")"
   ]
  },
  {
   "cell_type": "code",
   "execution_count": null,
   "metadata": {},
   "outputs": [
    {
     "data": {
      "text/html": [
       "<div>\n",
       "<style scoped>\n",
       "    .dataframe tbody tr th:only-of-type {\n",
       "        vertical-align: middle;\n",
       "    }\n",
       "\n",
       "    .dataframe tbody tr th {\n",
       "        vertical-align: top;\n",
       "    }\n",
       "\n",
       "    .dataframe thead th {\n",
       "        text-align: right;\n",
       "    }\n",
       "</style>\n",
       "<table border=\"1\" class=\"dataframe\">\n",
       "  <thead>\n",
       "    <tr style=\"text-align: right;\">\n",
       "      <th></th>\n",
       "      <th>회사명</th>\n",
       "      <th>거래소코드</th>\n",
       "      <th>회계년도</th>\n",
       "      <th>매출액(IFRS연결)</th>\n",
       "      <th>매출원가(IFRS연결)</th>\n",
       "      <th>판관비(IFRS연결)</th>\n",
       "      <th>당기자본(IFRS연결)</th>\n",
       "      <th>전기자본(IFRS연결)</th>\n",
       "      <th>매출액(IFRS개별)</th>\n",
       "      <th>매출원가(IFRS연결).1</th>\n",
       "      <th>판관비(IFRS개별)</th>\n",
       "      <th>당기자본(IFRS개별)</th>\n",
       "      <th>전기자본(IFRS개별)</th>\n",
       "    </tr>\n",
       "  </thead>\n",
       "  <tbody>\n",
       "    <tr>\n",
       "      <th>0</th>\n",
       "      <td>(주)CMG제약</td>\n",
       "      <td>58820</td>\n",
       "      <td>Dec-11</td>\n",
       "      <td>17751704.0</td>\n",
       "      <td>10325799.0</td>\n",
       "      <td>6802089.0</td>\n",
       "      <td>18034249.0</td>\n",
       "      <td>18034249.0</td>\n",
       "      <td>17751704.0</td>\n",
       "      <td>10325799.0</td>\n",
       "      <td>6727421.0</td>\n",
       "      <td>18290915.0</td>\n",
       "      <td>18290915.0</td>\n",
       "    </tr>\n",
       "  </tbody>\n",
       "</table>\n",
       "</div>"
      ],
      "text/plain": [
       "        회사명  거래소코드    회계년도  매출액(IFRS연결)  매출원가(IFRS연결)  판관비(IFRS연결)  \\\n",
       "0  (주)CMG제약  58820  Dec-11   17751704.0    10325799.0    6802089.0   \n",
       "\n",
       "   당기자본(IFRS연결)  전기자본(IFRS연결)  매출액(IFRS개별)  매출원가(IFRS연결).1  판관비(IFRS개별)  \\\n",
       "0    18034249.0    18034249.0   17751704.0      10325799.0    6727421.0   \n",
       "\n",
       "   당기자본(IFRS개별)  전기자본(IFRS개별)  \n",
       "0    18290915.0    18290915.0  "
      ]
     },
     "execution_count": 126,
     "metadata": {},
     "output_type": "execute_result"
    }
   ],
   "source": [
    "# 총자본영업이익률\n",
    "total_sales_rate.head(1)"
   ]
  },
  {
   "cell_type": "code",
   "execution_count": null,
   "metadata": {},
   "outputs": [],
   "source": [
    "cal_total_income(total_sales_rate, \"매출액(IFRS개별)\", \"매출원가(IFRS연결).1\", \"판관비(IFRS개별)\", \"전기자본(IFRS개별)\", \"당기자본(IFRS개별)\", \"총자본영업이익률(개별)\")\n",
    "cal_total_income(total_sales_rate, \"매출액(IFRS연결)\", \"매출원가(IFRS연결)\", \"판관비(IFRS연결)\", \"전기자본(IFRS연결)\", \"당기자본(IFRS연결)\", \"총자본영업이익률(연결)\")\n",
    "total_sales_rate.to_csv(\"../csv_data/use/총자본영업이익률_전처리.csv\", encoding=\"CP949\")"
   ]
  },
  {
   "cell_type": "code",
   "execution_count": null,
   "metadata": {},
   "outputs": [
    {
     "data": {
      "text/html": [
       "<div>\n",
       "<style scoped>\n",
       "    .dataframe tbody tr th:only-of-type {\n",
       "        vertical-align: middle;\n",
       "    }\n",
       "\n",
       "    .dataframe tbody tr th {\n",
       "        vertical-align: top;\n",
       "    }\n",
       "\n",
       "    .dataframe thead th {\n",
       "        text-align: right;\n",
       "    }\n",
       "</style>\n",
       "<table border=\"1\" class=\"dataframe\">\n",
       "  <thead>\n",
       "    <tr style=\"text-align: right;\">\n",
       "      <th></th>\n",
       "      <th>회사명</th>\n",
       "      <th>거래소코드</th>\n",
       "      <th>회계년도</th>\n",
       "      <th>당기순이익(IFRS연결)</th>\n",
       "      <th>자산(IFRS연결)</th>\n",
       "      <th>당기순이익(IFRS개별)</th>\n",
       "      <th>자산(IFRS개별)</th>\n",
       "    </tr>\n",
       "  </thead>\n",
       "  <tbody>\n",
       "    <tr>\n",
       "      <th>0</th>\n",
       "      <td>(주)CMG제약</td>\n",
       "      <td>58820</td>\n",
       "      <td>Dec-11</td>\n",
       "      <td>-1508282.0</td>\n",
       "      <td>27305198.0</td>\n",
       "      <td>-1264488.0</td>\n",
       "      <td>27548539.0</td>\n",
       "    </tr>\n",
       "  </tbody>\n",
       "</table>\n",
       "</div>"
      ],
      "text/plain": [
       "        회사명  거래소코드    회계년도  당기순이익(IFRS연결)  자산(IFRS연결)  당기순이익(IFRS개별)  \\\n",
       "0  (주)CMG제약  58820  Dec-11     -1508282.0  27305198.0     -1264488.0   \n",
       "\n",
       "   자산(IFRS개별)  \n",
       "0  27548539.0  "
      ]
     },
     "execution_count": 128,
     "metadata": {},
     "output_type": "execute_result"
    }
   ],
   "source": [
    "#총자산순이익률\n",
    "total_real_rate.head(1)"
   ]
  },
  {
   "cell_type": "code",
   "execution_count": null,
   "metadata": {},
   "outputs": [],
   "source": [
    "cal_rate(total_real_rate, \"당기순이익(IFRS개별)\", \"자산(IFRS개별)\", \"총자산순이익률(개별)\")\n",
    "cal_rate(total_real_rate, \"당기순이익(IFRS연결)\", \"자산(IFRS연결)\", \"총자산순이익률(연결)\")\n",
    "total_real_rate.to_csv(\"../csv_data/use/총자산순이익률_전처리.csv\", encoding=\"CP949\")"
   ]
  },
  {
   "cell_type": "code",
   "execution_count": null,
   "metadata": {},
   "outputs": [],
   "source": [
    "# 차입금의존도\n",
    "chaip.head(1)"
   ]
  },
  {
   "cell_type": "code",
   "execution_count": null,
   "metadata": {},
   "outputs": [],
   "source": [
    "chaip[\"자산(IFRS개별)\"] = total_real_rate[\"자산(IFRS개별)\"]\n",
    "\n",
    "cal_rate_add_three(chaip, \"장기차입금(IFRS개별)\", \"단기차입금(IFRS개별)\", \"회사채(IFRS개별)\", \"자산(IFRS개별)\", \"차입금의존도(개별)\")\n",
    "cal_rate_add_three(chaip, \"장기차입금(IFRS연결)\", \"단기차입금(IFRS연결)\", \"회사채(IFRS연결)\", \"자산(IFRS연결)\", \"차입금의존도(연결)\")\n",
    "chaip.to_csv(\"../csv_data/use/차입금의존도_전처리.csv\", encoding=\"CP949\")"
   ]
  },
  {
   "cell_type": "code",
   "execution_count": null,
   "metadata": {},
   "outputs": [
    {
     "data": {
      "text/html": [
       "<div>\n",
       "<style scoped>\n",
       "    .dataframe tbody tr th:only-of-type {\n",
       "        vertical-align: middle;\n",
       "    }\n",
       "\n",
       "    .dataframe tbody tr th {\n",
       "        vertical-align: top;\n",
       "    }\n",
       "\n",
       "    .dataframe thead th {\n",
       "        text-align: right;\n",
       "    }\n",
       "</style>\n",
       "<table border=\"1\" class=\"dataframe\">\n",
       "  <thead>\n",
       "    <tr style=\"text-align: right;\">\n",
       "      <th></th>\n",
       "      <th>회사명</th>\n",
       "      <th>거래소코드</th>\n",
       "      <th>회계년도</th>\n",
       "      <th>당기자산(IFRS연결)</th>\n",
       "      <th>전기자산(IFRS연결)</th>\n",
       "      <th>당기자산(IFRS개별)</th>\n",
       "      <th>전기자산(IFRS개별)</th>\n",
       "    </tr>\n",
       "  </thead>\n",
       "  <tbody>\n",
       "    <tr>\n",
       "      <th>0</th>\n",
       "      <td>(주)CMG제약</td>\n",
       "      <td>58820</td>\n",
       "      <td>Dec-11</td>\n",
       "      <td>27305198.0</td>\n",
       "      <td>27305198.0</td>\n",
       "      <td>27548539.0</td>\n",
       "      <td>27548539.0</td>\n",
       "    </tr>\n",
       "  </tbody>\n",
       "</table>\n",
       "</div>"
      ],
      "text/plain": [
       "        회사명  거래소코드    회계년도  당기자산(IFRS연결)  전기자산(IFRS연결)  당기자산(IFRS개별)  \\\n",
       "0  (주)CMG제약  58820  Dec-11    27305198.0    27305198.0    27548539.0   \n",
       "\n",
       "   전기자산(IFRS개별)  \n",
       "0    27548539.0  "
      ]
     },
     "execution_count": 130,
     "metadata": {},
     "output_type": "execute_result"
    }
   ],
   "source": [
    "# 총자산증가율\n",
    "total_money_rate.head(1)"
   ]
  },
  {
   "cell_type": "code",
   "execution_count": null,
   "metadata": {},
   "outputs": [
    {
     "name": "stderr",
     "output_type": "stream",
     "text": [
      "C:\\Users\\luck1\\AppData\\Local\\Temp\\ipykernel_23568\\3833412330.py:148: RuntimeWarning: divide by zero encountered in double_scalars\n",
      "  df_name.loc[i, c] = ((df_name.iloc[i][a] / df_name.iloc[i][b])*100)-100\n",
      "C:\\Users\\luck1\\AppData\\Local\\Temp\\ipykernel_23568\\3833412330.py:148: RuntimeWarning: divide by zero encountered in double_scalars\n",
      "  df_name.loc[i, c] = ((df_name.iloc[i][a] / df_name.iloc[i][b])*100)-100\n"
     ]
    }
   ],
   "source": [
    "cal_total_money(total_money_rate, \"당기자산(IFRS개별)\", \"전기자산(IFRS개별)\", \"총자산증가율(개별)\")\n",
    "cal_total_money(total_money_rate, \"당기자산(IFRS개별)\", \"전기자산(IFRS연결)\", \"총자산증가율(연결)\")\n",
    "total_money_rate.to_csv(\"../csv_data/use/총자산증가율_전처리.csv\", encoding=\"CP949\")"
   ]
  },
  {
   "cell_type": "code",
   "execution_count": null,
   "metadata": {},
   "outputs": [
    {
     "data": {
      "text/html": [
       "<div>\n",
       "<style scoped>\n",
       "    .dataframe tbody tr th:only-of-type {\n",
       "        vertical-align: middle;\n",
       "    }\n",
       "\n",
       "    .dataframe tbody tr th {\n",
       "        vertical-align: top;\n",
       "    }\n",
       "\n",
       "    .dataframe thead th {\n",
       "        text-align: right;\n",
       "    }\n",
       "</style>\n",
       "<table border=\"1\" class=\"dataframe\">\n",
       "  <thead>\n",
       "    <tr style=\"text-align: right;\">\n",
       "      <th></th>\n",
       "      <th>회사명</th>\n",
       "      <th>거래소코드</th>\n",
       "      <th>회계년도</th>\n",
       "      <th>당기유동자산(IFRS연결)</th>\n",
       "      <th>전기유동자산(IFRS연결)</th>\n",
       "      <th>당기유동자산(IFRS개별)</th>\n",
       "      <th>전기유동자산(IFRS개별)</th>\n",
       "    </tr>\n",
       "  </thead>\n",
       "  <tbody>\n",
       "    <tr>\n",
       "      <th>0</th>\n",
       "      <td>(주)CMG제약</td>\n",
       "      <td>58820</td>\n",
       "      <td>Dec-11</td>\n",
       "      <td>15341167.0</td>\n",
       "      <td>15341167.0</td>\n",
       "      <td>15264885.0</td>\n",
       "      <td>15264885.0</td>\n",
       "    </tr>\n",
       "  </tbody>\n",
       "</table>\n",
       "</div>"
      ],
      "text/plain": [
       "        회사명  거래소코드    회계년도  당기유동자산(IFRS연결)  전기유동자산(IFRS연결)  당기유동자산(IFRS개별)  \\\n",
       "0  (주)CMG제약  58820  Dec-11      15341167.0      15341167.0      15264885.0   \n",
       "\n",
       "   전기유동자산(IFRS개별)  \n",
       "0      15264885.0  "
      ]
     },
     "execution_count": 132,
     "metadata": {},
     "output_type": "execute_result"
    }
   ],
   "source": [
    "# 유동자산증가율\n",
    "udong_money_rate.head(1)"
   ]
  },
  {
   "cell_type": "code",
   "execution_count": null,
   "metadata": {},
   "outputs": [
    {
     "name": "stderr",
     "output_type": "stream",
     "text": [
      "C:\\Users\\luck1\\AppData\\Local\\Temp\\ipykernel_23568\\3833412330.py:148: RuntimeWarning: divide by zero encountered in double_scalars\n",
      "  df_name.loc[i, c] = ((df_name.iloc[i][a] / df_name.iloc[i][b])*100)-100\n",
      "C:\\Users\\luck1\\AppData\\Local\\Temp\\ipykernel_23568\\3833412330.py:148: RuntimeWarning: divide by zero encountered in double_scalars\n",
      "  df_name.loc[i, c] = ((df_name.iloc[i][a] / df_name.iloc[i][b])*100)-100\n"
     ]
    }
   ],
   "source": [
    "cal_total_money(udong_money_rate, \"당기유동자산(IFRS개별)\", \"전기유동자산(IFRS개별)\", \"유동자산증가율(개별)\")\n",
    "cal_total_money(udong_money_rate, \"당기유동자산(IFRS개별)\", \"전기유동자산(IFRS연결)\", \"유동자산증가율(연결)\")\n",
    "udong_money_rate.to_csv(\"../csv_data/use/유동자산증가율_전처리.csv\", encoding=\"CP949\")"
   ]
  },
  {
   "cell_type": "code",
   "execution_count": null,
   "metadata": {},
   "outputs": [
    {
     "data": {
      "text/html": [
       "<div>\n",
       "<style scoped>\n",
       "    .dataframe tbody tr th:only-of-type {\n",
       "        vertical-align: middle;\n",
       "    }\n",
       "\n",
       "    .dataframe tbody tr th {\n",
       "        vertical-align: top;\n",
       "    }\n",
       "\n",
       "    .dataframe thead th {\n",
       "        text-align: right;\n",
       "    }\n",
       "</style>\n",
       "<table border=\"1\" class=\"dataframe\">\n",
       "  <thead>\n",
       "    <tr style=\"text-align: right;\">\n",
       "      <th></th>\n",
       "      <th>회사명</th>\n",
       "      <th>거래소코드</th>\n",
       "      <th>회계년도</th>\n",
       "      <th>당기매출액(IFRS연결)</th>\n",
       "      <th>전기매출액(IFRS연결)</th>\n",
       "      <th>당기매출액(IFRS개별)</th>\n",
       "      <th>전기매출액(IFRS개별)</th>\n",
       "    </tr>\n",
       "  </thead>\n",
       "  <tbody>\n",
       "    <tr>\n",
       "      <th>0</th>\n",
       "      <td>(주)CMG제약</td>\n",
       "      <td>58820</td>\n",
       "      <td>Dec-11</td>\n",
       "      <td>17751704.0</td>\n",
       "      <td>17751704.0</td>\n",
       "      <td>17751704.0</td>\n",
       "      <td>17751704.0</td>\n",
       "    </tr>\n",
       "  </tbody>\n",
       "</table>\n",
       "</div>"
      ],
      "text/plain": [
       "        회사명  거래소코드    회계년도  당기매출액(IFRS연결)  전기매출액(IFRS연결)  당기매출액(IFRS개별)  \\\n",
       "0  (주)CMG제약  58820  Dec-11     17751704.0     17751704.0     17751704.0   \n",
       "\n",
       "   전기매출액(IFRS개별)  \n",
       "0     17751704.0  "
      ]
     },
     "execution_count": 134,
     "metadata": {},
     "output_type": "execute_result"
    }
   ],
   "source": [
    "# 매출액증가율\n",
    "incoming_rate.head(1)"
   ]
  },
  {
   "cell_type": "code",
   "execution_count": null,
   "metadata": {},
   "outputs": [
    {
     "name": "stderr",
     "output_type": "stream",
     "text": [
      "C:\\Users\\luck1\\AppData\\Local\\Temp\\ipykernel_23568\\3833412330.py:148: RuntimeWarning: invalid value encountered in double_scalars\n",
      "  df_name.loc[i, c] = ((df_name.iloc[i][a] / df_name.iloc[i][b])*100)-100\n",
      "C:\\Users\\luck1\\AppData\\Local\\Temp\\ipykernel_23568\\3833412330.py:148: RuntimeWarning: divide by zero encountered in double_scalars\n",
      "  df_name.loc[i, c] = ((df_name.iloc[i][a] / df_name.iloc[i][b])*100)-100\n",
      "C:\\Users\\luck1\\AppData\\Local\\Temp\\ipykernel_23568\\3833412330.py:148: RuntimeWarning: divide by zero encountered in double_scalars\n",
      "  df_name.loc[i, c] = ((df_name.iloc[i][a] / df_name.iloc[i][b])*100)-100\n",
      "C:\\Users\\luck1\\AppData\\Local\\Temp\\ipykernel_23568\\3833412330.py:148: RuntimeWarning: invalid value encountered in double_scalars\n",
      "  df_name.loc[i, c] = ((df_name.iloc[i][a] / df_name.iloc[i][b])*100)-100\n"
     ]
    }
   ],
   "source": [
    "cal_total_money(incoming_rate, \"당기매출액(IFRS개별)\", \"전기매출액(IFRS개별)\", \"매출액증가율(개별)\")\n",
    "cal_total_money(incoming_rate, \"당기매출액(IFRS개별)\", \"전기매출액(IFRS연결)\", \"매출액증가율(연결)\")\n",
    "incoming_rate.to_csv(\"../csv_data/use/매출액증가율_전처리.csv\", encoding=\"CP949\")"
   ]
  },
  {
   "cell_type": "code",
   "execution_count": null,
   "metadata": {},
   "outputs": [
    {
     "data": {
      "text/html": [
       "<div>\n",
       "<style scoped>\n",
       "    .dataframe tbody tr th:only-of-type {\n",
       "        vertical-align: middle;\n",
       "    }\n",
       "\n",
       "    .dataframe tbody tr th {\n",
       "        vertical-align: top;\n",
       "    }\n",
       "\n",
       "    .dataframe thead th {\n",
       "        text-align: right;\n",
       "    }\n",
       "</style>\n",
       "<table border=\"1\" class=\"dataframe\">\n",
       "  <thead>\n",
       "    <tr style=\"text-align: right;\">\n",
       "      <th></th>\n",
       "      <th>회사명</th>\n",
       "      <th>거래소코드</th>\n",
       "      <th>회계년도</th>\n",
       "      <th>당기유형자산(IFRS연결)</th>\n",
       "      <th>전기유형자산(IFRS연결)</th>\n",
       "      <th>당기유형자산(IFRS개별)</th>\n",
       "      <th>전기유형자산(IFRS개별)</th>\n",
       "    </tr>\n",
       "  </thead>\n",
       "  <tbody>\n",
       "    <tr>\n",
       "      <th>0</th>\n",
       "      <td>(주)CMG제약</td>\n",
       "      <td>58820</td>\n",
       "      <td>Dec-11</td>\n",
       "      <td>9707759.0</td>\n",
       "      <td>9707759.0</td>\n",
       "      <td>9652599.0</td>\n",
       "      <td>9652599.0</td>\n",
       "    </tr>\n",
       "  </tbody>\n",
       "</table>\n",
       "</div>"
      ],
      "text/plain": [
       "        회사명  거래소코드    회계년도  당기유형자산(IFRS연결)  전기유형자산(IFRS연결)  당기유형자산(IFRS개별)  \\\n",
       "0  (주)CMG제약  58820  Dec-11       9707759.0       9707759.0       9652599.0   \n",
       "\n",
       "   전기유형자산(IFRS개별)  \n",
       "0       9652599.0  "
      ]
     },
     "execution_count": 136,
     "metadata": {},
     "output_type": "execute_result"
    }
   ],
   "source": [
    "# 유형자산증가율\n",
    "u_money_rate.head(1)"
   ]
  },
  {
   "cell_type": "code",
   "execution_count": null,
   "metadata": {},
   "outputs": [
    {
     "name": "stderr",
     "output_type": "stream",
     "text": [
      "C:\\Users\\luck1\\AppData\\Local\\Temp\\ipykernel_23568\\3833412330.py:148: RuntimeWarning: invalid value encountered in double_scalars\n",
      "  df_name.loc[i, c] = ((df_name.iloc[i][a] / df_name.iloc[i][b])*100)-100\n",
      "C:\\Users\\luck1\\AppData\\Local\\Temp\\ipykernel_23568\\3833412330.py:148: RuntimeWarning: divide by zero encountered in double_scalars\n",
      "  df_name.loc[i, c] = ((df_name.iloc[i][a] / df_name.iloc[i][b])*100)-100\n",
      "C:\\Users\\luck1\\AppData\\Local\\Temp\\ipykernel_23568\\3833412330.py:148: RuntimeWarning: divide by zero encountered in double_scalars\n",
      "  df_name.loc[i, c] = ((df_name.iloc[i][a] / df_name.iloc[i][b])*100)-100\n",
      "C:\\Users\\luck1\\AppData\\Local\\Temp\\ipykernel_23568\\3833412330.py:148: RuntimeWarning: invalid value encountered in double_scalars\n",
      "  df_name.loc[i, c] = ((df_name.iloc[i][a] / df_name.iloc[i][b])*100)-100\n"
     ]
    }
   ],
   "source": [
    "cal_total_money(u_money_rate, \"당기유형자산(IFRS개별)\", \"전기유형자산(IFRS개별)\", \"유형자산증가율(개별)\")\n",
    "cal_total_money(u_money_rate, \"당기유형자산(IFRS개별)\", \"전기유형자산(IFRS연결)\", \"유형자산증가율(연결)\")\n",
    "u_money_rate.to_csv(\"../csv_data/use/유형자산증가율_전처리.csv\", encoding=\"CP949\")"
   ]
  },
  {
   "cell_type": "code",
   "execution_count": null,
   "metadata": {},
   "outputs": [
    {
     "data": {
      "text/html": [
       "<div>\n",
       "<style scoped>\n",
       "    .dataframe tbody tr th:only-of-type {\n",
       "        vertical-align: middle;\n",
       "    }\n",
       "\n",
       "    .dataframe tbody tr th {\n",
       "        vertical-align: top;\n",
       "    }\n",
       "\n",
       "    .dataframe thead th {\n",
       "        text-align: right;\n",
       "    }\n",
       "</style>\n",
       "<table border=\"1\" class=\"dataframe\">\n",
       "  <thead>\n",
       "    <tr style=\"text-align: right;\">\n",
       "      <th></th>\n",
       "      <th>회사명</th>\n",
       "      <th>거래소코드</th>\n",
       "      <th>회계년도</th>\n",
       "      <th>당기재고자산(IFRS연결)</th>\n",
       "      <th>전기재고자산(IFRS연결)</th>\n",
       "      <th>당기재고자산(IFRS개별)</th>\n",
       "      <th>전기재고자산(IFRS개별)</th>\n",
       "    </tr>\n",
       "  </thead>\n",
       "  <tbody>\n",
       "    <tr>\n",
       "      <th>0</th>\n",
       "      <td>(주)CMG제약</td>\n",
       "      <td>58820</td>\n",
       "      <td>Dec-11</td>\n",
       "      <td>2743103.0</td>\n",
       "      <td>2743103.0</td>\n",
       "      <td>2743103.0</td>\n",
       "      <td>2743103.0</td>\n",
       "    </tr>\n",
       "  </tbody>\n",
       "</table>\n",
       "</div>"
      ],
      "text/plain": [
       "        회사명  거래소코드    회계년도  당기재고자산(IFRS연결)  전기재고자산(IFRS연결)  당기재고자산(IFRS개별)  \\\n",
       "0  (주)CMG제약  58820  Dec-11       2743103.0       2743103.0       2743103.0   \n",
       "\n",
       "   전기재고자산(IFRS개별)  \n",
       "0       2743103.0  "
      ]
     },
     "execution_count": 138,
     "metadata": {},
     "output_type": "execute_result"
    }
   ],
   "source": [
    "# 재고자산증가율\n",
    "jego_money_rate.head(1)"
   ]
  },
  {
   "cell_type": "code",
   "execution_count": null,
   "metadata": {},
   "outputs": [
    {
     "name": "stderr",
     "output_type": "stream",
     "text": [
      "C:\\Users\\luck1\\AppData\\Local\\Temp\\ipykernel_23568\\3833412330.py:148: RuntimeWarning: invalid value encountered in double_scalars\n",
      "  df_name.loc[i, c] = ((df_name.iloc[i][a] / df_name.iloc[i][b])*100)-100\n",
      "C:\\Users\\luck1\\AppData\\Local\\Temp\\ipykernel_23568\\3833412330.py:148: RuntimeWarning: divide by zero encountered in double_scalars\n",
      "  df_name.loc[i, c] = ((df_name.iloc[i][a] / df_name.iloc[i][b])*100)-100\n",
      "C:\\Users\\luck1\\AppData\\Local\\Temp\\ipykernel_23568\\3833412330.py:148: RuntimeWarning: invalid value encountered in double_scalars\n",
      "  df_name.loc[i, c] = ((df_name.iloc[i][a] / df_name.iloc[i][b])*100)-100\n",
      "C:\\Users\\luck1\\AppData\\Local\\Temp\\ipykernel_23568\\3833412330.py:148: RuntimeWarning: divide by zero encountered in double_scalars\n",
      "  df_name.loc[i, c] = ((df_name.iloc[i][a] / df_name.iloc[i][b])*100)-100\n"
     ]
    }
   ],
   "source": [
    "cal_total_money(jego_money_rate, \"당기재고자산(IFRS개별)\", \"전기재고자산(IFRS개별)\", \"재고자산증가율(개별)\")\n",
    "cal_total_money(jego_money_rate, \"당기재고자산(IFRS개별)\", \"전기재고자산(IFRS연결)\", \"재고자산증가율(연결)\")\n",
    "jego_money_rate.to_csv(\"../csv_data/use/재고자산증가율_전처리.csv\", encoding=\"CP949\")"
   ]
  },
  {
   "cell_type": "code",
   "execution_count": null,
   "metadata": {},
   "outputs": [
    {
     "data": {
      "text/html": [
       "<div>\n",
       "<style scoped>\n",
       "    .dataframe tbody tr th:only-of-type {\n",
       "        vertical-align: middle;\n",
       "    }\n",
       "\n",
       "    .dataframe tbody tr th {\n",
       "        vertical-align: top;\n",
       "    }\n",
       "\n",
       "    .dataframe thead th {\n",
       "        text-align: right;\n",
       "    }\n",
       "</style>\n",
       "<table border=\"1\" class=\"dataframe\">\n",
       "  <thead>\n",
       "    <tr style=\"text-align: right;\">\n",
       "      <th></th>\n",
       "      <th>회사명</th>\n",
       "      <th>거래소코드</th>\n",
       "      <th>회계년도</th>\n",
       "      <th>당기자본(IFRS연결)</th>\n",
       "      <th>전기자본(IFRS연결)</th>\n",
       "      <th>당기자본(IFRS개별)</th>\n",
       "      <th>전기자본(IFRS개별)</th>\n",
       "    </tr>\n",
       "  </thead>\n",
       "  <tbody>\n",
       "    <tr>\n",
       "      <th>0</th>\n",
       "      <td>(주)CMG제약</td>\n",
       "      <td>58820</td>\n",
       "      <td>Dec-11</td>\n",
       "      <td>18034249.0</td>\n",
       "      <td>18034249.0</td>\n",
       "      <td>18290915.0</td>\n",
       "      <td>18290915.0</td>\n",
       "    </tr>\n",
       "  </tbody>\n",
       "</table>\n",
       "</div>"
      ],
      "text/plain": [
       "        회사명  거래소코드    회계년도  당기자본(IFRS연결)  전기자본(IFRS연결)  당기자본(IFRS개별)  \\\n",
       "0  (주)CMG제약  58820  Dec-11    18034249.0    18034249.0    18290915.0   \n",
       "\n",
       "   전기자본(IFRS개별)  \n",
       "0    18290915.0  "
      ]
     },
     "execution_count": 140,
     "metadata": {},
     "output_type": "execute_result"
    }
   ],
   "source": [
    "# 자기자본증가율\n",
    "self_money_rate.head(1)"
   ]
  },
  {
   "cell_type": "code",
   "execution_count": null,
   "metadata": {},
   "outputs": [
    {
     "name": "stderr",
     "output_type": "stream",
     "text": [
      "C:\\Users\\luck1\\AppData\\Local\\Temp\\ipykernel_23568\\3833412330.py:148: RuntimeWarning: divide by zero encountered in double_scalars\n",
      "  df_name.loc[i, c] = ((df_name.iloc[i][a] / df_name.iloc[i][b])*100)-100\n",
      "C:\\Users\\luck1\\AppData\\Local\\Temp\\ipykernel_23568\\3833412330.py:148: RuntimeWarning: divide by zero encountered in double_scalars\n",
      "  df_name.loc[i, c] = ((df_name.iloc[i][a] / df_name.iloc[i][b])*100)-100\n"
     ]
    }
   ],
   "source": [
    "cal_total_money(self_money_rate, \"당기자본(IFRS개별)\", \"전기자본(IFRS개별)\", \"자본증가율(개별)\")\n",
    "cal_total_money(self_money_rate, \"당기자본(IFRS개별)\", \"전기자본(IFRS연결)\", \"자본증가율(연결)\")\n",
    "self_money_rate.to_csv(\"../csv_data/use/자기자본증가율_전처리.csv\", encoding=\"CP949\")"
   ]
  },
  {
   "cell_type": "code",
   "execution_count": null,
   "metadata": {},
   "outputs": [
    {
     "data": {
      "text/html": [
       "<div>\n",
       "<style scoped>\n",
       "    .dataframe tbody tr th:only-of-type {\n",
       "        vertical-align: middle;\n",
       "    }\n",
       "\n",
       "    .dataframe tbody tr th {\n",
       "        vertical-align: top;\n",
       "    }\n",
       "\n",
       "    .dataframe thead th {\n",
       "        text-align: right;\n",
       "    }\n",
       "</style>\n",
       "<table border=\"1\" class=\"dataframe\">\n",
       "  <thead>\n",
       "    <tr style=\"text-align: right;\">\n",
       "      <th></th>\n",
       "      <th>회사명</th>\n",
       "      <th>거래소코드</th>\n",
       "      <th>회계년도</th>\n",
       "      <th>당기순이익(IFRS연결)</th>\n",
       "      <th>전기순이익(IFRS연결)</th>\n",
       "      <th>당기순이익(IFRS개별)</th>\n",
       "      <th>전기순이익(IFRS개별)</th>\n",
       "    </tr>\n",
       "  </thead>\n",
       "  <tbody>\n",
       "    <tr>\n",
       "      <th>0</th>\n",
       "      <td>(주)CMG제약</td>\n",
       "      <td>58820</td>\n",
       "      <td>Dec-11</td>\n",
       "      <td>-1508282.0</td>\n",
       "      <td>-1508282.0</td>\n",
       "      <td>-1264488.0</td>\n",
       "      <td>-1264488.0</td>\n",
       "    </tr>\n",
       "  </tbody>\n",
       "</table>\n",
       "</div>"
      ],
      "text/plain": [
       "        회사명  거래소코드    회계년도  당기순이익(IFRS연결)  전기순이익(IFRS연결)  당기순이익(IFRS개별)  \\\n",
       "0  (주)CMG제약  58820  Dec-11     -1508282.0     -1508282.0     -1264488.0   \n",
       "\n",
       "   전기순이익(IFRS개별)  \n",
       "0     -1264488.0  "
      ]
     },
     "execution_count": 142,
     "metadata": {},
     "output_type": "execute_result"
    }
   ],
   "source": [
    "# 순이익증가율\n",
    "pure_income_rate.head(1)"
   ]
  },
  {
   "cell_type": "code",
   "execution_count": null,
   "metadata": {},
   "outputs": [
    {
     "name": "stderr",
     "output_type": "stream",
     "text": [
      "C:\\Users\\luck1\\AppData\\Local\\Temp\\ipykernel_23568\\3833412330.py:148: RuntimeWarning: divide by zero encountered in double_scalars\n",
      "  df_name.loc[i, c] = ((df_name.iloc[i][a] / df_name.iloc[i][b])*100)-100\n",
      "C:\\Users\\luck1\\AppData\\Local\\Temp\\ipykernel_23568\\3833412330.py:148: RuntimeWarning: divide by zero encountered in double_scalars\n",
      "  df_name.loc[i, c] = ((df_name.iloc[i][a] / df_name.iloc[i][b])*100)-100\n"
     ]
    }
   ],
   "source": [
    "cal_total_money(pure_income_rate, \"당기순이익(IFRS개별)\", \"전기순이익(IFRS개별)\", \"순이익증가율(개별)\")\n",
    "cal_total_money(pure_income_rate, \"당기순이익(IFRS개별)\", \"전기순이익(IFRS연결)\", \"순이익증가율(연결)\")\n",
    "pure_income_rate.to_csv(\"../csv_data/use/순이익증가율_전처리.csv\", encoding=\"CP949\")"
   ]
  },
  {
   "cell_type": "code",
   "execution_count": null,
   "metadata": {},
   "outputs": [
    {
     "data": {
      "text/html": [
       "<div>\n",
       "<style scoped>\n",
       "    .dataframe tbody tr th:only-of-type {\n",
       "        vertical-align: middle;\n",
       "    }\n",
       "\n",
       "    .dataframe tbody tr th {\n",
       "        vertical-align: top;\n",
       "    }\n",
       "\n",
       "    .dataframe thead th {\n",
       "        text-align: right;\n",
       "    }\n",
       "</style>\n",
       "<table border=\"1\" class=\"dataframe\">\n",
       "  <thead>\n",
       "    <tr style=\"text-align: right;\">\n",
       "      <th></th>\n",
       "      <th>회사명</th>\n",
       "      <th>거래소코드</th>\n",
       "      <th>회계년도</th>\n",
       "      <th>당기매출액(IFRS연결)</th>\n",
       "      <th>당기매출원가(IFRS연결)</th>\n",
       "      <th>당기판관비(IFRS연결)</th>\n",
       "      <th>전기매출액(IFRS연결)</th>\n",
       "      <th>전기매출원가(IFRS연결)</th>\n",
       "      <th>전기판관비(IFRS연결)</th>\n",
       "      <th>당기매출액(IFRS개별)</th>\n",
       "      <th>당기매출원가(IFRS개별)</th>\n",
       "      <th>당기판관비(IFRS개별)</th>\n",
       "      <th>전기매출액(IFRS개별)</th>\n",
       "      <th>전기매출원가(IFRS개별)</th>\n",
       "      <th>전기판관비(IFRS개별)</th>\n",
       "    </tr>\n",
       "  </thead>\n",
       "  <tbody>\n",
       "    <tr>\n",
       "      <th>0</th>\n",
       "      <td>(주)CMG제약</td>\n",
       "      <td>58820</td>\n",
       "      <td>Dec-11</td>\n",
       "      <td>17751704.0</td>\n",
       "      <td>10325799.0</td>\n",
       "      <td>6802089.0</td>\n",
       "      <td>17751704.0</td>\n",
       "      <td>10325799.0</td>\n",
       "      <td>6802089.0</td>\n",
       "      <td>17751704.0</td>\n",
       "      <td>10325799.0</td>\n",
       "      <td>6727421.0</td>\n",
       "      <td>17751704.0</td>\n",
       "      <td>10325799.0</td>\n",
       "      <td>6727421.0</td>\n",
       "    </tr>\n",
       "  </tbody>\n",
       "</table>\n",
       "</div>"
      ],
      "text/plain": [
       "        회사명  거래소코드    회계년도  당기매출액(IFRS연결)  당기매출원가(IFRS연결)  당기판관비(IFRS연결)  \\\n",
       "0  (주)CMG제약  58820  Dec-11     17751704.0      10325799.0      6802089.0   \n",
       "\n",
       "   전기매출액(IFRS연결)  전기매출원가(IFRS연결)  전기판관비(IFRS연결)  당기매출액(IFRS개별)  \\\n",
       "0     17751704.0      10325799.0      6802089.0     17751704.0   \n",
       "\n",
       "   당기매출원가(IFRS개별)  당기판관비(IFRS개별)  전기매출액(IFRS개별)  전기매출원가(IFRS개별)  전기판관비(IFRS개별)  \n",
       "0      10325799.0      6727421.0     17751704.0      10325799.0      6727421.0  "
      ]
     },
     "execution_count": 144,
     "metadata": {},
     "output_type": "execute_result"
    }
   ],
   "source": [
    "# 영업이익증가율\n",
    "working_money_rate.head(1)"
   ]
  },
  {
   "cell_type": "code",
   "execution_count": null,
   "metadata": {},
   "outputs": [
    {
     "name": "stderr",
     "output_type": "stream",
     "text": [
      "C:\\Users\\luck1\\AppData\\Local\\Temp\\ipykernel_23568\\3833412330.py:160: RuntimeWarning: divide by zero encountered in double_scalars\n",
      "  df_name.loc[i, g] = ((df_name.iloc[i][a] - df_name.iloc[i][b] - df_name.iloc[i][c])/((df_name.iloc[i][d] + df_name.iloc[i][e] + df_name.iloc[i][f]))*100)-100\n",
      "C:\\Users\\luck1\\AppData\\Local\\Temp\\ipykernel_23568\\3833412330.py:160: RuntimeWarning: divide by zero encountered in double_scalars\n",
      "  df_name.loc[i, g] = ((df_name.iloc[i][a] - df_name.iloc[i][b] - df_name.iloc[i][c])/((df_name.iloc[i][d] + df_name.iloc[i][e] + df_name.iloc[i][f]))*100)-100\n"
     ]
    }
   ],
   "source": [
    "cal_working_money(working_money_rate, \"당기매출액(IFRS개별)\", \"당기매출원가(IFRS개별)\", \"당기판관비(IFRS개별)\", \"전기매출액(IFRS개별)\", \"전기매출원가(IFRS개별)\", \"전기판관비(IFRS개별)\", \"영업이익증가율(개별)\")\n",
    "cal_working_money(working_money_rate, \"당기매출액(IFRS연결)\", \"당기매출원가(IFRS연결)\", \"당기판관비(IFRS연결)\", \"전기매출액(IFRS연결)\", \"전기매출원가(IFRS연결)\", \"전기판관비(IFRS연결)\", \"영업이익증가율(연결)\")\n",
    "working_money_rate.to_csv(\"../csv_data/use/영업이익증가율_전처리.csv\", encoding=\"CP949\")"
   ]
  },
  {
   "cell_type": "code",
   "execution_count": null,
   "metadata": {},
   "outputs": [
    {
     "data": {
      "text/html": [
       "<div>\n",
       "<style scoped>\n",
       "    .dataframe tbody tr th:only-of-type {\n",
       "        vertical-align: middle;\n",
       "    }\n",
       "\n",
       "    .dataframe tbody tr th {\n",
       "        vertical-align: top;\n",
       "    }\n",
       "\n",
       "    .dataframe thead th {\n",
       "        text-align: right;\n",
       "    }\n",
       "</style>\n",
       "<table border=\"1\" class=\"dataframe\">\n",
       "  <thead>\n",
       "    <tr style=\"text-align: right;\">\n",
       "      <th></th>\n",
       "      <th>회사명</th>\n",
       "      <th>거래소코드</th>\n",
       "      <th>회계년도</th>\n",
       "      <th>매출액(IFRS연결)</th>\n",
       "      <th>자산(IFRS연결)</th>\n",
       "      <th>매출액(IFRS개별)</th>\n",
       "      <th>자산(IFRS개별)</th>\n",
       "    </tr>\n",
       "  </thead>\n",
       "  <tbody>\n",
       "    <tr>\n",
       "      <th>0</th>\n",
       "      <td>(주)CMG제약</td>\n",
       "      <td>58820</td>\n",
       "      <td>Dec-11</td>\n",
       "      <td>17751704.0</td>\n",
       "      <td>27305198.0</td>\n",
       "      <td>17751704.0</td>\n",
       "      <td>27548539.0</td>\n",
       "    </tr>\n",
       "  </tbody>\n",
       "</table>\n",
       "</div>"
      ],
      "text/plain": [
       "        회사명  거래소코드    회계년도  매출액(IFRS연결)  자산(IFRS연결)  매출액(IFRS개별)  자산(IFRS개별)\n",
       "0  (주)CMG제약  58820  Dec-11   17751704.0  27305198.0   17751704.0  27548539.0"
      ]
     },
     "execution_count": 146,
     "metadata": {},
     "output_type": "execute_result"
    }
   ],
   "source": [
    "# 총자산 회전율\n",
    "total_money_turn.head(1)"
   ]
  },
  {
   "cell_type": "code",
   "execution_count": null,
   "metadata": {},
   "outputs": [],
   "source": [
    "cal_div(total_money_turn, \"매출액(IFRS개별)\", \"자산(IFRS개별)\", \"총자산회전율(개별)\")\n",
    "cal_div(total_money_turn, \"매출액(IFRS연결)\", \"자산(IFRS연결)\", \"총자산회전율(연결)\")\n",
    "total_money_turn.to_csv(\"../csv_data/use/총자산회전율_전처리.csv\", encoding=\"CP949\")"
   ]
  },
  {
   "cell_type": "code",
   "execution_count": null,
   "metadata": {},
   "outputs": [
    {
     "data": {
      "text/html": [
       "<div>\n",
       "<style scoped>\n",
       "    .dataframe tbody tr th:only-of-type {\n",
       "        vertical-align: middle;\n",
       "    }\n",
       "\n",
       "    .dataframe tbody tr th {\n",
       "        vertical-align: top;\n",
       "    }\n",
       "\n",
       "    .dataframe thead th {\n",
       "        text-align: right;\n",
       "    }\n",
       "</style>\n",
       "<table border=\"1\" class=\"dataframe\">\n",
       "  <thead>\n",
       "    <tr style=\"text-align: right;\">\n",
       "      <th></th>\n",
       "      <th>회사명</th>\n",
       "      <th>거래소코드</th>\n",
       "      <th>회계년도</th>\n",
       "      <th>매출액(IFRS연결)</th>\n",
       "      <th>재고자산(IFRS연결)</th>\n",
       "      <th>매출액(IFRS개별)</th>\n",
       "      <th>재고자산(IFRS개별)</th>\n",
       "    </tr>\n",
       "  </thead>\n",
       "  <tbody>\n",
       "    <tr>\n",
       "      <th>0</th>\n",
       "      <td>(주)CMG제약</td>\n",
       "      <td>58820</td>\n",
       "      <td>Dec-11</td>\n",
       "      <td>17751704.0</td>\n",
       "      <td>2743103.0</td>\n",
       "      <td>17751704.0</td>\n",
       "      <td>2743103.0</td>\n",
       "    </tr>\n",
       "  </tbody>\n",
       "</table>\n",
       "</div>"
      ],
      "text/plain": [
       "        회사명  거래소코드    회계년도  매출액(IFRS연결)  재고자산(IFRS연결)  매출액(IFRS개별)  \\\n",
       "0  (주)CMG제약  58820  Dec-11   17751704.0     2743103.0   17751704.0   \n",
       "\n",
       "   재고자산(IFRS개별)  \n",
       "0     2743103.0  "
      ]
     },
     "execution_count": 148,
     "metadata": {},
     "output_type": "execute_result"
    }
   ],
   "source": [
    "# 재고자산 회전율\n",
    "jego_money_turn.head(1)"
   ]
  },
  {
   "cell_type": "code",
   "execution_count": null,
   "metadata": {},
   "outputs": [],
   "source": [
    "cal_div(jego_money_turn, \"매출액(IFRS개별)\", \"재고자산(IFRS개별)\", \"재고자산회전율(개별)\")\n",
    "cal_div(jego_money_turn, \"매출액(IFRS연결)\", \"재고자산(IFRS연결)\", \"재고자산회전율(연결)\")\n",
    "jego_money_turn.to_csv(\"../csv_data/use/재고자산회전율_전처리.csv\", encoding=\"CP949\")"
   ]
  },
  {
   "cell_type": "code",
   "execution_count": null,
   "metadata": {},
   "outputs": [
    {
     "data": {
      "text/html": [
       "<div>\n",
       "<style scoped>\n",
       "    .dataframe tbody tr th:only-of-type {\n",
       "        vertical-align: middle;\n",
       "    }\n",
       "\n",
       "    .dataframe tbody tr th {\n",
       "        vertical-align: top;\n",
       "    }\n",
       "\n",
       "    .dataframe thead th {\n",
       "        text-align: right;\n",
       "    }\n",
       "</style>\n",
       "<table border=\"1\" class=\"dataframe\">\n",
       "  <thead>\n",
       "    <tr style=\"text-align: right;\">\n",
       "      <th></th>\n",
       "      <th>회사명</th>\n",
       "      <th>거래소코드</th>\n",
       "      <th>회계년도</th>\n",
       "      <th>매출액(IFRS연결)</th>\n",
       "      <th>매출채권(IFRS연결)</th>\n",
       "      <th>매출액(IFRS개별)</th>\n",
       "      <th>매출채권(IFRS개별)</th>\n",
       "    </tr>\n",
       "  </thead>\n",
       "  <tbody>\n",
       "    <tr>\n",
       "      <th>0</th>\n",
       "      <td>(주)CMG제약</td>\n",
       "      <td>58820</td>\n",
       "      <td>Dec-11</td>\n",
       "      <td>17751704.0</td>\n",
       "      <td>11050219.0</td>\n",
       "      <td>17751704.0</td>\n",
       "      <td>11050219.0</td>\n",
       "    </tr>\n",
       "  </tbody>\n",
       "</table>\n",
       "</div>"
      ],
      "text/plain": [
       "        회사명  거래소코드    회계년도  매출액(IFRS연결)  매출채권(IFRS연결)  매출액(IFRS개별)  \\\n",
       "0  (주)CMG제약  58820  Dec-11   17751704.0    11050219.0   17751704.0   \n",
       "\n",
       "   매출채권(IFRS개별)  \n",
       "0    11050219.0  "
      ]
     },
     "execution_count": 150,
     "metadata": {},
     "output_type": "execute_result"
    }
   ],
   "source": [
    "# 매출채권 회전율\n",
    "income_money_turn.head(1)"
   ]
  },
  {
   "cell_type": "code",
   "execution_count": null,
   "metadata": {},
   "outputs": [],
   "source": [
    "cal_div(income_money_turn, \"매출액(IFRS개별)\", \"매출채권(IFRS개별)\", \"매출채권회전율(개별)\")\n",
    "cal_div(income_money_turn, \"매출액(IFRS연결)\", \"매출채권(IFRS연결)\", \"매출채권회전율(연결)\")\n",
    "income_money_turn.to_csv(\"../csv_data/use/매출채권회전율_전처리.csv\", encoding=\"CP949\")"
   ]
  },
  {
   "cell_type": "code",
   "execution_count": null,
   "metadata": {},
   "outputs": [
    {
     "data": {
      "text/html": [
       "<div>\n",
       "<style scoped>\n",
       "    .dataframe tbody tr th:only-of-type {\n",
       "        vertical-align: middle;\n",
       "    }\n",
       "\n",
       "    .dataframe tbody tr th {\n",
       "        vertical-align: top;\n",
       "    }\n",
       "\n",
       "    .dataframe thead th {\n",
       "        text-align: right;\n",
       "    }\n",
       "</style>\n",
       "<table border=\"1\" class=\"dataframe\">\n",
       "  <thead>\n",
       "    <tr style=\"text-align: right;\">\n",
       "      <th></th>\n",
       "      <th>회사명</th>\n",
       "      <th>거래소코드</th>\n",
       "      <th>회계년도</th>\n",
       "      <th>매출액(IFRS연결)</th>\n",
       "      <th>유형자산(IFRS연결)</th>\n",
       "      <th>매출액(IFRS개별)</th>\n",
       "      <th>유형자산(IFRS개별)</th>\n",
       "    </tr>\n",
       "  </thead>\n",
       "  <tbody>\n",
       "    <tr>\n",
       "      <th>0</th>\n",
       "      <td>(주)CMG제약</td>\n",
       "      <td>58820</td>\n",
       "      <td>Dec-11</td>\n",
       "      <td>17751704.0</td>\n",
       "      <td>9707759.0</td>\n",
       "      <td>17751704.0</td>\n",
       "      <td>9652599.0</td>\n",
       "    </tr>\n",
       "  </tbody>\n",
       "</table>\n",
       "</div>"
      ],
      "text/plain": [
       "        회사명  거래소코드    회계년도  매출액(IFRS연결)  유형자산(IFRS연결)  매출액(IFRS개별)  \\\n",
       "0  (주)CMG제약  58820  Dec-11   17751704.0     9707759.0   17751704.0   \n",
       "\n",
       "   유형자산(IFRS개별)  \n",
       "0     9652599.0  "
      ]
     },
     "execution_count": 152,
     "metadata": {},
     "output_type": "execute_result"
    }
   ],
   "source": [
    "# 유형자산 회전율\n",
    "u_money_turn.head(1)"
   ]
  },
  {
   "cell_type": "code",
   "execution_count": null,
   "metadata": {},
   "outputs": [],
   "source": [
    "cal_div(u_money_turn, \"매출액(IFRS개별)\", \"유형자산(IFRS개별)\", \"유형자산회전율(개별)\")\n",
    "cal_div(u_money_turn, \"매출액(IFRS연결)\", \"유형자산(IFRS연결)\", \"유형자산회전율(연결)\")\n",
    "u_money_turn.to_csv(\"../csv_data/use/유형자산회전율_전처리.csv\", encoding=\"CP949\")"
   ]
  },
  {
   "cell_type": "code",
   "execution_count": null,
   "metadata": {},
   "outputs": [
    {
     "data": {
      "text/html": [
       "<div>\n",
       "<style scoped>\n",
       "    .dataframe tbody tr th:only-of-type {\n",
       "        vertical-align: middle;\n",
       "    }\n",
       "\n",
       "    .dataframe tbody tr th {\n",
       "        vertical-align: top;\n",
       "    }\n",
       "\n",
       "    .dataframe thead th {\n",
       "        text-align: right;\n",
       "    }\n",
       "</style>\n",
       "<table border=\"1\" class=\"dataframe\">\n",
       "  <thead>\n",
       "    <tr style=\"text-align: right;\">\n",
       "      <th></th>\n",
       "      <th>회사명</th>\n",
       "      <th>거래소코드</th>\n",
       "      <th>회계년도</th>\n",
       "      <th>매출액(IFRS연결)</th>\n",
       "      <th>매입채무(IFRS연결)</th>\n",
       "      <th>매출액(IFRS개별)</th>\n",
       "      <th>매입채무(IFRS개별)</th>\n",
       "    </tr>\n",
       "  </thead>\n",
       "  <tbody>\n",
       "    <tr>\n",
       "      <th>0</th>\n",
       "      <td>(주)CMG제약</td>\n",
       "      <td>58820</td>\n",
       "      <td>Dec-11</td>\n",
       "      <td>17751704.0</td>\n",
       "      <td>1481481.0</td>\n",
       "      <td>17751704.0</td>\n",
       "      <td>1481481.0</td>\n",
       "    </tr>\n",
       "  </tbody>\n",
       "</table>\n",
       "</div>"
      ],
      "text/plain": [
       "        회사명  거래소코드    회계년도  매출액(IFRS연결)  매입채무(IFRS연결)  매출액(IFRS개별)  \\\n",
       "0  (주)CMG제약  58820  Dec-11   17751704.0     1481481.0   17751704.0   \n",
       "\n",
       "   매입채무(IFRS개별)  \n",
       "0     1481481.0  "
      ]
     },
     "execution_count": 154,
     "metadata": {},
     "output_type": "execute_result"
    }
   ],
   "source": [
    "# 매입채무 회전율\n",
    "maep_money_turn.head(1)"
   ]
  },
  {
   "cell_type": "code",
   "execution_count": null,
   "metadata": {},
   "outputs": [],
   "source": [
    "cal_div(maep_money_turn, \"매출액(IFRS개별)\", \"매입채무(IFRS개별)\", \"매입채무회전율(개별)\")\n",
    "cal_div(maep_money_turn, \"매출액(IFRS연결)\", \"매입채무(IFRS연결)\", \"매입채무회전율(연결)\")\n",
    "maep_money_turn.to_csv(\"../csv_data/use/매입채무회전율_전처리.csv\", encoding=\"CP949\")"
   ]
  },
  {
   "cell_type": "code",
   "execution_count": null,
   "metadata": {},
   "outputs": [
    {
     "data": {
      "text/html": [
       "<div>\n",
       "<style scoped>\n",
       "    .dataframe tbody tr th:only-of-type {\n",
       "        vertical-align: middle;\n",
       "    }\n",
       "\n",
       "    .dataframe tbody tr th {\n",
       "        vertical-align: top;\n",
       "    }\n",
       "\n",
       "    .dataframe thead th {\n",
       "        text-align: right;\n",
       "    }\n",
       "</style>\n",
       "<table border=\"1\" class=\"dataframe\">\n",
       "  <thead>\n",
       "    <tr style=\"text-align: right;\">\n",
       "      <th></th>\n",
       "      <th>회사명</th>\n",
       "      <th>거래소코드</th>\n",
       "      <th>회계년도</th>\n",
       "      <th>매출액(IFRS연결)</th>\n",
       "      <th>자본(IFRS연결)</th>\n",
       "      <th>매출액(IFRS개별)</th>\n",
       "      <th>자본(IFRS개별)</th>\n",
       "    </tr>\n",
       "  </thead>\n",
       "  <tbody>\n",
       "    <tr>\n",
       "      <th>0</th>\n",
       "      <td>(주)CMG제약</td>\n",
       "      <td>58820</td>\n",
       "      <td>Dec-11</td>\n",
       "      <td>17751704.0</td>\n",
       "      <td>18034249.0</td>\n",
       "      <td>17751704.0</td>\n",
       "      <td>18290915.0</td>\n",
       "    </tr>\n",
       "  </tbody>\n",
       "</table>\n",
       "</div>"
      ],
      "text/plain": [
       "        회사명  거래소코드    회계년도  매출액(IFRS연결)  자본(IFRS연결)  매출액(IFRS개별)  자본(IFRS개별)\n",
       "0  (주)CMG제약  58820  Dec-11   17751704.0  18034249.0   17751704.0  18290915.0"
      ]
     },
     "execution_count": 156,
     "metadata": {},
     "output_type": "execute_result"
    }
   ],
   "source": [
    "# 자기자본 회전율\n",
    "self_jabon_turn.head(1)"
   ]
  },
  {
   "cell_type": "code",
   "execution_count": null,
   "metadata": {},
   "outputs": [],
   "source": [
    "cal_div(self_jabon_turn, \"매출액(IFRS개별)\", \"자본(IFRS개별)\", \"자기자본회전율(개별)\")\n",
    "cal_div(self_jabon_turn, \"매출액(IFRS연결)\", \"자본(IFRS연결)\", \"자기자본회전율(연결)\")\n",
    "self_jabon_turn.to_csv(\"../csv_data/use/자기자본회전율_전처리.csv\", encoding=\"CP949\")"
   ]
  },
  {
   "cell_type": "code",
   "execution_count": null,
   "metadata": {},
   "outputs": [
    {
     "data": {
      "text/html": [
       "<div>\n",
       "<style scoped>\n",
       "    .dataframe tbody tr th:only-of-type {\n",
       "        vertical-align: middle;\n",
       "    }\n",
       "\n",
       "    .dataframe tbody tr th {\n",
       "        vertical-align: top;\n",
       "    }\n",
       "\n",
       "    .dataframe thead th {\n",
       "        text-align: right;\n",
       "    }\n",
       "</style>\n",
       "<table border=\"1\" class=\"dataframe\">\n",
       "  <thead>\n",
       "    <tr style=\"text-align: right;\">\n",
       "      <th></th>\n",
       "      <th>회사명</th>\n",
       "      <th>거래소코드</th>\n",
       "      <th>회계년도</th>\n",
       "      <th>매출액(IFRS연결)</th>\n",
       "      <th>부채(IFRS연결)</th>\n",
       "      <th>매출액(IFRS개별)</th>\n",
       "      <th>부채(IFRS개별)</th>\n",
       "    </tr>\n",
       "  </thead>\n",
       "  <tbody>\n",
       "    <tr>\n",
       "      <th>0</th>\n",
       "      <td>(주)CMG제약</td>\n",
       "      <td>58820</td>\n",
       "      <td>Dec-11</td>\n",
       "      <td>17751704.0</td>\n",
       "      <td>9270949.0</td>\n",
       "      <td>17751704.0</td>\n",
       "      <td>9257624.0</td>\n",
       "    </tr>\n",
       "  </tbody>\n",
       "</table>\n",
       "</div>"
      ],
      "text/plain": [
       "        회사명  거래소코드    회계년도  매출액(IFRS연결)  부채(IFRS연결)  매출액(IFRS개별)  부채(IFRS개별)\n",
       "0  (주)CMG제약  58820  Dec-11   17751704.0   9270949.0   17751704.0   9257624.0"
      ]
     },
     "execution_count": 158,
     "metadata": {},
     "output_type": "execute_result"
    }
   ],
   "source": [
    "# 타인자본 회전율(부채?)\n",
    "other_jabon_turn.head(1)"
   ]
  },
  {
   "cell_type": "code",
   "execution_count": null,
   "metadata": {},
   "outputs": [],
   "source": [
    "cal_div(other_jabon_turn, \"매출액(IFRS개별)\", \"부채(IFRS개별)\", \"타인자본회전율(개별)\")\n",
    "cal_div(other_jabon_turn, \"매출액(IFRS연결)\", \"부채(IFRS연결)\", \"타인자본회전율(연결)\")\n",
    "other_jabon_turn.to_csv(\"../csv_data/use/자기자본회전율_전처리.csv\", encoding=\"CP949\")"
   ]
  },
  {
   "cell_type": "code",
   "execution_count": null,
   "metadata": {},
   "outputs": [
    {
     "data": {
      "text/html": [
       "<div>\n",
       "<style scoped>\n",
       "    .dataframe tbody tr th:only-of-type {\n",
       "        vertical-align: middle;\n",
       "    }\n",
       "\n",
       "    .dataframe tbody tr th {\n",
       "        vertical-align: top;\n",
       "    }\n",
       "\n",
       "    .dataframe thead th {\n",
       "        text-align: right;\n",
       "    }\n",
       "</style>\n",
       "<table border=\"1\" class=\"dataframe\">\n",
       "  <thead>\n",
       "    <tr style=\"text-align: right;\">\n",
       "      <th></th>\n",
       "      <th>회사명</th>\n",
       "      <th>거래소코드</th>\n",
       "      <th>회계년도</th>\n",
       "      <th>매출액(IFRS연결)</th>\n",
       "      <th>유동자산(IFRS연결)</th>\n",
       "      <th>매출액(IFRS개별)</th>\n",
       "      <th>유동자산(IFRS개별)</th>\n",
       "    </tr>\n",
       "  </thead>\n",
       "  <tbody>\n",
       "    <tr>\n",
       "      <th>0</th>\n",
       "      <td>(주)CMG제약</td>\n",
       "      <td>58820</td>\n",
       "      <td>Dec-11</td>\n",
       "      <td>17751704.0</td>\n",
       "      <td>15341167.0</td>\n",
       "      <td>17751704.0</td>\n",
       "      <td>15264885.0</td>\n",
       "    </tr>\n",
       "  </tbody>\n",
       "</table>\n",
       "</div>"
      ],
      "text/plain": [
       "        회사명  거래소코드    회계년도  매출액(IFRS연결)  유동자산(IFRS연결)  매출액(IFRS개별)  \\\n",
       "0  (주)CMG제약  58820  Dec-11   17751704.0    15341167.0   17751704.0   \n",
       "\n",
       "   유동자산(IFRS개별)  \n",
       "0    15264885.0  "
      ]
     },
     "execution_count": 7,
     "metadata": {},
     "output_type": "execute_result"
    }
   ],
   "source": [
    "# 유동자산 회전율\n",
    "udong_turn.head(1)"
   ]
  },
  {
   "cell_type": "code",
   "execution_count": null,
   "metadata": {},
   "outputs": [],
   "source": [
    "cal_div(udong_turn, \"매출액(IFRS개별)\", \"유동자산(IFRS개별)\", \"유동자산회전율(개별)\")\n",
    "cal_div(udong_turn, \"매출액(IFRS연결)\", \"유동자산(IFRS연결)\", \"유동자산회전율(연결)\")\n",
    "udong_turn.to_csv(\"../csv_data/use/유동자산회전율_전처리.csv\", encoding=\"CP949\")"
   ]
  },
  {
   "cell_type": "code",
   "execution_count": null,
   "metadata": {},
   "outputs": [
    {
     "data": {
      "text/html": [
       "<div>\n",
       "<style scoped>\n",
       "    .dataframe tbody tr th:only-of-type {\n",
       "        vertical-align: middle;\n",
       "    }\n",
       "\n",
       "    .dataframe tbody tr th {\n",
       "        vertical-align: top;\n",
       "    }\n",
       "\n",
       "    .dataframe thead th {\n",
       "        text-align: right;\n",
       "    }\n",
       "</style>\n",
       "<table border=\"1\" class=\"dataframe\">\n",
       "  <thead>\n",
       "    <tr style=\"text-align: right;\">\n",
       "      <th></th>\n",
       "      <th>회사명</th>\n",
       "      <th>거래소코드</th>\n",
       "      <th>회계년도</th>\n",
       "      <th>매출액(IFRS연결)</th>\n",
       "      <th>유동자산(IFRS연결)</th>\n",
       "      <th>재고자산(IFRS연결)</th>\n",
       "      <th>매출액(IFRS개별)</th>\n",
       "      <th>유동자산(IFRS개별)</th>\n",
       "      <th>재고자산(IFRS개별)</th>\n",
       "    </tr>\n",
       "  </thead>\n",
       "  <tbody>\n",
       "    <tr>\n",
       "      <th>0</th>\n",
       "      <td>(주)CMG제약</td>\n",
       "      <td>58820</td>\n",
       "      <td>Dec-11</td>\n",
       "      <td>17751704.0</td>\n",
       "      <td>15341167.0</td>\n",
       "      <td>2743103.0</td>\n",
       "      <td>17751704.0</td>\n",
       "      <td>15264885.0</td>\n",
       "      <td>2743103.0</td>\n",
       "    </tr>\n",
       "  </tbody>\n",
       "</table>\n",
       "</div>"
      ],
      "text/plain": [
       "        회사명  거래소코드    회계년도  매출액(IFRS연결)  유동자산(IFRS연결)  재고자산(IFRS연결)  \\\n",
       "0  (주)CMG제약  58820  Dec-11   17751704.0    15341167.0     2743103.0   \n",
       "\n",
       "   매출액(IFRS개별)  유동자산(IFRS개별)  재고자산(IFRS개별)  \n",
       "0   17751704.0    15264885.0     2743103.0  "
      ]
     },
     "execution_count": 8,
     "metadata": {},
     "output_type": "execute_result"
    }
   ],
   "source": [
    "# 당좌자산 회전율\n",
    "dang_turn.head(1)"
   ]
  },
  {
   "cell_type": "code",
   "execution_count": null,
   "metadata": {},
   "outputs": [],
   "source": [
    "cal_rate_sub_under(dang_turn, \"매출액(IFRS개별)\", \"유동자산(IFRS개별)\", \"재고자산(IFRS개별)\", \"당좌자산회전율(개별)\")\n",
    "cal_rate_sub_under(dang_turn, \"매출액(IFRS연결)\", \"유동자산(IFRS연결)\", \"재고자산(IFRS연결)\", \"당좌자산회전율(연결)\")\n",
    "dang_turn.to_csv(\"../csv_data/use/당좌자산회전율_전처리.csv\", encoding=\"CP949\")"
   ]
  },
  {
   "cell_type": "code",
   "execution_count": null,
   "metadata": {},
   "outputs": [
    {
     "data": {
      "text/html": [
       "<div>\n",
       "<style scoped>\n",
       "    .dataframe tbody tr th:only-of-type {\n",
       "        vertical-align: middle;\n",
       "    }\n",
       "\n",
       "    .dataframe tbody tr th {\n",
       "        vertical-align: top;\n",
       "    }\n",
       "\n",
       "    .dataframe thead th {\n",
       "        text-align: right;\n",
       "    }\n",
       "</style>\n",
       "<table border=\"1\" class=\"dataframe\">\n",
       "  <thead>\n",
       "    <tr style=\"text-align: right;\">\n",
       "      <th></th>\n",
       "      <th>회사명</th>\n",
       "      <th>거래소코드</th>\n",
       "      <th>회계년도</th>\n",
       "      <th>유동자산(IFRS연결)</th>\n",
       "      <th>재고자산(IFRS연결)</th>\n",
       "      <th>자산(IFRS연결)</th>\n",
       "      <th>유동자산(IFRS개별)</th>\n",
       "      <th>재고자산(IFRS개별)</th>\n",
       "      <th>자산(IFRS개별)</th>\n",
       "    </tr>\n",
       "  </thead>\n",
       "  <tbody>\n",
       "    <tr>\n",
       "      <th>0</th>\n",
       "      <td>(주)CMG제약</td>\n",
       "      <td>58820</td>\n",
       "      <td>Dec-11</td>\n",
       "      <td>15341167.0</td>\n",
       "      <td>2743103.0</td>\n",
       "      <td>27305198.0</td>\n",
       "      <td>15264885.0</td>\n",
       "      <td>2743103.0</td>\n",
       "      <td>27548539.0</td>\n",
       "    </tr>\n",
       "  </tbody>\n",
       "</table>\n",
       "</div>"
      ],
      "text/plain": [
       "        회사명  거래소코드    회계년도  유동자산(IFRS연결)  재고자산(IFRS연결)  자산(IFRS연결)  \\\n",
       "0  (주)CMG제약  58820  Dec-11    15341167.0     2743103.0  27305198.0   \n",
       "\n",
       "   유동자산(IFRS개별)  재고자산(IFRS개별)  자산(IFRS개별)  \n",
       "0    15264885.0     2743103.0  27548539.0  "
      ]
     },
     "execution_count": 9,
     "metadata": {},
     "output_type": "execute_result"
    }
   ],
   "source": [
    "# 당좌자산 구성비율\n",
    "dang_pie.head(1)"
   ]
  },
  {
   "cell_type": "code",
   "execution_count": null,
   "metadata": {},
   "outputs": [],
   "source": [
    "cal_rate_sub(dang_pie, \"유동자산(IFRS개별)\", \"재고자산(IFRS개별)\", \"자산(IFRS개별)\", \"당좌자산구성비율(개별)\")\n",
    "cal_rate_sub(dang_pie, \"유동자산(IFRS연결)\", \"재고자산(IFRS연결)\", \"자산(IFRS연결)\", \"당좌자산구성비율(연결)\")\n",
    "dang_pie.to_csv(\"../csv_data/use/당좌자산회전율_전처리.csv\", encoding=\"CP949\")"
   ]
  },
  {
   "cell_type": "code",
   "execution_count": null,
   "metadata": {},
   "outputs": [
    {
     "data": {
      "text/html": [
       "<div>\n",
       "<style scoped>\n",
       "    .dataframe tbody tr th:only-of-type {\n",
       "        vertical-align: middle;\n",
       "    }\n",
       "\n",
       "    .dataframe tbody tr th {\n",
       "        vertical-align: top;\n",
       "    }\n",
       "\n",
       "    .dataframe thead th {\n",
       "        text-align: right;\n",
       "    }\n",
       "</style>\n",
       "<table border=\"1\" class=\"dataframe\">\n",
       "  <thead>\n",
       "    <tr style=\"text-align: right;\">\n",
       "      <th></th>\n",
       "      <th>회사명</th>\n",
       "      <th>거래소코드</th>\n",
       "      <th>회계년도</th>\n",
       "      <th>매출채권(IFRS연결)(천원)</th>\n",
       "      <th>매입채무(IFRS연결)(천원)</th>\n",
       "      <th>매출채권(IFRS)(천원)</th>\n",
       "      <th>매입채무(IFRS)(천원)</th>\n",
       "    </tr>\n",
       "  </thead>\n",
       "  <tbody>\n",
       "    <tr>\n",
       "      <th>0</th>\n",
       "      <td>(주)CMG제약</td>\n",
       "      <td>58820</td>\n",
       "      <td>2011/12</td>\n",
       "      <td>11050219.0</td>\n",
       "      <td>1481481.0</td>\n",
       "      <td>11050219.0</td>\n",
       "      <td>1481481.0</td>\n",
       "    </tr>\n",
       "  </tbody>\n",
       "</table>\n",
       "</div>"
      ],
      "text/plain": [
       "        회사명  거래소코드     회계년도  매출채권(IFRS연결)(천원)  매입채무(IFRS연결)(천원)  \\\n",
       "0  (주)CMG제약  58820  2011/12        11050219.0         1481481.0   \n",
       "\n",
       "   매출채권(IFRS)(천원)  매입채무(IFRS)(천원)  \n",
       "0      11050219.0       1481481.0  "
      ]
     },
     "execution_count": 10,
     "metadata": {},
     "output_type": "execute_result"
    }
   ],
   "source": [
    "# 매출채권 대 매입채무비율\n",
    "income_money_rate.head(1)"
   ]
  },
  {
   "cell_type": "code",
   "execution_count": null,
   "metadata": {},
   "outputs": [],
   "source": [
    "cal_rate(income_money_rate, \"매출채권(IFRS)(천원)\", \"매입채무(IFRS)(천원)\", \"매출채권대매입채무비율(개별)\")\n",
    "cal_rate(income_money_rate, \"매출채권(IFRS연결)(천원)\", \"매입채무(IFRS연결)(천원)\", \"매출채권대매입채무비율(연결)\")\n",
    "income_money_rate.to_csv(\"../csv_data/use/매출채권_대_매입채무비율_전처리.csv\", encoding=\"CP949\")"
   ]
  },
  {
   "cell_type": "code",
   "execution_count": null,
   "metadata": {},
   "outputs": [
    {
     "data": {
      "text/html": [
       "<div>\n",
       "<style scoped>\n",
       "    .dataframe tbody tr th:only-of-type {\n",
       "        vertical-align: middle;\n",
       "    }\n",
       "\n",
       "    .dataframe tbody tr th {\n",
       "        vertical-align: top;\n",
       "    }\n",
       "\n",
       "    .dataframe thead th {\n",
       "        text-align: right;\n",
       "    }\n",
       "</style>\n",
       "<table border=\"1\" class=\"dataframe\">\n",
       "  <thead>\n",
       "    <tr style=\"text-align: right;\">\n",
       "      <th></th>\n",
       "      <th>회사명</th>\n",
       "      <th>거래소코드</th>\n",
       "      <th>회계년도</th>\n",
       "      <th>장기차입금(IFRS연결)</th>\n",
       "      <th>단기차입금(IFRS연결)</th>\n",
       "      <th>유동성장기부채(IFRS연결)</th>\n",
       "      <th>사채(IFRS연결)</th>\n",
       "      <th>장기차입금(IFRS개별)</th>\n",
       "      <th>단기차입금(IFRS개별)</th>\n",
       "      <th>유동성장기부채(IFRS개별)</th>\n",
       "      <th>사채(IFRS개별)</th>\n",
       "    </tr>\n",
       "  </thead>\n",
       "  <tbody>\n",
       "    <tr>\n",
       "      <th>0</th>\n",
       "      <td>(주)CMG제약</td>\n",
       "      <td>58820</td>\n",
       "      <td>Dec-11</td>\n",
       "      <td>0.0</td>\n",
       "      <td>0.0</td>\n",
       "      <td>2000000.0</td>\n",
       "      <td>478017.0</td>\n",
       "      <td>0.0</td>\n",
       "      <td>2134049.0</td>\n",
       "      <td>2000000.0</td>\n",
       "      <td>478017.0</td>\n",
       "    </tr>\n",
       "  </tbody>\n",
       "</table>\n",
       "</div>"
      ],
      "text/plain": [
       "        회사명  거래소코드    회계년도  장기차입금(IFRS연결)  단기차입금(IFRS연결)  유동성장기부채(IFRS연결)  \\\n",
       "0  (주)CMG제약  58820  Dec-11            0.0            0.0        2000000.0   \n",
       "\n",
       "   사채(IFRS연결)  장기차입금(IFRS개별)  단기차입금(IFRS개별)  유동성장기부채(IFRS개별)  사채(IFRS개별)  \n",
       "0    478017.0            0.0      2134049.0        2000000.0    478017.0  "
      ]
     },
     "execution_count": 11,
     "metadata": {},
     "output_type": "execute_result"
    }
   ],
   "source": [
    "# 단기차입금 대 총차입금비율\n",
    "dangi_rate.head(1)"
   ]
  },
  {
   "cell_type": "code",
   "execution_count": null,
   "metadata": {},
   "outputs": [],
   "source": [
    "cal_dangi_cha(dangi_rate,\"단기차입금(IFRS개별)\", \"장기차입금(IFRS개별)\", \"단기차입금(IFRS개별)\", \"유동성장기부채(IFRS개별)\", \"사채(IFRS개별)\", \"단기차입금대총차입금비율(개별)\")\n",
    "cal_dangi_cha(dangi_rate,\"단기차입금(IFRS개별)\", \"장기차입금(IFRS연결)\", \"단기차입금(IFRS연결)\", \"유동성장기부채(IFRS연결)\", \"사채(IFRS연결)\", \"단기차입금대총차입금비율(연결)\")\n",
    "dangi_rate.to_csv(\"../csv_data/use/단기차입금_대_총차입금비율_전처리.csv\", encoding=\"CP949\")"
   ]
  },
  {
   "cell_type": "code",
   "execution_count": null,
   "metadata": {},
   "outputs": [
    {
     "data": {
      "text/html": [
       "<div>\n",
       "<style scoped>\n",
       "    .dataframe tbody tr th:only-of-type {\n",
       "        vertical-align: middle;\n",
       "    }\n",
       "\n",
       "    .dataframe tbody tr th {\n",
       "        vertical-align: top;\n",
       "    }\n",
       "\n",
       "    .dataframe thead th {\n",
       "        text-align: right;\n",
       "    }\n",
       "</style>\n",
       "<table border=\"1\" class=\"dataframe\">\n",
       "  <thead>\n",
       "    <tr style=\"text-align: right;\">\n",
       "      <th></th>\n",
       "      <th>회사명</th>\n",
       "      <th>거래소코드</th>\n",
       "      <th>회계년도</th>\n",
       "      <th>장기차입금(IFRS연결)</th>\n",
       "      <th>단기차입금(IFRS연결)</th>\n",
       "      <th>자산(IFRS연결)</th>\n",
       "      <th>장기차입금(IFRS개별)</th>\n",
       "      <th>단기차입금(IFRS개별)</th>\n",
       "      <th>자산(IFRS개별)</th>\n",
       "    </tr>\n",
       "  </thead>\n",
       "  <tbody>\n",
       "    <tr>\n",
       "      <th>0</th>\n",
       "      <td>(주)CMG제약</td>\n",
       "      <td>58820</td>\n",
       "      <td>Dec-11</td>\n",
       "      <td>0.0</td>\n",
       "      <td>0.0</td>\n",
       "      <td>27305198.0</td>\n",
       "      <td>0.0</td>\n",
       "      <td>2134049.0</td>\n",
       "      <td>27548539.0</td>\n",
       "    </tr>\n",
       "  </tbody>\n",
       "</table>\n",
       "</div>"
      ],
      "text/plain": [
       "        회사명  거래소코드    회계년도  장기차입금(IFRS연결)  단기차입금(IFRS연결)  자산(IFRS연결)  \\\n",
       "0  (주)CMG제약  58820  Dec-11            0.0            0.0  27305198.0   \n",
       "\n",
       "   장기차입금(IFRS개별)  단기차입금(IFRS개별)  자산(IFRS개별)  \n",
       "0            0.0      2134049.0  27548539.0  "
      ]
     },
     "execution_count": 12,
     "metadata": {},
     "output_type": "execute_result"
    }
   ],
   "source": [
    "# 차입금 비율\n",
    "chaip_rate.head(1)"
   ]
  },
  {
   "cell_type": "code",
   "execution_count": null,
   "metadata": {},
   "outputs": [],
   "source": [
    "cal_rate_add(chaip_rate, \"장기차입금(IFRS개별)\", \"단기차입금(IFRS개별)\", \"자산(IFRS개별)\", \"차입금비율(개별)\")\n",
    "cal_rate_add(chaip_rate, \"장기차입금(IFRS연결)\", \"단기차입금(IFRS연결)\", \"자산(IFRS연결)\", \"차입금비율(연결)\")\n",
    "chaip_rate.to_csv(\"../csv_data/use/차입금비율_전처리.csv\", encoding=\"CP949\")"
   ]
  },
  {
   "cell_type": "code",
   "execution_count": null,
   "metadata": {},
   "outputs": [
    {
     "data": {
      "text/html": [
       "<div>\n",
       "<style scoped>\n",
       "    .dataframe tbody tr th:only-of-type {\n",
       "        vertical-align: middle;\n",
       "    }\n",
       "\n",
       "    .dataframe tbody tr th {\n",
       "        vertical-align: top;\n",
       "    }\n",
       "\n",
       "    .dataframe thead th {\n",
       "        text-align: right;\n",
       "    }\n",
       "</style>\n",
       "<table border=\"1\" class=\"dataframe\">\n",
       "  <thead>\n",
       "    <tr style=\"text-align: right;\">\n",
       "      <th></th>\n",
       "      <th>회사명</th>\n",
       "      <th>거래소코드</th>\n",
       "      <th>회계년도</th>\n",
       "      <th>부채(IFRS연결)</th>\n",
       "      <th>자산(IFRS연결)</th>\n",
       "      <th>부채(IFRS개별)</th>\n",
       "      <th>자산(IFRS개별)</th>\n",
       "    </tr>\n",
       "  </thead>\n",
       "  <tbody>\n",
       "    <tr>\n",
       "      <th>0</th>\n",
       "      <td>(주)CMG제약</td>\n",
       "      <td>58820</td>\n",
       "      <td>Dec-11</td>\n",
       "      <td>9270949.0</td>\n",
       "      <td>27305198.0</td>\n",
       "      <td>9257624.0</td>\n",
       "      <td>27548539.0</td>\n",
       "    </tr>\n",
       "  </tbody>\n",
       "</table>\n",
       "</div>"
      ],
      "text/plain": [
       "        회사명  거래소코드    회계년도  부채(IFRS연결)  자산(IFRS연결)  부채(IFRS개별)  자산(IFRS개별)\n",
       "0  (주)CMG제약  58820  Dec-11   9270949.0  27305198.0   9257624.0  27548539.0"
      ]
     },
     "execution_count": 13,
     "metadata": {},
     "output_type": "execute_result"
    }
   ],
   "source": [
    "# 타인자본 구성비율\n",
    "other_jabon_rate.head(1)"
   ]
  },
  {
   "cell_type": "code",
   "execution_count": null,
   "metadata": {},
   "outputs": [],
   "source": [
    "cal_rate(other_jabon_rate, \"부채(IFRS개별)\", \"자산(IFRS개별)\", \"타인자본구성비율(개별)\")\n",
    "cal_rate(other_jabon_rate, \"부채(IFRS연결)\", \"자산(IFRS연결)\", \"타인자본구성비율(연결)\")\n",
    "other_jabon_rate.to_csv(\"../csv_data/use/타인자본구성비율_전처리.csv\", encoding=\"CP949\")"
   ]
  },
  {
   "cell_type": "code",
   "execution_count": null,
   "metadata": {},
   "outputs": [
    {
     "data": {
      "text/html": [
       "<div>\n",
       "<style scoped>\n",
       "    .dataframe tbody tr th:only-of-type {\n",
       "        vertical-align: middle;\n",
       "    }\n",
       "\n",
       "    .dataframe tbody tr th {\n",
       "        vertical-align: top;\n",
       "    }\n",
       "\n",
       "    .dataframe thead th {\n",
       "        text-align: right;\n",
       "    }\n",
       "</style>\n",
       "<table border=\"1\" class=\"dataframe\">\n",
       "  <thead>\n",
       "    <tr style=\"text-align: right;\">\n",
       "      <th></th>\n",
       "      <th>회사명</th>\n",
       "      <th>거래소코드</th>\n",
       "      <th>회계년도</th>\n",
       "      <th>매출액(IFRS연결)</th>\n",
       "      <th>유동자산(IFRS연결)</th>\n",
       "      <th>유동부채(IFRS연결)</th>\n",
       "      <th>매출액(IFRS개별)</th>\n",
       "      <th>유동자산(IFRS개별)</th>\n",
       "      <th>유동부채(IFRS개별)</th>\n",
       "    </tr>\n",
       "  </thead>\n",
       "  <tbody>\n",
       "    <tr>\n",
       "      <th>0</th>\n",
       "      <td>(주)CMG제약</td>\n",
       "      <td>58820</td>\n",
       "      <td>Dec-11</td>\n",
       "      <td>17751704.0</td>\n",
       "      <td>15341167.0</td>\n",
       "      <td>7633673.0</td>\n",
       "      <td>17751704.0</td>\n",
       "      <td>15264885.0</td>\n",
       "      <td>7620349.0</td>\n",
       "    </tr>\n",
       "  </tbody>\n",
       "</table>\n",
       "</div>"
      ],
      "text/plain": [
       "        회사명  거래소코드    회계년도  매출액(IFRS연결)  유동자산(IFRS연결)  유동부채(IFRS연결)  \\\n",
       "0  (주)CMG제약  58820  Dec-11   17751704.0    15341167.0     7633673.0   \n",
       "\n",
       "   매출액(IFRS개별)  유동자산(IFRS개별)  유동부채(IFRS개별)  \n",
       "0   17751704.0    15264885.0     7620349.0  "
      ]
     },
     "execution_count": 14,
     "metadata": {},
     "output_type": "execute_result"
    }
   ],
   "source": [
    "# 순운전자본회전율\n",
    "pure_income_turn.head(1)"
   ]
  },
  {
   "cell_type": "code",
   "execution_count": null,
   "metadata": {},
   "outputs": [],
   "source": [
    "cal_rate_sub_under(pure_income_turn, \"매출액(IFRS개별)\", \"유동자산(IFRS개별)\", \"유동부채(IFRS개별)\", \"순운전자본회전율(개별)\")\n",
    "cal_rate_sub_under(pure_income_turn, \"매출액(IFRS연결)\", \"유동자산(IFRS연결)\", \"유동부채(IFRS연결)\", \"순운전자본회전율(연결)\")\n",
    "pure_income_turn.to_csv(\"../csv_data/use/순운전자본회전율_전처리.csv\", encoding=\"CP949\")"
   ]
  },
  {
   "cell_type": "code",
   "execution_count": null,
   "metadata": {},
   "outputs": [
    {
     "data": {
      "text/html": [
       "<div>\n",
       "<style scoped>\n",
       "    .dataframe tbody tr th:only-of-type {\n",
       "        vertical-align: middle;\n",
       "    }\n",
       "\n",
       "    .dataframe tbody tr th {\n",
       "        vertical-align: top;\n",
       "    }\n",
       "\n",
       "    .dataframe thead th {\n",
       "        text-align: right;\n",
       "    }\n",
       "</style>\n",
       "<table border=\"1\" class=\"dataframe\">\n",
       "  <thead>\n",
       "    <tr style=\"text-align: right;\">\n",
       "      <th></th>\n",
       "      <th>회사명</th>\n",
       "      <th>거래소코드</th>\n",
       "      <th>회계년도</th>\n",
       "      <th>유동자산(IFRS연결)</th>\n",
       "      <th>유동부채(IFRS연결)</th>\n",
       "      <th>자산(IFRS연결)</th>\n",
       "      <th>유동자산(IFRS개별)</th>\n",
       "      <th>유동부채(IFRS개별)</th>\n",
       "      <th>자산(IFRS개별)</th>\n",
       "    </tr>\n",
       "  </thead>\n",
       "  <tbody>\n",
       "    <tr>\n",
       "      <th>0</th>\n",
       "      <td>(주)CMG제약</td>\n",
       "      <td>58820</td>\n",
       "      <td>Dec-11</td>\n",
       "      <td>15341167.0</td>\n",
       "      <td>7633673.0</td>\n",
       "      <td>27305198.0</td>\n",
       "      <td>15264885.0</td>\n",
       "      <td>7620349.0</td>\n",
       "      <td>27548539.0</td>\n",
       "    </tr>\n",
       "  </tbody>\n",
       "</table>\n",
       "</div>"
      ],
      "text/plain": [
       "        회사명  거래소코드    회계년도  유동자산(IFRS연결)  유동부채(IFRS연결)  자산(IFRS연결)  \\\n",
       "0  (주)CMG제약  58820  Dec-11    15341167.0     7633673.0  27305198.0   \n",
       "\n",
       "   유동자산(IFRS개별)  유동부채(IFRS개별)  자산(IFRS개별)  \n",
       "0    15264885.0     7620349.0  27548539.0  "
      ]
     },
     "execution_count": 15,
     "metadata": {},
     "output_type": "execute_result"
    }
   ],
   "source": [
    "# 순운전자본 대 총자산\n",
    "pure_income_total_rate.head(1)"
   ]
  },
  {
   "cell_type": "code",
   "execution_count": null,
   "metadata": {},
   "outputs": [],
   "source": [
    "cal_rate_sub(pure_income_total_rate, \"유동자산(IFRS개별)\", \"유동부채(IFRS개별)\", \"자산(IFRS개별)\")\n",
    "cal_rate_sub(pure_income_total_rate, \"유동자산(IFRS연결)\", \"유동부채(IFRS연결)\", \"자산(IFRS연결)\")\n",
    "pure_income_total_rate.to_csv(\"../csv_data/use/순운전자본_대_총자산_전처리.csv\", encoding=\"CP949\")"
   ]
  },
  {
   "cell_type": "code",
   "execution_count": null,
   "metadata": {},
   "outputs": [
    {
     "data": {
      "text/html": [
       "<div>\n",
       "<style scoped>\n",
       "    .dataframe tbody tr th:only-of-type {\n",
       "        vertical-align: middle;\n",
       "    }\n",
       "\n",
       "    .dataframe tbody tr th {\n",
       "        vertical-align: top;\n",
       "    }\n",
       "\n",
       "    .dataframe thead th {\n",
       "        text-align: right;\n",
       "    }\n",
       "</style>\n",
       "<table border=\"1\" class=\"dataframe\">\n",
       "  <thead>\n",
       "    <tr style=\"text-align: right;\">\n",
       "      <th></th>\n",
       "      <th>회사명</th>\n",
       "      <th>거래소코드</th>\n",
       "      <th>회계년도</th>\n",
       "      <th>재고자산(IFRS연결)</th>\n",
       "      <th>유동자산(IFRS연결)</th>\n",
       "      <th>유동부채(IFRS연결)</th>\n",
       "      <th>재고자산(IFRS개별)</th>\n",
       "      <th>유동자산(IFRS개별)</th>\n",
       "      <th>유동부채(IFRS개별)</th>\n",
       "    </tr>\n",
       "  </thead>\n",
       "  <tbody>\n",
       "    <tr>\n",
       "      <th>0</th>\n",
       "      <td>(주)CMG제약</td>\n",
       "      <td>58820</td>\n",
       "      <td>Dec-11</td>\n",
       "      <td>2743103.0</td>\n",
       "      <td>15341167.0</td>\n",
       "      <td>7633673.0</td>\n",
       "      <td>2743103.0</td>\n",
       "      <td>15264885.0</td>\n",
       "      <td>0.0</td>\n",
       "    </tr>\n",
       "  </tbody>\n",
       "</table>\n",
       "</div>"
      ],
      "text/plain": [
       "        회사명  거래소코드    회계년도  재고자산(IFRS연결)  유동자산(IFRS연결)  유동부채(IFRS연결)  \\\n",
       "0  (주)CMG제약  58820  Dec-11     2743103.0    15341167.0     7633673.0   \n",
       "\n",
       "   재고자산(IFRS개별)  유동자산(IFRS개별)  유동부채(IFRS개별)  \n",
       "0     2743103.0    15264885.0           0.0  "
      ]
     },
     "execution_count": 16,
     "metadata": {},
     "output_type": "execute_result"
    }
   ],
   "source": [
    "# 재고자산 대 순운전자본 비율\n",
    "jego_money_pure_rate.head(1)"
   ]
  },
  {
   "cell_type": "code",
   "execution_count": null,
   "metadata": {},
   "outputs": [],
   "source": [
    "cal_rate_sub_under(jego_money_pure_rate, \"재고자산(IFRS개별)\", \"유동자산(IFRS개별)\", \"유동부채(IFRS개별)\", \"재고자산대순운전자본비율(개별)\")\n",
    "cal_rate_sub_under(jego_money_pure_rate, \"재고자산(IFRS연결)\", \"유동자산(IFRS연결)\", \"유동부채(IFRS연결)\", \"재고자산대순운전자본비율(연결)\")\n",
    "jego_money_pure_rate.to_csv(\"../csv_data/use/재고자산_대_순운전자본_비율_전처리.csv\", encoding=\"CP949\")"
   ]
  },
  {
   "cell_type": "code",
   "execution_count": null,
   "metadata": {},
   "outputs": [
    {
     "data": {
      "text/html": [
       "<div>\n",
       "<style scoped>\n",
       "    .dataframe tbody tr th:only-of-type {\n",
       "        vertical-align: middle;\n",
       "    }\n",
       "\n",
       "    .dataframe tbody tr th {\n",
       "        vertical-align: top;\n",
       "    }\n",
       "\n",
       "    .dataframe thead th {\n",
       "        text-align: right;\n",
       "    }\n",
       "</style>\n",
       "<table border=\"1\" class=\"dataframe\">\n",
       "  <thead>\n",
       "    <tr style=\"text-align: right;\">\n",
       "      <th></th>\n",
       "      <th>회사명</th>\n",
       "      <th>거래소코드</th>\n",
       "      <th>회계년도</th>\n",
       "      <th>매출액(IFRS연결)</th>\n",
       "      <th>매출채권(IFRS연결)</th>\n",
       "      <th>재고자산(IFRS연결)</th>\n",
       "      <th>매출액(IFRS개별)</th>\n",
       "      <th>매출채권(IFRS개별)</th>\n",
       "      <th>재고자산(IFRS개별)</th>\n",
       "    </tr>\n",
       "  </thead>\n",
       "  <tbody>\n",
       "    <tr>\n",
       "      <th>0</th>\n",
       "      <td>(주)CMG제약</td>\n",
       "      <td>58820</td>\n",
       "      <td>Dec-11</td>\n",
       "      <td>17751704.0</td>\n",
       "      <td>11050219.0</td>\n",
       "      <td>2743103.0</td>\n",
       "      <td>17751704.0</td>\n",
       "      <td>11050219.0</td>\n",
       "      <td>2743103.0</td>\n",
       "    </tr>\n",
       "  </tbody>\n",
       "</table>\n",
       "</div>"
      ],
      "text/plain": [
       "        회사명  거래소코드    회계년도  매출액(IFRS연결)  매출채권(IFRS연결)  재고자산(IFRS연결)  \\\n",
       "0  (주)CMG제약  58820  Dec-11   17751704.0    11050219.0     2743103.0   \n",
       "\n",
       "   매출액(IFRS개별)  매출채권(IFRS개별)  재고자산(IFRS개별)  \n",
       "0   17751704.0    11050219.0     2743103.0  "
      ]
     },
     "execution_count": 21,
     "metadata": {},
     "output_type": "execute_result"
    }
   ],
   "source": [
    "# 그냥 운전자본회전율\n",
    "normal_income_rate.head(1)"
   ]
  },
  {
   "cell_type": "code",
   "execution_count": null,
   "metadata": {},
   "outputs": [],
   "source": [
    "cal_rate_sub_add(normal_income_rate, \"매출액(IFRS개별)\", \"매출채권(IFRS개별)\", \"재고자산(IFRS개별)\", \"운전자본회전비율(개별)\")\n",
    "cal_rate_sub_add(normal_income_rate, \"매출액(IFRS연결)\", \"매출채권(IFRS연결)\", \"재고자산(IFRS연결)\", \"운전자본회전비율(연결)\")\n",
    "normal_income_rate.to_csv(\"../csv_data/use/운전자본회전비율_전처리.csv\", encoding=\"CP949\")"
   ]
  },
  {
   "cell_type": "code",
   "execution_count": 76,
   "metadata": {},
   "outputs": [
    {
     "data": {
      "text/plain": [
       "Index(['회사명', '거래소코드', '회계년도', 'Unnamed: 3', '매출액(수익)(*)(IFRS연결)(천원)',\n",
       "       '매출액(수익)(*)(IFRS)(천원)', 'Unnamed: 6', 'Unnamed: 7', '자산(*)(IFRS연결)(천원)',\n",
       "       '자산(*)(IFRS)(천원)', 'Unnamed: 10', 'Unnamed: 11', '매출원가(*)(IFRS연결)(천원)',\n",
       "       '매출원가(*)(IFRS)(천원)', '재고자산(*)(IFRS연결)(천원)', '재고자산(*)(IFRS)(천원)',\n",
       "       'Unnamed: 16', 'Unnamed: 17', '매출채권(IFRS연결)(천원)', '매출채권(IFRS)(천원)',\n",
       "       'Unnamed: 20', 'Unnamed: 21', '유형자산(*)(IFRS연결)(천원)',\n",
       "       '유형자산(*)(IFRS)(천원)', 'Unnamed: 24', 'Unnamed: 25', '매입채무(IFRS연결)(천원)',\n",
       "       '매입채무(IFRS)(천원)', 'Unnamed: 28', 'Unnamed: 29', '자본(*)(IFRS연결)(천원)',\n",
       "       '자본(*)(IFRS)(천원)', 'Unnamed: 32', 'Unnamed: 33', '부채(*)(IFRS연결)(천원)',\n",
       "       '부채(*)(IFRS)(천원)', 'Unnamed: 36', 'Unnamed: 37', '유동자산(*)(IFRS연결)(천원)',\n",
       "       '유동자산(*)(IFRS)(천원)'],\n",
       "      dtype='object')"
      ]
     },
     "execution_count": 76,
     "metadata": {},
     "output_type": "execute_result"
    }
   ],
   "source": [
    "# 활동성 지표 확인\n",
    "\n",
    "activity.columns"
   ]
  },
  {
   "cell_type": "code",
   "execution_count": 77,
   "metadata": {},
   "outputs": [],
   "source": [
    "activity[\"전기매출액(개별)\"] = activity[\"매출액(수익)(*)(IFRS)(천원)\"].shift().where(activity.회사명.eq(activity.회사명.shift()))\n",
    "activity[\"전기매출액(연결)\"] = activity[\"매출액(수익)(*)(IFRS연결)(천원)\"].shift().where(activity.회사명.eq(activity.회사명.shift()))\n",
    "\n",
    "activity[\"전기자산(개별)\"] = activity[\"자산(*)(IFRS)(천원)\"].shift().where(activity.회사명.eq(activity.회사명.shift()))\n",
    "activity[\"전기자산(연결)\"] = activity[\"자산(*)(IFRS연결)(천원)\"].shift().where(activity.회사명.eq(activity.회사명.shift()))\n",
    "\n",
    "activity[\"전기매출원가(개별)\"] = activity[\"매출원가(*)(IFRS)(천원)\"].shift().where(activity.회사명.eq(activity.회사명.shift()))\n",
    "activity[\"전기매출원가(연결)\"] = activity[\"매출원가(*)(IFRS연결)(천원)\"].shift().where(activity.회사명.eq(activity.회사명.shift()))\n",
    "\n",
    "activity[\"전기재고자산(개별)\"] = activity[\"재고자산(*)(IFRS)(천원)\"].shift().where(activity.회사명.eq(activity.회사명.shift()))\n",
    "activity[\"전기재고자산(연결)\"] = activity[\"재고자산(*)(IFRS연결)(천원)\"].shift().where(activity.회사명.eq(activity.회사명.shift()))\n",
    "\n",
    "activity[\"전기매출채권(개별)\"] = activity[\"매출채권(IFRS)(천원)\"].shift().where(activity.회사명.eq(activity.회사명.shift()))\n",
    "activity[\"전기매출채권(연결)\"] = activity[\"매출채권(IFRS연결)(천원)\"].shift().where(activity.회사명.eq(activity.회사명.shift()))\n",
    "\n",
    "activity[\"전기유형자산(개별)\"] = activity[\"유형자산(*)(IFRS)(천원)\"].shift().where(activity.회사명.eq(activity.회사명.shift()))\n",
    "activity[\"전기유형자산(연결)\"] = activity[\"유형자산(*)(IFRS연결)(천원)\"].shift().where(activity.회사명.eq(activity.회사명.shift()))\n",
    "\n",
    "activity[\"전기매입채무(개별)\"] = activity[\"매입채무(IFRS)(천원)\"].shift().where(activity.회사명.eq(activity.회사명.shift()))\n",
    "activity[\"전기매입채무(연결)\"] = activity[\"매입채무(IFRS연결)(천원)\"].shift().where(activity.회사명.eq(activity.회사명.shift()))\n",
    "\n",
    "activity[\"전기자본(개별)\"] = activity[\"자본(*)(IFRS)(천원)\"].shift().where(activity.회사명.eq(activity.회사명.shift()))\n",
    "activity[\"전기자본(연결)\"] = activity[\"자본(*)(IFRS연결)(천원)\"].shift().where(activity.회사명.eq(activity.회사명.shift()))\n",
    "\n",
    "activity[\"전기부채(개별)\"] = activity[\"부채(*)(IFRS)(천원)\"].shift().where(activity.회사명.eq(activity.회사명.shift()))\n",
    "activity[\"전기부채(연결)\"] = activity[\"부채(*)(IFRS연결)(천원)\"].shift().where(activity.회사명.eq(activity.회사명.shift()))\n",
    "\n",
    "activity[\"전기유동자산(개별)\"] = activity[\"유동자산(*)(IFRS)(천원)\"].shift().where(activity.회사명.eq(activity.회사명.shift()))\n",
    "activity[\"전기유동자산(연결)\"] = activity[\"유동자산(*)(IFRS연결)(천원)\"].shift().where(activity.회사명.eq(activity.회사명.shift()))"
   ]
  },
  {
   "cell_type": "code",
   "execution_count": 78,
   "metadata": {},
   "outputs": [
    {
     "data": {
      "text/html": [
       "<div>\n",
       "<style scoped>\n",
       "    .dataframe tbody tr th:only-of-type {\n",
       "        vertical-align: middle;\n",
       "    }\n",
       "\n",
       "    .dataframe tbody tr th {\n",
       "        vertical-align: top;\n",
       "    }\n",
       "\n",
       "    .dataframe thead th {\n",
       "        text-align: right;\n",
       "    }\n",
       "</style>\n",
       "<table border=\"1\" class=\"dataframe\">\n",
       "  <thead>\n",
       "    <tr style=\"text-align: right;\">\n",
       "      <th></th>\n",
       "      <th>회사명</th>\n",
       "      <th>거래소코드</th>\n",
       "      <th>회계년도</th>\n",
       "      <th>Unnamed: 3</th>\n",
       "      <th>매출액(수익)(*)(IFRS연결)(천원)</th>\n",
       "      <th>매출액(수익)(*)(IFRS)(천원)</th>\n",
       "      <th>Unnamed: 6</th>\n",
       "      <th>Unnamed: 7</th>\n",
       "      <th>자산(*)(IFRS연결)(천원)</th>\n",
       "      <th>자산(*)(IFRS)(천원)</th>\n",
       "      <th>...</th>\n",
       "      <th>전기유형자산(개별)</th>\n",
       "      <th>전기유형자산(연결)</th>\n",
       "      <th>전기매입채무(개별)</th>\n",
       "      <th>전기매입채무(연결)</th>\n",
       "      <th>전기자본(개별)</th>\n",
       "      <th>전기자본(연결)</th>\n",
       "      <th>전기부채(개별)</th>\n",
       "      <th>전기부채(연결)</th>\n",
       "      <th>전기유동자산(개별)</th>\n",
       "      <th>전기유동자산(연결)</th>\n",
       "    </tr>\n",
       "  </thead>\n",
       "  <tbody>\n",
       "    <tr>\n",
       "      <th>0</th>\n",
       "      <td>(주)CMG제약</td>\n",
       "      <td>58820</td>\n",
       "      <td>10-Dec</td>\n",
       "      <td>NaN</td>\n",
       "      <td>11350419.0</td>\n",
       "      <td>11350419.0</td>\n",
       "      <td>NaN</td>\n",
       "      <td>NaN</td>\n",
       "      <td>26775627.0</td>\n",
       "      <td>26775627.0</td>\n",
       "      <td>...</td>\n",
       "      <td>NaN</td>\n",
       "      <td>NaN</td>\n",
       "      <td>NaN</td>\n",
       "      <td>NaN</td>\n",
       "      <td>NaN</td>\n",
       "      <td>NaN</td>\n",
       "      <td>NaN</td>\n",
       "      <td>NaN</td>\n",
       "      <td>NaN</td>\n",
       "      <td>NaN</td>\n",
       "    </tr>\n",
       "  </tbody>\n",
       "</table>\n",
       "<p>1 rows × 60 columns</p>\n",
       "</div>"
      ],
      "text/plain": [
       "        회사명  거래소코드    회계년도  Unnamed: 3  매출액(수익)(*)(IFRS연결)(천원)  \\\n",
       "0  (주)CMG제약  58820  10-Dec         NaN              11350419.0   \n",
       "\n",
       "   매출액(수익)(*)(IFRS)(천원)  Unnamed: 6  Unnamed: 7  자산(*)(IFRS연결)(천원)  \\\n",
       "0            11350419.0         NaN         NaN         26775627.0   \n",
       "\n",
       "   자산(*)(IFRS)(천원)  ...  전기유형자산(개별)  전기유형자산(연결)  전기매입채무(개별)  전기매입채무(연결)  \\\n",
       "0       26775627.0  ...         NaN         NaN         NaN         NaN   \n",
       "\n",
       "   전기자본(개별)  전기자본(연결)  전기부채(개별)  전기부채(연결)  전기유동자산(개별)  전기유동자산(연결)  \n",
       "0       NaN       NaN       NaN       NaN         NaN         NaN  \n",
       "\n",
       "[1 rows x 60 columns]"
      ]
     },
     "execution_count": 78,
     "metadata": {},
     "output_type": "execute_result"
    }
   ],
   "source": [
    "activity.head(1)"
   ]
  },
  {
   "cell_type": "code",
   "execution_count": 79,
   "metadata": {},
   "outputs": [
    {
     "name": "stderr",
     "output_type": "stream",
     "text": [
      "C:\\Users\\luck1\\AppData\\Local\\Temp\\ipykernel_13260\\2137772217.py:187: RuntimeWarning: invalid value encountered in double_scalars\n",
      "  df_name.loc[i, d] = df_name.iloc[i][a]/((df_name.iloc[i][b]+df_name.iloc[i][c])/2)\n",
      "C:\\Users\\luck1\\AppData\\Local\\Temp\\ipykernel_13260\\2137772217.py:187: RuntimeWarning: divide by zero encountered in double_scalars\n",
      "  df_name.loc[i, d] = df_name.iloc[i][a]/((df_name.iloc[i][b]+df_name.iloc[i][c])/2)\n",
      "C:\\Users\\luck1\\AppData\\Local\\Temp\\ipykernel_13260\\2137772217.py:187: RuntimeWarning: divide by zero encountered in double_scalars\n",
      "  df_name.loc[i, d] = df_name.iloc[i][a]/((df_name.iloc[i][b]+df_name.iloc[i][c])/2)\n",
      "C:\\Users\\luck1\\AppData\\Local\\Temp\\ipykernel_13260\\2137772217.py:187: RuntimeWarning: invalid value encountered in double_scalars\n",
      "  df_name.loc[i, d] = df_name.iloc[i][a]/((df_name.iloc[i][b]+df_name.iloc[i][c])/2)\n",
      "C:\\Users\\luck1\\AppData\\Local\\Temp\\ipykernel_13260\\2137772217.py:187: RuntimeWarning: divide by zero encountered in double_scalars\n",
      "  df_name.loc[i, d] = df_name.iloc[i][a]/((df_name.iloc[i][b]+df_name.iloc[i][c])/2)\n",
      "C:\\Users\\luck1\\AppData\\Local\\Temp\\ipykernel_13260\\2137772217.py:187: RuntimeWarning: invalid value encountered in double_scalars\n",
      "  df_name.loc[i, d] = df_name.iloc[i][a]/((df_name.iloc[i][b]+df_name.iloc[i][c])/2)\n",
      "C:\\Users\\luck1\\AppData\\Local\\Temp\\ipykernel_13260\\2137772217.py:187: RuntimeWarning: divide by zero encountered in double_scalars\n",
      "  df_name.loc[i, d] = df_name.iloc[i][a]/((df_name.iloc[i][b]+df_name.iloc[i][c])/2)\n",
      "C:\\Users\\luck1\\AppData\\Local\\Temp\\ipykernel_13260\\2137772217.py:187: RuntimeWarning: invalid value encountered in double_scalars\n",
      "  df_name.loc[i, d] = df_name.iloc[i][a]/((df_name.iloc[i][b]+df_name.iloc[i][c])/2)\n",
      "C:\\Users\\luck1\\AppData\\Local\\Temp\\ipykernel_13260\\2137772217.py:187: RuntimeWarning: divide by zero encountered in double_scalars\n",
      "  df_name.loc[i, d] = df_name.iloc[i][a]/((df_name.iloc[i][b]+df_name.iloc[i][c])/2)\n",
      "C:\\Users\\luck1\\AppData\\Local\\Temp\\ipykernel_13260\\2137772217.py:187: RuntimeWarning: divide by zero encountered in double_scalars\n",
      "  df_name.loc[i, d] = df_name.iloc[i][a]/((df_name.iloc[i][b]+df_name.iloc[i][c])/2)\n",
      "C:\\Users\\luck1\\AppData\\Local\\Temp\\ipykernel_13260\\2137772217.py:187: RuntimeWarning: invalid value encountered in double_scalars\n",
      "  df_name.loc[i, d] = df_name.iloc[i][a]/((df_name.iloc[i][b]+df_name.iloc[i][c])/2)\n",
      "C:\\Users\\luck1\\AppData\\Local\\Temp\\ipykernel_13260\\2137772217.py:187: RuntimeWarning: divide by zero encountered in double_scalars\n",
      "  df_name.loc[i, d] = df_name.iloc[i][a]/((df_name.iloc[i][b]+df_name.iloc[i][c])/2)\n",
      "C:\\Users\\luck1\\AppData\\Local\\Temp\\ipykernel_13260\\2137772217.py:187: RuntimeWarning: invalid value encountered in double_scalars\n",
      "  df_name.loc[i, d] = df_name.iloc[i][a]/((df_name.iloc[i][b]+df_name.iloc[i][c])/2)\n"
     ]
    }
   ],
   "source": [
    "cal_rate_under_avg(activity, \"매출액(수익)(*)(IFRS)(천원)\", \"전기자본(개별)\", \"자본(*)(IFRS)(천원)\", \"총자본회전율(개별)\")\n",
    "cal_rate_under_avg(activity, \"매출액(수익)(*)(IFRS연결)(천원)\", \"전기자본(연결)\", \"자본(*)(IFRS연결)(천원)\", \"총자본회전율(연결)\")\n",
    "\n",
    "cal_rate_under_avg(activity, \"매출원가(*)(IFRS)(천원)\", \"전기재고자산(개별)\", \"재고자산(*)(IFRS)(천원)\", \"재고자산회전율(개별)\")\n",
    "cal_rate_under_avg(activity, \"매출원가(*)(IFRS연결)(천원)\", \"전기재고자산(연결)\", \"재고자산(*)(IFRS연결)(천원)\", \"재고자산회전율(연결)\")\n",
    "\n",
    "cal_rate_under_avg(activity, \"매출액(수익)(*)(IFRS)(천원)\", \"전기매출채권(개별)\", \"매출채권(IFRS)(천원)\", \"매출채권회전율(개별)\")\n",
    "cal_rate_under_avg(activity, \"매출액(수익)(*)(IFRS연결)(천원)\", \"전기매출채권(연결)\", \"매출채권(IFRS연결)(천원)\", \"매출채권회전율(연결)\")\n",
    "\n",
    "cal_rate_under_avg(activity, \"매출액(수익)(*)(IFRS)(천원)\", \"전기유형자산(개별)\", \"유형자산(*)(IFRS)(천원)\", \"유형자산회전율(개별)\")\n",
    "cal_rate_under_avg(activity, \"매출액(수익)(*)(IFRS연결)(천원)\", \"전기유형자산(연결)\", \"유형자산(*)(IFRS연결)(천원)\", \"유형자산회전율(연결))\")\n",
    "\n",
    "cal_rate_under_avg(activity, \"매출액(수익)(*)(IFRS)(천원)\", \"전기매입채무(개별)\", \"매입채무(IFRS)(천원)\", \"매입채무회전율(개별)\")\n",
    "cal_rate_under_avg(activity, \"매출액(수익)(*)(IFRS연결)(천원)\", \"전기매입채무(연결)\", \"매입채무(IFRS연결)(천원)\", \"매입채무회전율(연결)\")\n",
    "\n",
    "cal_rate_under_avg(activity, \"매출액(수익)(*)(IFRS)(천원)\", \"전기자본(개별)\", \"자본(*)(IFRS)(천원)\", \"자기자본회전율(개별)\")\n",
    "cal_rate_under_avg(activity, \"매출액(수익)(*)(IFRS연결)(천원)\", \"전기자본(연결)\", \"자본(*)(IFRS연결)(천원)\", \"자기자본회전율(연결)\")\n",
    "\n",
    "cal_rate_under_avg(activity, \"매출액(수익)(*)(IFRS)(천원)\", \"전기부채(개별)\", \"부채(*)(IFRS)(천원)\", \"타인자본회전율(개별)\")\n",
    "cal_rate_under_avg(activity, \"매출액(수익)(*)(IFRS연결)(천원)\", \"전기부채(연결)\", \"부채(*)(IFRS연결)(천원)\", \"타인자본회전율(연결)\")\n",
    "\n",
    "cal_rate_under_avg(activity, \"매출액(수익)(*)(IFRS)(천원)\", \"전기유동자산(개별)\", \"유동자산(*)(IFRS)(천원)\", \"유동자산회전율(개별)\")\n",
    "cal_rate_under_avg(activity, \"매출액(수익)(*)(IFRS연결)(천원)\", \"전기유동자산(연결)\", \"유동자산(*)(IFRS연결)(천원)\", \"유동자산회전율(연결)\")"
   ]
  },
  {
   "cell_type": "code",
   "execution_count": 80,
   "metadata": {},
   "outputs": [
    {
     "data": {
      "text/html": [
       "<div>\n",
       "<style scoped>\n",
       "    .dataframe tbody tr th:only-of-type {\n",
       "        vertical-align: middle;\n",
       "    }\n",
       "\n",
       "    .dataframe tbody tr th {\n",
       "        vertical-align: top;\n",
       "    }\n",
       "\n",
       "    .dataframe thead th {\n",
       "        text-align: right;\n",
       "    }\n",
       "</style>\n",
       "<table border=\"1\" class=\"dataframe\">\n",
       "  <thead>\n",
       "    <tr style=\"text-align: right;\">\n",
       "      <th></th>\n",
       "      <th>회사명</th>\n",
       "      <th>거래소코드</th>\n",
       "      <th>회계년도</th>\n",
       "      <th>Unnamed: 3</th>\n",
       "      <th>매출액(수익)(*)(IFRS연결)(천원)</th>\n",
       "      <th>매출액(수익)(*)(IFRS)(천원)</th>\n",
       "      <th>Unnamed: 6</th>\n",
       "      <th>Unnamed: 7</th>\n",
       "      <th>자산(*)(IFRS연결)(천원)</th>\n",
       "      <th>자산(*)(IFRS)(천원)</th>\n",
       "      <th>...</th>\n",
       "      <th>유형자산회전율(개별)</th>\n",
       "      <th>유형자산회전율(연결))</th>\n",
       "      <th>매입채무회전율(개별)</th>\n",
       "      <th>매입채무회전율(연결)</th>\n",
       "      <th>자기자본회전율(개별)</th>\n",
       "      <th>자기자본회전율(연결)</th>\n",
       "      <th>타인자본회전율(개별)</th>\n",
       "      <th>타인자본회전율(연결)</th>\n",
       "      <th>유동자산회전율(개별)</th>\n",
       "      <th>유동자산회전율(연결)</th>\n",
       "    </tr>\n",
       "  </thead>\n",
       "  <tbody>\n",
       "    <tr>\n",
       "      <th>1</th>\n",
       "      <td>(주)CMG제약</td>\n",
       "      <td>58820</td>\n",
       "      <td>2011</td>\n",
       "      <td>NaN</td>\n",
       "      <td>17751704.0</td>\n",
       "      <td>17751704.0</td>\n",
       "      <td>NaN</td>\n",
       "      <td>NaN</td>\n",
       "      <td>27305198.0</td>\n",
       "      <td>27548539.0</td>\n",
       "      <td>...</td>\n",
       "      <td>1.777885</td>\n",
       "      <td>1.772988</td>\n",
       "      <td>11.953510</td>\n",
       "      <td>11.953510</td>\n",
       "      <td>0.967500</td>\n",
       "      <td>0.974315</td>\n",
       "      <td>2.014020</td>\n",
       "      <td>2.012498</td>\n",
       "      <td>1.254267</td>\n",
       "      <td>1.250896</td>\n",
       "    </tr>\n",
       "    <tr>\n",
       "      <th>2</th>\n",
       "      <td>(주)CMG제약</td>\n",
       "      <td>58820</td>\n",
       "      <td>2012</td>\n",
       "      <td>NaN</td>\n",
       "      <td>16255389.0</td>\n",
       "      <td>16255389.0</td>\n",
       "      <td>NaN</td>\n",
       "      <td>NaN</td>\n",
       "      <td>57108035.0</td>\n",
       "      <td>56988604.0</td>\n",
       "      <td>...</td>\n",
       "      <td>1.718625</td>\n",
       "      <td>1.709722</td>\n",
       "      <td>7.829457</td>\n",
       "      <td>7.829457</td>\n",
       "      <td>0.651604</td>\n",
       "      <td>0.655130</td>\n",
       "      <td>0.938433</td>\n",
       "      <td>0.934532</td>\n",
       "      <td>0.521521</td>\n",
       "      <td>0.520586</td>\n",
       "    </tr>\n",
       "    <tr>\n",
       "      <th>3</th>\n",
       "      <td>(주)CMG제약</td>\n",
       "      <td>58820</td>\n",
       "      <td>2013</td>\n",
       "      <td>NaN</td>\n",
       "      <td>20402140.0</td>\n",
       "      <td>20322140.0</td>\n",
       "      <td>NaN</td>\n",
       "      <td>NaN</td>\n",
       "      <td>55912563.0</td>\n",
       "      <td>55961620.0</td>\n",
       "      <td>...</td>\n",
       "      <td>2.025203</td>\n",
       "      <td>2.028795</td>\n",
       "      <td>6.174374</td>\n",
       "      <td>6.198680</td>\n",
       "      <td>0.503954</td>\n",
       "      <td>0.506332</td>\n",
       "      <td>1.258357</td>\n",
       "      <td>1.258124</td>\n",
       "      <td>0.476306</td>\n",
       "      <td>0.478256</td>\n",
       "    </tr>\n",
       "    <tr>\n",
       "      <th>4</th>\n",
       "      <td>(주)CMG제약</td>\n",
       "      <td>58820</td>\n",
       "      <td>2014</td>\n",
       "      <td>NaN</td>\n",
       "      <td>22752584.0</td>\n",
       "      <td>22752584.0</td>\n",
       "      <td>NaN</td>\n",
       "      <td>NaN</td>\n",
       "      <td>58068326.0</td>\n",
       "      <td>58127098.0</td>\n",
       "      <td>...</td>\n",
       "      <td>1.535321</td>\n",
       "      <td>1.535321</td>\n",
       "      <td>5.272077</td>\n",
       "      <td>5.272077</td>\n",
       "      <td>0.463793</td>\n",
       "      <td>0.464339</td>\n",
       "      <td>2.848797</td>\n",
       "      <td>2.847461</td>\n",
       "      <td>0.683069</td>\n",
       "      <td>0.684179</td>\n",
       "    </tr>\n",
       "    <tr>\n",
       "      <th>5</th>\n",
       "      <td>(주)CMG제약</td>\n",
       "      <td>58820</td>\n",
       "      <td>2015</td>\n",
       "      <td>NaN</td>\n",
       "      <td>27041894.0</td>\n",
       "      <td>27041894.0</td>\n",
       "      <td>NaN</td>\n",
       "      <td>NaN</td>\n",
       "      <td>56532821.0</td>\n",
       "      <td>56591972.0</td>\n",
       "      <td>...</td>\n",
       "      <td>1.475432</td>\n",
       "      <td>1.475432</td>\n",
       "      <td>5.655170</td>\n",
       "      <td>5.655170</td>\n",
       "      <td>0.563727</td>\n",
       "      <td>0.564493</td>\n",
       "      <td>2.879964</td>\n",
       "      <td>2.878081</td>\n",
       "      <td>0.988905</td>\n",
       "      <td>0.991044</td>\n",
       "    </tr>\n",
       "    <tr>\n",
       "      <th>...</th>\n",
       "      <td>...</td>\n",
       "      <td>...</td>\n",
       "      <td>...</td>\n",
       "      <td>...</td>\n",
       "      <td>...</td>\n",
       "      <td>...</td>\n",
       "      <td>...</td>\n",
       "      <td>...</td>\n",
       "      <td>...</td>\n",
       "      <td>...</td>\n",
       "      <td>...</td>\n",
       "      <td>...</td>\n",
       "      <td>...</td>\n",
       "      <td>...</td>\n",
       "      <td>...</td>\n",
       "      <td>...</td>\n",
       "      <td>...</td>\n",
       "      <td>...</td>\n",
       "      <td>...</td>\n",
       "      <td>...</td>\n",
       "      <td>...</td>\n",
       "    </tr>\n",
       "    <tr>\n",
       "      <th>16230</th>\n",
       "      <td>흥아해운(주)</td>\n",
       "      <td>3280</td>\n",
       "      <td>2015</td>\n",
       "      <td>NaN</td>\n",
       "      <td>845115359.0</td>\n",
       "      <td>801560945.0</td>\n",
       "      <td>NaN</td>\n",
       "      <td>NaN</td>\n",
       "      <td>791640802.0</td>\n",
       "      <td>771212062.0</td>\n",
       "      <td>...</td>\n",
       "      <td>2.004289</td>\n",
       "      <td>2.094676</td>\n",
       "      <td>15.739421</td>\n",
       "      <td>16.050269</td>\n",
       "      <td>5.077020</td>\n",
       "      <td>4.964267</td>\n",
       "      <td>1.479909</td>\n",
       "      <td>1.536013</td>\n",
       "      <td>5.946233</td>\n",
       "      <td>5.833991</td>\n",
       "    </tr>\n",
       "    <tr>\n",
       "      <th>16231</th>\n",
       "      <td>흥아해운(주)</td>\n",
       "      <td>3280</td>\n",
       "      <td>2016</td>\n",
       "      <td>NaN</td>\n",
       "      <td>831746081.0</td>\n",
       "      <td>779990350.0</td>\n",
       "      <td>NaN</td>\n",
       "      <td>NaN</td>\n",
       "      <td>958532259.0</td>\n",
       "      <td>942586770.0</td>\n",
       "      <td>...</td>\n",
       "      <td>1.359188</td>\n",
       "      <td>1.441049</td>\n",
       "      <td>15.875451</td>\n",
       "      <td>16.257836</td>\n",
       "      <td>4.513130</td>\n",
       "      <td>4.550483</td>\n",
       "      <td>1.140216</td>\n",
       "      <td>1.201416</td>\n",
       "      <td>7.240475</td>\n",
       "      <td>6.978201</td>\n",
       "    </tr>\n",
       "    <tr>\n",
       "      <th>16232</th>\n",
       "      <td>흥아해운(주)</td>\n",
       "      <td>3280</td>\n",
       "      <td>2017</td>\n",
       "      <td>NaN</td>\n",
       "      <td>836427496.0</td>\n",
       "      <td>780863972.0</td>\n",
       "      <td>NaN</td>\n",
       "      <td>NaN</td>\n",
       "      <td>848958520.0</td>\n",
       "      <td>834107402.0</td>\n",
       "      <td>...</td>\n",
       "      <td>1.274368</td>\n",
       "      <td>1.358548</td>\n",
       "      <td>14.895284</td>\n",
       "      <td>15.392707</td>\n",
       "      <td>5.358582</td>\n",
       "      <td>5.407265</td>\n",
       "      <td>1.051492</td>\n",
       "      <td>1.116637</td>\n",
       "      <td>7.935881</td>\n",
       "      <td>7.681440</td>\n",
       "    </tr>\n",
       "    <tr>\n",
       "      <th>16233</th>\n",
       "      <td>흥아해운(주)</td>\n",
       "      <td>3280</td>\n",
       "      <td>2018</td>\n",
       "      <td>NaN</td>\n",
       "      <td>753865569.0</td>\n",
       "      <td>705007198.0</td>\n",
       "      <td>NaN</td>\n",
       "      <td>NaN</td>\n",
       "      <td>803698457.0</td>\n",
       "      <td>782787041.0</td>\n",
       "      <td>...</td>\n",
       "      <td>1.345698</td>\n",
       "      <td>1.431814</td>\n",
       "      <td>11.159149</td>\n",
       "      <td>11.869002</td>\n",
       "      <td>8.579521</td>\n",
       "      <td>7.934063</td>\n",
       "      <td>0.970718</td>\n",
       "      <td>1.030840</td>\n",
       "      <td>6.746457</td>\n",
       "      <td>6.730041</td>\n",
       "    </tr>\n",
       "    <tr>\n",
       "      <th>16234</th>\n",
       "      <td>흥아해운(주)</td>\n",
       "      <td>3280</td>\n",
       "      <td>2019</td>\n",
       "      <td>NaN</td>\n",
       "      <td>102166838.0</td>\n",
       "      <td>97376909.0</td>\n",
       "      <td>NaN</td>\n",
       "      <td>NaN</td>\n",
       "      <td>430962722.0</td>\n",
       "      <td>386550839.0</td>\n",
       "      <td>...</td>\n",
       "      <td>0.267504</td>\n",
       "      <td>0.279288</td>\n",
       "      <td>2.258365</td>\n",
       "      <td>2.407800</td>\n",
       "      <td>2.618934</td>\n",
       "      <td>1.963471</td>\n",
       "      <td>0.177862</td>\n",
       "      <td>0.180731</td>\n",
       "      <td>1.184891</td>\n",
       "      <td>1.010727</td>\n",
       "    </tr>\n",
       "  </tbody>\n",
       "</table>\n",
       "<p>14907 rows × 76 columns</p>\n",
       "</div>"
      ],
      "text/plain": [
       "            회사명  거래소코드  회계년도  Unnamed: 3  매출액(수익)(*)(IFRS연결)(천원)  \\\n",
       "1      (주)CMG제약  58820  2011         NaN              17751704.0   \n",
       "2      (주)CMG제약  58820  2012         NaN              16255389.0   \n",
       "3      (주)CMG제약  58820  2013         NaN              20402140.0   \n",
       "4      (주)CMG제약  58820  2014         NaN              22752584.0   \n",
       "5      (주)CMG제약  58820  2015         NaN              27041894.0   \n",
       "...         ...    ...   ...         ...                     ...   \n",
       "16230   흥아해운(주)   3280  2015         NaN             845115359.0   \n",
       "16231   흥아해운(주)   3280  2016         NaN             831746081.0   \n",
       "16232   흥아해운(주)   3280  2017         NaN             836427496.0   \n",
       "16233   흥아해운(주)   3280  2018         NaN             753865569.0   \n",
       "16234   흥아해운(주)   3280  2019         NaN             102166838.0   \n",
       "\n",
       "       매출액(수익)(*)(IFRS)(천원)  Unnamed: 6  Unnamed: 7  자산(*)(IFRS연결)(천원)  \\\n",
       "1                17751704.0         NaN         NaN         27305198.0   \n",
       "2                16255389.0         NaN         NaN         57108035.0   \n",
       "3                20322140.0         NaN         NaN         55912563.0   \n",
       "4                22752584.0         NaN         NaN         58068326.0   \n",
       "5                27041894.0         NaN         NaN         56532821.0   \n",
       "...                     ...         ...         ...                ...   \n",
       "16230           801560945.0         NaN         NaN        791640802.0   \n",
       "16231           779990350.0         NaN         NaN        958532259.0   \n",
       "16232           780863972.0         NaN         NaN        848958520.0   \n",
       "16233           705007198.0         NaN         NaN        803698457.0   \n",
       "16234            97376909.0         NaN         NaN        430962722.0   \n",
       "\n",
       "       자산(*)(IFRS)(천원)  ...  유형자산회전율(개별)  유형자산회전율(연결))  매입채무회전율(개별)  \\\n",
       "1           27548539.0  ...     1.777885      1.772988    11.953510   \n",
       "2           56988604.0  ...     1.718625      1.709722     7.829457   \n",
       "3           55961620.0  ...     2.025203      2.028795     6.174374   \n",
       "4           58127098.0  ...     1.535321      1.535321     5.272077   \n",
       "5           56591972.0  ...     1.475432      1.475432     5.655170   \n",
       "...                ...  ...          ...           ...          ...   \n",
       "16230      771212062.0  ...     2.004289      2.094676    15.739421   \n",
       "16231      942586770.0  ...     1.359188      1.441049    15.875451   \n",
       "16232      834107402.0  ...     1.274368      1.358548    14.895284   \n",
       "16233      782787041.0  ...     1.345698      1.431814    11.159149   \n",
       "16234      386550839.0  ...     0.267504      0.279288     2.258365   \n",
       "\n",
       "       매입채무회전율(연결)  자기자본회전율(개별)  자기자본회전율(연결)  타인자본회전율(개별)  타인자본회전율(연결)  \\\n",
       "1        11.953510     0.967500     0.974315     2.014020     2.012498   \n",
       "2         7.829457     0.651604     0.655130     0.938433     0.934532   \n",
       "3         6.198680     0.503954     0.506332     1.258357     1.258124   \n",
       "4         5.272077     0.463793     0.464339     2.848797     2.847461   \n",
       "5         5.655170     0.563727     0.564493     2.879964     2.878081   \n",
       "...            ...          ...          ...          ...          ...   \n",
       "16230    16.050269     5.077020     4.964267     1.479909     1.536013   \n",
       "16231    16.257836     4.513130     4.550483     1.140216     1.201416   \n",
       "16232    15.392707     5.358582     5.407265     1.051492     1.116637   \n",
       "16233    11.869002     8.579521     7.934063     0.970718     1.030840   \n",
       "16234     2.407800     2.618934     1.963471     0.177862     0.180731   \n",
       "\n",
       "       유동자산회전율(개별)  유동자산회전율(연결)  \n",
       "1         1.254267     1.250896  \n",
       "2         0.521521     0.520586  \n",
       "3         0.476306     0.478256  \n",
       "4         0.683069     0.684179  \n",
       "5         0.988905     0.991044  \n",
       "...            ...          ...  \n",
       "16230     5.946233     5.833991  \n",
       "16231     7.240475     6.978201  \n",
       "16232     7.935881     7.681440  \n",
       "16233     6.746457     6.730041  \n",
       "16234     1.184891     1.010727  \n",
       "\n",
       "[14907 rows x 76 columns]"
      ]
     },
     "execution_count": 80,
     "metadata": {},
     "output_type": "execute_result"
    }
   ],
   "source": [
    "activity.to_csv(\"../csv_data/01_임시확인.csv\", encoding=\"CP949\")\n",
    "activity[\"회계년도\"] = pd.to_datetime(activity['회계년도'].str.upper(), format=\"%d-%b\", yearfirst=False).dt.strftime(\"20%d\")\n",
    "kill_2010 = activity[activity['회계년도'].str.contains(\"2010\")].index\n",
    "activity_real = activity.drop(kill_2010)\n",
    "activity_real"
   ]
  },
  {
   "cell_type": "code",
   "execution_count": 81,
   "metadata": {},
   "outputs": [],
   "source": [
    "activity_real.to_csv(\"../csv_data/00_활동성확인용.csv\", encoding=\"CP949\")"
   ]
  },
  {
   "cell_type": "code",
   "execution_count": 99,
   "metadata": {},
   "outputs": [
    {
     "data": {
      "text/html": [
       "<div>\n",
       "<style scoped>\n",
       "    .dataframe tbody tr th:only-of-type {\n",
       "        vertical-align: middle;\n",
       "    }\n",
       "\n",
       "    .dataframe tbody tr th {\n",
       "        vertical-align: top;\n",
       "    }\n",
       "\n",
       "    .dataframe thead th {\n",
       "        text-align: right;\n",
       "    }\n",
       "</style>\n",
       "<table border=\"1\" class=\"dataframe\">\n",
       "  <thead>\n",
       "    <tr style=\"text-align: right;\">\n",
       "      <th></th>\n",
       "      <th>회사명</th>\n",
       "      <th>거래소코드</th>\n",
       "      <th>회계년도</th>\n",
       "      <th>유형자산(IFRS연결)</th>\n",
       "      <th>건설중인자산(IFRS연결)</th>\n",
       "      <th>유형자산(IFRS개별)</th>\n",
       "      <th>건설중인자산(IFRS개별)</th>\n",
       "      <th>합계_기말인원</th>\n",
       "    </tr>\n",
       "  </thead>\n",
       "  <tbody>\n",
       "    <tr>\n",
       "      <th>0</th>\n",
       "      <td>(주)CMG제약</td>\n",
       "      <td>58820</td>\n",
       "      <td>Dec-11</td>\n",
       "      <td>0.0</td>\n",
       "      <td>24700.0</td>\n",
       "      <td>9652599.0</td>\n",
       "      <td>24700.0</td>\n",
       "      <td>135.0</td>\n",
       "    </tr>\n",
       "  </tbody>\n",
       "</table>\n",
       "</div>"
      ],
      "text/plain": [
       "        회사명  거래소코드    회계년도  유형자산(IFRS연결)  건설중인자산(IFRS연결)  유형자산(IFRS개별)  \\\n",
       "0  (주)CMG제약  58820  Dec-11           0.0         24700.0     9652599.0   \n",
       "\n",
       "   건설중인자산(IFRS개별)  합계_기말인원  \n",
       "0         24700.0    135.0  "
      ]
     },
     "execution_count": 99,
     "metadata": {},
     "output_type": "execute_result"
    }
   ],
   "source": [
    "# 노동장비율\n",
    "rodong_rate.head(1)"
   ]
  },
  {
   "cell_type": "code",
   "execution_count": 100,
   "metadata": {},
   "outputs": [],
   "source": [
    "cal_rate_sub_v2(rodong_rate, \"유형자산(IFRS개별)\", \"건설중인자산(IFRS개별)\", \"합계_기말인원\", \"노동장비율(개별)\")\n",
    "cal_rate_sub_v2(rodong_rate, \"유형자산(IFRS연결)\", \"건설중인자산(IFRS연결)\", \"합계_기말인원\", \"노동장비율(연결)\")\n",
    "rodong_rate.to_csv(\"../csv_data/use/노동장비율_전처리.csv\", encoding=\"CP949\")"
   ]
  },
  {
   "cell_type": "code",
   "execution_count": 101,
   "metadata": {},
   "outputs": [
    {
     "data": {
      "text/html": [
       "<div>\n",
       "<style scoped>\n",
       "    .dataframe tbody tr th:only-of-type {\n",
       "        vertical-align: middle;\n",
       "    }\n",
       "\n",
       "    .dataframe tbody tr th {\n",
       "        vertical-align: top;\n",
       "    }\n",
       "\n",
       "    .dataframe thead th {\n",
       "        text-align: right;\n",
       "    }\n",
       "</style>\n",
       "<table border=\"1\" class=\"dataframe\">\n",
       "  <thead>\n",
       "    <tr style=\"text-align: right;\">\n",
       "      <th></th>\n",
       "      <th>회사명</th>\n",
       "      <th>거래소코드</th>\n",
       "      <th>회계년도</th>\n",
       "      <th>기계장치(IFRS연결</th>\n",
       "      <th>기계장치(IFRS)</th>\n",
       "      <th>합계_기말인원</th>\n",
       "    </tr>\n",
       "  </thead>\n",
       "  <tbody>\n",
       "    <tr>\n",
       "      <th>0</th>\n",
       "      <td>(주)CMG제약</td>\n",
       "      <td>58820</td>\n",
       "      <td>Dec-11</td>\n",
       "      <td>3944218.0</td>\n",
       "      <td>3944218.0</td>\n",
       "      <td>135.0</td>\n",
       "    </tr>\n",
       "  </tbody>\n",
       "</table>\n",
       "</div>"
      ],
      "text/plain": [
       "        회사명  거래소코드    회계년도  기계장치(IFRS연결  기계장치(IFRS)  합계_기말인원\n",
       "0  (주)CMG제약  58820  Dec-11    3944218.0   3944218.0    135.0"
      ]
     },
     "execution_count": 101,
     "metadata": {},
     "output_type": "execute_result"
    }
   ],
   "source": [
    "# 기계장비율\n",
    "machine_rate.head(1)"
   ]
  },
  {
   "cell_type": "code",
   "execution_count": 102,
   "metadata": {},
   "outputs": [],
   "source": [
    "cal_div(machine_rate, \"기계장치(IFRS)\", \"합계_기말인원\", \"기계장비율(개별)\")\n",
    "cal_div(machine_rate, \"기계장치(IFRS연결\", \"합계_기말인원\", \"기계장비율(연결)\")\n",
    "machine_rate.to_csv(\"../csv_data/use/기계장비율_전처리.csv\", encoding=\"CP949\")"
   ]
  },
  {
   "cell_type": "code",
   "execution_count": 103,
   "metadata": {},
   "outputs": [
    {
     "data": {
      "text/html": [
       "<div>\n",
       "<style scoped>\n",
       "    .dataframe tbody tr th:only-of-type {\n",
       "        vertical-align: middle;\n",
       "    }\n",
       "\n",
       "    .dataframe tbody tr th {\n",
       "        vertical-align: top;\n",
       "    }\n",
       "\n",
       "    .dataframe thead th {\n",
       "        text-align: right;\n",
       "    }\n",
       "</style>\n",
       "<table border=\"1\" class=\"dataframe\">\n",
       "  <thead>\n",
       "    <tr style=\"text-align: right;\">\n",
       "      <th></th>\n",
       "      <th>회사명</th>\n",
       "      <th>거래소코드</th>\n",
       "      <th>회계년도</th>\n",
       "      <th>자산(IFRS연결)</th>\n",
       "      <th>자산(IFRS개별)</th>\n",
       "      <th>합계_기말인원</th>\n",
       "    </tr>\n",
       "  </thead>\n",
       "  <tbody>\n",
       "    <tr>\n",
       "      <th>0</th>\n",
       "      <td>(주)CMG제약</td>\n",
       "      <td>58820</td>\n",
       "      <td>11-Dec</td>\n",
       "      <td>27305198.0</td>\n",
       "      <td>27548539.0</td>\n",
       "      <td>135.0</td>\n",
       "    </tr>\n",
       "  </tbody>\n",
       "</table>\n",
       "</div>"
      ],
      "text/plain": [
       "        회사명  거래소코드    회계년도  자산(IFRS연결)  자산(IFRS개별)  합계_기말인원\n",
       "0  (주)CMG제약  58820  11-Dec  27305198.0  27548539.0    135.0"
      ]
     },
     "execution_count": 103,
     "metadata": {},
     "output_type": "execute_result"
    }
   ],
   "source": [
    "# 자본집약도\n",
    "jabon_jp.head(1)"
   ]
  },
  {
   "cell_type": "code",
   "execution_count": 104,
   "metadata": {},
   "outputs": [],
   "source": [
    "cal_div(jabon_jp, \"자산(IFRS개별)\", \"합계_기말인원\", \"자본집약도(개별)\")\n",
    "cal_div(jabon_jp, \"자산(IFRS연결)\", \"합계_기말인원\", \"자본집약도(연결)\")\n",
    "jabon_jp.to_csv(\"../csv_data/use/자본집약도_전처리.csv\", encoding=\"CP949\")"
   ]
  },
  {
   "cell_type": "code",
   "execution_count": 105,
   "metadata": {},
   "outputs": [
    {
     "data": {
      "text/html": [
       "<div>\n",
       "<style scoped>\n",
       "    .dataframe tbody tr th:only-of-type {\n",
       "        vertical-align: middle;\n",
       "    }\n",
       "\n",
       "    .dataframe tbody tr th {\n",
       "        vertical-align: top;\n",
       "    }\n",
       "\n",
       "    .dataframe thead th {\n",
       "        text-align: right;\n",
       "    }\n",
       "</style>\n",
       "<table border=\"1\" class=\"dataframe\">\n",
       "  <thead>\n",
       "    <tr style=\"text-align: right;\">\n",
       "      <th></th>\n",
       "      <th>회사명</th>\n",
       "      <th>거래소코드</th>\n",
       "      <th>회계년도</th>\n",
       "      <th>부가가치(IFRS연결)</th>\n",
       "      <th>인건비(IFRS연결)</th>\n",
       "      <th>부가가치(IFRS개별)</th>\n",
       "      <th>인건비(IFRS개별)</th>\n",
       "      <th>노동소득분배율(개별)</th>\n",
       "      <th>노동소득분배율(연결)</th>\n",
       "    </tr>\n",
       "  </thead>\n",
       "  <tbody>\n",
       "    <tr>\n",
       "      <th>0</th>\n",
       "      <td>(주)CMG제약</td>\n",
       "      <td>58820</td>\n",
       "      <td>Dec-11</td>\n",
       "      <td>3472.17</td>\n",
       "      <td>3118.67</td>\n",
       "      <td>3669.25</td>\n",
       "      <td>3110.72</td>\n",
       "      <td>0.008478</td>\n",
       "      <td>0.008982</td>\n",
       "    </tr>\n",
       "  </tbody>\n",
       "</table>\n",
       "</div>"
      ],
      "text/plain": [
       "        회사명  거래소코드    회계년도  부가가치(IFRS연결)  인건비(IFRS연결)  부가가치(IFRS개별)  \\\n",
       "0  (주)CMG제약  58820  Dec-11       3472.17      3118.67       3669.25   \n",
       "\n",
       "   인건비(IFRS개별)  노동소득분배율(개별)  노동소득분배율(연결)  \n",
       "0      3110.72     0.008478     0.008982  "
      ]
     },
     "execution_count": 105,
     "metadata": {},
     "output_type": "execute_result"
    }
   ],
   "source": [
    "# 노동소득분배율\n",
    "rodong_fee_rate.head(1)"
   ]
  },
  {
   "cell_type": "code",
   "execution_count": 106,
   "metadata": {},
   "outputs": [],
   "source": [
    "cal_div_vta_und(rodong_fee_rate, \"인건비(IFRS개별)\", \"부가가치(IFRS개별)\", \"노동소득분배율(개별)\")\n",
    "cal_div_vta_und(rodong_fee_rate, \"인건비(IFRS연결)\", \"부가가치(IFRS연결)\", \"노동소득분배율(연결)\")\n",
    "rodong_fee_rate.to_csv(\"../csv_data/use/노동소득분배율_전처리.csv\", encoding=\"CP949\")"
   ]
  },
  {
   "cell_type": "code",
   "execution_count": 107,
   "metadata": {},
   "outputs": [
    {
     "data": {
      "text/html": [
       "<div>\n",
       "<style scoped>\n",
       "    .dataframe tbody tr th:only-of-type {\n",
       "        vertical-align: middle;\n",
       "    }\n",
       "\n",
       "    .dataframe tbody tr th {\n",
       "        vertical-align: top;\n",
       "    }\n",
       "\n",
       "    .dataframe thead th {\n",
       "        text-align: right;\n",
       "    }\n",
       "</style>\n",
       "<table border=\"1\" class=\"dataframe\">\n",
       "  <thead>\n",
       "    <tr style=\"text-align: right;\">\n",
       "      <th></th>\n",
       "      <th>회사명</th>\n",
       "      <th>거래소코드</th>\n",
       "      <th>회계년도</th>\n",
       "      <th>부가가치(IFRS연결)</th>\n",
       "      <th>유형자산(IFRS연결)</th>\n",
       "      <th>건설중인자산(IFRS연결)</th>\n",
       "      <th>부가가치(IFRS개별)</th>\n",
       "      <th>유형자산(IFRS개별)</th>\n",
       "      <th>건설중인자산(IFRS개별)</th>\n",
       "    </tr>\n",
       "  </thead>\n",
       "  <tbody>\n",
       "    <tr>\n",
       "      <th>0</th>\n",
       "      <td>(주)CMG제약</td>\n",
       "      <td>58820</td>\n",
       "      <td>11-Dec</td>\n",
       "      <td>3472.17</td>\n",
       "      <td>0.0</td>\n",
       "      <td>24700.0</td>\n",
       "      <td>3669.25</td>\n",
       "      <td>9652599.0</td>\n",
       "      <td>24700.0</td>\n",
       "    </tr>\n",
       "  </tbody>\n",
       "</table>\n",
       "</div>"
      ],
      "text/plain": [
       "        회사명  거래소코드    회계년도  부가가치(IFRS연결)  유형자산(IFRS연결)  건설중인자산(IFRS연결)  \\\n",
       "0  (주)CMG제약  58820  11-Dec       3472.17           0.0         24700.0   \n",
       "\n",
       "   부가가치(IFRS개별)  유형자산(IFRS개별)  건설중인자산(IFRS개별)  \n",
       "0       3669.25     9652599.0         24700.0  "
      ]
     },
     "execution_count": 107,
     "metadata": {},
     "output_type": "execute_result"
    }
   ],
   "source": [
    "# 설비투자효율\n",
    "construction_rate.head(1)"
   ]
  },
  {
   "cell_type": "code",
   "execution_count": 110,
   "metadata": {},
   "outputs": [
    {
     "name": "stderr",
     "output_type": "stream",
     "text": [
      "C:\\Users\\luck1\\AppData\\Local\\Temp\\ipykernel_13260\\866306669.py:262: RuntimeWarning: divide by zero encountered in double_scalars\n",
      "  df_name.loc[i, d] = (df_name.iloc[i][a]*100)/(df_name.iloc[i][b]-df_name.iloc[i][c]) * 100\n",
      "C:\\Users\\luck1\\AppData\\Local\\Temp\\ipykernel_13260\\866306669.py:262: RuntimeWarning: divide by zero encountered in double_scalars\n",
      "  df_name.loc[i, d] = (df_name.iloc[i][a]*100)/(df_name.iloc[i][b]-df_name.iloc[i][c]) * 100\n"
     ]
    }
   ],
   "source": [
    "cal_rate_vta_sub_under(construction_rate, \"부가가치(IFRS개별)\", \"유형자산(IFRS개별)\", \"건설중인자산(IFRS개별)\", \"설비투자효율(개별)\")\n",
    "cal_rate_vta_sub_under(construction_rate, \"부가가치(IFRS연결)\", \"유형자산(IFRS연결)\", \"건설중인자산(IFRS연결)\", \"설비투자효율(연결)\")\n",
    "construction_rate.to_csv(\"../csv_data/use/설비투자효율_전처리.csv\", encoding=\"CP949\")"
   ]
  },
  {
   "cell_type": "code",
   "execution_count": 111,
   "metadata": {},
   "outputs": [
    {
     "data": {
      "text/html": [
       "<div>\n",
       "<style scoped>\n",
       "    .dataframe tbody tr th:only-of-type {\n",
       "        vertical-align: middle;\n",
       "    }\n",
       "\n",
       "    .dataframe tbody tr th {\n",
       "        vertical-align: top;\n",
       "    }\n",
       "\n",
       "    .dataframe thead th {\n",
       "        text-align: right;\n",
       "    }\n",
       "</style>\n",
       "<table border=\"1\" class=\"dataframe\">\n",
       "  <thead>\n",
       "    <tr style=\"text-align: right;\">\n",
       "      <th></th>\n",
       "      <th>회사명</th>\n",
       "      <th>거래소코드</th>\n",
       "      <th>회계년도</th>\n",
       "      <th>부가가치(IFRS연결)</th>\n",
       "      <th>자산(IFRS연결)</th>\n",
       "      <th>부가가치(IFRS개별)</th>\n",
       "      <th>자산(IFRS개별)</th>\n",
       "    </tr>\n",
       "  </thead>\n",
       "  <tbody>\n",
       "    <tr>\n",
       "      <th>0</th>\n",
       "      <td>(주)CMG제약</td>\n",
       "      <td>58820</td>\n",
       "      <td>Dec-11</td>\n",
       "      <td>3472.17</td>\n",
       "      <td>27305198.0</td>\n",
       "      <td>3669.25</td>\n",
       "      <td>27548539.0</td>\n",
       "    </tr>\n",
       "  </tbody>\n",
       "</table>\n",
       "</div>"
      ],
      "text/plain": [
       "        회사명  거래소코드    회계년도  부가가치(IFRS연결)  자산(IFRS연결)  부가가치(IFRS개별)  자산(IFRS개별)\n",
       "0  (주)CMG제약  58820  Dec-11       3472.17  27305198.0       3669.25  27548539.0"
      ]
     },
     "execution_count": 111,
     "metadata": {},
     "output_type": "execute_result"
    }
   ],
   "source": [
    "# 총자본투자효율\n",
    "total_jabon_rate.head(1)"
   ]
  },
  {
   "cell_type": "code",
   "execution_count": 112,
   "metadata": {},
   "outputs": [],
   "source": [
    "cal_div_vta_up(total_jabon_rate, \"부가가치(IFRS개별)\", \"자산(IFRS개별)\", \"총자본투자효율(개별)\")\n",
    "cal_div_vta_up(total_jabon_rate, \"부가가치(IFRS연결)\", \"자산(IFRS연결)\", \"총자본투자효율(연결)\")\n",
    "total_jabon_rate.to_csv(\"../csv_data/use/총자본투자효율_전처리.csv\", encoding=\"CP949\")"
   ]
  },
  {
   "cell_type": "code",
   "execution_count": 113,
   "metadata": {},
   "outputs": [
    {
     "data": {
      "text/html": [
       "<div>\n",
       "<style scoped>\n",
       "    .dataframe tbody tr th:only-of-type {\n",
       "        vertical-align: middle;\n",
       "    }\n",
       "\n",
       "    .dataframe tbody tr th {\n",
       "        vertical-align: top;\n",
       "    }\n",
       "\n",
       "    .dataframe thead th {\n",
       "        text-align: right;\n",
       "    }\n",
       "</style>\n",
       "<table border=\"1\" class=\"dataframe\">\n",
       "  <thead>\n",
       "    <tr style=\"text-align: right;\">\n",
       "      <th></th>\n",
       "      <th>회사명</th>\n",
       "      <th>거래소코드</th>\n",
       "      <th>회계년도</th>\n",
       "      <th>부가가치(IFRS연결)</th>\n",
       "      <th>기계장치(IFRS연결)</th>\n",
       "      <th>부가가치(IFRS개별)</th>\n",
       "      <th>기계장치(IFRS개별)</th>\n",
       "    </tr>\n",
       "  </thead>\n",
       "  <tbody>\n",
       "    <tr>\n",
       "      <th>0</th>\n",
       "      <td>(주)CMG제약</td>\n",
       "      <td>58820</td>\n",
       "      <td>Dec-11</td>\n",
       "      <td>3472.17</td>\n",
       "      <td>3944218.0</td>\n",
       "      <td>3669.25</td>\n",
       "      <td>3944218.0</td>\n",
       "    </tr>\n",
       "  </tbody>\n",
       "</table>\n",
       "</div>"
      ],
      "text/plain": [
       "        회사명  거래소코드    회계년도  부가가치(IFRS연결)  기계장치(IFRS연결)  부가가치(IFRS개별)  \\\n",
       "0  (주)CMG제약  58820  Dec-11       3472.17     3944218.0       3669.25   \n",
       "\n",
       "   기계장치(IFRS개별)  \n",
       "0     3944218.0  "
      ]
     },
     "execution_count": 113,
     "metadata": {},
     "output_type": "execute_result"
    }
   ],
   "source": [
    "# 기계투자효율\n",
    "machine_work_rate.head(1)"
   ]
  },
  {
   "cell_type": "code",
   "execution_count": 114,
   "metadata": {},
   "outputs": [
    {
     "name": "stderr",
     "output_type": "stream",
     "text": [
      "C:\\Users\\luck1\\AppData\\Local\\Temp\\ipykernel_13260\\866306669.py:246: RuntimeWarning: divide by zero encountered in double_scalars\n",
      "  df_name.loc[i, c] = ((df_name.iloc[i][a]*100)/df_name.iloc[i][b])*100\n",
      "C:\\Users\\luck1\\AppData\\Local\\Temp\\ipykernel_13260\\866306669.py:246: RuntimeWarning: divide by zero encountered in double_scalars\n",
      "  df_name.loc[i, c] = ((df_name.iloc[i][a]*100)/df_name.iloc[i][b])*100\n"
     ]
    }
   ],
   "source": [
    "cal_div_vta_up(machine_work_rate, \"부가가치(IFRS개별)\", \"기계장치(IFRS개별)\", \"기계투자효율(개별)\")\n",
    "cal_div_vta_up(machine_work_rate, \"부가가치(IFRS연결)\", \"기계장치(IFRS연결)\", \"기계투자효율(연결)\")\n",
    "machine_work_rate.to_csv(\"../csv_data/use/기계투자효율_전처리.csv\", encoding=\"CP949\")"
   ]
  },
  {
   "cell_type": "code",
   "execution_count": 115,
   "metadata": {},
   "outputs": [
    {
     "data": {
      "text/html": [
       "<div>\n",
       "<style scoped>\n",
       "    .dataframe tbody tr th:only-of-type {\n",
       "        vertical-align: middle;\n",
       "    }\n",
       "\n",
       "    .dataframe tbody tr th {\n",
       "        vertical-align: top;\n",
       "    }\n",
       "\n",
       "    .dataframe thead th {\n",
       "        text-align: right;\n",
       "    }\n",
       "</style>\n",
       "<table border=\"1\" class=\"dataframe\">\n",
       "  <thead>\n",
       "    <tr style=\"text-align: right;\">\n",
       "      <th></th>\n",
       "      <th>회사명</th>\n",
       "      <th>거래소코드</th>\n",
       "      <th>회계년도</th>\n",
       "      <th>부가가치(IFRS연결)</th>\n",
       "      <th>매출액(IFRS연결)</th>\n",
       "      <th>부가가치(IFRS개별)</th>\n",
       "      <th>매출액(IFRS개별)</th>\n",
       "    </tr>\n",
       "  </thead>\n",
       "  <tbody>\n",
       "    <tr>\n",
       "      <th>0</th>\n",
       "      <td>(주)CMG제약</td>\n",
       "      <td>58820</td>\n",
       "      <td>Dec-11</td>\n",
       "      <td>3472.17</td>\n",
       "      <td>17751704.0</td>\n",
       "      <td>3669.25</td>\n",
       "      <td>17751704.0</td>\n",
       "    </tr>\n",
       "  </tbody>\n",
       "</table>\n",
       "</div>"
      ],
      "text/plain": [
       "        회사명  거래소코드    회계년도  부가가치(IFRS연결)  매출액(IFRS연결)  부가가치(IFRS개별)  \\\n",
       "0  (주)CMG제약  58820  Dec-11       3472.17   17751704.0       3669.25   \n",
       "\n",
       "   매출액(IFRS개별)  \n",
       "0   17751704.0  "
      ]
     },
     "execution_count": 115,
     "metadata": {},
     "output_type": "execute_result"
    }
   ],
   "source": [
    "# 부가가치율\n",
    "vta_rate.head(1)"
   ]
  },
  {
   "cell_type": "code",
   "execution_count": 116,
   "metadata": {},
   "outputs": [
    {
     "name": "stderr",
     "output_type": "stream",
     "text": [
      "C:\\Users\\luck1\\AppData\\Local\\Temp\\ipykernel_13260\\866306669.py:246: RuntimeWarning: divide by zero encountered in double_scalars\n",
      "  df_name.loc[i, c] = ((df_name.iloc[i][a]*100)/df_name.iloc[i][b])*100\n",
      "C:\\Users\\luck1\\AppData\\Local\\Temp\\ipykernel_13260\\866306669.py:246: RuntimeWarning: divide by zero encountered in double_scalars\n",
      "  df_name.loc[i, c] = ((df_name.iloc[i][a]*100)/df_name.iloc[i][b])*100\n"
     ]
    }
   ],
   "source": [
    "cal_div_vta_up(vta_rate, \"부가가치(IFRS개별)\", \"매출액(IFRS개별)\", \"부가가치율(개별)\")\n",
    "cal_div_vta_up(vta_rate, \"부가가치(IFRS연결)\", \"매출액(IFRS연결)\", \"부가가치율(연결)\")\n",
    "vta_rate.to_csv(\"../csv_data/use/부가가치율_전처리.csv\", encoding=\"CP949\")"
   ]
  }
 ],
 "metadata": {
  "kernelspec": {
   "display_name": "Python 3.10.4 64-bit",
   "language": "python",
   "name": "python3"
  },
  "language_info": {
   "codemirror_mode": {
    "name": "ipython",
    "version": 3
   },
   "file_extension": ".py",
   "mimetype": "text/x-python",
   "name": "python",
   "nbconvert_exporter": "python",
   "pygments_lexer": "ipython3",
   "version": "3.10.4"
  },
  "orig_nbformat": 4,
  "vscode": {
   "interpreter": {
    "hash": "d45b7667f15187787b62e9d1c54e096de9a2222ecb594bc9f5d6366f2c4af4e5"
   }
  }
 },
 "nbformat": 4,
 "nbformat_minor": 2
}
