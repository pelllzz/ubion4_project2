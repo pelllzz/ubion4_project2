{
 "cells": [
  {
   "cell_type": "code",
   "execution_count": 90,
   "metadata": {},
   "outputs": [],
   "source": [
    "import pandas as pd\n",
    "import numpy as np"
   ]
  },
  {
   "cell_type": "code",
   "execution_count": 91,
   "metadata": {},
   "outputs": [],
   "source": [
    "############################ WARNING ######################################\n",
    "# 회사명 기준으로 shift 등의 조치가 필요한 경우 따로 취한 다음에 함수 적용하세요\n",
    "# 안 그러면 터집니다...\n",
    "###########################################################################\n",
    "\n",
    "\n",
    "# 단순하게 나누는 함수\n",
    "# df_name : raw_data 들어있는 데이터프레임\n",
    "# a, b : 계산을 하고자하는 데이터프레임의 컬럼명을 입력 (a가 분자, b가 분모)\n",
    "# c : 계산 결과를 저장하고자 하는 데이터프레임의 컬럼명을 입력\n",
    "\n",
    "def cal_div(df_name, a, b, c):\n",
    "    for i in range(0, len(df_name)):\n",
    "        if df_name.iloc[i][b] == 0:\n",
    "            df_name.loc[i, c] = 0\n",
    "        else:\n",
    "            df_name.loc[i, c] = df_name.iloc[i][a]/df_name.iloc[i][b]\n",
    "\n",
    "# 단순 비율 계산 함수\n",
    "# df_name : raw_data 들어있는 데이터프레임\n",
    "# a, b : 계산을 하고자하는 데이터프레임의 컬럼명을 입력 (a가 분자, b가 분모)\n",
    "# c : 계산 결과를 저장하고자 하는 데이터프레임의 컬럼명을 입력\n",
    "def cal_rate(df_name, a, b, c):\n",
    "    for i in range(0, len(df_name)):\n",
    "        if df_name.iloc[i][a] < 0 and df_name.iloc[i][b] < 0 :\n",
    "            df_name.loc[i, c] = df_name.iloc[i][a]/df_name.iloc[i][b] * -100\n",
    "        else:\n",
    "            df_name.loc[i, c] = df_name.iloc[i][a]/df_name.iloc[i][b] * 100\n",
    "\n",
    "\n",
    "# 비율 계산 시 분자에서 덧셈을 수행하는 함수\n",
    "# df_name : raw_data 들어있는 데이터프레임\n",
    "# a, b, c : 계산을 하고자하는 데이터프레임의 컬럼명을 입력 (a, b가 분자, c가 분모)\n",
    "# d : 계산 결과를 저장하고자 하는 데이터프레임의 컬럼명을 입력\n",
    "def cal_rate_add(df_name, a, b, c, d):\n",
    "    for i in range(0, len(df_name)):\n",
    "        if (df_name.iloc[i][a]+df_name.iloc[i][b]) and df_name.iloc[i][c] < 0 :\n",
    "            df_name.loc[i, d] = (df_name.iloc[i][a]+df_name.iloc[i][b])/df_name.iloc[i][c] * -100\n",
    "        else:\n",
    "            df_name.loc[i, d] = (df_name.iloc[i][a]+df_name.iloc[i][b])/df_name.iloc[i][c] * 100\n",
    "\n",
    "\n",
    "# 비율 계산 시 분자에서 뺄셈을 수행하는 함수\n",
    "# df_name : raw_data 들어있는 데이터프레임\n",
    "# a, b, c : 계산을 하고자하는 데이터프레임의 컬럼명을 입력 (a, b가 분자, c가 분모)\n",
    "# d : 계산 결과를 저장하고자 하는 데이터프레임의 컬럼명을 입력\n",
    "def cal_rate_sub(df_name, a, b, c, d):\n",
    "    for i in range(0, len(df_name)):\n",
    "        if (df_name.iloc[i][a]-df_name.iloc[i][b]) < 0 and df_name.iloc[i][c] < 0 :\n",
    "            df_name.loc[i, d] = (df_name.iloc[i][a]-df_name.iloc[i][b])/df_name.iloc[i][c] * -100\n",
    "        else:\n",
    "            df_name.loc[i, d] = (df_name.iloc[i][a]-df_name.iloc[i][b])/df_name.iloc[i][c] * 100\n",
    "\n",
    "\n",
    "# 비율 계산 시 분자에서 덧셈을 3번 수행하는 함수\n",
    "# df_name : raw_data 들어있는 데이터프레임\n",
    "# a, b, c, d : 계산을 하고자하는 데이터프레임의 컬럼명을 입력 (a, b, c가 분자, d가 분모)\n",
    "# e : 계산 결과를 저장하고자 하는 데이터프레임의 컬럼명을 입력\n",
    "def cal_rate_add_three(df_name, a, b, c, d, e):\n",
    "    for i in range(0, len(df_name)):\n",
    "        if (df_name.iloc[i][a]+df_name.iloc[i][b]+df_name.iloc[i][c]) and df_name.iloc[i][d] < 0 :\n",
    "            df_name.loc[i, e] = (df_name.iloc[i][a]+df_name.iloc[i][b]+df_name.iloc[i][c])/df_name.iloc[i][d] * -100\n",
    "        else:\n",
    "            df_name.loc[i, e] = (df_name.iloc[i][a]+df_name.iloc[i][b]+df_name.iloc[i][c])/df_name.iloc[i][d] * 100\n",
    "\n",
    "\n",
    "# 비율 계산 시 분자에서 뺄셈을 3번 수행하는 함수\n",
    "# df_name : raw_data 들어있는 데이터프레임\n",
    "# a, b, c, d : 계산을 하고자하는 데이터프레임의 컬럼명을 입력 (a, b, c가 분자, d가 분모)\n",
    "# e : 계산 결과를 저장하고자 하는 데이터프레임의 컬럼명을 입력\n",
    "def cal_rate_sub_three(df_name, a, b, c, d, e):\n",
    "    for i in range(0, len(df_name)):\n",
    "        if (df_name.iloc[i][a]-df_name.iloc[i][b]-df_name.iloc[i][c]) and df_name.iloc[i][d] < 0 :\n",
    "            df_name.loc[i, e] = (df_name.iloc[i][a]-df_name.iloc[i][b]-df_name.iloc[i][c])/df_name.iloc[i][d] * -100\n",
    "        else:\n",
    "            df_name.loc[i, e] = (df_name.iloc[i][a]-df_name.iloc[i][b]-df_name.iloc[i][c])/df_name.iloc[i][d] * 100\n",
    "\n",
    "\n",
    "# 차입금 평균 이자율 계산 함수\n",
    "# df_name : 차입금평균이자율 관련 raw_data 들어있는 데이터프레임\n",
    "# a, b, c, d : 계산을 하고자하는 데이터프레임의 컬럼명을 입력 (a가 분자, b~d는 분모)\n",
    "# e : 계산 결과를 저장하고자 하는 데이터프레임의 컬럼명을 입력\n",
    "def cal_chaip(df_name, a, b, c, d, e):\n",
    "    for i in range(0, len(df_name)):\n",
    "        if df_name.iloc[i][a] == 0:\n",
    "            df_name.loc[i, e] = 0\n",
    "        else:\n",
    "            if df_name.iloc[i][a] < 0 and df_name.iloc[i][b] < 0 :\n",
    "                df_name.loc[i, e] = df_name.iloc[i][a]/((df_name.iloc[i][b] + df_name.iloc[i][c] + df_name.iloc[i][d])) * -100\n",
    "            else:\n",
    "                df_name.loc[i, e] = df_name.iloc[i][a]/((df_name.iloc[i][b] + df_name.iloc[i][c] + df_name.iloc[i][d])) * 100\n",
    "\n",
    "# 매출액 영업 이익률 계산 함수\n",
    "# df_name : 차입금평균이자율 관련 raw_data 들어있는 데이터프레임\n",
    "# a, b, c, d : 계산을 하고자하는 데이터프레임의 컬럼명을 입력 (a가 분자, b~d는 분모)\n",
    "# e : 계산 결과를 저장하고자 하는 데이터프레임의 컬럼명을 입력\n",
    "def cal_income(df_name, a, b, c, d, e):\n",
    "    for i in range(0, len(df_name)):\n",
    "        if (df_name.iloc[i][a] - df_name.iloc[i][b] - df_name.iloc[i][c]) < 0 and df_name.iloc[i][d] < 0 :\n",
    "            df_name.loc[i, e] = (df_name.iloc[i][a] - df_name.iloc[i][b] - df_name.iloc[i][c])/df_name.iloc[i][d] * 100\n",
    "        else:\n",
    "            df_name.loc[i, e] = (df_name.iloc[i][a] - df_name.iloc[i][b] - df_name.iloc[i][c])/df_name.iloc[i][d] * 100\n",
    "\n",
    "# CASHFLOW 계산 함수\n",
    "# df_name : CASH_FLOW 관련 raw_data 들어있는 데이터프레임\n",
    "# a, b, c : 계싼을 하고자하는 데이터프레임의 컬럼명을 입력 (a, b가 분자, c가 분모)\n",
    "# d : 계산 결과를 저장하고자 하는 데이터프레임의 컬럼명을 입력\n",
    "def cal_cash_flow(df_name, a, b, c, d):\n",
    "    for i in range(0, len(df_name)):\n",
    "        if ((df_name.iloc[i][a] + df_name.iloc[i][b])/2) < 0 and df_name.iloc[i][c] < 0:\n",
    "            df_name.loc[i, d] = 0\n",
    "        else :\n",
    "            df_name.loc[i, d] = ((df_name.iloc[i][a] + df_name.iloc[i][b])/2)/df_name.iloc[i][c] * 100\n",
    "\n",
    "\n",
    "# 총자본영업이익률 계산 함수\n",
    "# df_name : 총자본영업이익률 관련 raw_data가 들어있는 데이터프레임\n",
    "# a, b, c, d, e : 계산을 하고자하는 데이터프레임의 컬럼명을 입력 (a,b,c 분자 / d, e 분모)\n",
    "# f : 계산 결과를 저장하고자 하는 데이터프레임의 컬럼명을 입력\n",
    "def cal_total_income(df_name, a, b, c, d, e, f):\n",
    "    for i in range(0, len(df_name)):\n",
    "        if (df_name.iloc[i][a] - df_name.iloc[i][b] - df_name.iloc[i][c]) < 0 and (df_name.iloc[i][d]+df_name.iloc[i][e]) < 0 :\n",
    "            df_name.loc[i, f] = 0\n",
    "        else:\n",
    "            df_name.loc[i, f] = (df_name.iloc[i][a] - df_name.iloc[i][b] - df_name.iloc[i][c])/(df_name.iloc[i][d]+df_name.iloc[i][e]) * 100\n",
    "\n",
    "# 총자본순이익률 계산함수\n",
    "# df_name : 총자본순이익률 관련 raw_data가 들어있는 데이터프레임\n",
    "# a, b, c : 계산을 하고자하는 데이터프레임의 컬럼명을 입력 (a가 분자, b, c가 분모)\n",
    "# d : 계산 결과를 저장하고자 하는 데이터프레임의 컬럼명을 입력\n",
    "def cal_total_real_income(df_name, a, b, c, d):\n",
    "    for i in range(0, len(df_name)):\n",
    "        if df_name.iloc[i][a] < 0 and ((df_name.iloc[i][b]+ df_name.iloc[i][c])/2) < 0:\n",
    "            df_name.loc[i, d] = 0\n",
    "        else :\n",
    "            df_name.loc[i, d] = df_name.iloc[i][a]/((df_name.iloc[i][b]+ df_name.iloc[i][c])/2) * 100\n",
    "\n",
    "# 총자산 관련 함수\n",
    "# 유사한 방식으로 구성되어 있는 경우 함수 재사용 가능함\n",
    "# df_name : 총자산 관련 raw_data가 들어있는 데이터프레임\n",
    "# a, b : 계산을 하고자하는 데이터프레임의 컬럼명을 입력(a가 분자, b가 분모)\n",
    "# c : 계산 결과를 저장하고자 하는 데이터프레임의 컬럼명을 입력\n",
    "def cal_total_money(df_name, a, b, c):\n",
    "    for i in range(0, len(df_name)):\n",
    "        if df_name.iloc[i][a] < 0 and df_name.iloc[i][b] < 0:\n",
    "            df_name.loc[i, c] = 0\n",
    "        else:\n",
    "            df_name.loc[i, c] = ((df_name.iloc[i][a] / df_name.iloc[i][b])*100)-100\n",
    "\n",
    "\n",
    "# 영업이익증가율 관련 함수\n",
    "# df_name : 영업이익증가율 관련 raw_data가 들어있는 데이터프레임\n",
    "# a, b, c, d, e, f : 계산을 하고자하는 데이터프레임의 컬럼명을 입력(a, b, c 분자 / d, e, f 분모)\n",
    "# g : 계산 결과를 저장하고자 하는 데이터프레임의 컬럼명을 입력\n",
    "def cal_working_money(df_name, a, b, c, d, e, f, g):\n",
    "    for i in range(0, len(df_name)):\n",
    "        if df_name.iloc[i][a] < 0 and df_name.iloc[i][b] < 0:\n",
    "            df_name.loc[i, g] = 0\n",
    "        else:\n",
    "            df_name.loc[i, g] = ((df_name.iloc[i][a] - df_name.iloc[i][b] - df_name.iloc[i][c])/((df_name.iloc[i][d] + df_name.iloc[i][e] + df_name.iloc[i][f]))*100)-100"
   ]
  },
  {
   "cell_type": "code",
   "execution_count": 92,
   "metadata": {},
   "outputs": [],
   "source": [
    "# 매출원가 대 매출액 비율\n",
    "maechul_rate = pd.read_csv(\"../raw_data/use/매출원가대매출액비율_Raw.csv\", thousands=\",\", encoding=\"CP949\")\n",
    "\n",
    "# 차입금평균이자율\n",
    "cha_income = pd.read_csv(\"../raw_data/use/차입금평균이자율_Raw.csv\", thousands=\",\", encoding=\"CP949\")\n",
    "\n",
    "# 유동자산구성비율\n",
    "udong_pie = pd.read_csv(\"../raw_data/use/유동자산구성비율_Raw.csv\", thousands=\",\", encoding=\"CP949\")\n",
    "\n",
    "# 재고자산 대 유동자산비율\n",
    "jego_rate = pd.read_csv(\"../raw_data/use/재고자산대유동자산비율_Raw.csv\", thousands=\",\", encoding=\"CP949\")\n",
    "\n",
    "# 자기자본구성비율\n",
    "self_pie = pd.read_csv(\"../raw_data/use/자기자본구성비율_Raw.csv\", thousands=\",\", encoding=\"CP949\")\n",
    "\n",
    "# CASH FLOW 대 부채비율, CASH FLOW 대 매출액 비율\n",
    "cashflow = pd.read_csv(\"../raw_data/use/CASHFLOW_REAL.csv\", thousands=\",\", encoding=\"CP949\")\n",
    "\n",
    "# 유동비율\n",
    "udong = pd.read_csv(\"../raw_data/use/유동비율_Raw.csv\", thousands=\",\", encoding=\"CP949\")\n",
    "\n",
    "# 당좌비율\n",
    "dang_rate = pd.read_csv(\"../raw_data/use/당좌비율_Raw.csv\", thousands=\",\", encoding=\"CP949\")\n",
    "\n",
    "# 현금비율\n",
    "cash_rate = pd.read_csv(\"../raw_data/use/현금비율_Raw.csv\", thousands=\",\", encoding=\"CP949\")\n",
    "\n",
    "# 부채비율\n",
    "dept_rate = pd.read_csv(\"../raw_data/use/부채비율_Raw.csv\", thousands=\",\", encoding=\"CP949\")\n",
    "\n",
    "# 차입금의존도\n",
    "chaip = pd.read_csv(\"../raw_data/use/차입금의존도_Raw.csv\", thousands=\",\", encoding=\"CP949\")\n",
    "\n",
    "# 유동부채비율\n",
    "udong_dept = pd.read_csv(\"../raw_data/use/유동부채비율_Raw.csv\", thousands=\",\", encoding=\"CP949\")\n",
    "\n",
    "# 매출액총이익률\n",
    "income_rate = pd.read_csv(\"../raw_data/use/매출액총이익률_Raw.csv\", thousands=\",\", encoding=\"CP949\")\n",
    "\n",
    "# 매출액순이익률\n",
    "income_real_rate = pd.read_csv(\"../raw_data/use/매출액순이익률_Raw.csv\", thousands=\",\", encoding=\"CP949\")\n",
    "\n",
    "# 매출액영업이익률\n",
    "income_sales_rate = pd.read_csv(\"../raw_data/use/매출액영업이익률_Raw.csv\", thousands=\",\", encoding=\"CP949\")\n",
    "\n",
    "# 총자본영업이익률\n",
    "total_sales_rate = pd.read_csv(\"../raw_data/use/총자본영업이익률_Raw.csv\", thousands=\",\", encoding=\"CP949\")\n",
    "\n",
    "# 총자산순이익률\n",
    "total_real_rate = pd.read_csv(\"../raw_data/use/총자산순이익률_Raw.csv\", thousands=\",\", encoding=\"CP949\")\n",
    "\n",
    "# 총자산증가율\n",
    "total_money_rate = pd.read_csv(\"../raw_data/use/총자산증가율_Raw.csv\", thousands=\",\", encoding=\"CP949\")\n",
    "\n",
    "# 유동자산증가율\n",
    "udong_money_rate = pd.read_csv(\"../raw_data/use/유동자산증가율_Raw.csv\", thousands=\",\", encoding=\"CP949\")\n",
    "\n",
    "# 매출액증가율\n",
    "incoming_rate = pd.read_csv(\"../raw_data/use/매출액증가율_Raw.csv\", thousands=\",\", encoding=\"CP949\")\n",
    "\n",
    "# 유형자산증가율\n",
    "u_money_rate = pd.read_csv(\"../raw_data/use/유형자산증가율_Raw.csv\", thousands=\",\", encoding=\"CP949\")\n",
    "\n",
    "# 재고자산 증가율\n",
    "jego_money_rate = pd.read_csv(\"../raw_data/use/재고자산증가율_Raw.csv\", thousands=\",\", encoding=\"CP949\")\n",
    "\n",
    "# 자기자본 증가율\n",
    "self_money_rate = pd.read_csv(\"../raw_data/use/자기자본증가율_Raw.csv\", thousands=\",\", encoding=\"CP949\")\n",
    "\n",
    "# 순이익 증가율\n",
    "pure_income_rate = pd.read_csv(\"../raw_data/use/순이익증가율_Raw.csv\", thousands=\",\", encoding=\"CP949\")\n",
    "\n",
    "# 영업이익 증가율\n",
    "working_money_rate = pd.read_csv(\"../raw_data/use/영업이익증가율_Raw.csv\",thousands=\",\", encoding=\"CP949\")"
   ]
  },
  {
   "cell_type": "code",
   "execution_count": 93,
   "metadata": {},
   "outputs": [],
   "source": [
    "# 총자산 회전율\n",
    "total_money_turn = pd.read_csv(\"../raw_data/use/총자산회전율_Raw.csv\", thousands=\",\", encoding=\"CP949\")\n",
    "\n",
    "# 재고자산 회전율\n",
    "jego_money_turn = pd.read_csv(\"../raw_data/use/재고자산회전율_Raw.csv\", thousands=\",\", encoding=\"CP949\")\n",
    "\n",
    "# 매출채권 회전율\n",
    "income_money_turn = pd.read_csv(\"../raw_data/use/매출채권회전율_Raw.csv\", thousands=\",\", encoding=\"CP949\")\n",
    "\n",
    "# 유형자산 회전율\n",
    "u_money_turn = pd.read_csv(\"../raw_data/use/유형자산회전율_Raw.csv\", thousands=\",\", encoding=\"CP949\")\n",
    "\n",
    "# 매입채무 회전율\n",
    "maep_money_turn = pd.read_csv(\"../raw_data/use/매입채무회전율_Raw.csv\", thousands=\",\", encoding=\"CP949\")\n",
    "\n",
    "# 자기자본 회전율\n",
    "self_jabon_turn = pd.read_csv(\"../raw_data/use/자기자본회전율_Raw.csv\", thousands=\",\", encoding=\"CP949\")\n",
    "\n",
    "# 타인자본 회전율\n",
    "other_jabon_turn = pd.read_csv(\"../raw_data/use/타인자본회전율_Raw.csv\", thousands=\",\", encoding=\"CP949\")"
   ]
  },
  {
   "cell_type": "code",
   "execution_count": 94,
   "metadata": {},
   "outputs": [
    {
     "data": {
      "text/html": [
       "<div>\n",
       "<style scoped>\n",
       "    .dataframe tbody tr th:only-of-type {\n",
       "        vertical-align: middle;\n",
       "    }\n",
       "\n",
       "    .dataframe tbody tr th {\n",
       "        vertical-align: top;\n",
       "    }\n",
       "\n",
       "    .dataframe thead th {\n",
       "        text-align: right;\n",
       "    }\n",
       "</style>\n",
       "<table border=\"1\" class=\"dataframe\">\n",
       "  <thead>\n",
       "    <tr style=\"text-align: right;\">\n",
       "      <th></th>\n",
       "      <th>회사명</th>\n",
       "      <th>거래소코드</th>\n",
       "      <th>회계년도</th>\n",
       "      <th>매출원가(IFRS연결)</th>\n",
       "      <th>매출액(IFRS연결)</th>\n",
       "      <th>매출원가(IFRS개별)</th>\n",
       "      <th>매출액(IFRS개별)</th>\n",
       "    </tr>\n",
       "  </thead>\n",
       "  <tbody>\n",
       "    <tr>\n",
       "      <th>0</th>\n",
       "      <td>(주)CMG제약</td>\n",
       "      <td>58820</td>\n",
       "      <td>Dec-11</td>\n",
       "      <td>10325799.0</td>\n",
       "      <td>17751704.0</td>\n",
       "      <td>10325799.0</td>\n",
       "      <td>17751704.0</td>\n",
       "    </tr>\n",
       "  </tbody>\n",
       "</table>\n",
       "</div>"
      ],
      "text/plain": [
       "        회사명  거래소코드    회계년도  매출원가(IFRS연결)  매출액(IFRS연결)  매출원가(IFRS개별)  \\\n",
       "0  (주)CMG제약  58820  Dec-11    10325799.0   17751704.0    10325799.0   \n",
       "\n",
       "   매출액(IFRS개별)  \n",
       "0   17751704.0  "
      ]
     },
     "execution_count": 94,
     "metadata": {},
     "output_type": "execute_result"
    }
   ],
   "source": [
    "# 매출원가 대 매출액비율\n",
    "maechul_rate.head(1)"
   ]
  },
  {
   "cell_type": "code",
   "execution_count": 95,
   "metadata": {},
   "outputs": [
    {
     "name": "stderr",
     "output_type": "stream",
     "text": [
      "C:\\Users\\luck1\\AppData\\Local\\Temp\\ipykernel_23568\\3833412330.py:28: RuntimeWarning: invalid value encountered in double_scalars\n",
      "  df_name.loc[i, c] = df_name.iloc[i][a]/df_name.iloc[i][b] * 100\n",
      "C:\\Users\\luck1\\AppData\\Local\\Temp\\ipykernel_23568\\3833412330.py:28: RuntimeWarning: invalid value encountered in double_scalars\n",
      "  df_name.loc[i, c] = df_name.iloc[i][a]/df_name.iloc[i][b] * 100\n"
     ]
    }
   ],
   "source": [
    "cal_rate(maechul_rate, \"매출원가(IFRS개별)\", \"매출액(IFRS개별)\", \"매출원가대매출액비율(개별)\")\n",
    "cal_rate(maechul_rate, \"매출원가(IFRS연결)\", \"매출액(IFRS연결)\", \"매출원가대매출액비율(연결)\")\n",
    "maechul_rate.to_csv(\"../csv_data/use/매출원가_대_매출액비율_전처리.csv\", encoding=\"CP949\")"
   ]
  },
  {
   "cell_type": "code",
   "execution_count": 96,
   "metadata": {},
   "outputs": [
    {
     "data": {
      "text/html": [
       "<div>\n",
       "<style scoped>\n",
       "    .dataframe tbody tr th:only-of-type {\n",
       "        vertical-align: middle;\n",
       "    }\n",
       "\n",
       "    .dataframe tbody tr th {\n",
       "        vertical-align: top;\n",
       "    }\n",
       "\n",
       "    .dataframe thead th {\n",
       "        text-align: right;\n",
       "    }\n",
       "</style>\n",
       "<table border=\"1\" class=\"dataframe\">\n",
       "  <thead>\n",
       "    <tr style=\"text-align: right;\">\n",
       "      <th></th>\n",
       "      <th>회사명</th>\n",
       "      <th>거래소코드</th>\n",
       "      <th>회계년도</th>\n",
       "      <th>이자비용(IFRS연결)</th>\n",
       "      <th>장기차입금(IFRS연결)</th>\n",
       "      <th>단기차입금(IFRS연결)</th>\n",
       "      <th>회사채(IFRS연결)</th>\n",
       "      <th>이자비용(IFRS개별)</th>\n",
       "      <th>장기차입금(IFRS개별)</th>\n",
       "      <th>단기차입금(IFRS개별)</th>\n",
       "      <th>회사채(IFRS개별)</th>\n",
       "    </tr>\n",
       "  </thead>\n",
       "  <tbody>\n",
       "    <tr>\n",
       "      <th>0</th>\n",
       "      <td>(주)CMG제약</td>\n",
       "      <td>58820</td>\n",
       "      <td>Dec-11</td>\n",
       "      <td>0.0</td>\n",
       "      <td>0.0</td>\n",
       "      <td>0.0</td>\n",
       "      <td>0.0</td>\n",
       "      <td>0.0</td>\n",
       "      <td>0.0</td>\n",
       "      <td>2134049.0</td>\n",
       "      <td>0.0</td>\n",
       "    </tr>\n",
       "  </tbody>\n",
       "</table>\n",
       "</div>"
      ],
      "text/plain": [
       "        회사명  거래소코드    회계년도  이자비용(IFRS연결)  장기차입금(IFRS연결)  단기차입금(IFRS연결)  \\\n",
       "0  (주)CMG제약  58820  Dec-11           0.0            0.0            0.0   \n",
       "\n",
       "   회사채(IFRS연결)  이자비용(IFRS개별)  장기차입금(IFRS개별)  단기차입금(IFRS개별)  회사채(IFRS개별)  \n",
       "0          0.0           0.0            0.0      2134049.0          0.0  "
      ]
     },
     "execution_count": 96,
     "metadata": {},
     "output_type": "execute_result"
    }
   ],
   "source": [
    "# 차입금평균이자율\n",
    "cha_income.head(1)"
   ]
  },
  {
   "cell_type": "code",
   "execution_count": 97,
   "metadata": {},
   "outputs": [
    {
     "name": "stderr",
     "output_type": "stream",
     "text": [
      "C:\\Users\\luck1\\AppData\\Local\\Temp\\ipykernel_23568\\3833412330.py:91: RuntimeWarning: divide by zero encountered in double_scalars\n",
      "  df_name.loc[i, e] = df_name.iloc[i][a]/((df_name.iloc[i][b] + df_name.iloc[i][c] + df_name.iloc[i][d])) * 100\n",
      "C:\\Users\\luck1\\AppData\\Local\\Temp\\ipykernel_23568\\3833412330.py:91: RuntimeWarning: divide by zero encountered in double_scalars\n",
      "  df_name.loc[i, e] = df_name.iloc[i][a]/((df_name.iloc[i][b] + df_name.iloc[i][c] + df_name.iloc[i][d])) * 100\n"
     ]
    }
   ],
   "source": [
    "cal_chaip(cha_income, \"이자비용(IFRS개별)\", \"장기차입금(IFRS개별)\", \"단기차입금(IFRS개별)\", \"회사채(IFRS개별)\", \"차입금평균이자율(개별)\")\n",
    "cal_chaip(cha_income, \"이자비용(IFRS연결)\", \"장기차입금(IFRS연결)\", \"단기차입금(IFRS연결)\", \"회사채(IFRS연결)\", \"차입금평균이자율(연결)\")\n",
    "cha_income.to_csv(\"../csv_data/use/차입금평균이자율_전처리.csv\", encoding=\"CP949\")"
   ]
  },
  {
   "cell_type": "code",
   "execution_count": 98,
   "metadata": {},
   "outputs": [
    {
     "data": {
      "text/html": [
       "<div>\n",
       "<style scoped>\n",
       "    .dataframe tbody tr th:only-of-type {\n",
       "        vertical-align: middle;\n",
       "    }\n",
       "\n",
       "    .dataframe tbody tr th {\n",
       "        vertical-align: top;\n",
       "    }\n",
       "\n",
       "    .dataframe thead th {\n",
       "        text-align: right;\n",
       "    }\n",
       "</style>\n",
       "<table border=\"1\" class=\"dataframe\">\n",
       "  <thead>\n",
       "    <tr style=\"text-align: right;\">\n",
       "      <th></th>\n",
       "      <th>회사명</th>\n",
       "      <th>거래소코드</th>\n",
       "      <th>회계년도</th>\n",
       "      <th>유동자산(IFRS연결)</th>\n",
       "      <th>자산(IFRS연결)</th>\n",
       "      <th>유동자산(IFRS개별)</th>\n",
       "      <th>자산(IFRS개별)</th>\n",
       "    </tr>\n",
       "  </thead>\n",
       "  <tbody>\n",
       "    <tr>\n",
       "      <th>0</th>\n",
       "      <td>(주)CMG제약</td>\n",
       "      <td>58820</td>\n",
       "      <td>Dec-11</td>\n",
       "      <td>15341167.0</td>\n",
       "      <td>27305198.0</td>\n",
       "      <td>15264885.0</td>\n",
       "      <td>27548539.0</td>\n",
       "    </tr>\n",
       "  </tbody>\n",
       "</table>\n",
       "</div>"
      ],
      "text/plain": [
       "        회사명  거래소코드    회계년도  유동자산(IFRS연결)  자산(IFRS연결)  유동자산(IFRS개별)  자산(IFRS개별)\n",
       "0  (주)CMG제약  58820  Dec-11    15341167.0  27305198.0    15264885.0  27548539.0"
      ]
     },
     "execution_count": 98,
     "metadata": {},
     "output_type": "execute_result"
    }
   ],
   "source": [
    "# 유동자산구성비율\n",
    "udong_pie.head(1)"
   ]
  },
  {
   "cell_type": "code",
   "execution_count": 99,
   "metadata": {},
   "outputs": [],
   "source": [
    "cal_rate(udong_pie, \"유동자산(IFRS개별)\", \"자산(IFRS개별)\", \"유동자산구성비율(개별)\")\n",
    "cal_rate(udong_pie, \"유동자산(IFRS연결)\", \"자산(IFRS연결)\", \"유동자산구성비율(연결)\")\n",
    "udong_pie.to_csv(\"../csv_data/use/유동자산구성비율_전처리.csv\", encoding=\"CP949\")"
   ]
  },
  {
   "cell_type": "code",
   "execution_count": 100,
   "metadata": {},
   "outputs": [
    {
     "data": {
      "text/html": [
       "<div>\n",
       "<style scoped>\n",
       "    .dataframe tbody tr th:only-of-type {\n",
       "        vertical-align: middle;\n",
       "    }\n",
       "\n",
       "    .dataframe tbody tr th {\n",
       "        vertical-align: top;\n",
       "    }\n",
       "\n",
       "    .dataframe thead th {\n",
       "        text-align: right;\n",
       "    }\n",
       "</style>\n",
       "<table border=\"1\" class=\"dataframe\">\n",
       "  <thead>\n",
       "    <tr style=\"text-align: right;\">\n",
       "      <th></th>\n",
       "      <th>회사명</th>\n",
       "      <th>거래소코드</th>\n",
       "      <th>회계년도</th>\n",
       "      <th>재고자산(IFRS연결)</th>\n",
       "      <th>유동자산(IFRS연결)</th>\n",
       "      <th>재고자산(IFRS개별)</th>\n",
       "      <th>유동자산(IFRS개별)</th>\n",
       "    </tr>\n",
       "  </thead>\n",
       "  <tbody>\n",
       "    <tr>\n",
       "      <th>0</th>\n",
       "      <td>(주)CMG제약</td>\n",
       "      <td>58820</td>\n",
       "      <td>Dec-11</td>\n",
       "      <td>2743103.0</td>\n",
       "      <td>15341167.0</td>\n",
       "      <td>2743103.0</td>\n",
       "      <td>15264885.0</td>\n",
       "    </tr>\n",
       "  </tbody>\n",
       "</table>\n",
       "</div>"
      ],
      "text/plain": [
       "        회사명  거래소코드    회계년도  재고자산(IFRS연결)  유동자산(IFRS연결)  재고자산(IFRS개별)  \\\n",
       "0  (주)CMG제약  58820  Dec-11     2743103.0    15341167.0     2743103.0   \n",
       "\n",
       "   유동자산(IFRS개별)  \n",
       "0    15264885.0  "
      ]
     },
     "execution_count": 100,
     "metadata": {},
     "output_type": "execute_result"
    }
   ],
   "source": [
    "# 재고자산 대 유동자산비율\n",
    "jego_rate.head(1)"
   ]
  },
  {
   "cell_type": "code",
   "execution_count": 101,
   "metadata": {},
   "outputs": [],
   "source": [
    "cal_rate(jego_rate, \"재고자산(IFRS개별)\", \"유동자산(IFRS개별)\", \"재고자산_유동자산비율(개별)\")\n",
    "cal_rate(jego_rate, \"재고자산(IFRS연결)\", \"유동자산(IFRS개별)\", \"재고자산_유동자산비율(연결)\")\n",
    "jego_rate.to_csv(\"../csv_data/use/재고자산_대_유동자산비율_전처리.csv\", encoding=\"CP949\")"
   ]
  },
  {
   "cell_type": "code",
   "execution_count": 102,
   "metadata": {},
   "outputs": [
    {
     "data": {
      "text/html": [
       "<div>\n",
       "<style scoped>\n",
       "    .dataframe tbody tr th:only-of-type {\n",
       "        vertical-align: middle;\n",
       "    }\n",
       "\n",
       "    .dataframe tbody tr th {\n",
       "        vertical-align: top;\n",
       "    }\n",
       "\n",
       "    .dataframe thead th {\n",
       "        text-align: right;\n",
       "    }\n",
       "</style>\n",
       "<table border=\"1\" class=\"dataframe\">\n",
       "  <thead>\n",
       "    <tr style=\"text-align: right;\">\n",
       "      <th></th>\n",
       "      <th>회사명</th>\n",
       "      <th>거래소코드</th>\n",
       "      <th>회계년도</th>\n",
       "      <th>자본(IFRS연결)</th>\n",
       "      <th>자산(IFRS연결)</th>\n",
       "      <th>자본(IFRS개별)</th>\n",
       "      <th>자산(IFRS개별)</th>\n",
       "    </tr>\n",
       "  </thead>\n",
       "  <tbody>\n",
       "    <tr>\n",
       "      <th>0</th>\n",
       "      <td>(주)CMG제약</td>\n",
       "      <td>58820</td>\n",
       "      <td>Dec-11</td>\n",
       "      <td>18034249.0</td>\n",
       "      <td>27305198.0</td>\n",
       "      <td>18290915.0</td>\n",
       "      <td>27548539.0</td>\n",
       "    </tr>\n",
       "  </tbody>\n",
       "</table>\n",
       "</div>"
      ],
      "text/plain": [
       "        회사명  거래소코드    회계년도  자본(IFRS연결)  자산(IFRS연결)  자본(IFRS개별)  자산(IFRS개별)\n",
       "0  (주)CMG제약  58820  Dec-11  18034249.0  27305198.0  18290915.0  27548539.0"
      ]
     },
     "execution_count": 102,
     "metadata": {},
     "output_type": "execute_result"
    }
   ],
   "source": [
    "# 자기자본구성비율\n",
    "self_pie.head(1)"
   ]
  },
  {
   "cell_type": "code",
   "execution_count": 103,
   "metadata": {},
   "outputs": [],
   "source": [
    "cal_rate(self_pie, \"자본(IFRS개별)\", \"자산(IFRS개별)\", \"자기자본구성비율(개별)\")\n",
    "cal_rate(self_pie, \"자본(IFRS연결)\", \"자산(IFRS연결)\", \"자기자본구성비율(연결)\")\n",
    "self_pie.to_csv(\"../csv_data/use/자기자본구성비율.csv\", encoding=\"CP949\")"
   ]
  },
  {
   "cell_type": "code",
   "execution_count": 104,
   "metadata": {},
   "outputs": [
    {
     "data": {
      "text/html": [
       "<div>\n",
       "<style scoped>\n",
       "    .dataframe tbody tr th:only-of-type {\n",
       "        vertical-align: middle;\n",
       "    }\n",
       "\n",
       "    .dataframe tbody tr th {\n",
       "        vertical-align: top;\n",
       "    }\n",
       "\n",
       "    .dataframe thead th {\n",
       "        text-align: right;\n",
       "    }\n",
       "</style>\n",
       "<table border=\"1\" class=\"dataframe\">\n",
       "  <thead>\n",
       "    <tr style=\"text-align: right;\">\n",
       "      <th></th>\n",
       "      <th>회사명</th>\n",
       "      <th>거래소코드</th>\n",
       "      <th>회계년도</th>\n",
       "      <th>[제조]영업활동으로 인한 현금흐름(간접법)(*)(IFRS)</th>\n",
       "      <th>[제조]매출액(수익)(*)(IFRS)</th>\n",
       "      <th>[제조]부채(*)(IFRS)</th>\n",
       "      <th>[제조]영업활동으로 인한 현금흐름(간접법)(*)(IFRS연결)</th>\n",
       "      <th>[제조]매출액(수익)(*)(IFRS연결)</th>\n",
       "      <th>[제조]부채(*)(IFRS연결)</th>\n",
       "    </tr>\n",
       "  </thead>\n",
       "  <tbody>\n",
       "    <tr>\n",
       "      <th>0</th>\n",
       "      <td>(주)CMG제약</td>\n",
       "      <td>58820</td>\n",
       "      <td>2010/12</td>\n",
       "      <td>-5983864.0</td>\n",
       "      <td>11350419.0</td>\n",
       "      <td>8370511.0</td>\n",
       "      <td>-5983864.0</td>\n",
       "      <td>11350419.0</td>\n",
       "      <td>8370511.0</td>\n",
       "    </tr>\n",
       "  </tbody>\n",
       "</table>\n",
       "</div>"
      ],
      "text/plain": [
       "        회사명  거래소코드     회계년도  [제조]영업활동으로 인한 현금흐름(간접법)(*)(IFRS)  \\\n",
       "0  (주)CMG제약  58820  2010/12                        -5983864.0   \n",
       "\n",
       "   [제조]매출액(수익)(*)(IFRS)  [제조]부채(*)(IFRS)  [제조]영업활동으로 인한 현금흐름(간접법)(*)(IFRS연결)  \\\n",
       "0            11350419.0        8370511.0                          -5983864.0   \n",
       "\n",
       "   [제조]매출액(수익)(*)(IFRS연결)  [제조]부채(*)(IFRS연결)  \n",
       "0              11350419.0          8370511.0  "
      ]
     },
     "execution_count": 104,
     "metadata": {},
     "output_type": "execute_result"
    }
   ],
   "source": [
    "# CASH FLOW 대 부채비율, CASH FLOW 대 매출액 비율\n",
    "cashflow.head(1)"
   ]
  },
  {
   "cell_type": "code",
   "execution_count": 105,
   "metadata": {},
   "outputs": [],
   "source": [
    "cashflow[\"[제조]전기영업흐름(IFRS개별)\"] = cashflow[\"[제조]영업활동으로 인한 현금흐름(간접법)(*)(IFRS)\"].shift().where(cashflow.회사명.eq(cashflow.회사명.shift()))\n",
    "cashflow[\"[제조]전기영업흐름(IFRS연결)\"] = cashflow[\"[제조]영업활동으로 인한 현금흐름(간접법)(*)(IFRS연결)\"].shift().where(cashflow.회사명.eq(cashflow.회사명.shift()))\n",
    "cashflow_2 = cashflow.copy()"
   ]
  },
  {
   "cell_type": "code",
   "execution_count": 106,
   "metadata": {},
   "outputs": [],
   "source": [
    "cal_cash_flow(cashflow, \"[제조]영업활동으로 인한 현금흐름(간접법)(*)(IFRS)\", \"[제조]전기영업흐름(IFRS개별)\", \"[제조]부채(*)(IFRS)\", \"cashflow_부채비율(개별)\")\n",
    "cal_cash_flow(cashflow, \"[제조]영업활동으로 인한 현금흐름(간접법)(*)(IFRS연결)\", \"[제조]전기영업흐름(IFRS연결)\", \"[제조]부채(*)(IFRS연결)\", \"cashflow_부채비율(연결)\")\n",
    "\n",
    "# 저장하기 전에 2010년 데이터 싹 다 제거하기\n",
    "kill_2010 = cashflow[cashflow['회계년도'].str.contains(\"2010\")].index\n",
    "cashflow_real = cashflow.drop(kill_2010)\n",
    "\n",
    "# 저장\n",
    "cashflow_real.to_csv(\"../csv_data/use/CASHFLOW_부채비율_전처리.csv\", encoding=\"CP949\")"
   ]
  },
  {
   "cell_type": "code",
   "execution_count": 107,
   "metadata": {},
   "outputs": [
    {
     "name": "stderr",
     "output_type": "stream",
     "text": [
      "C:\\Users\\luck1\\AppData\\Local\\Temp\\ipykernel_23568\\3833412330.py:113: RuntimeWarning: divide by zero encountered in double_scalars\n",
      "  df_name.loc[i, d] = ((df_name.iloc[i][a] + df_name.iloc[i][b])/2)/df_name.iloc[i][c] * 100\n",
      "C:\\Users\\luck1\\AppData\\Local\\Temp\\ipykernel_23568\\3833412330.py:113: RuntimeWarning: divide by zero encountered in double_scalars\n",
      "  df_name.loc[i, d] = ((df_name.iloc[i][a] + df_name.iloc[i][b])/2)/df_name.iloc[i][c] * 100\n"
     ]
    }
   ],
   "source": [
    "cal_cash_flow(cashflow_2, \"[제조]영업활동으로 인한 현금흐름(간접법)(*)(IFRS)\", \"[제조]전기영업흐름(IFRS개별)\", \"[제조]매출액(수익)(*)(IFRS)\", \"cashflow_매출액비율(개별)\")\n",
    "cal_cash_flow(cashflow_2, \"[제조]영업활동으로 인한 현금흐름(간접법)(*)(IFRS연결)\", \"[제조]전기영업흐름(IFRS연결)\", \"[제조]매출액(수익)(*)(IFRS연결)\", \"cashflow_매출액비율(연결)\")\n",
    "\n",
    "# 저장하기 전에 2010년 데이터 싹 다 제거하기\n",
    "kill_2010 = cashflow_2[cashflow_2['회계년도'].str.contains(\"2010\")].index\n",
    "cashflow_2_real = cashflow_2.drop(kill_2010)\n",
    "\n",
    "#저장\n",
    "cashflow_2_real.to_csv(\"../csv_data/use/CASHFLOW_매출액비율_전처리.csv\", encoding=\"CP949\")"
   ]
  },
  {
   "cell_type": "code",
   "execution_count": 108,
   "metadata": {},
   "outputs": [
    {
     "data": {
      "text/html": [
       "<div>\n",
       "<style scoped>\n",
       "    .dataframe tbody tr th:only-of-type {\n",
       "        vertical-align: middle;\n",
       "    }\n",
       "\n",
       "    .dataframe tbody tr th {\n",
       "        vertical-align: top;\n",
       "    }\n",
       "\n",
       "    .dataframe thead th {\n",
       "        text-align: right;\n",
       "    }\n",
       "</style>\n",
       "<table border=\"1\" class=\"dataframe\">\n",
       "  <thead>\n",
       "    <tr style=\"text-align: right;\">\n",
       "      <th></th>\n",
       "      <th>회사명</th>\n",
       "      <th>거래소코드</th>\n",
       "      <th>회계년도</th>\n",
       "      <th>유동자산(IFRS연결)</th>\n",
       "      <th>유동부채(IFRS연결)</th>\n",
       "      <th>유동자산(IFRS개별)</th>\n",
       "      <th>유동부채(IFRS개별)</th>\n",
       "    </tr>\n",
       "  </thead>\n",
       "  <tbody>\n",
       "    <tr>\n",
       "      <th>0</th>\n",
       "      <td>(주)CMG제약</td>\n",
       "      <td>58820</td>\n",
       "      <td>Dec-11</td>\n",
       "      <td>15341167.0</td>\n",
       "      <td>7633673.0</td>\n",
       "      <td>15264885.0</td>\n",
       "      <td>7620349.0</td>\n",
       "    </tr>\n",
       "  </tbody>\n",
       "</table>\n",
       "</div>"
      ],
      "text/plain": [
       "        회사명  거래소코드    회계년도  유동자산(IFRS연결)  유동부채(IFRS연결)  유동자산(IFRS개별)  \\\n",
       "0  (주)CMG제약  58820  Dec-11    15341167.0     7633673.0    15264885.0   \n",
       "\n",
       "   유동부채(IFRS개별)  \n",
       "0     7620349.0  "
      ]
     },
     "execution_count": 108,
     "metadata": {},
     "output_type": "execute_result"
    }
   ],
   "source": [
    "# 유동비율\n",
    "udong.head(1)"
   ]
  },
  {
   "cell_type": "code",
   "execution_count": 109,
   "metadata": {},
   "outputs": [],
   "source": [
    "cal_rate(udong, \"유동자산(IFRS개별)\", \"유동부채(IFRS개별)\", \"유동비율(개별)\")\n",
    "cal_rate(udong, \"유동자산(IFRS연결)\", \"유동부채(IFRS연결)\", \"유동비율(연결)\")\n",
    "udong.to_csv(\"../csv_data/use/유동비율_전처리.csv\", encoding=\"CP949\")"
   ]
  },
  {
   "cell_type": "code",
   "execution_count": 110,
   "metadata": {},
   "outputs": [
    {
     "data": {
      "text/html": [
       "<div>\n",
       "<style scoped>\n",
       "    .dataframe tbody tr th:only-of-type {\n",
       "        vertical-align: middle;\n",
       "    }\n",
       "\n",
       "    .dataframe tbody tr th {\n",
       "        vertical-align: top;\n",
       "    }\n",
       "\n",
       "    .dataframe thead th {\n",
       "        text-align: right;\n",
       "    }\n",
       "</style>\n",
       "<table border=\"1\" class=\"dataframe\">\n",
       "  <thead>\n",
       "    <tr style=\"text-align: right;\">\n",
       "      <th></th>\n",
       "      <th>회사명</th>\n",
       "      <th>거래소코드</th>\n",
       "      <th>회계년도</th>\n",
       "      <th>유동자산(IFRS연결)</th>\n",
       "      <th>재고자산(IFRS연결)</th>\n",
       "      <th>유동부채(IFRS연결)</th>\n",
       "      <th>유동자산(IFRS개별)</th>\n",
       "      <th>재고자산(IFRS개별)</th>\n",
       "      <th>유동부채(IFRS개별)</th>\n",
       "    </tr>\n",
       "  </thead>\n",
       "  <tbody>\n",
       "    <tr>\n",
       "      <th>0</th>\n",
       "      <td>(주)CMG제약</td>\n",
       "      <td>58820</td>\n",
       "      <td>Dec-11</td>\n",
       "      <td>15341167.0</td>\n",
       "      <td>2743103.0</td>\n",
       "      <td>7633673.0</td>\n",
       "      <td>15264885.0</td>\n",
       "      <td>2743103.0</td>\n",
       "      <td>7620349.0</td>\n",
       "    </tr>\n",
       "  </tbody>\n",
       "</table>\n",
       "</div>"
      ],
      "text/plain": [
       "        회사명  거래소코드    회계년도  유동자산(IFRS연결)  재고자산(IFRS연결)  유동부채(IFRS연결)  \\\n",
       "0  (주)CMG제약  58820  Dec-11    15341167.0     2743103.0     7633673.0   \n",
       "\n",
       "   유동자산(IFRS개별)  재고자산(IFRS개별)  유동부채(IFRS개별)  \n",
       "0    15264885.0     2743103.0     7620349.0  "
      ]
     },
     "execution_count": 110,
     "metadata": {},
     "output_type": "execute_result"
    }
   ],
   "source": [
    "# 당좌비율\n",
    "dang_rate.head(1)"
   ]
  },
  {
   "cell_type": "code",
   "execution_count": 111,
   "metadata": {},
   "outputs": [],
   "source": [
    "cal_rate_sub(dang_rate, \"유동자산(IFRS개별)\", \"재고자산(IFRS개별)\", \"유동부채(IFRS개별)\", \"당좌비율(개별)\")\n",
    "cal_rate_sub(dang_rate, \"유동자산(IFRS연결)\", \"재고자산(IFRS연결)\", \"유동부채(IFRS연결)\", \"당좌비율(연결)\")\n",
    "dang_rate.to_csv(\"../csv_data/use/당좌비율_전처리.csv\", encoding=\"CP949\")"
   ]
  },
  {
   "cell_type": "code",
   "execution_count": 112,
   "metadata": {},
   "outputs": [
    {
     "data": {
      "text/html": [
       "<div>\n",
       "<style scoped>\n",
       "    .dataframe tbody tr th:only-of-type {\n",
       "        vertical-align: middle;\n",
       "    }\n",
       "\n",
       "    .dataframe tbody tr th {\n",
       "        vertical-align: top;\n",
       "    }\n",
       "\n",
       "    .dataframe thead th {\n",
       "        text-align: right;\n",
       "    }\n",
       "</style>\n",
       "<table border=\"1\" class=\"dataframe\">\n",
       "  <thead>\n",
       "    <tr style=\"text-align: right;\">\n",
       "      <th></th>\n",
       "      <th>회사명</th>\n",
       "      <th>거래소코드</th>\n",
       "      <th>회계년도</th>\n",
       "      <th>현금및현금성자산(IFRS연결)</th>\n",
       "      <th>유동부채(IFRS연결)</th>\n",
       "      <th>현금및현금성자산(IFRS개별)</th>\n",
       "      <th>유동부채(IFRS개별)</th>\n",
       "    </tr>\n",
       "  </thead>\n",
       "  <tbody>\n",
       "    <tr>\n",
       "      <th>0</th>\n",
       "      <td>(주)CMG제약</td>\n",
       "      <td>58820</td>\n",
       "      <td>Dec-11</td>\n",
       "      <td>1152489.0</td>\n",
       "      <td>7633673.0</td>\n",
       "      <td>1152489.0</td>\n",
       "      <td>7620349.0</td>\n",
       "    </tr>\n",
       "  </tbody>\n",
       "</table>\n",
       "</div>"
      ],
      "text/plain": [
       "        회사명  거래소코드    회계년도  현금및현금성자산(IFRS연결)  유동부채(IFRS연결)  현금및현금성자산(IFRS개별)  \\\n",
       "0  (주)CMG제약  58820  Dec-11         1152489.0     7633673.0         1152489.0   \n",
       "\n",
       "   유동부채(IFRS개별)  \n",
       "0     7620349.0  "
      ]
     },
     "execution_count": 112,
     "metadata": {},
     "output_type": "execute_result"
    }
   ],
   "source": [
    "# 현금비율\n",
    "cash_rate.head(1)"
   ]
  },
  {
   "cell_type": "code",
   "execution_count": 113,
   "metadata": {},
   "outputs": [],
   "source": [
    "cal_rate(cash_rate, \"현금및현금성자산(IFRS개별)\", \"유동부채(IFRS개별)\", \"현금비율(개별)\")\n",
    "cal_rate(cash_rate, \"현금및현금성자산(IFRS연결)\", \"유동부채(IFRS연결)\", \"현금비율(연결)\")\n",
    "cash_rate.to_csv(\"../csv_data/use/현금비율_전처리.csv\", encoding=\"CP949\")"
   ]
  },
  {
   "cell_type": "code",
   "execution_count": 114,
   "metadata": {},
   "outputs": [
    {
     "data": {
      "text/html": [
       "<div>\n",
       "<style scoped>\n",
       "    .dataframe tbody tr th:only-of-type {\n",
       "        vertical-align: middle;\n",
       "    }\n",
       "\n",
       "    .dataframe tbody tr th {\n",
       "        vertical-align: top;\n",
       "    }\n",
       "\n",
       "    .dataframe thead th {\n",
       "        text-align: right;\n",
       "    }\n",
       "</style>\n",
       "<table border=\"1\" class=\"dataframe\">\n",
       "  <thead>\n",
       "    <tr style=\"text-align: right;\">\n",
       "      <th></th>\n",
       "      <th>회사명</th>\n",
       "      <th>거래소코드</th>\n",
       "      <th>회계년도</th>\n",
       "      <th>부채(IFRS연결)</th>\n",
       "      <th>자본(IFRS연결)</th>\n",
       "      <th>부채(IFRS개별)</th>\n",
       "      <th>자본(IFRS개별)</th>\n",
       "    </tr>\n",
       "  </thead>\n",
       "  <tbody>\n",
       "    <tr>\n",
       "      <th>0</th>\n",
       "      <td>(주)CMG제약</td>\n",
       "      <td>58820</td>\n",
       "      <td>Dec-11</td>\n",
       "      <td>9270949.0</td>\n",
       "      <td>18034249.0</td>\n",
       "      <td>9257624.0</td>\n",
       "      <td>18290915.0</td>\n",
       "    </tr>\n",
       "  </tbody>\n",
       "</table>\n",
       "</div>"
      ],
      "text/plain": [
       "        회사명  거래소코드    회계년도  부채(IFRS연결)  자본(IFRS연결)  부채(IFRS개별)  자본(IFRS개별)\n",
       "0  (주)CMG제약  58820  Dec-11   9270949.0  18034249.0   9257624.0  18290915.0"
      ]
     },
     "execution_count": 114,
     "metadata": {},
     "output_type": "execute_result"
    }
   ],
   "source": [
    "# 부채비율\n",
    "dept_rate.head(1)"
   ]
  },
  {
   "cell_type": "code",
   "execution_count": 115,
   "metadata": {},
   "outputs": [],
   "source": [
    "cal_rate(dept_rate, \"부채(IFRS개별)\", \"자본(IFRS개별)\", \"부채비율(개별)\")\n",
    "cal_rate(dept_rate, \"부채(IFRS연결)\", \"자본(IFRS연결)\", \"부채비율(연결)\")\n",
    "dept_rate.to_csv(\"../csv_data/use/부채비율_전처리.csv\", encoding=\"CP949\")"
   ]
  },
  {
   "cell_type": "code",
   "execution_count": 116,
   "metadata": {},
   "outputs": [
    {
     "data": {
      "text/html": [
       "<div>\n",
       "<style scoped>\n",
       "    .dataframe tbody tr th:only-of-type {\n",
       "        vertical-align: middle;\n",
       "    }\n",
       "\n",
       "    .dataframe tbody tr th {\n",
       "        vertical-align: top;\n",
       "    }\n",
       "\n",
       "    .dataframe thead th {\n",
       "        text-align: right;\n",
       "    }\n",
       "</style>\n",
       "<table border=\"1\" class=\"dataframe\">\n",
       "  <thead>\n",
       "    <tr style=\"text-align: right;\">\n",
       "      <th></th>\n",
       "      <th>회사명</th>\n",
       "      <th>거래소코드</th>\n",
       "      <th>회계년도</th>\n",
       "      <th>장기차입금(IFRS연결)</th>\n",
       "      <th>단기차입금(IFRS연결)</th>\n",
       "      <th>사채(IFRS연결)</th>\n",
       "      <th>자산(IFRS연결)</th>\n",
       "      <th>장기차입금(IFRS연결).1</th>\n",
       "      <th>단기차입금(IFRS연결).1</th>\n",
       "      <th>사채(IFRS연결).1</th>\n",
       "      <th>자산(IFRS연결).1</th>\n",
       "    </tr>\n",
       "  </thead>\n",
       "  <tbody>\n",
       "    <tr>\n",
       "      <th>0</th>\n",
       "      <td>(주)CMG제약</td>\n",
       "      <td>58820</td>\n",
       "      <td>Dec-11</td>\n",
       "      <td>0.0</td>\n",
       "      <td>0.0</td>\n",
       "      <td>478017.0</td>\n",
       "      <td>27305198.0</td>\n",
       "      <td>0.0</td>\n",
       "      <td>2134049.0</td>\n",
       "      <td>478017.0</td>\n",
       "      <td>27548539.0</td>\n",
       "    </tr>\n",
       "  </tbody>\n",
       "</table>\n",
       "</div>"
      ],
      "text/plain": [
       "        회사명  거래소코드    회계년도  장기차입금(IFRS연결)  단기차입금(IFRS연결)  사채(IFRS연결)  \\\n",
       "0  (주)CMG제약  58820  Dec-11            0.0            0.0    478017.0   \n",
       "\n",
       "   자산(IFRS연결)  장기차입금(IFRS연결).1  단기차입금(IFRS연결).1  사채(IFRS연결).1  자산(IFRS연결).1  \n",
       "0  27305198.0              0.0        2134049.0      478017.0    27548539.0  "
      ]
     },
     "execution_count": 116,
     "metadata": {},
     "output_type": "execute_result"
    }
   ],
   "source": [
    "# 차입금의존도\n",
    "# .1 붙어있는 게 개별이다\n",
    "chaip.head(1)"
   ]
  },
  {
   "cell_type": "code",
   "execution_count": 117,
   "metadata": {},
   "outputs": [],
   "source": [
    "cal_rate_add_three(chaip, \"장기차입금(IFRS연결).1\", \"단기차입금(IFRS연결).1\", \"사채(IFRS연결).1\", \"자산(IFRS연결).1\", \"차입금의존도(개별)\")\n",
    "cal_rate_add_three(chaip, \"장기차입금(IFRS연결)\", \"단기차입금(IFRS연결)\", \"사채(IFRS연결)\", \"자산(IFRS연결)\", \"차입금의존도(연결)\")\n",
    "chaip.to_csv(\"../csv_data/use/차입금의존도_전처리.csv\", encoding=\"CP949\")"
   ]
  },
  {
   "cell_type": "code",
   "execution_count": 118,
   "metadata": {},
   "outputs": [
    {
     "data": {
      "text/html": [
       "<div>\n",
       "<style scoped>\n",
       "    .dataframe tbody tr th:only-of-type {\n",
       "        vertical-align: middle;\n",
       "    }\n",
       "\n",
       "    .dataframe tbody tr th {\n",
       "        vertical-align: top;\n",
       "    }\n",
       "\n",
       "    .dataframe thead th {\n",
       "        text-align: right;\n",
       "    }\n",
       "</style>\n",
       "<table border=\"1\" class=\"dataframe\">\n",
       "  <thead>\n",
       "    <tr style=\"text-align: right;\">\n",
       "      <th></th>\n",
       "      <th>회사명</th>\n",
       "      <th>거래소코드</th>\n",
       "      <th>회계년도</th>\n",
       "      <th>유동부채(IFRS연결)</th>\n",
       "      <th>부채(IFRS연결)</th>\n",
       "      <th>유동부채(IFRS개별)</th>\n",
       "      <th>부채(IFRS개별)</th>\n",
       "    </tr>\n",
       "  </thead>\n",
       "  <tbody>\n",
       "    <tr>\n",
       "      <th>0</th>\n",
       "      <td>(주)CMG제약</td>\n",
       "      <td>58820</td>\n",
       "      <td>Dec-11</td>\n",
       "      <td>7633673.0</td>\n",
       "      <td>9270949.0</td>\n",
       "      <td>7620349.0</td>\n",
       "      <td>9257624.0</td>\n",
       "    </tr>\n",
       "  </tbody>\n",
       "</table>\n",
       "</div>"
      ],
      "text/plain": [
       "        회사명  거래소코드    회계년도  유동부채(IFRS연결)  부채(IFRS연결)  유동부채(IFRS개별)  부채(IFRS개별)\n",
       "0  (주)CMG제약  58820  Dec-11     7633673.0   9270949.0     7620349.0   9257624.0"
      ]
     },
     "execution_count": 118,
     "metadata": {},
     "output_type": "execute_result"
    }
   ],
   "source": [
    "# 유동부채비율\n",
    "udong_dept.head(1)"
   ]
  },
  {
   "cell_type": "code",
   "execution_count": 119,
   "metadata": {},
   "outputs": [],
   "source": [
    "cal_rate(udong_dept, \"유동부채(IFRS개별)\", \"부채(IFRS개별)\", \"유동부채(개별)\")\n",
    "cal_rate(udong_dept, \"유동부채(IFRS연결)\", \"부채(IFRS연결)\", \"유동부채(연결)\")\n",
    "udong_dept.to_csv(\"../csv_data/use/유동부채비율_전처리.csv\", encoding=\"CP949\")"
   ]
  },
  {
   "cell_type": "code",
   "execution_count": 120,
   "metadata": {},
   "outputs": [
    {
     "data": {
      "text/html": [
       "<div>\n",
       "<style scoped>\n",
       "    .dataframe tbody tr th:only-of-type {\n",
       "        vertical-align: middle;\n",
       "    }\n",
       "\n",
       "    .dataframe tbody tr th {\n",
       "        vertical-align: top;\n",
       "    }\n",
       "\n",
       "    .dataframe thead th {\n",
       "        text-align: right;\n",
       "    }\n",
       "</style>\n",
       "<table border=\"1\" class=\"dataframe\">\n",
       "  <thead>\n",
       "    <tr style=\"text-align: right;\">\n",
       "      <th></th>\n",
       "      <th>회사명</th>\n",
       "      <th>거래소코드</th>\n",
       "      <th>회계년도</th>\n",
       "      <th>매출액(IFRS연결)</th>\n",
       "      <th>매출원가(IFRS연결)</th>\n",
       "      <th>매출액(IFRS개별)</th>\n",
       "      <th>매출원가(IFRS개별)</th>\n",
       "    </tr>\n",
       "  </thead>\n",
       "  <tbody>\n",
       "    <tr>\n",
       "      <th>0</th>\n",
       "      <td>(주)CMG제약</td>\n",
       "      <td>58820</td>\n",
       "      <td>Dec-11</td>\n",
       "      <td>17751704.0</td>\n",
       "      <td>10325799.0</td>\n",
       "      <td>17751704.0</td>\n",
       "      <td>10325799.0</td>\n",
       "    </tr>\n",
       "  </tbody>\n",
       "</table>\n",
       "</div>"
      ],
      "text/plain": [
       "        회사명  거래소코드    회계년도  매출액(IFRS연결)  매출원가(IFRS연결)  매출액(IFRS개별)  \\\n",
       "0  (주)CMG제약  58820  Dec-11   17751704.0    10325799.0   17751704.0   \n",
       "\n",
       "   매출원가(IFRS개별)  \n",
       "0    10325799.0  "
      ]
     },
     "execution_count": 120,
     "metadata": {},
     "output_type": "execute_result"
    }
   ],
   "source": [
    "# 매출액총이익률\n",
    "income_rate.head(1)"
   ]
  },
  {
   "cell_type": "code",
   "execution_count": 121,
   "metadata": {},
   "outputs": [
    {
     "name": "stderr",
     "output_type": "stream",
     "text": [
      "C:\\Users\\luck1\\AppData\\Local\\Temp\\ipykernel_23568\\3833412330.py:52: RuntimeWarning: invalid value encountered in double_scalars\n",
      "  df_name.loc[i, d] = (df_name.iloc[i][a]-df_name.iloc[i][b])/df_name.iloc[i][c] * 100\n",
      "C:\\Users\\luck1\\AppData\\Local\\Temp\\ipykernel_23568\\3833412330.py:52: RuntimeWarning: invalid value encountered in double_scalars\n",
      "  df_name.loc[i, d] = (df_name.iloc[i][a]-df_name.iloc[i][b])/df_name.iloc[i][c] * 100\n"
     ]
    }
   ],
   "source": [
    "cal_rate_sub(income_rate, \"매출액(IFRS개별)\", \"매출원가(IFRS개별)\", \"매출액(IFRS개별)\",\"매출액총이익률(개별)\")\n",
    "cal_rate_sub(income_rate, \"매출액(IFRS연결)\", \"매출원가(IFRS연결)\", \"매출액(IFRS연결)\" ,\"매출액총이익률(연결)\")\n",
    "income_rate.to_csv(\"../csv_data/use/매출액_총_이익률_전처리.csv\", encoding=\"CP949\")"
   ]
  },
  {
   "cell_type": "code",
   "execution_count": 122,
   "metadata": {},
   "outputs": [
    {
     "data": {
      "text/html": [
       "<div>\n",
       "<style scoped>\n",
       "    .dataframe tbody tr th:only-of-type {\n",
       "        vertical-align: middle;\n",
       "    }\n",
       "\n",
       "    .dataframe tbody tr th {\n",
       "        vertical-align: top;\n",
       "    }\n",
       "\n",
       "    .dataframe thead th {\n",
       "        text-align: right;\n",
       "    }\n",
       "</style>\n",
       "<table border=\"1\" class=\"dataframe\">\n",
       "  <thead>\n",
       "    <tr style=\"text-align: right;\">\n",
       "      <th></th>\n",
       "      <th>회사명</th>\n",
       "      <th>거래소코드</th>\n",
       "      <th>회계년도</th>\n",
       "      <th>당기순이익(IFRS연결)</th>\n",
       "      <th>매출액(IFRS연결)</th>\n",
       "      <th>당기순이익(IFRS개별)</th>\n",
       "      <th>매출액(IFRS개별)</th>\n",
       "    </tr>\n",
       "  </thead>\n",
       "  <tbody>\n",
       "    <tr>\n",
       "      <th>0</th>\n",
       "      <td>(주)CMG제약</td>\n",
       "      <td>58820</td>\n",
       "      <td>Dec-11</td>\n",
       "      <td>-1508282.0</td>\n",
       "      <td>17751704.0</td>\n",
       "      <td>-1264488.0</td>\n",
       "      <td>17751704.0</td>\n",
       "    </tr>\n",
       "  </tbody>\n",
       "</table>\n",
       "</div>"
      ],
      "text/plain": [
       "        회사명  거래소코드    회계년도  당기순이익(IFRS연결)  매출액(IFRS연결)  당기순이익(IFRS개별)  \\\n",
       "0  (주)CMG제약  58820  Dec-11     -1508282.0   17751704.0     -1264488.0   \n",
       "\n",
       "   매출액(IFRS개별)  \n",
       "0   17751704.0  "
      ]
     },
     "execution_count": 122,
     "metadata": {},
     "output_type": "execute_result"
    }
   ],
   "source": [
    "# 매출액순이익률\n",
    "income_real_rate.head(1)"
   ]
  },
  {
   "cell_type": "code",
   "execution_count": 123,
   "metadata": {},
   "outputs": [
    {
     "name": "stderr",
     "output_type": "stream",
     "text": [
      "C:\\Users\\luck1\\AppData\\Local\\Temp\\ipykernel_23568\\3833412330.py:28: RuntimeWarning: divide by zero encountered in double_scalars\n",
      "  df_name.loc[i, c] = df_name.iloc[i][a]/df_name.iloc[i][b] * 100\n",
      "C:\\Users\\luck1\\AppData\\Local\\Temp\\ipykernel_23568\\3833412330.py:28: RuntimeWarning: divide by zero encountered in double_scalars\n",
      "  df_name.loc[i, c] = df_name.iloc[i][a]/df_name.iloc[i][b] * 100\n"
     ]
    }
   ],
   "source": [
    "cal_rate(income_real_rate, \"당기순이익(IFRS개별)\", \"매출액(IFRS개별)\",\"매출액순이익률(개별)\")\n",
    "cal_rate(income_real_rate, \"당기순이익(IFRS연결)\", \"매출액(IFRS연결)\" ,\"매출액순이익률(연결)\")\n",
    "income_real_rate.to_csv(\"../csv_data/use/매출액_순_이익률_전처리.csv\", encoding=\"CP949\")"
   ]
  },
  {
   "cell_type": "code",
   "execution_count": 124,
   "metadata": {},
   "outputs": [
    {
     "data": {
      "text/html": [
       "<div>\n",
       "<style scoped>\n",
       "    .dataframe tbody tr th:only-of-type {\n",
       "        vertical-align: middle;\n",
       "    }\n",
       "\n",
       "    .dataframe tbody tr th {\n",
       "        vertical-align: top;\n",
       "    }\n",
       "\n",
       "    .dataframe thead th {\n",
       "        text-align: right;\n",
       "    }\n",
       "</style>\n",
       "<table border=\"1\" class=\"dataframe\">\n",
       "  <thead>\n",
       "    <tr style=\"text-align: right;\">\n",
       "      <th></th>\n",
       "      <th>회사명</th>\n",
       "      <th>거래소코드</th>\n",
       "      <th>회계년도</th>\n",
       "      <th>매출액(IFRS연결)</th>\n",
       "      <th>매출원가(IFRS연결)</th>\n",
       "      <th>판관비(IFRS연결)</th>\n",
       "      <th>매출액(IFRS개별)</th>\n",
       "      <th>매출원가(IFRS개별)</th>\n",
       "      <th>판관비(IFRS개별)</th>\n",
       "    </tr>\n",
       "  </thead>\n",
       "  <tbody>\n",
       "    <tr>\n",
       "      <th>0</th>\n",
       "      <td>(주)CMG제약</td>\n",
       "      <td>58820</td>\n",
       "      <td>Dec-11</td>\n",
       "      <td>17751704.0</td>\n",
       "      <td>10325799.0</td>\n",
       "      <td>6802089.0</td>\n",
       "      <td>17751704.0</td>\n",
       "      <td>10325799.0</td>\n",
       "      <td>6727421.0</td>\n",
       "    </tr>\n",
       "  </tbody>\n",
       "</table>\n",
       "</div>"
      ],
      "text/plain": [
       "        회사명  거래소코드    회계년도  매출액(IFRS연결)  매출원가(IFRS연결)  판관비(IFRS연결)  \\\n",
       "0  (주)CMG제약  58820  Dec-11   17751704.0    10325799.0    6802089.0   \n",
       "\n",
       "   매출액(IFRS개별)  매출원가(IFRS개별)  판관비(IFRS개별)  \n",
       "0   17751704.0    10325799.0    6727421.0  "
      ]
     },
     "execution_count": 124,
     "metadata": {},
     "output_type": "execute_result"
    }
   ],
   "source": [
    "# 매출액영업이익률\n",
    "income_sales_rate.head(1)"
   ]
  },
  {
   "cell_type": "code",
   "execution_count": 125,
   "metadata": {},
   "outputs": [
    {
     "name": "stderr",
     "output_type": "stream",
     "text": [
      "C:\\Users\\luck1\\AppData\\Local\\Temp\\ipykernel_23568\\3833412330.py:76: RuntimeWarning: divide by zero encountered in double_scalars\n",
      "  df_name.loc[i, e] = (df_name.iloc[i][a]-df_name.iloc[i][b]-df_name.iloc[i][c])/df_name.iloc[i][d] * 100\n",
      "C:\\Users\\luck1\\AppData\\Local\\Temp\\ipykernel_23568\\3833412330.py:76: RuntimeWarning: divide by zero encountered in double_scalars\n",
      "  df_name.loc[i, e] = (df_name.iloc[i][a]-df_name.iloc[i][b]-df_name.iloc[i][c])/df_name.iloc[i][d] * 100\n"
     ]
    }
   ],
   "source": [
    "cal_rate_sub_three(income_sales_rate, \"매출액(IFRS개별)\", \"매출원가(IFRS개별)\", \"판관비(IFRS개별)\", \"매출액(IFRS개별)\", \"매출액영업이익률(개별)\")\n",
    "cal_rate_sub_three(income_sales_rate, \"매출액(IFRS연결)\", \"매출원가(IFRS연결)\", \"판관비(IFRS연결)\", \"매출액(IFRS연결)\", \"매출액영업이익률(연결)\")\n",
    "income_sales_rate.to_csv(\"../csv_data/use/매출액영업이익률_전처리.csv\", encoding=\"CP949\")"
   ]
  },
  {
   "cell_type": "code",
   "execution_count": 126,
   "metadata": {},
   "outputs": [
    {
     "data": {
      "text/html": [
       "<div>\n",
       "<style scoped>\n",
       "    .dataframe tbody tr th:only-of-type {\n",
       "        vertical-align: middle;\n",
       "    }\n",
       "\n",
       "    .dataframe tbody tr th {\n",
       "        vertical-align: top;\n",
       "    }\n",
       "\n",
       "    .dataframe thead th {\n",
       "        text-align: right;\n",
       "    }\n",
       "</style>\n",
       "<table border=\"1\" class=\"dataframe\">\n",
       "  <thead>\n",
       "    <tr style=\"text-align: right;\">\n",
       "      <th></th>\n",
       "      <th>회사명</th>\n",
       "      <th>거래소코드</th>\n",
       "      <th>회계년도</th>\n",
       "      <th>매출액(IFRS연결)</th>\n",
       "      <th>매출원가(IFRS연결)</th>\n",
       "      <th>판관비(IFRS연결)</th>\n",
       "      <th>당기자본(IFRS연결)</th>\n",
       "      <th>전기자본(IFRS연결)</th>\n",
       "      <th>매출액(IFRS개별)</th>\n",
       "      <th>매출원가(IFRS연결).1</th>\n",
       "      <th>판관비(IFRS개별)</th>\n",
       "      <th>당기자본(IFRS개별)</th>\n",
       "      <th>전기자본(IFRS개별)</th>\n",
       "    </tr>\n",
       "  </thead>\n",
       "  <tbody>\n",
       "    <tr>\n",
       "      <th>0</th>\n",
       "      <td>(주)CMG제약</td>\n",
       "      <td>58820</td>\n",
       "      <td>Dec-11</td>\n",
       "      <td>17751704.0</td>\n",
       "      <td>10325799.0</td>\n",
       "      <td>6802089.0</td>\n",
       "      <td>18034249.0</td>\n",
       "      <td>18034249.0</td>\n",
       "      <td>17751704.0</td>\n",
       "      <td>10325799.0</td>\n",
       "      <td>6727421.0</td>\n",
       "      <td>18290915.0</td>\n",
       "      <td>18290915.0</td>\n",
       "    </tr>\n",
       "  </tbody>\n",
       "</table>\n",
       "</div>"
      ],
      "text/plain": [
       "        회사명  거래소코드    회계년도  매출액(IFRS연결)  매출원가(IFRS연결)  판관비(IFRS연결)  \\\n",
       "0  (주)CMG제약  58820  Dec-11   17751704.0    10325799.0    6802089.0   \n",
       "\n",
       "   당기자본(IFRS연결)  전기자본(IFRS연결)  매출액(IFRS개별)  매출원가(IFRS연결).1  판관비(IFRS개별)  \\\n",
       "0    18034249.0    18034249.0   17751704.0      10325799.0    6727421.0   \n",
       "\n",
       "   당기자본(IFRS개별)  전기자본(IFRS개별)  \n",
       "0    18290915.0    18290915.0  "
      ]
     },
     "execution_count": 126,
     "metadata": {},
     "output_type": "execute_result"
    }
   ],
   "source": [
    "# 총자본영업이익률\n",
    "total_sales_rate.head(1)"
   ]
  },
  {
   "cell_type": "code",
   "execution_count": 127,
   "metadata": {},
   "outputs": [],
   "source": [
    "cal_total_income(total_sales_rate, \"매출액(IFRS개별)\", \"매출원가(IFRS연결).1\", \"판관비(IFRS개별)\", \"전기자본(IFRS개별)\", \"당기자본(IFRS개별)\", \"총자본영업이익률(개별)\")\n",
    "cal_total_income(total_sales_rate, \"매출액(IFRS연결)\", \"매출원가(IFRS연결)\", \"판관비(IFRS연결)\", \"전기자본(IFRS연결)\", \"당기자본(IFRS연결)\", \"총자본영업이익률(연결)\")\n",
    "total_sales_rate.to_csv(\"../csv_data/use/총자본영업이익률_전처리.csv\", encoding=\"CP949\")"
   ]
  },
  {
   "cell_type": "code",
   "execution_count": 128,
   "metadata": {},
   "outputs": [
    {
     "data": {
      "text/html": [
       "<div>\n",
       "<style scoped>\n",
       "    .dataframe tbody tr th:only-of-type {\n",
       "        vertical-align: middle;\n",
       "    }\n",
       "\n",
       "    .dataframe tbody tr th {\n",
       "        vertical-align: top;\n",
       "    }\n",
       "\n",
       "    .dataframe thead th {\n",
       "        text-align: right;\n",
       "    }\n",
       "</style>\n",
       "<table border=\"1\" class=\"dataframe\">\n",
       "  <thead>\n",
       "    <tr style=\"text-align: right;\">\n",
       "      <th></th>\n",
       "      <th>회사명</th>\n",
       "      <th>거래소코드</th>\n",
       "      <th>회계년도</th>\n",
       "      <th>당기순이익(IFRS연결)</th>\n",
       "      <th>자산(IFRS연결)</th>\n",
       "      <th>당기순이익(IFRS개별)</th>\n",
       "      <th>자산(IFRS개별)</th>\n",
       "    </tr>\n",
       "  </thead>\n",
       "  <tbody>\n",
       "    <tr>\n",
       "      <th>0</th>\n",
       "      <td>(주)CMG제약</td>\n",
       "      <td>58820</td>\n",
       "      <td>Dec-11</td>\n",
       "      <td>-1508282.0</td>\n",
       "      <td>27305198.0</td>\n",
       "      <td>-1264488.0</td>\n",
       "      <td>27548539.0</td>\n",
       "    </tr>\n",
       "  </tbody>\n",
       "</table>\n",
       "</div>"
      ],
      "text/plain": [
       "        회사명  거래소코드    회계년도  당기순이익(IFRS연결)  자산(IFRS연결)  당기순이익(IFRS개별)  \\\n",
       "0  (주)CMG제약  58820  Dec-11     -1508282.0  27305198.0     -1264488.0   \n",
       "\n",
       "   자산(IFRS개별)  \n",
       "0  27548539.0  "
      ]
     },
     "execution_count": 128,
     "metadata": {},
     "output_type": "execute_result"
    }
   ],
   "source": [
    "#총자산순이익률\n",
    "total_real_rate.head(1)"
   ]
  },
  {
   "cell_type": "code",
   "execution_count": 129,
   "metadata": {},
   "outputs": [],
   "source": [
    "cal_rate(total_real_rate, \"당기순이익(IFRS개별)\", \"자산(IFRS개별)\", \"총자산순이익률(개별)\")\n",
    "cal_rate(total_real_rate, \"당기순이익(IFRS연결)\", \"자산(IFRS연결)\", \"총자산순이익률(연결)\")\n",
    "total_real_rate.to_csv(\"../csv_data/use/총자산순이익률_전처리.csv\", encoding=\"CP949\")"
   ]
  },
  {
   "cell_type": "code",
   "execution_count": 130,
   "metadata": {},
   "outputs": [
    {
     "data": {
      "text/html": [
       "<div>\n",
       "<style scoped>\n",
       "    .dataframe tbody tr th:only-of-type {\n",
       "        vertical-align: middle;\n",
       "    }\n",
       "\n",
       "    .dataframe tbody tr th {\n",
       "        vertical-align: top;\n",
       "    }\n",
       "\n",
       "    .dataframe thead th {\n",
       "        text-align: right;\n",
       "    }\n",
       "</style>\n",
       "<table border=\"1\" class=\"dataframe\">\n",
       "  <thead>\n",
       "    <tr style=\"text-align: right;\">\n",
       "      <th></th>\n",
       "      <th>회사명</th>\n",
       "      <th>거래소코드</th>\n",
       "      <th>회계년도</th>\n",
       "      <th>당기자산(IFRS연결)</th>\n",
       "      <th>전기자산(IFRS연결)</th>\n",
       "      <th>당기자산(IFRS개별)</th>\n",
       "      <th>전기자산(IFRS개별)</th>\n",
       "    </tr>\n",
       "  </thead>\n",
       "  <tbody>\n",
       "    <tr>\n",
       "      <th>0</th>\n",
       "      <td>(주)CMG제약</td>\n",
       "      <td>58820</td>\n",
       "      <td>Dec-11</td>\n",
       "      <td>27305198.0</td>\n",
       "      <td>27305198.0</td>\n",
       "      <td>27548539.0</td>\n",
       "      <td>27548539.0</td>\n",
       "    </tr>\n",
       "  </tbody>\n",
       "</table>\n",
       "</div>"
      ],
      "text/plain": [
       "        회사명  거래소코드    회계년도  당기자산(IFRS연결)  전기자산(IFRS연결)  당기자산(IFRS개별)  \\\n",
       "0  (주)CMG제약  58820  Dec-11    27305198.0    27305198.0    27548539.0   \n",
       "\n",
       "   전기자산(IFRS개별)  \n",
       "0    27548539.0  "
      ]
     },
     "execution_count": 130,
     "metadata": {},
     "output_type": "execute_result"
    }
   ],
   "source": [
    "# 총자산증가율\n",
    "total_money_rate.head(1)"
   ]
  },
  {
   "cell_type": "code",
   "execution_count": 131,
   "metadata": {},
   "outputs": [
    {
     "name": "stderr",
     "output_type": "stream",
     "text": [
      "C:\\Users\\luck1\\AppData\\Local\\Temp\\ipykernel_23568\\3833412330.py:148: RuntimeWarning: divide by zero encountered in double_scalars\n",
      "  df_name.loc[i, c] = ((df_name.iloc[i][a] / df_name.iloc[i][b])*100)-100\n",
      "C:\\Users\\luck1\\AppData\\Local\\Temp\\ipykernel_23568\\3833412330.py:148: RuntimeWarning: divide by zero encountered in double_scalars\n",
      "  df_name.loc[i, c] = ((df_name.iloc[i][a] / df_name.iloc[i][b])*100)-100\n"
     ]
    }
   ],
   "source": [
    "cal_total_money(total_money_rate, \"당기자산(IFRS개별)\", \"전기자산(IFRS개별)\", \"총자산증가율(개별)\")\n",
    "cal_total_money(total_money_rate, \"당기자산(IFRS개별)\", \"전기자산(IFRS연결)\", \"총자산증가율(연결)\")\n",
    "total_money_rate.to_csv(\"../csv_data/use/총자산증가율_전처리.csv\", encoding=\"CP949\")"
   ]
  },
  {
   "cell_type": "code",
   "execution_count": 132,
   "metadata": {},
   "outputs": [
    {
     "data": {
      "text/html": [
       "<div>\n",
       "<style scoped>\n",
       "    .dataframe tbody tr th:only-of-type {\n",
       "        vertical-align: middle;\n",
       "    }\n",
       "\n",
       "    .dataframe tbody tr th {\n",
       "        vertical-align: top;\n",
       "    }\n",
       "\n",
       "    .dataframe thead th {\n",
       "        text-align: right;\n",
       "    }\n",
       "</style>\n",
       "<table border=\"1\" class=\"dataframe\">\n",
       "  <thead>\n",
       "    <tr style=\"text-align: right;\">\n",
       "      <th></th>\n",
       "      <th>회사명</th>\n",
       "      <th>거래소코드</th>\n",
       "      <th>회계년도</th>\n",
       "      <th>당기유동자산(IFRS연결)</th>\n",
       "      <th>전기유동자산(IFRS연결)</th>\n",
       "      <th>당기유동자산(IFRS개별)</th>\n",
       "      <th>전기유동자산(IFRS개별)</th>\n",
       "    </tr>\n",
       "  </thead>\n",
       "  <tbody>\n",
       "    <tr>\n",
       "      <th>0</th>\n",
       "      <td>(주)CMG제약</td>\n",
       "      <td>58820</td>\n",
       "      <td>Dec-11</td>\n",
       "      <td>15341167.0</td>\n",
       "      <td>15341167.0</td>\n",
       "      <td>15264885.0</td>\n",
       "      <td>15264885.0</td>\n",
       "    </tr>\n",
       "  </tbody>\n",
       "</table>\n",
       "</div>"
      ],
      "text/plain": [
       "        회사명  거래소코드    회계년도  당기유동자산(IFRS연결)  전기유동자산(IFRS연결)  당기유동자산(IFRS개별)  \\\n",
       "0  (주)CMG제약  58820  Dec-11      15341167.0      15341167.0      15264885.0   \n",
       "\n",
       "   전기유동자산(IFRS개별)  \n",
       "0      15264885.0  "
      ]
     },
     "execution_count": 132,
     "metadata": {},
     "output_type": "execute_result"
    }
   ],
   "source": [
    "# 유동자산증가율\n",
    "udong_money_rate.head(1)"
   ]
  },
  {
   "cell_type": "code",
   "execution_count": 133,
   "metadata": {},
   "outputs": [
    {
     "name": "stderr",
     "output_type": "stream",
     "text": [
      "C:\\Users\\luck1\\AppData\\Local\\Temp\\ipykernel_23568\\3833412330.py:148: RuntimeWarning: divide by zero encountered in double_scalars\n",
      "  df_name.loc[i, c] = ((df_name.iloc[i][a] / df_name.iloc[i][b])*100)-100\n",
      "C:\\Users\\luck1\\AppData\\Local\\Temp\\ipykernel_23568\\3833412330.py:148: RuntimeWarning: divide by zero encountered in double_scalars\n",
      "  df_name.loc[i, c] = ((df_name.iloc[i][a] / df_name.iloc[i][b])*100)-100\n"
     ]
    }
   ],
   "source": [
    "cal_total_money(udong_money_rate, \"당기유동자산(IFRS개별)\", \"전기유동자산(IFRS개별)\", \"유동자산증가율(개별)\")\n",
    "cal_total_money(udong_money_rate, \"당기유동자산(IFRS개별)\", \"전기유동자산(IFRS연결)\", \"유동자산증가율(연결)\")\n",
    "udong_money_rate.to_csv(\"../csv_data/use/유동자산증가율_전처리.csv\", encoding=\"CP949\")"
   ]
  },
  {
   "cell_type": "code",
   "execution_count": 134,
   "metadata": {},
   "outputs": [
    {
     "data": {
      "text/html": [
       "<div>\n",
       "<style scoped>\n",
       "    .dataframe tbody tr th:only-of-type {\n",
       "        vertical-align: middle;\n",
       "    }\n",
       "\n",
       "    .dataframe tbody tr th {\n",
       "        vertical-align: top;\n",
       "    }\n",
       "\n",
       "    .dataframe thead th {\n",
       "        text-align: right;\n",
       "    }\n",
       "</style>\n",
       "<table border=\"1\" class=\"dataframe\">\n",
       "  <thead>\n",
       "    <tr style=\"text-align: right;\">\n",
       "      <th></th>\n",
       "      <th>회사명</th>\n",
       "      <th>거래소코드</th>\n",
       "      <th>회계년도</th>\n",
       "      <th>당기매출액(IFRS연결)</th>\n",
       "      <th>전기매출액(IFRS연결)</th>\n",
       "      <th>당기매출액(IFRS개별)</th>\n",
       "      <th>전기매출액(IFRS개별)</th>\n",
       "    </tr>\n",
       "  </thead>\n",
       "  <tbody>\n",
       "    <tr>\n",
       "      <th>0</th>\n",
       "      <td>(주)CMG제약</td>\n",
       "      <td>58820</td>\n",
       "      <td>Dec-11</td>\n",
       "      <td>17751704.0</td>\n",
       "      <td>17751704.0</td>\n",
       "      <td>17751704.0</td>\n",
       "      <td>17751704.0</td>\n",
       "    </tr>\n",
       "  </tbody>\n",
       "</table>\n",
       "</div>"
      ],
      "text/plain": [
       "        회사명  거래소코드    회계년도  당기매출액(IFRS연결)  전기매출액(IFRS연결)  당기매출액(IFRS개별)  \\\n",
       "0  (주)CMG제약  58820  Dec-11     17751704.0     17751704.0     17751704.0   \n",
       "\n",
       "   전기매출액(IFRS개별)  \n",
       "0     17751704.0  "
      ]
     },
     "execution_count": 134,
     "metadata": {},
     "output_type": "execute_result"
    }
   ],
   "source": [
    "# 매출액증가율\n",
    "incoming_rate.head(1)"
   ]
  },
  {
   "cell_type": "code",
   "execution_count": 135,
   "metadata": {},
   "outputs": [
    {
     "name": "stderr",
     "output_type": "stream",
     "text": [
      "C:\\Users\\luck1\\AppData\\Local\\Temp\\ipykernel_23568\\3833412330.py:148: RuntimeWarning: invalid value encountered in double_scalars\n",
      "  df_name.loc[i, c] = ((df_name.iloc[i][a] / df_name.iloc[i][b])*100)-100\n",
      "C:\\Users\\luck1\\AppData\\Local\\Temp\\ipykernel_23568\\3833412330.py:148: RuntimeWarning: divide by zero encountered in double_scalars\n",
      "  df_name.loc[i, c] = ((df_name.iloc[i][a] / df_name.iloc[i][b])*100)-100\n",
      "C:\\Users\\luck1\\AppData\\Local\\Temp\\ipykernel_23568\\3833412330.py:148: RuntimeWarning: divide by zero encountered in double_scalars\n",
      "  df_name.loc[i, c] = ((df_name.iloc[i][a] / df_name.iloc[i][b])*100)-100\n",
      "C:\\Users\\luck1\\AppData\\Local\\Temp\\ipykernel_23568\\3833412330.py:148: RuntimeWarning: invalid value encountered in double_scalars\n",
      "  df_name.loc[i, c] = ((df_name.iloc[i][a] / df_name.iloc[i][b])*100)-100\n"
     ]
    }
   ],
   "source": [
    "cal_total_money(incoming_rate, \"당기매출액(IFRS개별)\", \"전기매출액(IFRS개별)\", \"매출액증가율(개별)\")\n",
    "cal_total_money(incoming_rate, \"당기매출액(IFRS개별)\", \"전기매출액(IFRS연결)\", \"매출액증가율(연결)\")\n",
    "incoming_rate.to_csv(\"../csv_data/use/매출액증가율_전처리.csv\", encoding=\"CP949\")"
   ]
  },
  {
   "cell_type": "code",
   "execution_count": 136,
   "metadata": {},
   "outputs": [
    {
     "data": {
      "text/html": [
       "<div>\n",
       "<style scoped>\n",
       "    .dataframe tbody tr th:only-of-type {\n",
       "        vertical-align: middle;\n",
       "    }\n",
       "\n",
       "    .dataframe tbody tr th {\n",
       "        vertical-align: top;\n",
       "    }\n",
       "\n",
       "    .dataframe thead th {\n",
       "        text-align: right;\n",
       "    }\n",
       "</style>\n",
       "<table border=\"1\" class=\"dataframe\">\n",
       "  <thead>\n",
       "    <tr style=\"text-align: right;\">\n",
       "      <th></th>\n",
       "      <th>회사명</th>\n",
       "      <th>거래소코드</th>\n",
       "      <th>회계년도</th>\n",
       "      <th>당기유형자산(IFRS연결)</th>\n",
       "      <th>전기유형자산(IFRS연결)</th>\n",
       "      <th>당기유형자산(IFRS개별)</th>\n",
       "      <th>전기유형자산(IFRS개별)</th>\n",
       "    </tr>\n",
       "  </thead>\n",
       "  <tbody>\n",
       "    <tr>\n",
       "      <th>0</th>\n",
       "      <td>(주)CMG제약</td>\n",
       "      <td>58820</td>\n",
       "      <td>Dec-11</td>\n",
       "      <td>9707759.0</td>\n",
       "      <td>9707759.0</td>\n",
       "      <td>9652599.0</td>\n",
       "      <td>9652599.0</td>\n",
       "    </tr>\n",
       "  </tbody>\n",
       "</table>\n",
       "</div>"
      ],
      "text/plain": [
       "        회사명  거래소코드    회계년도  당기유형자산(IFRS연결)  전기유형자산(IFRS연결)  당기유형자산(IFRS개별)  \\\n",
       "0  (주)CMG제약  58820  Dec-11       9707759.0       9707759.0       9652599.0   \n",
       "\n",
       "   전기유형자산(IFRS개별)  \n",
       "0       9652599.0  "
      ]
     },
     "execution_count": 136,
     "metadata": {},
     "output_type": "execute_result"
    }
   ],
   "source": [
    "# 유형자산증가율\n",
    "u_money_rate.head(1)"
   ]
  },
  {
   "cell_type": "code",
   "execution_count": 137,
   "metadata": {},
   "outputs": [
    {
     "name": "stderr",
     "output_type": "stream",
     "text": [
      "C:\\Users\\luck1\\AppData\\Local\\Temp\\ipykernel_23568\\3833412330.py:148: RuntimeWarning: invalid value encountered in double_scalars\n",
      "  df_name.loc[i, c] = ((df_name.iloc[i][a] / df_name.iloc[i][b])*100)-100\n",
      "C:\\Users\\luck1\\AppData\\Local\\Temp\\ipykernel_23568\\3833412330.py:148: RuntimeWarning: divide by zero encountered in double_scalars\n",
      "  df_name.loc[i, c] = ((df_name.iloc[i][a] / df_name.iloc[i][b])*100)-100\n",
      "C:\\Users\\luck1\\AppData\\Local\\Temp\\ipykernel_23568\\3833412330.py:148: RuntimeWarning: divide by zero encountered in double_scalars\n",
      "  df_name.loc[i, c] = ((df_name.iloc[i][a] / df_name.iloc[i][b])*100)-100\n",
      "C:\\Users\\luck1\\AppData\\Local\\Temp\\ipykernel_23568\\3833412330.py:148: RuntimeWarning: invalid value encountered in double_scalars\n",
      "  df_name.loc[i, c] = ((df_name.iloc[i][a] / df_name.iloc[i][b])*100)-100\n"
     ]
    }
   ],
   "source": [
    "cal_total_money(u_money_rate, \"당기유형자산(IFRS개별)\", \"전기유형자산(IFRS개별)\", \"유형자산증가율(개별)\")\n",
    "cal_total_money(u_money_rate, \"당기유형자산(IFRS개별)\", \"전기유형자산(IFRS연결)\", \"유형자산증가율(연결)\")\n",
    "u_money_rate.to_csv(\"../csv_data/use/유형자산증가율_전처리.csv\", encoding=\"CP949\")"
   ]
  },
  {
   "cell_type": "code",
   "execution_count": 138,
   "metadata": {},
   "outputs": [
    {
     "data": {
      "text/html": [
       "<div>\n",
       "<style scoped>\n",
       "    .dataframe tbody tr th:only-of-type {\n",
       "        vertical-align: middle;\n",
       "    }\n",
       "\n",
       "    .dataframe tbody tr th {\n",
       "        vertical-align: top;\n",
       "    }\n",
       "\n",
       "    .dataframe thead th {\n",
       "        text-align: right;\n",
       "    }\n",
       "</style>\n",
       "<table border=\"1\" class=\"dataframe\">\n",
       "  <thead>\n",
       "    <tr style=\"text-align: right;\">\n",
       "      <th></th>\n",
       "      <th>회사명</th>\n",
       "      <th>거래소코드</th>\n",
       "      <th>회계년도</th>\n",
       "      <th>당기재고자산(IFRS연결)</th>\n",
       "      <th>전기재고자산(IFRS연결)</th>\n",
       "      <th>당기재고자산(IFRS개별)</th>\n",
       "      <th>전기재고자산(IFRS개별)</th>\n",
       "    </tr>\n",
       "  </thead>\n",
       "  <tbody>\n",
       "    <tr>\n",
       "      <th>0</th>\n",
       "      <td>(주)CMG제약</td>\n",
       "      <td>58820</td>\n",
       "      <td>Dec-11</td>\n",
       "      <td>2743103.0</td>\n",
       "      <td>2743103.0</td>\n",
       "      <td>2743103.0</td>\n",
       "      <td>2743103.0</td>\n",
       "    </tr>\n",
       "  </tbody>\n",
       "</table>\n",
       "</div>"
      ],
      "text/plain": [
       "        회사명  거래소코드    회계년도  당기재고자산(IFRS연결)  전기재고자산(IFRS연결)  당기재고자산(IFRS개별)  \\\n",
       "0  (주)CMG제약  58820  Dec-11       2743103.0       2743103.0       2743103.0   \n",
       "\n",
       "   전기재고자산(IFRS개별)  \n",
       "0       2743103.0  "
      ]
     },
     "execution_count": 138,
     "metadata": {},
     "output_type": "execute_result"
    }
   ],
   "source": [
    "# 재고자산증가율\n",
    "jego_money_rate.head(1)"
   ]
  },
  {
   "cell_type": "code",
   "execution_count": 139,
   "metadata": {},
   "outputs": [
    {
     "name": "stderr",
     "output_type": "stream",
     "text": [
      "C:\\Users\\luck1\\AppData\\Local\\Temp\\ipykernel_23568\\3833412330.py:148: RuntimeWarning: invalid value encountered in double_scalars\n",
      "  df_name.loc[i, c] = ((df_name.iloc[i][a] / df_name.iloc[i][b])*100)-100\n",
      "C:\\Users\\luck1\\AppData\\Local\\Temp\\ipykernel_23568\\3833412330.py:148: RuntimeWarning: divide by zero encountered in double_scalars\n",
      "  df_name.loc[i, c] = ((df_name.iloc[i][a] / df_name.iloc[i][b])*100)-100\n",
      "C:\\Users\\luck1\\AppData\\Local\\Temp\\ipykernel_23568\\3833412330.py:148: RuntimeWarning: invalid value encountered in double_scalars\n",
      "  df_name.loc[i, c] = ((df_name.iloc[i][a] / df_name.iloc[i][b])*100)-100\n",
      "C:\\Users\\luck1\\AppData\\Local\\Temp\\ipykernel_23568\\3833412330.py:148: RuntimeWarning: divide by zero encountered in double_scalars\n",
      "  df_name.loc[i, c] = ((df_name.iloc[i][a] / df_name.iloc[i][b])*100)-100\n"
     ]
    }
   ],
   "source": [
    "cal_total_money(jego_money_rate, \"당기재고자산(IFRS개별)\", \"전기재고자산(IFRS개별)\", \"재고자산증가율(개별)\")\n",
    "cal_total_money(jego_money_rate, \"당기재고자산(IFRS개별)\", \"전기재고자산(IFRS연결)\", \"재고자산증가율(연결)\")\n",
    "jego_money_rate.to_csv(\"../csv_data/use/재고자산증가율_전처리.csv\", encoding=\"CP949\")"
   ]
  },
  {
   "cell_type": "code",
   "execution_count": 140,
   "metadata": {},
   "outputs": [
    {
     "data": {
      "text/html": [
       "<div>\n",
       "<style scoped>\n",
       "    .dataframe tbody tr th:only-of-type {\n",
       "        vertical-align: middle;\n",
       "    }\n",
       "\n",
       "    .dataframe tbody tr th {\n",
       "        vertical-align: top;\n",
       "    }\n",
       "\n",
       "    .dataframe thead th {\n",
       "        text-align: right;\n",
       "    }\n",
       "</style>\n",
       "<table border=\"1\" class=\"dataframe\">\n",
       "  <thead>\n",
       "    <tr style=\"text-align: right;\">\n",
       "      <th></th>\n",
       "      <th>회사명</th>\n",
       "      <th>거래소코드</th>\n",
       "      <th>회계년도</th>\n",
       "      <th>당기자본(IFRS연결)</th>\n",
       "      <th>전기자본(IFRS연결)</th>\n",
       "      <th>당기자본(IFRS개별)</th>\n",
       "      <th>전기자본(IFRS개별)</th>\n",
       "    </tr>\n",
       "  </thead>\n",
       "  <tbody>\n",
       "    <tr>\n",
       "      <th>0</th>\n",
       "      <td>(주)CMG제약</td>\n",
       "      <td>58820</td>\n",
       "      <td>Dec-11</td>\n",
       "      <td>18034249.0</td>\n",
       "      <td>18034249.0</td>\n",
       "      <td>18290915.0</td>\n",
       "      <td>18290915.0</td>\n",
       "    </tr>\n",
       "  </tbody>\n",
       "</table>\n",
       "</div>"
      ],
      "text/plain": [
       "        회사명  거래소코드    회계년도  당기자본(IFRS연결)  전기자본(IFRS연결)  당기자본(IFRS개별)  \\\n",
       "0  (주)CMG제약  58820  Dec-11    18034249.0    18034249.0    18290915.0   \n",
       "\n",
       "   전기자본(IFRS개별)  \n",
       "0    18290915.0  "
      ]
     },
     "execution_count": 140,
     "metadata": {},
     "output_type": "execute_result"
    }
   ],
   "source": [
    "# 자기자본증가율\n",
    "self_money_rate.head(1)"
   ]
  },
  {
   "cell_type": "code",
   "execution_count": 141,
   "metadata": {},
   "outputs": [
    {
     "name": "stderr",
     "output_type": "stream",
     "text": [
      "C:\\Users\\luck1\\AppData\\Local\\Temp\\ipykernel_23568\\3833412330.py:148: RuntimeWarning: divide by zero encountered in double_scalars\n",
      "  df_name.loc[i, c] = ((df_name.iloc[i][a] / df_name.iloc[i][b])*100)-100\n",
      "C:\\Users\\luck1\\AppData\\Local\\Temp\\ipykernel_23568\\3833412330.py:148: RuntimeWarning: divide by zero encountered in double_scalars\n",
      "  df_name.loc[i, c] = ((df_name.iloc[i][a] / df_name.iloc[i][b])*100)-100\n"
     ]
    }
   ],
   "source": [
    "cal_total_money(self_money_rate, \"당기자본(IFRS개별)\", \"전기자본(IFRS개별)\", \"자본증가율(개별)\")\n",
    "cal_total_money(self_money_rate, \"당기자본(IFRS개별)\", \"전기자본(IFRS연결)\", \"자본증가율(연결)\")\n",
    "self_money_rate.to_csv(\"../csv_data/use/자기자본증가율_전처리.csv\", encoding=\"CP949\")"
   ]
  },
  {
   "cell_type": "code",
   "execution_count": 142,
   "metadata": {},
   "outputs": [
    {
     "data": {
      "text/html": [
       "<div>\n",
       "<style scoped>\n",
       "    .dataframe tbody tr th:only-of-type {\n",
       "        vertical-align: middle;\n",
       "    }\n",
       "\n",
       "    .dataframe tbody tr th {\n",
       "        vertical-align: top;\n",
       "    }\n",
       "\n",
       "    .dataframe thead th {\n",
       "        text-align: right;\n",
       "    }\n",
       "</style>\n",
       "<table border=\"1\" class=\"dataframe\">\n",
       "  <thead>\n",
       "    <tr style=\"text-align: right;\">\n",
       "      <th></th>\n",
       "      <th>회사명</th>\n",
       "      <th>거래소코드</th>\n",
       "      <th>회계년도</th>\n",
       "      <th>당기순이익(IFRS연결)</th>\n",
       "      <th>전기순이익(IFRS연결)</th>\n",
       "      <th>당기순이익(IFRS개별)</th>\n",
       "      <th>전기순이익(IFRS개별)</th>\n",
       "    </tr>\n",
       "  </thead>\n",
       "  <tbody>\n",
       "    <tr>\n",
       "      <th>0</th>\n",
       "      <td>(주)CMG제약</td>\n",
       "      <td>58820</td>\n",
       "      <td>Dec-11</td>\n",
       "      <td>-1508282.0</td>\n",
       "      <td>-1508282.0</td>\n",
       "      <td>-1264488.0</td>\n",
       "      <td>-1264488.0</td>\n",
       "    </tr>\n",
       "  </tbody>\n",
       "</table>\n",
       "</div>"
      ],
      "text/plain": [
       "        회사명  거래소코드    회계년도  당기순이익(IFRS연결)  전기순이익(IFRS연결)  당기순이익(IFRS개별)  \\\n",
       "0  (주)CMG제약  58820  Dec-11     -1508282.0     -1508282.0     -1264488.0   \n",
       "\n",
       "   전기순이익(IFRS개별)  \n",
       "0     -1264488.0  "
      ]
     },
     "execution_count": 142,
     "metadata": {},
     "output_type": "execute_result"
    }
   ],
   "source": [
    "# 순이익증가율\n",
    "pure_income_rate.head(1)"
   ]
  },
  {
   "cell_type": "code",
   "execution_count": 143,
   "metadata": {},
   "outputs": [
    {
     "name": "stderr",
     "output_type": "stream",
     "text": [
      "C:\\Users\\luck1\\AppData\\Local\\Temp\\ipykernel_23568\\3833412330.py:148: RuntimeWarning: divide by zero encountered in double_scalars\n",
      "  df_name.loc[i, c] = ((df_name.iloc[i][a] / df_name.iloc[i][b])*100)-100\n",
      "C:\\Users\\luck1\\AppData\\Local\\Temp\\ipykernel_23568\\3833412330.py:148: RuntimeWarning: divide by zero encountered in double_scalars\n",
      "  df_name.loc[i, c] = ((df_name.iloc[i][a] / df_name.iloc[i][b])*100)-100\n"
     ]
    }
   ],
   "source": [
    "cal_total_money(pure_income_rate, \"당기순이익(IFRS개별)\", \"전기순이익(IFRS개별)\", \"순이익증가율(개별)\")\n",
    "cal_total_money(pure_income_rate, \"당기순이익(IFRS개별)\", \"전기순이익(IFRS연결)\", \"순이익증가율(연결)\")\n",
    "pure_income_rate.to_csv(\"../csv_data/use/순이익증가율_전처리.csv\", encoding=\"CP949\")"
   ]
  },
  {
   "cell_type": "code",
   "execution_count": 144,
   "metadata": {},
   "outputs": [
    {
     "data": {
      "text/html": [
       "<div>\n",
       "<style scoped>\n",
       "    .dataframe tbody tr th:only-of-type {\n",
       "        vertical-align: middle;\n",
       "    }\n",
       "\n",
       "    .dataframe tbody tr th {\n",
       "        vertical-align: top;\n",
       "    }\n",
       "\n",
       "    .dataframe thead th {\n",
       "        text-align: right;\n",
       "    }\n",
       "</style>\n",
       "<table border=\"1\" class=\"dataframe\">\n",
       "  <thead>\n",
       "    <tr style=\"text-align: right;\">\n",
       "      <th></th>\n",
       "      <th>회사명</th>\n",
       "      <th>거래소코드</th>\n",
       "      <th>회계년도</th>\n",
       "      <th>당기매출액(IFRS연결)</th>\n",
       "      <th>당기매출원가(IFRS연결)</th>\n",
       "      <th>당기판관비(IFRS연결)</th>\n",
       "      <th>전기매출액(IFRS연결)</th>\n",
       "      <th>전기매출원가(IFRS연결)</th>\n",
       "      <th>전기판관비(IFRS연결)</th>\n",
       "      <th>당기매출액(IFRS개별)</th>\n",
       "      <th>당기매출원가(IFRS개별)</th>\n",
       "      <th>당기판관비(IFRS개별)</th>\n",
       "      <th>전기매출액(IFRS개별)</th>\n",
       "      <th>전기매출원가(IFRS개별)</th>\n",
       "      <th>전기판관비(IFRS개별)</th>\n",
       "    </tr>\n",
       "  </thead>\n",
       "  <tbody>\n",
       "    <tr>\n",
       "      <th>0</th>\n",
       "      <td>(주)CMG제약</td>\n",
       "      <td>58820</td>\n",
       "      <td>Dec-11</td>\n",
       "      <td>17751704.0</td>\n",
       "      <td>10325799.0</td>\n",
       "      <td>6802089.0</td>\n",
       "      <td>17751704.0</td>\n",
       "      <td>10325799.0</td>\n",
       "      <td>6802089.0</td>\n",
       "      <td>17751704.0</td>\n",
       "      <td>10325799.0</td>\n",
       "      <td>6727421.0</td>\n",
       "      <td>17751704.0</td>\n",
       "      <td>10325799.0</td>\n",
       "      <td>6727421.0</td>\n",
       "    </tr>\n",
       "  </tbody>\n",
       "</table>\n",
       "</div>"
      ],
      "text/plain": [
       "        회사명  거래소코드    회계년도  당기매출액(IFRS연결)  당기매출원가(IFRS연결)  당기판관비(IFRS연결)  \\\n",
       "0  (주)CMG제약  58820  Dec-11     17751704.0      10325799.0      6802089.0   \n",
       "\n",
       "   전기매출액(IFRS연결)  전기매출원가(IFRS연결)  전기판관비(IFRS연결)  당기매출액(IFRS개별)  \\\n",
       "0     17751704.0      10325799.0      6802089.0     17751704.0   \n",
       "\n",
       "   당기매출원가(IFRS개별)  당기판관비(IFRS개별)  전기매출액(IFRS개별)  전기매출원가(IFRS개별)  전기판관비(IFRS개별)  \n",
       "0      10325799.0      6727421.0     17751704.0      10325799.0      6727421.0  "
      ]
     },
     "execution_count": 144,
     "metadata": {},
     "output_type": "execute_result"
    }
   ],
   "source": [
    "# 영업이익증가율\n",
    "working_money_rate.head(1)"
   ]
  },
  {
   "cell_type": "code",
   "execution_count": 145,
   "metadata": {},
   "outputs": [
    {
     "name": "stderr",
     "output_type": "stream",
     "text": [
      "C:\\Users\\luck1\\AppData\\Local\\Temp\\ipykernel_23568\\3833412330.py:160: RuntimeWarning: divide by zero encountered in double_scalars\n",
      "  df_name.loc[i, g] = ((df_name.iloc[i][a] - df_name.iloc[i][b] - df_name.iloc[i][c])/((df_name.iloc[i][d] + df_name.iloc[i][e] + df_name.iloc[i][f]))*100)-100\n",
      "C:\\Users\\luck1\\AppData\\Local\\Temp\\ipykernel_23568\\3833412330.py:160: RuntimeWarning: divide by zero encountered in double_scalars\n",
      "  df_name.loc[i, g] = ((df_name.iloc[i][a] - df_name.iloc[i][b] - df_name.iloc[i][c])/((df_name.iloc[i][d] + df_name.iloc[i][e] + df_name.iloc[i][f]))*100)-100\n"
     ]
    }
   ],
   "source": [
    "cal_working_money(working_money_rate, \"당기매출액(IFRS개별)\", \"당기매출원가(IFRS개별)\", \"당기판관비(IFRS개별)\", \"전기매출액(IFRS개별)\", \"전기매출원가(IFRS개별)\", \"전기판관비(IFRS개별)\", \"영업이익증가율(개별)\")\n",
    "cal_working_money(working_money_rate, \"당기매출액(IFRS연결)\", \"당기매출원가(IFRS연결)\", \"당기판관비(IFRS연결)\", \"전기매출액(IFRS연결)\", \"전기매출원가(IFRS연결)\", \"전기판관비(IFRS연결)\", \"영업이익증가율(연결)\")\n",
    "working_money_rate.to_csv(\"../csv_data/use/영업이익증가율_전처리.csv\", encoding=\"CP949\")"
   ]
  },
  {
   "cell_type": "code",
   "execution_count": 146,
   "metadata": {},
   "outputs": [
    {
     "data": {
      "text/html": [
       "<div>\n",
       "<style scoped>\n",
       "    .dataframe tbody tr th:only-of-type {\n",
       "        vertical-align: middle;\n",
       "    }\n",
       "\n",
       "    .dataframe tbody tr th {\n",
       "        vertical-align: top;\n",
       "    }\n",
       "\n",
       "    .dataframe thead th {\n",
       "        text-align: right;\n",
       "    }\n",
       "</style>\n",
       "<table border=\"1\" class=\"dataframe\">\n",
       "  <thead>\n",
       "    <tr style=\"text-align: right;\">\n",
       "      <th></th>\n",
       "      <th>회사명</th>\n",
       "      <th>거래소코드</th>\n",
       "      <th>회계년도</th>\n",
       "      <th>매출액(IFRS연결)</th>\n",
       "      <th>자산(IFRS연결)</th>\n",
       "      <th>매출액(IFRS개별)</th>\n",
       "      <th>자산(IFRS개별)</th>\n",
       "    </tr>\n",
       "  </thead>\n",
       "  <tbody>\n",
       "    <tr>\n",
       "      <th>0</th>\n",
       "      <td>(주)CMG제약</td>\n",
       "      <td>58820</td>\n",
       "      <td>Dec-11</td>\n",
       "      <td>17751704.0</td>\n",
       "      <td>27305198.0</td>\n",
       "      <td>17751704.0</td>\n",
       "      <td>27548539.0</td>\n",
       "    </tr>\n",
       "  </tbody>\n",
       "</table>\n",
       "</div>"
      ],
      "text/plain": [
       "        회사명  거래소코드    회계년도  매출액(IFRS연결)  자산(IFRS연결)  매출액(IFRS개별)  자산(IFRS개별)\n",
       "0  (주)CMG제약  58820  Dec-11   17751704.0  27305198.0   17751704.0  27548539.0"
      ]
     },
     "execution_count": 146,
     "metadata": {},
     "output_type": "execute_result"
    }
   ],
   "source": [
    "# 총자산 회전율\n",
    "total_money_turn.head(1)"
   ]
  },
  {
   "cell_type": "code",
   "execution_count": 147,
   "metadata": {},
   "outputs": [],
   "source": [
    "cal_div(total_money_turn, \"매출액(IFRS개별)\", \"자산(IFRS개별)\", \"총자산회전율(개별)\")\n",
    "cal_div(total_money_turn, \"매출액(IFRS연결)\", \"자산(IFRS연결)\", \"총자산회전율(연결)\")\n",
    "total_money_turn.to_csv(\"../csv_data/use/총자산회전율_전처리.csv\", encoding=\"CP949\")"
   ]
  },
  {
   "cell_type": "code",
   "execution_count": 148,
   "metadata": {},
   "outputs": [
    {
     "data": {
      "text/html": [
       "<div>\n",
       "<style scoped>\n",
       "    .dataframe tbody tr th:only-of-type {\n",
       "        vertical-align: middle;\n",
       "    }\n",
       "\n",
       "    .dataframe tbody tr th {\n",
       "        vertical-align: top;\n",
       "    }\n",
       "\n",
       "    .dataframe thead th {\n",
       "        text-align: right;\n",
       "    }\n",
       "</style>\n",
       "<table border=\"1\" class=\"dataframe\">\n",
       "  <thead>\n",
       "    <tr style=\"text-align: right;\">\n",
       "      <th></th>\n",
       "      <th>회사명</th>\n",
       "      <th>거래소코드</th>\n",
       "      <th>회계년도</th>\n",
       "      <th>매출액(IFRS연결)</th>\n",
       "      <th>재고자산(IFRS연결)</th>\n",
       "      <th>매출액(IFRS개별)</th>\n",
       "      <th>재고자산(IFRS개별)</th>\n",
       "    </tr>\n",
       "  </thead>\n",
       "  <tbody>\n",
       "    <tr>\n",
       "      <th>0</th>\n",
       "      <td>(주)CMG제약</td>\n",
       "      <td>58820</td>\n",
       "      <td>Dec-11</td>\n",
       "      <td>17751704.0</td>\n",
       "      <td>2743103.0</td>\n",
       "      <td>17751704.0</td>\n",
       "      <td>2743103.0</td>\n",
       "    </tr>\n",
       "  </tbody>\n",
       "</table>\n",
       "</div>"
      ],
      "text/plain": [
       "        회사명  거래소코드    회계년도  매출액(IFRS연결)  재고자산(IFRS연결)  매출액(IFRS개별)  \\\n",
       "0  (주)CMG제약  58820  Dec-11   17751704.0     2743103.0   17751704.0   \n",
       "\n",
       "   재고자산(IFRS개별)  \n",
       "0     2743103.0  "
      ]
     },
     "execution_count": 148,
     "metadata": {},
     "output_type": "execute_result"
    }
   ],
   "source": [
    "# 재고자산 회전율\n",
    "jego_money_turn.head(1)"
   ]
  },
  {
   "cell_type": "code",
   "execution_count": 149,
   "metadata": {},
   "outputs": [],
   "source": [
    "cal_div(jego_money_turn, \"매출액(IFRS개별)\", \"재고자산(IFRS개별)\", \"재고자산회전율(개별)\")\n",
    "cal_div(jego_money_turn, \"매출액(IFRS연결)\", \"재고자산(IFRS연결)\", \"재고자산회전율(연결)\")\n",
    "jego_money_turn.to_csv(\"../csv_data/use/재고자산회전율_전처리.csv\", encoding=\"CP949\")"
   ]
  },
  {
   "cell_type": "code",
   "execution_count": 150,
   "metadata": {},
   "outputs": [
    {
     "data": {
      "text/html": [
       "<div>\n",
       "<style scoped>\n",
       "    .dataframe tbody tr th:only-of-type {\n",
       "        vertical-align: middle;\n",
       "    }\n",
       "\n",
       "    .dataframe tbody tr th {\n",
       "        vertical-align: top;\n",
       "    }\n",
       "\n",
       "    .dataframe thead th {\n",
       "        text-align: right;\n",
       "    }\n",
       "</style>\n",
       "<table border=\"1\" class=\"dataframe\">\n",
       "  <thead>\n",
       "    <tr style=\"text-align: right;\">\n",
       "      <th></th>\n",
       "      <th>회사명</th>\n",
       "      <th>거래소코드</th>\n",
       "      <th>회계년도</th>\n",
       "      <th>매출액(IFRS연결)</th>\n",
       "      <th>매출채권(IFRS연결)</th>\n",
       "      <th>매출액(IFRS개별)</th>\n",
       "      <th>매출채권(IFRS개별)</th>\n",
       "    </tr>\n",
       "  </thead>\n",
       "  <tbody>\n",
       "    <tr>\n",
       "      <th>0</th>\n",
       "      <td>(주)CMG제약</td>\n",
       "      <td>58820</td>\n",
       "      <td>Dec-11</td>\n",
       "      <td>17751704.0</td>\n",
       "      <td>11050219.0</td>\n",
       "      <td>17751704.0</td>\n",
       "      <td>11050219.0</td>\n",
       "    </tr>\n",
       "  </tbody>\n",
       "</table>\n",
       "</div>"
      ],
      "text/plain": [
       "        회사명  거래소코드    회계년도  매출액(IFRS연결)  매출채권(IFRS연결)  매출액(IFRS개별)  \\\n",
       "0  (주)CMG제약  58820  Dec-11   17751704.0    11050219.0   17751704.0   \n",
       "\n",
       "   매출채권(IFRS개별)  \n",
       "0    11050219.0  "
      ]
     },
     "execution_count": 150,
     "metadata": {},
     "output_type": "execute_result"
    }
   ],
   "source": [
    "# 매출채권 회전율\n",
    "income_money_turn.head(1)"
   ]
  },
  {
   "cell_type": "code",
   "execution_count": 151,
   "metadata": {},
   "outputs": [],
   "source": [
    "cal_div(income_money_turn, \"매출액(IFRS개별)\", \"매출채권(IFRS개별)\", \"매출채권회전율(개별)\")\n",
    "cal_div(income_money_turn, \"매출액(IFRS연결)\", \"매출채권(IFRS연결)\", \"매출채권회전율(연결)\")\n",
    "income_money_turn.to_csv(\"../csv_data/use/매출채권회전율_전처리.csv\", encoding=\"CP949\")"
   ]
  },
  {
   "cell_type": "code",
   "execution_count": 152,
   "metadata": {},
   "outputs": [
    {
     "data": {
      "text/html": [
       "<div>\n",
       "<style scoped>\n",
       "    .dataframe tbody tr th:only-of-type {\n",
       "        vertical-align: middle;\n",
       "    }\n",
       "\n",
       "    .dataframe tbody tr th {\n",
       "        vertical-align: top;\n",
       "    }\n",
       "\n",
       "    .dataframe thead th {\n",
       "        text-align: right;\n",
       "    }\n",
       "</style>\n",
       "<table border=\"1\" class=\"dataframe\">\n",
       "  <thead>\n",
       "    <tr style=\"text-align: right;\">\n",
       "      <th></th>\n",
       "      <th>회사명</th>\n",
       "      <th>거래소코드</th>\n",
       "      <th>회계년도</th>\n",
       "      <th>매출액(IFRS연결)</th>\n",
       "      <th>유형자산(IFRS연결)</th>\n",
       "      <th>매출액(IFRS개별)</th>\n",
       "      <th>유형자산(IFRS개별)</th>\n",
       "    </tr>\n",
       "  </thead>\n",
       "  <tbody>\n",
       "    <tr>\n",
       "      <th>0</th>\n",
       "      <td>(주)CMG제약</td>\n",
       "      <td>58820</td>\n",
       "      <td>Dec-11</td>\n",
       "      <td>17751704.0</td>\n",
       "      <td>9707759.0</td>\n",
       "      <td>17751704.0</td>\n",
       "      <td>9652599.0</td>\n",
       "    </tr>\n",
       "  </tbody>\n",
       "</table>\n",
       "</div>"
      ],
      "text/plain": [
       "        회사명  거래소코드    회계년도  매출액(IFRS연결)  유형자산(IFRS연결)  매출액(IFRS개별)  \\\n",
       "0  (주)CMG제약  58820  Dec-11   17751704.0     9707759.0   17751704.0   \n",
       "\n",
       "   유형자산(IFRS개별)  \n",
       "0     9652599.0  "
      ]
     },
     "execution_count": 152,
     "metadata": {},
     "output_type": "execute_result"
    }
   ],
   "source": [
    "# 유형자산 회전율\n",
    "u_money_turn.head(1)"
   ]
  },
  {
   "cell_type": "code",
   "execution_count": 153,
   "metadata": {},
   "outputs": [],
   "source": [
    "cal_div(u_money_turn, \"매출액(IFRS개별)\", \"유형자산(IFRS개별)\", \"유형자산회전율(개별)\")\n",
    "cal_div(u_money_turn, \"매출액(IFRS연결)\", \"유형자산(IFRS연결)\", \"유형자산회전율(연결)\")\n",
    "u_money_turn.to_csv(\"../csv_data/use/유형자산회전율_전처리.csv\", encoding=\"CP949\")"
   ]
  },
  {
   "cell_type": "code",
   "execution_count": 154,
   "metadata": {},
   "outputs": [
    {
     "data": {
      "text/html": [
       "<div>\n",
       "<style scoped>\n",
       "    .dataframe tbody tr th:only-of-type {\n",
       "        vertical-align: middle;\n",
       "    }\n",
       "\n",
       "    .dataframe tbody tr th {\n",
       "        vertical-align: top;\n",
       "    }\n",
       "\n",
       "    .dataframe thead th {\n",
       "        text-align: right;\n",
       "    }\n",
       "</style>\n",
       "<table border=\"1\" class=\"dataframe\">\n",
       "  <thead>\n",
       "    <tr style=\"text-align: right;\">\n",
       "      <th></th>\n",
       "      <th>회사명</th>\n",
       "      <th>거래소코드</th>\n",
       "      <th>회계년도</th>\n",
       "      <th>매출액(IFRS연결)</th>\n",
       "      <th>매입채무(IFRS연결)</th>\n",
       "      <th>매출액(IFRS개별)</th>\n",
       "      <th>매입채무(IFRS개별)</th>\n",
       "    </tr>\n",
       "  </thead>\n",
       "  <tbody>\n",
       "    <tr>\n",
       "      <th>0</th>\n",
       "      <td>(주)CMG제약</td>\n",
       "      <td>58820</td>\n",
       "      <td>Dec-11</td>\n",
       "      <td>17751704.0</td>\n",
       "      <td>1481481.0</td>\n",
       "      <td>17751704.0</td>\n",
       "      <td>1481481.0</td>\n",
       "    </tr>\n",
       "  </tbody>\n",
       "</table>\n",
       "</div>"
      ],
      "text/plain": [
       "        회사명  거래소코드    회계년도  매출액(IFRS연결)  매입채무(IFRS연결)  매출액(IFRS개별)  \\\n",
       "0  (주)CMG제약  58820  Dec-11   17751704.0     1481481.0   17751704.0   \n",
       "\n",
       "   매입채무(IFRS개별)  \n",
       "0     1481481.0  "
      ]
     },
     "execution_count": 154,
     "metadata": {},
     "output_type": "execute_result"
    }
   ],
   "source": [
    "# 매입채무 회전율\n",
    "maep_money_turn.head(1)"
   ]
  },
  {
   "cell_type": "code",
   "execution_count": 155,
   "metadata": {},
   "outputs": [],
   "source": [
    "cal_div(maep_money_turn, \"매출액(IFRS개별)\", \"매입채무(IFRS개별)\", \"매입채무회전율(개별)\")\n",
    "cal_div(maep_money_turn, \"매출액(IFRS연결)\", \"매입채무(IFRS연결)\", \"매입채무회전율(연결)\")\n",
    "maep_money_turn.to_csv(\"../csv_data/use/매입채무회전율_전처리.csv\", encoding=\"CP949\")"
   ]
  },
  {
   "cell_type": "code",
   "execution_count": 156,
   "metadata": {},
   "outputs": [
    {
     "data": {
      "text/html": [
       "<div>\n",
       "<style scoped>\n",
       "    .dataframe tbody tr th:only-of-type {\n",
       "        vertical-align: middle;\n",
       "    }\n",
       "\n",
       "    .dataframe tbody tr th {\n",
       "        vertical-align: top;\n",
       "    }\n",
       "\n",
       "    .dataframe thead th {\n",
       "        text-align: right;\n",
       "    }\n",
       "</style>\n",
       "<table border=\"1\" class=\"dataframe\">\n",
       "  <thead>\n",
       "    <tr style=\"text-align: right;\">\n",
       "      <th></th>\n",
       "      <th>회사명</th>\n",
       "      <th>거래소코드</th>\n",
       "      <th>회계년도</th>\n",
       "      <th>매출액(IFRS연결)</th>\n",
       "      <th>자본(IFRS연결)</th>\n",
       "      <th>매출액(IFRS개별)</th>\n",
       "      <th>자본(IFRS개별)</th>\n",
       "    </tr>\n",
       "  </thead>\n",
       "  <tbody>\n",
       "    <tr>\n",
       "      <th>0</th>\n",
       "      <td>(주)CMG제약</td>\n",
       "      <td>58820</td>\n",
       "      <td>Dec-11</td>\n",
       "      <td>17751704.0</td>\n",
       "      <td>18034249.0</td>\n",
       "      <td>17751704.0</td>\n",
       "      <td>18290915.0</td>\n",
       "    </tr>\n",
       "  </tbody>\n",
       "</table>\n",
       "</div>"
      ],
      "text/plain": [
       "        회사명  거래소코드    회계년도  매출액(IFRS연결)  자본(IFRS연결)  매출액(IFRS개별)  자본(IFRS개별)\n",
       "0  (주)CMG제약  58820  Dec-11   17751704.0  18034249.0   17751704.0  18290915.0"
      ]
     },
     "execution_count": 156,
     "metadata": {},
     "output_type": "execute_result"
    }
   ],
   "source": [
    "# 자기자본 회전율\n",
    "self_jabon_turn.head(1)"
   ]
  },
  {
   "cell_type": "code",
   "execution_count": 157,
   "metadata": {},
   "outputs": [],
   "source": [
    "cal_div(self_jabon_turn, \"매출액(IFRS개별)\", \"자본(IFRS개별)\", \"자기자본회전율(개별)\")\n",
    "cal_div(self_jabon_turn, \"매출액(IFRS연결)\", \"자본(IFRS연결)\", \"자기자본회전율(연결)\")\n",
    "self_jabon_turn.to_csv(\"../csv_data/use/자기자본회전율_전처리.csv\", encoding=\"CP949\")"
   ]
  },
  {
   "cell_type": "code",
   "execution_count": 158,
   "metadata": {},
   "outputs": [
    {
     "data": {
      "text/html": [
       "<div>\n",
       "<style scoped>\n",
       "    .dataframe tbody tr th:only-of-type {\n",
       "        vertical-align: middle;\n",
       "    }\n",
       "\n",
       "    .dataframe tbody tr th {\n",
       "        vertical-align: top;\n",
       "    }\n",
       "\n",
       "    .dataframe thead th {\n",
       "        text-align: right;\n",
       "    }\n",
       "</style>\n",
       "<table border=\"1\" class=\"dataframe\">\n",
       "  <thead>\n",
       "    <tr style=\"text-align: right;\">\n",
       "      <th></th>\n",
       "      <th>회사명</th>\n",
       "      <th>거래소코드</th>\n",
       "      <th>회계년도</th>\n",
       "      <th>매출액(IFRS연결)</th>\n",
       "      <th>부채(IFRS연결)</th>\n",
       "      <th>매출액(IFRS개별)</th>\n",
       "      <th>부채(IFRS개별)</th>\n",
       "    </tr>\n",
       "  </thead>\n",
       "  <tbody>\n",
       "    <tr>\n",
       "      <th>0</th>\n",
       "      <td>(주)CMG제약</td>\n",
       "      <td>58820</td>\n",
       "      <td>Dec-11</td>\n",
       "      <td>17751704.0</td>\n",
       "      <td>9270949.0</td>\n",
       "      <td>17751704.0</td>\n",
       "      <td>9257624.0</td>\n",
       "    </tr>\n",
       "  </tbody>\n",
       "</table>\n",
       "</div>"
      ],
      "text/plain": [
       "        회사명  거래소코드    회계년도  매출액(IFRS연결)  부채(IFRS연결)  매출액(IFRS개별)  부채(IFRS개별)\n",
       "0  (주)CMG제약  58820  Dec-11   17751704.0   9270949.0   17751704.0   9257624.0"
      ]
     },
     "execution_count": 158,
     "metadata": {},
     "output_type": "execute_result"
    }
   ],
   "source": [
    "# 타인자본 회전율(부채?)\n",
    "other_jabon_turn.head(1)"
   ]
  },
  {
   "cell_type": "code",
   "execution_count": 159,
   "metadata": {},
   "outputs": [],
   "source": [
    "cal_div(other_jabon_turn, \"매출액(IFRS개별)\", \"부채(IFRS개별)\", \"타인자본회전율(개별)\")\n",
    "cal_div(other_jabon_turn, \"매출액(IFRS연결)\", \"부채(IFRS연결)\", \"타인자본회전율(연결)\")\n",
    "other_jabon_turn.to_csv(\"../csv_data/use/자기자본회전율_전처리.csv\", encoding=\"CP949\")"
   ]
  }
 ],
 "metadata": {
  "kernelspec": {
   "display_name": "Python 3.10.4 64-bit",
   "language": "python",
   "name": "python3"
  },
  "language_info": {
   "codemirror_mode": {
    "name": "ipython",
    "version": 3
   },
   "file_extension": ".py",
   "mimetype": "text/x-python",
   "name": "python",
   "nbconvert_exporter": "python",
   "pygments_lexer": "ipython3",
   "version": "3.10.4"
  },
  "orig_nbformat": 4,
  "vscode": {
   "interpreter": {
    "hash": "d45b7667f15187787b62e9d1c54e096de9a2222ecb594bc9f5d6366f2c4af4e5"
   }
  }
 },
 "nbformat": 4,
 "nbformat_minor": 2
}
