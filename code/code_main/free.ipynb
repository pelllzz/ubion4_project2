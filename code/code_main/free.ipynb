{
 "cells": [
  {
   "cell_type": "code",
   "execution_count": 1,
   "metadata": {},
   "outputs": [],
   "source": [
    "import pandas as pd\n",
    "import numpy as np"
   ]
  },
  {
   "cell_type": "code",
   "execution_count": 2,
   "metadata": {},
   "outputs": [
    {
     "data": {
      "text/html": [
       "<div>\n",
       "<style scoped>\n",
       "    .dataframe tbody tr th:only-of-type {\n",
       "        vertical-align: middle;\n",
       "    }\n",
       "\n",
       "    .dataframe tbody tr th {\n",
       "        vertical-align: top;\n",
       "    }\n",
       "\n",
       "    .dataframe thead th {\n",
       "        text-align: right;\n",
       "    }\n",
       "</style>\n",
       "<table border=\"1\" class=\"dataframe\">\n",
       "  <thead>\n",
       "    <tr style=\"text-align: right;\">\n",
       "      <th></th>\n",
       "      <th>회사명</th>\n",
       "      <th>거래소코드</th>\n",
       "      <th>회계년도</th>\n",
       "      <th>이자보상배율</th>\n",
       "      <th>총자산증가율</th>\n",
       "      <th>유형자산증가율</th>\n",
       "      <th>유동자산증가율</th>\n",
       "      <th>자기자본증가율</th>\n",
       "      <th>매출액증가율</th>\n",
       "      <th>매출액총이익율</th>\n",
       "      <th>...</th>\n",
       "      <th>R &amp; D 투자효율</th>\n",
       "      <th>통계청 한국표준산업분류 10차(소분류)</th>\n",
       "      <th>매출원가감소율여부</th>\n",
       "      <th>배당금감소율여부</th>\n",
       "      <th>변화율여부</th>\n",
       "      <th>직원감소율여부</th>\n",
       "      <th>자본증가율여부</th>\n",
       "      <th>투자활동감소율여부</th>\n",
       "      <th>회생기업1</th>\n",
       "      <th>회생기업2</th>\n",
       "    </tr>\n",
       "  </thead>\n",
       "  <tbody>\n",
       "    <tr>\n",
       "      <th>0</th>\n",
       "      <td>CMG제약</td>\n",
       "      <td>58820</td>\n",
       "      <td>2011</td>\n",
       "      <td>3.53</td>\n",
       "      <td>1.98</td>\n",
       "      <td>-5.90</td>\n",
       "      <td>17.64</td>\n",
       "      <td>-2.02</td>\n",
       "      <td>56.40</td>\n",
       "      <td>41.83</td>\n",
       "      <td>...</td>\n",
       "      <td>0.13</td>\n",
       "      <td>의약품 제조업</td>\n",
       "      <td>1</td>\n",
       "      <td>0</td>\n",
       "      <td>0</td>\n",
       "      <td>0</td>\n",
       "      <td>0</td>\n",
       "      <td>0</td>\n",
       "      <td>0.0</td>\n",
       "      <td>0.0</td>\n",
       "    </tr>\n",
       "    <tr>\n",
       "      <th>1</th>\n",
       "      <td>CMG제약</td>\n",
       "      <td>58820</td>\n",
       "      <td>2012</td>\n",
       "      <td>-7.75</td>\n",
       "      <td>109.15</td>\n",
       "      <td>-4.12</td>\n",
       "      <td>207.08</td>\n",
       "      <td>75.17</td>\n",
       "      <td>-8.43</td>\n",
       "      <td>28.34</td>\n",
       "      <td>...</td>\n",
       "      <td>0.74</td>\n",
       "      <td>의약품 제조업</td>\n",
       "      <td>0</td>\n",
       "      <td>0</td>\n",
       "      <td>0</td>\n",
       "      <td>0</td>\n",
       "      <td>1</td>\n",
       "      <td>1</td>\n",
       "      <td>0.0</td>\n",
       "      <td>0.0</td>\n",
       "    </tr>\n",
       "    <tr>\n",
       "      <th>2</th>\n",
       "      <td>CMG제약</td>\n",
       "      <td>58820</td>\n",
       "      <td>2013</td>\n",
       "      <td>0.70</td>\n",
       "      <td>-2.09</td>\n",
       "      <td>16.09</td>\n",
       "      <td>-18.89</td>\n",
       "      <td>55.10</td>\n",
       "      <td>25.51</td>\n",
       "      <td>38.70</td>\n",
       "      <td>...</td>\n",
       "      <td>0.66</td>\n",
       "      <td>의약품 제조업</td>\n",
       "      <td>0</td>\n",
       "      <td>0</td>\n",
       "      <td>0</td>\n",
       "      <td>0</td>\n",
       "      <td>0</td>\n",
       "      <td>0</td>\n",
       "      <td>0.0</td>\n",
       "      <td>0.0</td>\n",
       "    </tr>\n",
       "  </tbody>\n",
       "</table>\n",
       "<p>3 rows × 58 columns</p>\n",
       "</div>"
      ],
      "text/plain": [
       "     회사명  거래소코드  회계년도  이자보상배율  총자산증가율  유형자산증가율  유동자산증가율  자기자본증가율  매출액증가율  \\\n",
       "0  CMG제약  58820  2011    3.53    1.98    -5.90    17.64    -2.02   56.40   \n",
       "1  CMG제약  58820  2012   -7.75  109.15    -4.12   207.08    75.17   -8.43   \n",
       "2  CMG제약  58820  2013    0.70   -2.09    16.09   -18.89    55.10   25.51   \n",
       "\n",
       "   매출액총이익율  ...  R & D 투자효율  통계청 한국표준산업분류 10차(소분류)  매출원가감소율여부  배당금감소율여부  \\\n",
       "0    41.83  ...        0.13                의약품 제조업          1         0   \n",
       "1    28.34  ...        0.74                의약품 제조업          0         0   \n",
       "2    38.70  ...        0.66                의약품 제조업          0         0   \n",
       "\n",
       "   변화율여부  직원감소율여부  자본증가율여부  투자활동감소율여부  회생기업1  회생기업2  \n",
       "0      0        0        0          0    0.0    0.0  \n",
       "1      0        0        1          1    0.0    0.0  \n",
       "2      0        0        0          0    0.0    0.0  \n",
       "\n",
       "[3 rows x 58 columns]"
      ]
     },
     "execution_count": 2,
     "metadata": {},
     "output_type": "execute_result"
    }
   ],
   "source": [
    "\n",
    "# Load Data\n",
    "df = pd.read_csv('../../csv_data/use/00_real_true_data.csv', thousands=\",\", encoding='CP949')\n",
    "df['회계년도'] = pd.to_datetime(df['회계년도'], format='%Y-%m').dt.strftime('%Y')\n",
    "df.head(3)"
   ]
  },
  {
   "cell_type": "code",
   "execution_count": null,
   "metadata": {},
   "outputs": [],
   "source": [
    "count = 0\n",
    "company = df.iloc[0]['회사명']\n",
    "\n",
    "for i in range(0, len(df)):\n",
    "    if df.iloc[i]['이자보상배율'] < 1:\n",
    "        df.loc[i, '부실기업'] = 1\n",
    "        count += 1\n",
    "    else:\n",
    "        df.loc[i, '부실기업'] = 0"
   ]
  },
  {
   "cell_type": "code",
   "execution_count": 21,
   "metadata": {},
   "outputs": [
    {
     "data": {
      "text/plain": [
       "pandas.core.groupby.generic.DataFrameGroupBy"
      ]
     },
     "execution_count": 21,
     "metadata": {},
     "output_type": "execute_result"
    }
   ],
   "source": [
    "df_x = df.groupby('통계청 한국표준산업분류 10차(소분류)')\n",
    "type(df_x)"
   ]
  },
  {
   "cell_type": "code",
   "execution_count": 31,
   "metadata": {},
   "outputs": [],
   "source": [
    "df_xx = df_x.sum()"
   ]
  },
  {
   "cell_type": "code",
   "execution_count": 39,
   "metadata": {},
   "outputs": [],
   "source": [
    "df_xx[['회생기업1', '회생기업2']].to_csv(\"check_company.csv\", encoding=\"CP949\")"
   ]
  }
 ],
 "metadata": {
  "kernelspec": {
   "display_name": "Python 3.10.4 64-bit",
   "language": "python",
   "name": "python3"
  },
  "language_info": {
   "codemirror_mode": {
    "name": "ipython",
    "version": 3
   },
   "file_extension": ".py",
   "mimetype": "text/x-python",
   "name": "python",
   "nbconvert_exporter": "python",
   "pygments_lexer": "ipython3",
   "version": "3.10.4"
  },
  "orig_nbformat": 4,
  "vscode": {
   "interpreter": {
    "hash": "d45b7667f15187787b62e9d1c54e096de9a2222ecb594bc9f5d6366f2c4af4e5"
   }
  }
 },
 "nbformat": 4,
 "nbformat_minor": 2
}
