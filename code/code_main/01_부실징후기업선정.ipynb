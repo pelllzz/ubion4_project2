{
 "cells": [
  {
   "cell_type": "code",
   "execution_count": 1,
   "metadata": {},
   "outputs": [],
   "source": [
    "# 필수(?) 라이브러리 호출\n",
    "import pandas as pd\n",
    "import numpy as np"
   ]
  },
  {
   "cell_type": "code",
   "execution_count": 2,
   "metadata": {},
   "outputs": [],
   "source": [
    "# 경고가 많아지면 곤란해서 추가\n",
    "import warnings\n",
    "warnings.filterwarnings('ignore')"
   ]
  },
  {
   "cell_type": "code",
   "execution_count": null,
   "metadata": {},
   "outputs": [],
   "source": [
    "# 일단 분석할 데이터를 가져오는데\n",
    "df = pd.read_csv(\"../raw_data/전체데이터_2011_코스피코스닥_v1.2.csv\", thousands=',', encoding=\"CP949\").reset_index(drop=True)\n",
    "df"
   ]
  },
  {
   "cell_type": "code",
   "execution_count": null,
   "metadata": {},
   "outputs": [],
   "source": [
    "# csv 한바퀴 돌립니다\n",
    "for i in range(0,len(df)):\n",
    "\n",
    "    # 개별 재무제표에 결측치가 없다면\n",
    "    if not pd.isna(df.iloc[i]['이자보상배율(이자비용)(IFRS)']):\n",
    "        # 연결 재무제표에도 결측치가 없다면\n",
    "        if not pd.isna(df.iloc[i]['이자보상배율(이자비용)(IFRS연결)']):\n",
    "            # 연결 재무제표 삽입\n",
    "            df.loc[i, \"이자보상배율\"] = df.iloc[i]['이자보상배율(이자비용)(IFRS연결)']\n",
    "\n",
    "        # 연결 재무제표가 결측치라면\n",
    "        else:\n",
    "            # 개별 재무제표 삽입\n",
    "            df.loc[i, \"이자보상배율\"] = df.iloc[i]['이자보상배율(이자비용)(IFRS)']\n",
    "\n",
    "    # 개별 재무제표에 결측치가 있다면\n",
    "    else:\n",
    "        # 연결 재무제표에 결측치가 없다면\n",
    "        if not pd.isna(df.iloc[i]['이자보상배율(이자비용)(IFRS연결)']):\n",
    "            # 연결 재무제표 삽입\n",
    "            df.loc[i, \"이자보상배율\"] = df.iloc[i]['이자보상배율(이자비용)(IFRS연결)']\n",
    "\n",
    "        # 둘 다 결측치가 존재하는 경우 통과\n",
    "        else:\n",
    "            pass"
   ]
  },
  {
   "cell_type": "code",
   "execution_count": null,
   "metadata": {},
   "outputs": [],
   "source": [
    "# 우리가 앞으로 작업을 엄청나게 복잡하게 할 걸 생각하면\n",
    "# 중간중간 결과들을 데이터프레임으로 만들고 빼주는 게 좋습니다\n",
    "df_2 = df[['회사명', '거래소코드', '회계년도', '이자보상배율']]\n",
    "df_2"
   ]
  },
  {
   "cell_type": "code",
   "execution_count": null,
   "metadata": {},
   "outputs": [],
   "source": [
    "# # 일단 우리의 소중한 결과물을 빼놓도록 하죠\n",
    "# # 버전 올리는 거 잊지 마세요\n",
    "\n",
    "# df_2.to_csv(\"../csv_data/이자보상배율_v1.0.csv\", encoding=\"CP949\")"
   ]
  },
  {
   "cell_type": "code",
   "execution_count": null,
   "metadata": {},
   "outputs": [],
   "source": [
    "df_2['회계년도'] = pd.to_datetime(df_2['회계년도'].str.upper(), format=\"%d-%b\", yearfirst=False).dt.strftime(\"20%d\")\n",
    "#df_2['부실기업'] = 0"
   ]
  },
  {
   "cell_type": "code",
   "execution_count": null,
   "metadata": {},
   "outputs": [],
   "source": [
    "# 2년 연속일 때 컷\n",
    "f_test = []\n",
    "count = 0\n",
    "company = df_2.iloc[0]['회사명']\n",
    "\n",
    "for i in range(0, len(df_2)):\n",
    "\n",
    "    # 회사명 다르면\n",
    "    if company != df_2.iloc[i]['회사명']:\n",
    "        # 회사명 기록하고\n",
    "        company = df_2.iloc[i]['회사명']\n",
    "        # 카운트 초기화하고\n",
    "        count = 0\n",
    "\n",
    "    # 2년 연속 걸릴 때\n",
    "    if count == 2 :\n",
    "        #df_2.loc[i, '부실기업'] = 1\n",
    "        continue\n",
    "\n",
    "    # 기록은 기록대로 다시 하고\n",
    "    if df_2.iloc[i]['이자보상배율'] < 1:\n",
    "        count += 1\n",
    "    else:\n",
    "        count = 0\n",
    "\n",
    "    f_test.append(df_2.loc[i])\n",
    "    #print(i, count)"
   ]
  },
  {
   "cell_type": "code",
   "execution_count": null,
   "metadata": {},
   "outputs": [],
   "source": [
    "# 전체 기록\n",
    "f_test_x = []\n",
    "count = 0\n",
    "company = df_2.iloc[0]['회사명']\n",
    "\n",
    "for i in range(0, len(df_2)):\n",
    "\n",
    "    # 회사명 다르면\n",
    "    if company != df_2.iloc[i]['회사명']:\n",
    "        # 회사명 기록하고\n",
    "        company = df_2.iloc[i]['회사명']\n",
    "        # 카운트 초기화하고\n",
    "        count = 0\n",
    "\n",
    "    #df_2.loc[i, 'count'] = count\n",
    "\n",
    "    # 이자보상배율이 0이면 탈출\n",
    "    if df_2.iloc[i]['이자보상배율'] == 0:\n",
    "        df_2.loc[i, '부실기업'] = 0\n",
    "        f_test_x.append(df_2.loc[i])\n",
    "        count = 0\n",
    "        continue\n",
    "\n",
    "    elif df_2.iloc[i]['이자보상배율'] < 1:\n",
    "         count += 1\n",
    "\n",
    "    else:\n",
    "        count = 0\n",
    "\n",
    "    # 이자보상배율에 따라 부실기업 여부 설정\n",
    "    if count > 1 and df_2.iloc[i]['이자보상배율'] >= 1:\n",
    "        df_2.loc[i, '부실기업'] = 0\n",
    "        pass\n",
    "\n",
    "    elif count > 1 and df_2.iloc[i]['이자보상배율'] < 1:\n",
    "        df_2.loc[i, '부실기업'] = 1\n",
    "\n",
    "    f_test_x.append(df_2.loc[i])\n",
    "    #print(i, count)"
   ]
  },
  {
   "cell_type": "code",
   "execution_count": null,
   "metadata": {},
   "outputs": [],
   "source": [
    "# 리스트 저장하기\n",
    "pd.DataFrame(f_test_x).to_csv(\"checking2.csv\", encoding=\"CP949\")"
   ]
  },
  {
   "cell_type": "code",
   "execution_count": null,
   "metadata": {},
   "outputs": [],
   "source": [
    "# 현재 데이터 기준으로 부실징후기업과 2년 연속 이.보.배 1 미만인 기업을 찾을 겁니다\n",
    "\n",
    "f_company = [] # 부실징후기업을 저장하는 리스트\n",
    "f_company_x = [] # 2년 연속 이자보상배율 1 미만인 기업 삽입\n",
    "f_year = [] # 1년째 최초 연도\n",
    "f_year_x = [] # 2년째 최초 연도\n",
    "count = 0 # 부실징후기업 카운트용\n",
    "company = 'x' # 부실징후기업 기록용\n",
    "\n",
    "# 이거도 csv 한바퀴 돌립니다\n",
    "for i in range(0, len(df_2)):\n",
    "\n",
    "    # 회사명이 이미 기록된 상태에서 또 중복으로 적을 필요는 없습니다\n",
    "    if company == df.iloc[i]['회사명']:\n",
    "        # 다만 그 기업이 부실징후기업인데\n",
    "        if count > 1:\n",
    "            # 2년 연속이네요? 기록!!!\n",
    "            if df_2.iloc[i]['이자보상배율'] < 1:\n",
    "                f_company_x.append(company)\n",
    "                f_year_x.append(df.iloc[i]['회계년도'])\n",
    "                count = 0\n",
    "\n",
    "                # 반복문에서 볼일 다 끝났으니 통과합니다\n",
    "                continue\n",
    "\n",
    "        # 그게 아니라면 반복문을 통과합니다\n",
    "        continue\n",
    "\n",
    "    # 이자보상배율이 1 미만인 경우 카운트를 늘립니다\n",
    "    if df_2.iloc[i]['이자보상배율'] < 1:\n",
    "            count += 1\n",
    "    # 도중에 이자보상배율이 1 미만이면 탈출합니다\n",
    "    else:\n",
    "        count = 0\n",
    "\n",
    "    # 한계 기업 클럽에 오셨습니다. 환영합니다.\n",
    "    if count == 1:\n",
    "        company = df_2.iloc[i]['회사명']\n",
    "        f_company.append(company)\n",
    "        f_year.append(df.iloc[i]['회계년도'])\n",
    "        count += 1"
   ]
  },
  {
   "cell_type": "code",
   "execution_count": null,
   "metadata": {},
   "outputs": [],
   "source": [
    "# 분명히 이거보다 더 좋은 방법이 있을건데\n",
    "# 맷돌이 굴러가질 않네요\n",
    "\n",
    "# 이건 f_company 리스트에 들어잇는 데이터와 일치하면 True, 아니면 False를 반환합니다\n",
    "df_4 = df_2.isin(f_company)\n",
    "df_4"
   ]
  },
  {
   "cell_type": "code",
   "execution_count": null,
   "metadata": {},
   "outputs": [],
   "source": [
    "df_5 = [] # 임시 저장용 리스트\n",
    "\n",
    "# 그렇게 만든 데이터프레임을 기존과 비교해서 True인 애들만 뽑아옵니다\n",
    "for i in range(0, len(df_4)-1):\n",
    "    if df_4.iloc[i][\"회사명\"] == True:\n",
    "        df_5.append(df_2.loc[i])\n",
    "\n",
    "# 그리고 저장을 합니다\n",
    "df_5_frame = pd.DataFrame(df_5).reset_index(drop=True)\n",
    "# df_5_frame.to_csv(\"../csv_data/한계기업후보v2.csv\", encoding=\"CP949\")"
   ]
  },
  {
   "cell_type": "code",
   "execution_count": null,
   "metadata": {},
   "outputs": [],
   "source": [
    "# 2년 연속 이자 보상 배율이 1 미만인 기업들도 똑같이 해봅니다\n",
    "\n",
    "df_6 = df_2.isin(f_company_x)\n",
    "df_7 = []\n",
    "\n",
    "for i in range(0, len(df_6)-1):\n",
    "    if df_6.iloc[i][\"회사명\"] == True:\n",
    "        df_7.append(df_2.loc[i])\n",
    "\n",
    "df_7_frame = pd.DataFrame(df_7).reset_index(drop=True)\n",
    "\n",
    "# # 중간중간 저장은 선택이 아닌 필수\n",
    "# df_7_frame.to_csv(\"../csv_data/회생불가1차_v1.csv\", encoding=\"CP949\")"
   ]
  },
  {
   "cell_type": "code",
   "execution_count": null,
   "metadata": {},
   "outputs": [],
   "source": [
    "# 한계기업 후보 리스트가 어쨌든 메인이고\n",
    "# 그 안에서 우리는 부실기업을 찾자는 것이고\n",
    "df_5_frame['부실기업'] = 0\n",
    "df_9 = df_5_frame.isin(df_7_frame)\n",
    "for i in range(0, len(df_5_frame)):\n",
    "    if df_9.iloc[i]['회사명'] == True:\n",
    "        df_5_frame.loc[i, '부실기업'] = 1\n",
    "df_5_frame"
   ]
  }
 ],
 "metadata": {
  "kernelspec": {
   "display_name": "Python 3.10.4 64-bit",
   "language": "python",
   "name": "python3"
  },
  "language_info": {
   "codemirror_mode": {
    "name": "ipython",
    "version": 3
   },
   "file_extension": ".py",
   "mimetype": "text/x-python",
   "name": "python",
   "nbconvert_exporter": "python",
   "pygments_lexer": "ipython3",
   "version": "3.10.4"
  },
  "orig_nbformat": 4,
  "vscode": {
   "interpreter": {
    "hash": "d45b7667f15187787b62e9d1c54e096de9a2222ecb594bc9f5d6366f2c4af4e5"
   }
  }
 },
 "nbformat": 4,
 "nbformat_minor": 2
}
