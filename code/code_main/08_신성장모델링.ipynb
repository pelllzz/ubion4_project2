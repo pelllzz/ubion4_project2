{
 "cells": [
  {
   "cell_type": "code",
   "execution_count": 553,
   "metadata": {},
   "outputs": [
    {
     "data": {
      "text/html": [
       "<div>\n",
       "<style scoped>\n",
       "    .dataframe tbody tr th:only-of-type {\n",
       "        vertical-align: middle;\n",
       "    }\n",
       "\n",
       "    .dataframe tbody tr th {\n",
       "        vertical-align: top;\n",
       "    }\n",
       "\n",
       "    .dataframe thead th {\n",
       "        text-align: right;\n",
       "    }\n",
       "</style>\n",
       "<table border=\"1\" class=\"dataframe\">\n",
       "  <thead>\n",
       "    <tr style=\"text-align: right;\">\n",
       "      <th></th>\n",
       "      <th>회사명</th>\n",
       "      <th>거래소코드</th>\n",
       "      <th>회계년도</th>\n",
       "      <th>총자본영업이익율</th>\n",
       "      <th>자기자본순이익율</th>\n",
       "      <th>유동자산회전율</th>\n",
       "      <th>총자본투자효율</th>\n",
       "      <th>매출채권회전율</th>\n",
       "      <th>총자본회전율</th>\n",
       "      <th>유형자산회전율</th>\n",
       "      <th>...</th>\n",
       "      <th>R &amp; D 투자효율</th>\n",
       "      <th>경상개발비율</th>\n",
       "      <th>매출원가감소율여부</th>\n",
       "      <th>배당금감소율여부</th>\n",
       "      <th>변화율여부</th>\n",
       "      <th>직원감소율여부</th>\n",
       "      <th>자본증가율여부</th>\n",
       "      <th>투자활동감소율여부</th>\n",
       "      <th>기업수명주기</th>\n",
       "      <th>회생기업2</th>\n",
       "    </tr>\n",
       "  </thead>\n",
       "  <tbody>\n",
       "    <tr>\n",
       "      <th>0</th>\n",
       "      <td>(주)케이이씨</td>\n",
       "      <td>92220</td>\n",
       "      <td>201112</td>\n",
       "      <td>-5.42</td>\n",
       "      <td>-22.34</td>\n",
       "      <td>1.50</td>\n",
       "      <td>14.34</td>\n",
       "      <td>3.46</td>\n",
       "      <td>0.62</td>\n",
       "      <td>1.07</td>\n",
       "      <td>...</td>\n",
       "      <td>2.67</td>\n",
       "      <td>0.000000</td>\n",
       "      <td>0</td>\n",
       "      <td>0</td>\n",
       "      <td>0</td>\n",
       "      <td>0</td>\n",
       "      <td>0</td>\n",
       "      <td>0</td>\n",
       "      <td>1</td>\n",
       "      <td>0.0</td>\n",
       "    </tr>\n",
       "    <tr>\n",
       "      <th>1</th>\n",
       "      <td>(주)엠에스오토텍</td>\n",
       "      <td>123040</td>\n",
       "      <td>201112</td>\n",
       "      <td>7.17</td>\n",
       "      <td>1.65</td>\n",
       "      <td>1.73</td>\n",
       "      <td>17.32</td>\n",
       "      <td>3.49</td>\n",
       "      <td>0.75</td>\n",
       "      <td>1.37</td>\n",
       "      <td>...</td>\n",
       "      <td>0.00</td>\n",
       "      <td>0.000000</td>\n",
       "      <td>0</td>\n",
       "      <td>0</td>\n",
       "      <td>0</td>\n",
       "      <td>0</td>\n",
       "      <td>0</td>\n",
       "      <td>1</td>\n",
       "      <td>2</td>\n",
       "      <td>0.0</td>\n",
       "    </tr>\n",
       "    <tr>\n",
       "      <th>2</th>\n",
       "      <td>한올바이오파마(주)</td>\n",
       "      <td>9420</td>\n",
       "      <td>201112</td>\n",
       "      <td>-8.70</td>\n",
       "      <td>-27.45</td>\n",
       "      <td>1.19</td>\n",
       "      <td>14.52</td>\n",
       "      <td>2.64</td>\n",
       "      <td>0.76</td>\n",
       "      <td>8.38</td>\n",
       "      <td>...</td>\n",
       "      <td>8.62</td>\n",
       "      <td>0.047455</td>\n",
       "      <td>0</td>\n",
       "      <td>0</td>\n",
       "      <td>0</td>\n",
       "      <td>0</td>\n",
       "      <td>0</td>\n",
       "      <td>0</td>\n",
       "      <td>4</td>\n",
       "      <td>0.0</td>\n",
       "    </tr>\n",
       "    <tr>\n",
       "      <th>3</th>\n",
       "      <td>(주)세원물산</td>\n",
       "      <td>24830</td>\n",
       "      <td>201112</td>\n",
       "      <td>0.00</td>\n",
       "      <td>6.93</td>\n",
       "      <td>0.71</td>\n",
       "      <td>0.00</td>\n",
       "      <td>3.82</td>\n",
       "      <td>0.39</td>\n",
       "      <td>1.64</td>\n",
       "      <td>...</td>\n",
       "      <td>0.00</td>\n",
       "      <td>0.000000</td>\n",
       "      <td>0</td>\n",
       "      <td>0</td>\n",
       "      <td>0</td>\n",
       "      <td>0</td>\n",
       "      <td>0</td>\n",
       "      <td>0</td>\n",
       "      <td>2</td>\n",
       "      <td>0.0</td>\n",
       "    </tr>\n",
       "    <tr>\n",
       "      <th>4</th>\n",
       "      <td>피에스텍(주)</td>\n",
       "      <td>2230</td>\n",
       "      <td>201112</td>\n",
       "      <td>3.13</td>\n",
       "      <td>11.18</td>\n",
       "      <td>1.13</td>\n",
       "      <td>14.46</td>\n",
       "      <td>8.84</td>\n",
       "      <td>0.45</td>\n",
       "      <td>10.21</td>\n",
       "      <td>...</td>\n",
       "      <td>0.00</td>\n",
       "      <td>0.000000</td>\n",
       "      <td>0</td>\n",
       "      <td>0</td>\n",
       "      <td>0</td>\n",
       "      <td>0</td>\n",
       "      <td>0</td>\n",
       "      <td>0</td>\n",
       "      <td>4</td>\n",
       "      <td>0.0</td>\n",
       "    </tr>\n",
       "    <tr>\n",
       "      <th>...</th>\n",
       "      <td>...</td>\n",
       "      <td>...</td>\n",
       "      <td>...</td>\n",
       "      <td>...</td>\n",
       "      <td>...</td>\n",
       "      <td>...</td>\n",
       "      <td>...</td>\n",
       "      <td>...</td>\n",
       "      <td>...</td>\n",
       "      <td>...</td>\n",
       "      <td>...</td>\n",
       "      <td>...</td>\n",
       "      <td>...</td>\n",
       "      <td>...</td>\n",
       "      <td>...</td>\n",
       "      <td>...</td>\n",
       "      <td>...</td>\n",
       "      <td>...</td>\n",
       "      <td>...</td>\n",
       "      <td>...</td>\n",
       "      <td>...</td>\n",
       "    </tr>\n",
       "    <tr>\n",
       "      <th>2656</th>\n",
       "      <td>(주)투비소프트</td>\n",
       "      <td>79970</td>\n",
       "      <td>201912</td>\n",
       "      <td>-11.26</td>\n",
       "      <td>-39.97</td>\n",
       "      <td>0.89</td>\n",
       "      <td>10.48</td>\n",
       "      <td>2.46</td>\n",
       "      <td>0.42</td>\n",
       "      <td>15.68</td>\n",
       "      <td>...</td>\n",
       "      <td>6.32</td>\n",
       "      <td>0.000000</td>\n",
       "      <td>0</td>\n",
       "      <td>0</td>\n",
       "      <td>0</td>\n",
       "      <td>0</td>\n",
       "      <td>0</td>\n",
       "      <td>0</td>\n",
       "      <td>4</td>\n",
       "      <td>0.0</td>\n",
       "    </tr>\n",
       "    <tr>\n",
       "      <th>2657</th>\n",
       "      <td>(주)아이디스</td>\n",
       "      <td>143160</td>\n",
       "      <td>201912</td>\n",
       "      <td>1.97</td>\n",
       "      <td>1.26</td>\n",
       "      <td>0.89</td>\n",
       "      <td>21.55</td>\n",
       "      <td>4.55</td>\n",
       "      <td>0.67</td>\n",
       "      <td>7.50</td>\n",
       "      <td>...</td>\n",
       "      <td>6.12</td>\n",
       "      <td>0.000000</td>\n",
       "      <td>0</td>\n",
       "      <td>0</td>\n",
       "      <td>0</td>\n",
       "      <td>0</td>\n",
       "      <td>0</td>\n",
       "      <td>1</td>\n",
       "      <td>3</td>\n",
       "      <td>1.0</td>\n",
       "    </tr>\n",
       "    <tr>\n",
       "      <th>2658</th>\n",
       "      <td>(주)와이지플러스</td>\n",
       "      <td>37270</td>\n",
       "      <td>201912</td>\n",
       "      <td>0.79</td>\n",
       "      <td>-3.74</td>\n",
       "      <td>1.93</td>\n",
       "      <td>15.25</td>\n",
       "      <td>11.92</td>\n",
       "      <td>0.82</td>\n",
       "      <td>15.18</td>\n",
       "      <td>...</td>\n",
       "      <td>0.00</td>\n",
       "      <td>0.000000</td>\n",
       "      <td>0</td>\n",
       "      <td>0</td>\n",
       "      <td>0</td>\n",
       "      <td>0</td>\n",
       "      <td>0</td>\n",
       "      <td>0</td>\n",
       "      <td>3</td>\n",
       "      <td>1.0</td>\n",
       "    </tr>\n",
       "    <tr>\n",
       "      <th>2659</th>\n",
       "      <td>(주)육일씨엔에쓰</td>\n",
       "      <td>191410</td>\n",
       "      <td>201912</td>\n",
       "      <td>-9.28</td>\n",
       "      <td>-19.34</td>\n",
       "      <td>1.67</td>\n",
       "      <td>7.85</td>\n",
       "      <td>5.97</td>\n",
       "      <td>0.62</td>\n",
       "      <td>1.16</td>\n",
       "      <td>...</td>\n",
       "      <td>0.94</td>\n",
       "      <td>0.000000</td>\n",
       "      <td>0</td>\n",
       "      <td>0</td>\n",
       "      <td>0</td>\n",
       "      <td>0</td>\n",
       "      <td>0</td>\n",
       "      <td>0</td>\n",
       "      <td>1</td>\n",
       "      <td>0.0</td>\n",
       "    </tr>\n",
       "    <tr>\n",
       "      <th>2660</th>\n",
       "      <td>한양디지텍(주)</td>\n",
       "      <td>78350</td>\n",
       "      <td>201912</td>\n",
       "      <td>-9.93</td>\n",
       "      <td>-36.77</td>\n",
       "      <td>2.75</td>\n",
       "      <td>-0.42</td>\n",
       "      <td>8.39</td>\n",
       "      <td>0.85</td>\n",
       "      <td>2.08</td>\n",
       "      <td>...</td>\n",
       "      <td>1.45</td>\n",
       "      <td>0.000000</td>\n",
       "      <td>0</td>\n",
       "      <td>0</td>\n",
       "      <td>0</td>\n",
       "      <td>0</td>\n",
       "      <td>0</td>\n",
       "      <td>1</td>\n",
       "      <td>1</td>\n",
       "      <td>0.0</td>\n",
       "    </tr>\n",
       "  </tbody>\n",
       "</table>\n",
       "<p>2661 rows × 27 columns</p>\n",
       "</div>"
      ],
      "text/plain": [
       "             회사명   거래소코드    회계년도  총자본영업이익율  자기자본순이익율  유동자산회전율  총자본투자효율  \\\n",
       "0        (주)케이이씨   92220  201112     -5.42    -22.34     1.50    14.34   \n",
       "1      (주)엠에스오토텍  123040  201112      7.17      1.65     1.73    17.32   \n",
       "2     한올바이오파마(주)    9420  201112     -8.70    -27.45     1.19    14.52   \n",
       "3        (주)세원물산   24830  201112      0.00      6.93     0.71     0.00   \n",
       "4        피에스텍(주)    2230  201112      3.13     11.18     1.13    14.46   \n",
       "...          ...     ...     ...       ...       ...      ...      ...   \n",
       "2656    (주)투비소프트   79970  201912    -11.26    -39.97     0.89    10.48   \n",
       "2657     (주)아이디스  143160  201912      1.97      1.26     0.89    21.55   \n",
       "2658   (주)와이지플러스   37270  201912      0.79     -3.74     1.93    15.25   \n",
       "2659   (주)육일씨엔에쓰  191410  201912     -9.28    -19.34     1.67     7.85   \n",
       "2660    한양디지텍(주)   78350  201912     -9.93    -36.77     2.75    -0.42   \n",
       "\n",
       "      매출채권회전율  총자본회전율  유형자산회전율  ...  R & D 투자효율    경상개발비율  매출원가감소율여부  \\\n",
       "0        3.46    0.62     1.07  ...        2.67  0.000000          0   \n",
       "1        3.49    0.75     1.37  ...        0.00  0.000000          0   \n",
       "2        2.64    0.76     8.38  ...        8.62  0.047455          0   \n",
       "3        3.82    0.39     1.64  ...        0.00  0.000000          0   \n",
       "4        8.84    0.45    10.21  ...        0.00  0.000000          0   \n",
       "...       ...     ...      ...  ...         ...       ...        ...   \n",
       "2656     2.46    0.42    15.68  ...        6.32  0.000000          0   \n",
       "2657     4.55    0.67     7.50  ...        6.12  0.000000          0   \n",
       "2658    11.92    0.82    15.18  ...        0.00  0.000000          0   \n",
       "2659     5.97    0.62     1.16  ...        0.94  0.000000          0   \n",
       "2660     8.39    0.85     2.08  ...        1.45  0.000000          0   \n",
       "\n",
       "      배당금감소율여부  변화율여부  직원감소율여부  자본증가율여부  투자활동감소율여부  기업수명주기  회생기업2  \n",
       "0            0      0        0        0          0       1    0.0  \n",
       "1            0      0        0        0          1       2    0.0  \n",
       "2            0      0        0        0          0       4    0.0  \n",
       "3            0      0        0        0          0       2    0.0  \n",
       "4            0      0        0        0          0       4    0.0  \n",
       "...        ...    ...      ...      ...        ...     ...    ...  \n",
       "2656         0      0        0        0          0       4    0.0  \n",
       "2657         0      0        0        0          1       3    1.0  \n",
       "2658         0      0        0        0          0       3    1.0  \n",
       "2659         0      0        0        0          0       1    0.0  \n",
       "2660         0      0        0        0          1       1    0.0  \n",
       "\n",
       "[2661 rows x 27 columns]"
      ]
     },
     "execution_count": 553,
     "metadata": {},
     "output_type": "execute_result"
    }
   ],
   "source": [
    "import pandas as pd\n",
    "import numpy as np\n",
    "import matplotlib.pyplot as plt\n",
    "import time\n",
    "import warnings\n",
    "warnings.filterwarnings('ignore')\n",
    "\n",
    "df = pd.read_csv('../../csv_data/use/dataset3_2.csv', thousands=\",\",encoding='UTF-8')\n",
    "df = df[['회사명','거래소코드','회계년도','총자본영업이익율','자기자본순이익율','유동자산회전율','총자본투자효율','매출채권회전율','총자본회전율',\n",
    "         '유형자산회전율','매출액총이익율','순운전자본비율','재고자산_대_유동자산비율','총자산증가율','유동비율', '기계장비율','자기자본증가율',\n",
    "         'R & D 투자효율', '경상개발비율',\n",
    "         '매출원가감소율여부','배당금감소율여부','변화율여부','직원감소율여부','자본증가율여부',\n",
    "         '투자활동감소율여부', '기업수명주기','회생기업2']] # 3년 연속 피쳐들\n",
    "\n",
    "# df = df[['회사명','거래소코드','회계년도','종업원1인당부가가치', '순운전자본비율', '자기자본순이익율', '총자본투자효율', \n",
    "#          '기계장비율', '유동비율', '총자본영업이익율', '유동자산회전율', '유형자산회전율', '매출액총이익율',\n",
    "#         '매출원가감소율여부','배당금감소율여부','변화율여부','직원감소율여부','자본증가율여부','투자활동감소율여부',\n",
    "#         '기업수명주기','회생기업2']] # 전체 피쳐들\n",
    "# df['회계년도'] = pd.to_datetime(df['회계년도'], format='%d-%b').dt.strftime('20%d%m')\n",
    "# df['거래소코드'] = df['거래소코드'].astype(str).str.zfill(6)\n",
    "df['회생기업2'] = df['회생기업2'].fillna(0)\n",
    "df['거래소코드'] = df['거래소코드'].astype(int)\n",
    "df = df.sort_values(by='회계년도')\n",
    "df = df.reset_index(drop=True)\n",
    "df['회계년도'] = df['회계년도'].astype(int)\n",
    "df"
   ]
  },
  {
   "cell_type": "markdown",
   "metadata": {},
   "source": [
    "### 피쳐와 레이블 나누기"
   ]
  },
  {
   "cell_type": "code",
   "execution_count": 554,
   "metadata": {},
   "outputs": [],
   "source": [
    "data = df.iloc[:,1:26]\n",
    "target = df['회생기업2']"
   ]
  },
  {
   "cell_type": "markdown",
   "metadata": {},
   "source": [
    "### 스케일링을 위해 데이터를 나눠줍니다"
   ]
  },
  {
   "cell_type": "code",
   "execution_count": 555,
   "metadata": {},
   "outputs": [],
   "source": [
    "# 기간을 얼마나 나누게 될까요~?\n",
    "x_train = df.loc[:1686] # 2011 ~ 2016년\n",
    "x_test = df.loc[1686:] # 2017 ~ 2019년\n",
    "y_train = target.loc[:1686] # 2011 ~ 2016년\n",
    "y_test = target.loc[1686:] # 2017 ~ 2019년"
   ]
  },
  {
   "cell_type": "code",
   "execution_count": 556,
   "metadata": {},
   "outputs": [],
   "source": [
    "df_feature = x_train.iloc[:,3:19] # 스케일링을 사용할 데이터\n",
    "df_front = x_train.iloc[:,1:3] # 거래소코드와 회계년도는 스케일링은 하면 안되니 따로 뺀다\n",
    "df_semi = x_train.iloc[:,19:26] # 반정형 역시 따로 뺀다\n",
    "df_semi_test = x_test.iloc[:, 19:26]"
   ]
  },
  {
   "cell_type": "markdown",
   "metadata": {},
   "source": [
    "### 데이터 분리"
   ]
  },
  {
   "cell_type": "code",
   "execution_count": 557,
   "metadata": {},
   "outputs": [],
   "source": [
    "# 기간을 나누기전에 스케일링 부터 합시당!\n",
    "from sklearn.preprocessing import StandardScaler\n",
    "SS = StandardScaler()\n",
    "ss_sc = SS.fit_transform(df_feature)\n",
    "ss_sc2 = pd.DataFrame(ss_sc)\n",
    "ss_sc2.columns=['총자본영업이익율', '자기자본순이익율', '유동자산회전율', '총자본투자효율',\n",
    "       '매출채권회전율', '총자본회전율', '유형자산회전율', '매출액총이익율', '순운전자본비율', '재고자산_대_유동자산비율',\n",
    "       '총자산증가율', '유동비율', '기계장비율', '자기자본증가율', 'R & D 투자효율', '경상개발비율']\n",
    "# ss_sc2.columns=['종업원1인당부가가치', '순운전자본비율', '자기자본순이익율', '총자본투자효율',\n",
    "#        '기계장비율', '유동비율', '총자본영업이익율', '유동자산회전율', '유형자산회전율', '매출액총이익율']\n",
    "ss_sc2 = ss_sc2[['유동비율', '기계장비율', '자기자본증가율', '경상개발비율']]\n",
    "#ss_sc2 = pd.concat([df_front,ss_sc2],axis=1)\n",
    "ss_sc2 = pd.concat([ss_sc2,df_semi],axis=1)"
   ]
  },
  {
   "cell_type": "code",
   "execution_count": 558,
   "metadata": {},
   "outputs": [],
   "source": [
    "x_train = x_train[['유동비율', '기계장비율', '자기자본증가율', '경상개발비율']]\n",
    "x_train = pd.concat([x_train,df_semi],axis=1)"
   ]
  },
  {
   "cell_type": "code",
   "execution_count": 559,
   "metadata": {},
   "outputs": [],
   "source": [
    "x_test = x_test[['유동비율', '기계장비율', '자기자본증가율', '경상개발비율']]\n",
    "x_test = pd.concat([x_test,df_semi_test],axis=1)"
   ]
  },
  {
   "cell_type": "code",
   "execution_count": 560,
   "metadata": {},
   "outputs": [],
   "source": [
    "#ss_sc2.drop(columns=['거래소코드', '회계년도'], inplace=True)"
   ]
  },
  {
   "cell_type": "markdown",
   "metadata": {},
   "source": [
    "#### 기본데이터 분포"
   ]
  },
  {
   "cell_type": "code",
   "execution_count": 561,
   "metadata": {},
   "outputs": [
    {
     "name": "stdout",
     "output_type": "stream",
     "text": [
      "학습 세트 Shape:(1687, 11), 테스트 세트 Shape:(975, 11)\n",
      " 학습 세트 레이블 값 분포 비율\n",
      "0.0    0.895673\n",
      "1.0    0.104327\n",
      "Name: 회생기업2, dtype: float64\n",
      "\n",
      " 테스트 세트 레이블 값 분포 비율\n",
      "0.0    0.420865\n",
      "1.0    0.157084\n",
      "Name: 회생기업2, dtype: float64\n"
     ]
    }
   ],
   "source": [
    "# 피처, 레이블 데이터 분포 비율\n",
    "\n",
    "train_cnt = y_train.count()\n",
    "test_cnt = y_test.count()\n",
    "print('학습 세트 Shape:{0}, 테스트 세트 Shape:{1}'.format(ss_sc2.shape, x_test.shape))\n",
    "\n",
    "print(' 학습 세트 레이블 값 분포 비율')\n",
    "print(y_train.value_counts()/train_cnt)\n",
    "print('\\n 테스트 세트 레이블 값 분포 비율')\n",
    "print(y_test.value_counts()/train_cnt)"
   ]
  },
  {
   "cell_type": "markdown",
   "metadata": {},
   "source": [
    "### 오버샘플링을 해봅시다"
   ]
  },
  {
   "cell_type": "markdown",
   "metadata": {},
   "source": [
    "#### RandomOverSampler\n",
    "- Random Over Sampling은 소수 클래스의 데이터를 반복해서 넣는 것(replacement)이다. 가중치를 증가시키는 것과 비슷하다."
   ]
  },
  {
   "cell_type": "code",
   "execution_count": 562,
   "metadata": {},
   "outputs": [
    {
     "name": "stdout",
     "output_type": "stream",
     "text": [
      "SMOTE 적용 전 학습용 피처/레이블 데이터 세트:  (1687, 11) (1687,)\n",
      "SMOTE 적용 후 학습용 피처/레이블 데이터 세트:  (3022, 11) (3022,)\n",
      "SMOTE 적용 후 레이블 값 분포: \n",
      " 0.0    1511\n",
      "1.0    1511\n",
      "Name: 회생기업2, dtype: int64\n"
     ]
    }
   ],
   "source": [
    "from imblearn.over_sampling import RandomOverSampler\n",
    "\n",
    "ros = RandomOverSampler()\n",
    "x_train_ros,y_train_ros = ros.fit_resample(ss_sc2,y_train)\n",
    "print('SMOTE 적용 전 학습용 피처/레이블 데이터 세트: ', x_train.shape, y_train.shape)\n",
    "print('SMOTE 적용 후 학습용 피처/레이블 데이터 세트: ', x_train_ros.shape, y_train_ros.shape)\n",
    "print('SMOTE 적용 후 레이블 값 분포: \\n', pd.Series(y_train_ros).value_counts())"
   ]
  },
  {
   "cell_type": "markdown",
   "metadata": {},
   "source": [
    "#### ADASYN\n",
    "- ADASYN(Adaptive Synthetic Sampling) 방법은 소수 클래스 데이터와 그 데이터에서 가장 가까운 k개의 소수 클래스 데이터 중 무작위로 선택된 데이터 사이의 직선상에 가상의 소수 클래스 데이터를 만드는 방법이다."
   ]
  },
  {
   "cell_type": "code",
   "execution_count": 563,
   "metadata": {},
   "outputs": [
    {
     "name": "stdout",
     "output_type": "stream",
     "text": [
      "SMOTE 적용 전 학습용 피처/레이블 데이터 세트:  (1687, 11) (1687,)\n",
      "SMOTE 적용 후 학습용 피처/레이블 데이터 세트:  (2998, 11) (2998,)\n",
      "SMOTE 적용 후 레이블 값 분포: \n",
      " 0.0    1511\n",
      "1.0    1487\n",
      "Name: 회생기업2, dtype: int64\n"
     ]
    }
   ],
   "source": [
    "from imblearn.over_sampling import ADASYN\n",
    "\n",
    "ada = ADASYN()\n",
    "x_train_ada,y_train_ada = ada.fit_resample(ss_sc2,y_train)\n",
    "print('SMOTE 적용 전 학습용 피처/레이블 데이터 세트: ', x_train.shape, y_train.shape)\n",
    "print('SMOTE 적용 후 학습용 피처/레이블 데이터 세트: ', x_train_ada.shape, y_train_ada.shape)\n",
    "print('SMOTE 적용 후 레이블 값 분포: \\n', pd.Series(y_train_ada).value_counts())"
   ]
  },
  {
   "cell_type": "markdown",
   "metadata": {},
   "source": [
    "#### SMOTE\n",
    "- SMOTE(Synthetic Minority Over-sampling Technique) 방법도 ADASYN 방법처럼 데이터를 생성하지만 생성된 데이터를 무조건 소수 클래스라고 하지 않고 분류 모형에 따라 분류한다."
   ]
  },
  {
   "cell_type": "code",
   "execution_count": 564,
   "metadata": {},
   "outputs": [
    {
     "name": "stdout",
     "output_type": "stream",
     "text": [
      "SMOTE 적용 전 학습용 피처/레이블 데이터 세트:  (1687, 11) (1687,)\n",
      "SMOTE 적용 후 학습용 피처/레이블 데이터 세트:  (3022, 11) (3022,)\n",
      "SMOTE 적용 후 레이블 값 분포: \n",
      " 0.0    1511\n",
      "1.0    1511\n",
      "Name: 회생기업2, dtype: int64\n"
     ]
    }
   ],
   "source": [
    "from imblearn.over_sampling import SMOTE\n",
    "smote = SMOTE(random_state=0)\n",
    "X_train_over,y_train_over = smote.fit_resample(ss_sc2,y_train)\n",
    "print('SMOTE 적용 전 학습용 피처/레이블 데이터 세트: ', x_train.shape, y_train.shape)\n",
    "print('SMOTE 적용 후 학습용 피처/레이블 데이터 세트: ', X_train_over.shape, y_train_over.shape)\n",
    "print('SMOTE 적용 후 레이블 값 분포: \\n', pd.Series(y_train_over).value_counts())"
   ]
  },
  {
   "cell_type": "markdown",
   "metadata": {},
   "source": [
    "### 언더샘플링을 해봅시다"
   ]
  },
  {
   "cell_type": "markdown",
   "metadata": {},
   "source": [
    "#### 랜덤 언더 샘플링\n",
    "- 무작위로 데이터를 없애는 단순 샘플링"
   ]
  },
  {
   "cell_type": "code",
   "execution_count": 565,
   "metadata": {},
   "outputs": [
    {
     "name": "stdout",
     "output_type": "stream",
     "text": [
      "Under Sampling 적용 전 학습용 피처/레이블 데이터 세트:  (1687, 11) (1687,)\n",
      "Under Sampling 적용 후 학습용 피처/레이블 데이터 세트:  (352, 11) (352,)\n",
      "Under Sampling 적용 후 레이블 값 분포: \n",
      " 0.0    176\n",
      "1.0    176\n",
      "Name: 회생기업2, dtype: int64\n"
     ]
    }
   ],
   "source": [
    "from imblearn.under_sampling import RandomUnderSampler\n",
    "\n",
    "undo = RandomUnderSampler()\n",
    "x_train_under, y_train_under = undo.fit_resample(ss_sc2, y_train)\n",
    "print('Under Sampling 적용 전 학습용 피처/레이블 데이터 세트: ', x_train.shape, y_train.shape)\n",
    "print('Under Sampling 적용 후 학습용 피처/레이블 데이터 세트: ', x_train_under.shape, y_train_under.shape)\n",
    "print('Under Sampling 적용 후 레이블 값 분포: \\n', pd.Series(y_train_under).value_counts())"
   ]
  },
  {
   "cell_type": "markdown",
   "metadata": {},
   "source": [
    "#### 토멕링크 샘플링\n",
    "- 토멕링크(Tomek’s link)란 서로 다른 클래스에 속하는 한 쌍의 데이터 (x+,x−)로 서로에게 더 가까운 다른 데이터가 존재하지 않는 것이다. 즉 클래스가 다른 두 데이터가 아주 가까이 붙어있으면 토멕링크가 된다. 토멕링크 방법은 이러한 토멕링크를 찾은 다음 그 중에서 다수 클래스에 속하는 데이터를 제외하는 방법으로 경계선을 다수 클래스쪽으로 밀어붙이는 효과가 있다."
   ]
  },
  {
   "cell_type": "code",
   "execution_count": 566,
   "metadata": {},
   "outputs": [
    {
     "name": "stdout",
     "output_type": "stream",
     "text": [
      "Under Sampling 적용 전 학습용 피처/레이블 데이터 세트:  (1687, 11) (1687,)\n",
      "Under Sampling 적용 후 학습용 피처/레이블 데이터 세트:  (1602, 11) (1602,)\n",
      "Under Sampling 적용 후 레이블 값 분포: \n",
      " 0.0    1426\n",
      "1.0     176\n",
      "Name: 회생기업2, dtype: int64\n"
     ]
    }
   ],
   "source": [
    "from imblearn.under_sampling import TomekLinks\n",
    "\n",
    "tome = TomekLinks()\n",
    "x_train_tome, y_train_tome = tome.fit_resample(ss_sc2, y_train)\n",
    "print('Under Sampling 적용 전 학습용 피처/레이블 데이터 세트: ', x_train.shape, y_train.shape)\n",
    "print('Under Sampling 적용 후 학습용 피처/레이블 데이터 세트: ', x_train_tome.shape, y_train_tome.shape)\n",
    "print('Under Sampling 적용 후 레이블 값 분포: \\n', pd.Series(y_train_tome).value_counts())"
   ]
  },
  {
   "cell_type": "markdown",
   "metadata": {},
   "source": [
    "#### Condensed Nearest Neighbour\n",
    "- CNN(Condensed Nearest Neighbour) 방법은 1-NN 모형으로 분류되지 않는 데이터만 남기는 방법이다. 선텍된 데이터 집합을 S라고 하자.\n",
    "- 소수 클래스 데이터를 모두 S에 포함시킨다.\n",
    "- 다수 데이터 중에서 하나를 골라서 가장 가까운 데이터가 다수 클래스이면 포함시키지 않고 아니면 S에 포함시킨다.\n",
    "- 더이상 선택되는 데이터가 없을 때까지 2를 반복한다.\n",
    "- 이 방법을 사용하면 기존에 선택된 데이터와 가까이 있으면서 같은 클래스인 데이터는 선택되지 않기 때문에 다수 데이터의 경우 선택되는 비율이 적어진다."
   ]
  },
  {
   "cell_type": "code",
   "execution_count": 567,
   "metadata": {},
   "outputs": [
    {
     "name": "stdout",
     "output_type": "stream",
     "text": [
      "Under Sampling 적용 전 학습용 피처/레이블 데이터 세트:  (1687, 11) (1687,)\n",
      "Under Sampling 적용 후 학습용 피처/레이블 데이터 세트:  (604, 11) (604,)\n",
      "Under Sampling 적용 후 레이블 값 분포: \n",
      " 0.0    428\n",
      "1.0    176\n",
      "Name: 회생기업2, dtype: int64\n"
     ]
    }
   ],
   "source": [
    "from imblearn.under_sampling import CondensedNearestNeighbour\n",
    "\n",
    "cnn = CondensedNearestNeighbour()\n",
    "x_train_cnn, y_train_cnn = cnn.fit_resample(ss_sc2, y_train)\n",
    "print('Under Sampling 적용 전 학습용 피처/레이블 데이터 세트: ', x_train.shape, y_train.shape)\n",
    "print('Under Sampling 적용 후 학습용 피처/레이블 데이터 세트: ', x_train_cnn.shape, y_train_cnn.shape)\n",
    "print('Under Sampling 적용 후 레이블 값 분포: \\n', pd.Series(y_train_cnn).value_counts())"
   ]
  },
  {
   "cell_type": "markdown",
   "metadata": {},
   "source": [
    "#### One Sided Selection\n",
    "- One Sided Selection은 토맥링크 방법과 Condensed Nearest Neighbour 방법을 섞은 것이다. 토맥링크 중 다수 클래스를 제외하고 나머지 데이터 중에서도 서로 붙어있는 다수 클래스 데이터는 1-NN 방법으로 제외한다."
   ]
  },
  {
   "cell_type": "code",
   "execution_count": 568,
   "metadata": {},
   "outputs": [
    {
     "name": "stdout",
     "output_type": "stream",
     "text": [
      "Under Sampling 적용 전 학습용 피처/레이블 데이터 세트:  (1687, 11) (1687,)\n",
      "Under Sampling 적용 후 학습용 피처/레이블 데이터 세트:  (1598, 11) (1598,)\n",
      "Under Sampling 적용 후 레이블 값 분포: \n",
      " 0.0    1422\n",
      "1.0     176\n",
      "Name: 회생기업2, dtype: int64\n"
     ]
    }
   ],
   "source": [
    "from imblearn.under_sampling import OneSidedSelection\n",
    "\n",
    "oss = OneSidedSelection()\n",
    "x_train_oss, y_train_oss = oss.fit_resample(ss_sc2, y_train)\n",
    "print('Under Sampling 적용 전 학습용 피처/레이블 데이터 세트: ', x_train.shape, y_train.shape)\n",
    "print('Under Sampling 적용 후 학습용 피처/레이블 데이터 세트: ', x_train_oss.shape, y_train_oss.shape)\n",
    "print('Under Sampling 적용 후 레이블 값 분포: \\n', pd.Series(y_train_oss).value_counts())"
   ]
  },
  {
   "cell_type": "markdown",
   "metadata": {},
   "source": [
    "#### Edited Nearest Neighbours\n",
    "- ENN(Edited Nearest Neighbours) 방법은 다수 클래스 데이터 중 가장 가까운 k(n_neighbors)개의 데이터가 모두(kind_sel=\"all\") 또는 다수(kind_sel=\"mode\") 다수 클래스가 아니면 삭제하는 방법이다. 소수 클래스 주변의 다수 클래스 데이터는 사라진다."
   ]
  },
  {
   "cell_type": "code",
   "execution_count": 569,
   "metadata": {},
   "outputs": [
    {
     "name": "stdout",
     "output_type": "stream",
     "text": [
      "Under Sampling 적용 전 학습용 피처/레이블 데이터 세트:  (1687, 11) (1687,)\n",
      "Under Sampling 적용 후 학습용 피처/레이블 데이터 세트:  (1294, 11) (1294,)\n",
      "Under Sampling 적용 후 레이블 값 분포: \n",
      " 0.0    1118\n",
      "1.0     176\n",
      "Name: 회생기업2, dtype: int64\n"
     ]
    }
   ],
   "source": [
    "from imblearn.under_sampling import EditedNearestNeighbours\n",
    "\n",
    "enn = EditedNearestNeighbours()\n",
    "x_train_enn, y_train_enn = enn.fit_resample(ss_sc2, y_train)\n",
    "print('Under Sampling 적용 전 학습용 피처/레이블 데이터 세트: ', x_train.shape, y_train.shape)\n",
    "print('Under Sampling 적용 후 학습용 피처/레이블 데이터 세트: ', x_train_enn.shape, y_train_enn.shape)\n",
    "print('Under Sampling 적용 후 레이블 값 분포: \\n', pd.Series(y_train_enn).value_counts())"
   ]
  },
  {
   "cell_type": "markdown",
   "metadata": {},
   "source": [
    "#### Neighbourhood Cleaning Rule\n",
    "- Neighbourhood Cleaning Rule 방법은 CNN(Condensed Nearest Neighbour) 방법과 ENN(Edited Nearest Neighbours) 방법을 섞은 것이다."
   ]
  },
  {
   "cell_type": "code",
   "execution_count": 570,
   "metadata": {},
   "outputs": [
    {
     "name": "stdout",
     "output_type": "stream",
     "text": [
      "Under Sampling 적용 전 학습용 피처/레이블 데이터 세트:  (1687, 11) (1687,)\n",
      "Under Sampling 적용 후 학습용 피처/레이블 데이터 세트:  (1307, 11) (1307,)\n",
      "Under Sampling 적용 후 레이블 값 분포: \n",
      " 0.0    1131\n",
      "1.0     176\n",
      "Name: 회생기업2, dtype: int64\n"
     ]
    }
   ],
   "source": [
    "from imblearn.under_sampling import NeighbourhoodCleaningRule\n",
    "\n",
    "ncr = NeighbourhoodCleaningRule()\n",
    "x_train_ncr, y_train_ncr = ncr.fit_resample(ss_sc2, y_train)\n",
    "print('Under Sampling 적용 전 학습용 피처/레이블 데이터 세트: ', x_train.shape, y_train.shape)\n",
    "print('Under Sampling 적용 후 학습용 피처/레이블 데이터 세트: ', x_train_ncr.shape, y_train_ncr.shape)\n",
    "print('Under Sampling 적용 후 레이블 값 분포: \\n', pd.Series(y_train_ncr).value_counts())"
   ]
  },
  {
   "cell_type": "markdown",
   "metadata": {},
   "source": [
    "### 복합 샘플링"
   ]
  },
  {
   "cell_type": "markdown",
   "metadata": {},
   "source": [
    "#### SMOTE + ENN\n",
    "- SMOTE+ENN 방법은 SMOTE(Synthetic Minority Over-sampling Technique) 방법과 ENN(Edited Nearest Neighbours) 방법을 섞은 것이다."
   ]
  },
  {
   "cell_type": "code",
   "execution_count": 571,
   "metadata": {},
   "outputs": [
    {
     "name": "stdout",
     "output_type": "stream",
     "text": [
      "Under Sampling 적용 전 학습용 피처/레이블 데이터 세트:  (1687, 11) (1687,)\n",
      "Under Sampling 적용 후 학습용 피처/레이블 데이터 세트:  (2136, 11) (2136,)\n",
      "Under Sampling 적용 후 레이블 값 분포: \n",
      " 1.0    1202\n",
      "0.0     934\n",
      "Name: 회생기업2, dtype: int64\n"
     ]
    }
   ],
   "source": [
    "from imblearn.combine import SMOTEENN\n",
    "\n",
    "smen = SMOTEENN()\n",
    "x_train_smen, y_train_smen = smen.fit_resample(ss_sc2, y_train)\n",
    "print('Under Sampling 적용 전 학습용 피처/레이블 데이터 세트: ', x_train.shape, y_train.shape)\n",
    "print('Under Sampling 적용 후 학습용 피처/레이블 데이터 세트: ', x_train_smen.shape, y_train_smen.shape)\n",
    "print('Under Sampling 적용 후 레이블 값 분포: \\n', pd.Series(y_train_smen).value_counts())"
   ]
  },
  {
   "cell_type": "markdown",
   "metadata": {},
   "source": [
    "#### SMOTE+Tomek\n",
    "- SMOTE+Tomek 방법은 SMOTE(Synthetic Minority Over-sampling Technique) 방법과 토멕링크 방법을 섞은 것이다."
   ]
  },
  {
   "cell_type": "code",
   "execution_count": 572,
   "metadata": {},
   "outputs": [
    {
     "name": "stdout",
     "output_type": "stream",
     "text": [
      "Under Sampling 적용 전 학습용 피처/레이블 데이터 세트:  (1687, 11) (1687,)\n",
      "Under Sampling 적용 후 학습용 피처/레이블 데이터 세트:  (2928, 11) (2928,)\n",
      "Under Sampling 적용 후 레이블 값 분포: \n",
      " 0.0    1464\n",
      "1.0    1464\n",
      "Name: 회생기업2, dtype: int64\n"
     ]
    }
   ],
   "source": [
    "from imblearn.combine import SMOTETomek\n",
    "\n",
    "smtk = SMOTETomek()\n",
    "x_train_smtk, y_train_smtk = smtk.fit_resample(ss_sc2, y_train)\n",
    "print('Under Sampling 적용 전 학습용 피처/레이블 데이터 세트: ', x_train.shape, y_train.shape)\n",
    "print('Under Sampling 적용 후 학습용 피처/레이블 데이터 세트: ', x_train_smtk.shape, y_train_smtk.shape)\n",
    "print('Under Sampling 적용 후 레이블 값 분포: \\n', pd.Series(y_train_smtk).value_counts())"
   ]
  },
  {
   "cell_type": "markdown",
   "metadata": {},
   "source": [
    "### 로지스틱 회귀분석"
   ]
  },
  {
   "cell_type": "code",
   "execution_count": 598,
   "metadata": {},
   "outputs": [
    {
     "name": "stdout",
     "output_type": "stream",
     "text": [
      "GridSearchCV 최적 하이퍼 파라미터 : {'C': 0.1}\n",
      "GridSearchCV 최고 정확도 :nan\n",
      "테스트 세트에서의 LogisticRegression 정확도 : 0.3179\n"
     ]
    }
   ],
   "source": [
    "from sklearn.linear_model import LogisticRegression\n",
    "from sklearn.model_selection import GridSearchCV\n",
    "from sklearn.metrics import accuracy_score\n",
    "from sklearn.model_selection import TimeSeriesSplit \n",
    "\n",
    "lg = LogisticRegression()\n",
    "param_grid = [{'C':np.linspace(0.1,10,100)}]\n",
    "gs = GridSearchCV(estimator=lg, param_grid=param_grid, scoring='f1',cv=TimeSeriesSplit(n_splits=6),n_jobs=1)\n",
    "gs.fit(x_train_ncr, y_train_ncr)\n",
    "best_est = gs.best_estimator_\n",
    "predictions = best_est.predict(x_test)\n",
    "accuracy = accuracy_score(y_test, predictions)\n",
    "print('GridSearchCV 최적 하이퍼 파라미터 :', gs.best_params_)\n",
    "print('GridSearchCV 최고 정확도 :{0:.4f}'.format(gs.best_score_))\n",
    "print('테스트 세트에서의 LogisticRegression 정확도 : {0:.4f}'.format(accuracy))"
   ]
  },
  {
   "cell_type": "code",
   "execution_count": 599,
   "metadata": {},
   "outputs": [
    {
     "name": "stdout",
     "output_type": "stream",
     "text": [
      "테스트 세트에서의 LogisticRegression 정확도 : 0.3179\n"
     ]
    }
   ],
   "source": [
    "lg1 = LogisticRegression(C=0.1)\n",
    "lg1.fit(x_train_ncr, y_train_ncr)\n",
    "# best_est = lg1.best_estimator_\n",
    "predictions = best_est.predict(x_test)\n",
    "accuracy = accuracy_score(y_test, predictions)\n",
    "# print('GridSearchCV 최적 하이퍼 파라미터 :', lg1.best_params_)\n",
    "# print('GridSearchCV 최고 정확도 :{0:.4f}'.format(lg1.best_score_))\n",
    "print('테스트 세트에서의 LogisticRegression 정확도 : {0:.4f}'.format(accuracy))"
   ]
  },
  {
   "cell_type": "code",
   "execution_count": 600,
   "metadata": {},
   "outputs": [
    {
     "name": "stdout",
     "output_type": "stream",
     "text": [
      "오차 행렬\n",
      "[[ 74 636]\n",
      " [ 29 236]]\n",
      "정확도: 0.3179, 정밀도: 0.2706, 재현율: 0.8906, f1: 0.4151\n"
     ]
    }
   ],
   "source": [
    "from sklearn.metrics import accuracy_score, precision_score, recall_score, confusion_matrix, f1_score\n",
    "\n",
    "def get_clf_eval(y_test, pred):\n",
    "    confusion = confusion_matrix(y_test, pred)\n",
    "    accuracy = accuracy_score(y_test, pred)\n",
    "    precision = precision_score(y_test, pred)\n",
    "    recall = recall_score(y_test, pred)\n",
    "    f1 = f1_score(y_test, pred)\n",
    "    print('오차 행렬')\n",
    "    print(confusion)\n",
    "    print('정확도: {0:.4f}, 정밀도: {1:.4f}, 재현율: {2:.4f}, f1: {3:.4f}'.format(accuracy, precision, recall,f1))\n",
    "\n",
    "get_clf_eval(y_test, predictions)"
   ]
  },
  {
   "cell_type": "markdown",
   "metadata": {},
   "source": [
    "### 랜덤 포레스트"
   ]
  },
  {
   "cell_type": "code",
   "execution_count": 601,
   "metadata": {},
   "outputs": [
    {
     "name": "stdout",
     "output_type": "stream",
     "text": [
      "GridSearchCV 최적 하이퍼 파라미터 : {'max_depth': 4, 'max_features': 3, 'n_estimators': 5}\n",
      "GridSearchCV 최고 정확도 :0.1586\n",
      "테스트 세트에서의 LogisticRegression 정확도 : 0.7272\n",
      "오차 행렬\n",
      "[[685  25]\n",
      " [241  24]]\n",
      "정확도: 0.7272, 정밀도: 0.4898, 재현율: 0.0906, f1: 0.1529\n"
     ]
    }
   ],
   "source": [
    "# 랜덤포레스트 + 그리드서치로 모델 학습\n",
    "from sklearn.ensemble import RandomForestClassifier\n",
    "\n",
    "rf = RandomForestClassifier(random_state=1)\n",
    "param_grid_rf = [{'n_estimators': range(5,50,100), 'max_depth': range(3,5), 'max_features': range(1,4)}]\n",
    "rf_gs = GridSearchCV(estimator=rf, param_grid=param_grid_rf, scoring='f1', cv=TimeSeriesSplit(n_splits=6), n_jobs=1)\n",
    "rf_gs.fit(X_train_over, y_train_over)\n",
    "best_est = rf_gs.best_estimator_\n",
    "predictions_rf = best_est.predict(x_test)\n",
    "accuracy = accuracy_score(y_test, predictions_rf)\n",
    "print('GridSearchCV 최적 하이퍼 파라미터 :', rf_gs.best_params_)\n",
    "print('GridSearchCV 최고 정확도 :{0:.4f}'.format(rf_gs.best_score_))\n",
    "print('테스트 세트에서의 LogisticRegression 정확도 : {0:.4f}'.format(accuracy))\n",
    "get_clf_eval(y_test, predictions_rf)"
   ]
  },
  {
   "cell_type": "code",
   "execution_count": 603,
   "metadata": {},
   "outputs": [
    {
     "name": "stdout",
     "output_type": "stream",
     "text": [
      "오차 행렬\n",
      "[[515 195]\n",
      " [135 130]]\n",
      "정확도: 0.6615, 정밀도: 0.4000, 재현율: 0.4906, f1: 0.4407\n"
     ]
    }
   ],
   "source": [
    "from sklearn.ensemble import RandomForestClassifier\n",
    "\n",
    "#xgb_wrapper = XGBClassifier(n_estimators=500, learning_rate=0.1, max_depth=5,colsmple_pytree=0.8)\n",
    "rf_clf = RandomForestClassifier(max_depth=4, n_estimators=5,max_features= 2)\n",
    "rf_clf.fit(X_train_over, y_train_over)\n",
    "w_preds = rf_clf.predict(x_test)\n",
    "\n",
    "get_clf_eval(y_test, w_preds)"
   ]
  },
  {
   "cell_type": "markdown",
   "metadata": {},
   "source": [
    "### XGBoost"
   ]
  },
  {
   "cell_type": "code",
   "execution_count": 578,
   "metadata": {},
   "outputs": [],
   "source": [
    "#필요한 라이브러리 임포트\n",
    "from xgboost import XGBClassifier\n",
    "\n",
    "#XGBoost 정의\n",
    "#파라미터는 이전 글을 참고하여 grid 설정(dict 형태)\n",
    "xgb= XGBClassifier()\n",
    "\n",
    "xgb_param_grid={\n",
    "    'learning_rate' : [0.01,0.02,0.03,0.04,0.05],\n",
    "    'max_depth' : [3,5,7,10,15],\n",
    "    'colsample_bytree' : [0.5,0.6,0.7,0.8,0.9],\n",
    "    'eta' : [0,0.1,0.3,0.5,0.7,0.9,1],\n",
    "    'num_boost_around' : [5,10,15,20,25,30],\n",
    "    'alpha' : [0,0.1,0.2,0.3,0.4,1],\n",
    "    'scale_pos_weight' : [0, 1, 2, 3, 4]\n",
    "    \n",
    "}\n",
    "\n",
    "#score종류는 acc,f1,f1_micro,f1_macro등 원하는걸로 설정)\n",
    "#여기서 설정 파라미터의 갯수(총 4000개의 조합이므로 4000번의 학습이 돌아감)\n",
    "# xgb_grid=GridSearchCV(xgb, param_grid = xgb_param_grid, scoring=\"f1\", n_jobs=-1, verbose = 2,cv=TimeSeriesSplit(n_splits=6))\n",
    "# xgb_grid.fit(ss_sc2,y_train)\n",
    "\n",
    "# #best f1_macro 수치와 best parameter확인\n",
    "# print(\"best f1 : {0: .4f}\".format(xgb_grid.best_score_))\n",
    "# print(\"best param : \",xgb_grid.best_params_)\n",
    "\n",
    "# #dataframe으로 랭킹순보기\n",
    "# result_df = pd.DataFrame(xgb_grid.cv_results_)\n",
    "# result_df.sort_values(by=['rank_test_score'],inplace=True)\n",
    "\n",
    "# #plot\n",
    "# result_df[['params','mean_test_score','rank_test_score']].head(10)"
   ]
  },
  {
   "cell_type": "code",
   "execution_count": 608,
   "metadata": {},
   "outputs": [
    {
     "name": "stdout",
     "output_type": "stream",
     "text": [
      "오차 행렬\n",
      "[[374 336]\n",
      " [ 38 227]]\n",
      "정확도: 0.6164, 정밀도: 0.4032, 재현율: 0.8566, f1: 0.5483\n"
     ]
    }
   ],
   "source": [
    "import xgboost as xgb\n",
    "from xgboost import XGBClassifier\n",
    "\n",
    "#xgb_wrapper = XGBClassifier(n_estimators=500, learning_rate=0.1, max_depth=5,colsmple_pytree=0.8)\n",
    "xgb_wrapper = XGBClassifier(learning_rate= 10, scale_pos_weight=5, n_estimators=100)\n",
    "xgb_wrapper.fit(x_train_ncr, y_train_ncr)\n",
    "w_preds = xgb_wrapper.predict(x_test)\n",
    "\n",
    "get_clf_eval(y_test, w_preds)"
   ]
  },
  {
   "cell_type": "code",
   "execution_count": 581,
   "metadata": {},
   "outputs": [
    {
     "name": "stdout",
     "output_type": "stream",
     "text": [
      "              precision    recall  f1-score   support\n",
      "\n",
      "         0.0       0.91      0.53      0.67       710\n",
      "         1.0       0.40      0.86      0.55       265\n",
      "\n",
      "    accuracy                           0.62       975\n",
      "   macro avg       0.66      0.69      0.61       975\n",
      "weighted avg       0.77      0.62      0.63       975\n",
      "\n"
     ]
    }
   ],
   "source": [
    "from sklearn.metrics import classification_report\n",
    "\n",
    "print(classification_report(y_test,w_preds))"
   ]
  },
  {
   "cell_type": "markdown",
   "metadata": {},
   "source": [
    "### LGBM"
   ]
  },
  {
   "cell_type": "code",
   "execution_count": 582,
   "metadata": {},
   "outputs": [],
   "source": [
    "from lightgbm import LGBMClassifier\n",
    "\n",
    "lgb = LGBMClassifier()\n",
    "start = time.time()\n",
    "parameters = {'num_leaves':[20,40,60,80,100], 'min_child_samples':[5,10,15],'max_depth':[-1,0,0,5,10,20],\n",
    "             'learning_rate':[0.05,0.1,0.2],'reg_alpha':[0,0.01,0.03]}#Define the scoring\n",
    "\n",
    "# lgb_clf=GridSearchCV(lgb,parameters,scoring='balanced_accuracy',cv=TimeSeriesSplit(n_splits=6))\n",
    "# lgb_clf.fit(ss_sc2,y_train)\n",
    "\n",
    "# print(lgb_clf.best_params_)\n",
    "# predicted_lgb = lgb_clf.predict(x_test)\n",
    "# print('Classification of the result is:')\n",
    "# print(accuracy_score(y_test, predicted_lgb))\n",
    "\n",
    "# end = time.time()\n",
    "# print('Execution time is:')\n",
    "# print(end - start)"
   ]
  },
  {
   "cell_type": "code",
   "execution_count": 605,
   "metadata": {},
   "outputs": [
    {
     "name": "stdout",
     "output_type": "stream",
     "text": [
      "오차 행렬\n",
      "[[700  10]\n",
      " [253  12]]\n",
      "정확도: 0.7303, 정밀도: 0.5455, 재현율: 0.0453, f1: 0.0836\n"
     ]
    }
   ],
   "source": [
    "from lightgbm import LGBMClassifier\n",
    "\n",
    "lgb = LGBMClassifier()\n",
    "start = time.time()\n",
    "\n",
    "#lgb_cr = LGBMClassifier(learning_rate=0.1, max_depth=1,min_child_samples=15,num_leaves=31,reg_alpha=0.01, feature_fraction=0.9)\n",
    "lgb_cr = LGBMClassifier(learning_rate=0.1, min_child_samples=5, num_leaves=40, reg_alpha=0)\n",
    "lgb_cr.fit(x_train_ncr, y_train_ncr)\n",
    "w_preds_lgb = lgb_cr.predict(x_test)\n",
    "# w_pred_proba = lgb_cr.predict(x_test[['거래소코드', '회계년도', '기계장비율', 'R & D 투자효율', '경상개발비율', '매출원가감소율여부',\n",
    "#        '배당금감소율여부', '변화율여부', '직원감소율여부', '자본증가율여부', '투자활동감소율여부', '기업수명주기']])\n",
    "\n",
    "get_clf_eval(y_test, w_preds_lgb)"
   ]
  },
  {
   "cell_type": "code",
   "execution_count": 584,
   "metadata": {},
   "outputs": [],
   "source": [
    "# from sklearn.svm import SVR,SVC\n",
    "\n",
    "# svm = SVC()\n",
    "# # param_grid = {'kernel':['rbf'], 'C':[1,100,10,0.1,0.01,0.001]}\n",
    "# param_grid = [ \n",
    "#   {'kernel':['linear'], 'C':[1,100,10,0.1,0.01,0.001]}, #특정 하이퍼 파라메타 조합 피하기\n",
    "#   {'kernel':['poly','rbf'], 'C':[1,100,10,0.1,0.01,0.001], 'gamma':['auto','scale',1000,100,10,1,0.1,0.01,0.001,0.0001]}]\n",
    "\n",
    "# # svm_gird = GridSearchCV(svm,param_grid= param_grid)\n",
    "# svm_gird = GridSearchCV(svm,param_grid= param_grid,cv=TimeSeriesSplit(n_splits=5),scoring=2)\n",
    "# svm_gird.fit(X_train_over,y_train_over)\n",
    "# estimator = svm_gird.best_estimator_\n",
    "# svm_pred = svm_gird.predict(x_test)\n",
    "\n",
    "# get_clf_eval(y_test, svm_pred)"
   ]
  },
  {
   "cell_type": "code",
   "execution_count": 585,
   "metadata": {},
   "outputs": [
    {
     "data": {
      "image/png": "[encoded data removed]",
      "text/plain": [
       "<Figure size 1800x1368 with 4 Axes>"
      ]
     },
     "metadata": {
      "needs_background": "light"
     },
     "output_type": "display_data"
    }
   ],
   "source": [
    "import matplotlib.pyplot as plt\n",
    "import seaborn as sns\n",
    "\n",
    "plt.rcParams[\"font.family\"] = \"Malgun Gothic\"\n",
    "\n",
    "fig, axes = plt.subplots(4, 1, squeeze=False)\n",
    "fig.set_size_inches((25,19))\n",
    "\n",
    "plt.title(\"피처중요도\")\n",
    "sns.barplot(x=xgb_wrapper.feature_importances_, y=ss_sc2.columns, ax=axes[0,0])\n",
    "axes[0,0].title.set_text(\"XGBoost 피처중요도\")\n",
    "sns.barplot(x=lgb_cr.feature_importances_, y=ss_sc2.columns, ax=axes[1,0])\n",
    "axes[1,0].title.set_text(\"LGBM 피처중요도\")\n",
    "sns.barplot(x=rf_clf.feature_importances_, y=ss_sc2.columns, ax=axes[2,0])\n",
    "axes[2,0].title.set_text(\"Random Forest 피처중요도\")\n",
    "#sns.barplot(x=lg1.feature_importances_, y=ss_sc2.columns, ax=axes[3,0])\n",
    "#axes[3,0].title.set_text(\"LogisticRegression 피처중요도\")\n",
    "\n",
    "plt.show()"
   ]
  },
  {
   "cell_type": "markdown",
   "metadata": {},
   "source": [
    "### 스태킹 앙상블"
   ]
  },
  {
   "cell_type": "code",
   "execution_count": 586,
   "metadata": {},
   "outputs": [
    {
     "data": {
      "text/plain": [
       "(3, 975)"
      ]
     },
     "execution_count": 586,
     "metadata": {},
     "output_type": "execute_result"
    }
   ],
   "source": [
    "# stacking = np.array([predictions, predictions_rf, w_preds])\n",
    "# stacking.shape"
   ]
  },
  {
   "cell_type": "code",
   "execution_count": 587,
   "metadata": {},
   "outputs": [
    {
     "data": {
      "text/plain": [
       "(975, 3)"
      ]
     },
     "execution_count": 587,
     "metadata": {},
     "output_type": "execute_result"
    }
   ],
   "source": [
    "# stacking = np.transpose(stacking)\n",
    "# stacking.shape"
   ]
  },
  {
   "cell_type": "code",
   "execution_count": 588,
   "metadata": {},
   "outputs": [
    {
     "data": {
      "text/plain": [
       "array([[0., 0., 1.],\n",
       "       [0., 0., 0.],\n",
       "       [0., 0., 0.],\n",
       "       [1., 0., 0.],\n",
       "       [1., 0., 0.],\n",
       "       [0., 0., 1.],\n",
       "       [1., 0., 0.],\n",
       "       [1., 0., 0.],\n",
       "       [1., 0., 1.],\n",
       "       [1., 0., 0.]])"
      ]
     },
     "execution_count": 588,
     "metadata": {},
     "output_type": "execute_result"
    }
   ],
   "source": [
    "# stacking[:10]"
   ]
  },
  {
   "cell_type": "code",
   "execution_count": 589,
   "metadata": {},
   "outputs": [
    {
     "name": "stdout",
     "output_type": "stream",
     "text": [
      "오차 행렬\n",
      "[[710   0]\n",
      " [265   0]]\n",
      "정확도: 0.7282, 정밀도: 0.0000, 재현율: 0.0000, f1: 0.0000\n"
     ]
    }
   ],
   "source": [
    "# lgb_cr.fit(stacking, y_test)\n",
    "# lgb_pred = lgb_cr.predict(stacking)\n",
    "# get_clf_eval(y_test, lgb_pred)"
   ]
  },
  {
   "cell_type": "code",
   "execution_count": 590,
   "metadata": {},
   "outputs": [],
   "source": [
    "# from sklearn.model_selection import KFold\n",
    "# from sklearn.metrics import mean_absolute_error\n",
    "\n",
    "# # 개별 기반 모델에서 최종 메타 모델이 사용할 학습 및 테스트용 데이터를 생성하기 위한 함수. \n",
    "# def get_stacking_base_datasets(model, X_train_n, y_train_n, X_test_n, n_folds ):\n",
    "#     # 지정된 n_folds값으로 KFold 생성.\n",
    "#     kf = TimeSeriesSplit(n_splits=n_folds)\n",
    "#     #추후에 메타 모델이 사용할 학습 데이터 반환을 위한 넘파이 배열 초기화 \n",
    "#     train_fold_pred = np.zeros((X_train_n.shape[0] ,1 ))\n",
    "#     test_pred = np.zeros((X_test_n.shape[0],n_folds))\n",
    "#     print(model.__class__.__name__ , ' model 시작 ')\n",
    "    \n",
    "#     for folder_counter , (train_index, valid_index) in enumerate(kf.split(X_train_n)):\n",
    "#         #입력된 학습 데이터에서 기반 모델이 학습/예측할 폴드 데이터 셋 추출 \n",
    "#         print('\\t 폴드 세트: ',folder_counter,' 시작 ')\n",
    "#         X_tr = X_train_n[train_index] \n",
    "#         y_tr = y_train_n[train_index] \n",
    "#         X_te = X_train_n[valid_index]  \n",
    "        \n",
    "#         #폴드 세트 내부에서 다시 만들어진 학습 데이터로 기반 모델의 학습 수행.\n",
    "#         model.fit(X_tr , y_tr)       \n",
    "#         #폴드 세트 내부에서 다시 만들어진 검증 데이터로 기반 모델 예측 후 데이터 저장.\n",
    "#         train_fold_pred[valid_index, :] = model.predict(X_te).reshape(-1,1)\n",
    "#         #입력된 원본 테스트 데이터를 폴드 세트내 학습된 기반 모델에서 예측 후 데이터 저장. \n",
    "#         test_pred[:, folder_counter] = model.predict(X_test_n)\n",
    "            \n",
    "#     # 폴드 세트 내에서 원본 테스트 데이터를 예측한 데이터를 평균하여 테스트 데이터로 생성 \n",
    "#     test_pred_mean = np.mean(test_pred, axis=1).reshape(-1,1)    \n",
    "    \n",
    "#     #train_fold_pred는 최종 메타 모델이 사용하는 학습 데이터, test_pred_mean은 테스트 데이터\n",
    "#     return train_fold_pred , test_pred_mean"
   ]
  },
  {
   "cell_type": "code",
   "execution_count": 591,
   "metadata": {},
   "outputs": [],
   "source": [
    "# # CV스태킹 알고리즘 각 모델에 적용\n",
    "# lg_train, lg_test = get_stacking_base_datasets(gs, x_train_ada, y_train_ada, x_test, 5)\n",
    "# rf_train, rf_test = get_stacking_base_datasets(rf_gs, x_train_ada, y_train_ada, x_test, 5)\n",
    "# dt_train, dt_test = get_stacking_base_datasets(xgb_grid, x_train_ada, y_train_ada, x_test,  5)    \n",
    "# # ada_train, ada_test = get_stacking_base_datasets(ada_clf, x_train_ada, y_train_ada, x_test, 5)\n",
    "\n",
    "# # CV스태킹 알고리즘 결과로 메타 모델 학습/시험에 필요한 result_a result_b 만들기 \n",
    "# Stack_final_X_train = np.concatenate((lg_train, rf_train, dt_train),axis=1)\n",
    "# Stack_final_X_test = np.concatenate((lg_test, rf_test, dt_test), axis=1)\n",
    "\n",
    "# # 메타 모델 학습\n",
    "# lgb_clf.fit(Stack_final_X_train, y_train)\n",
    "# stack_final = lgb_clf.predict(Stack_final_X_test)\n",
    "\n",
    "# print('최종 메타 모델의 예측 정확도: {0:.4f}'.format(accuracy_score(y_test, stack_final)))"
   ]
  },
  {
   "cell_type": "code",
   "execution_count": null,
   "metadata": {},
   "outputs": [],
   "source": []
  }
 ],
 "metadata": {
  "kernelspec": {
   "display_name": "Python 3.10.4 64-bit",
   "language": "python",
   "name": "python3"
  },
  "language_info": {
   "codemirror_mode": {
    "name": "ipython",
    "version": 3
   },
   "file_extension": ".py",
   "mimetype": "text/x-python",
   "name": "python",
   "nbconvert_exporter": "python",
   "pygments_lexer": "ipython3",
   "version": "3.10.4"
  },
  "orig_nbformat": 4,
  "vscode": {
   "interpreter": {
    "hash": "d45b7667f15187787b62e9d1c54e096de9a2222ecb594bc9f5d6366f2c4af4e5"
   }
  }
 },
 "nbformat": 4,
 "nbformat_minor": 2
}
