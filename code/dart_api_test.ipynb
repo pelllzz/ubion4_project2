{
 "cells": [
  {
   "cell_type": "code",
   "execution_count": 1,
   "metadata": {},
   "outputs": [],
   "source": [
    "# 1단계 : 외감기업을 싹 다 긁어옵니다\n",
    "\n",
    "import requests\n",
    "from io import BytesIO\n",
    "import zipfile\n",
    "import xmltodict\n",
    "import json\n",
    "import csv"
   ]
  },
  {
   "cell_type": "code",
   "execution_count": 2,
   "metadata": {},
   "outputs": [
    {
     "name": "stdout",
     "output_type": "stream",
     "text": [
      "['CORPCODE.xml']\n"
     ]
    }
   ],
   "source": [
    "crtfc_key = '6c9ae05f7527c416cd8575ad214e65b6f255b6f2'\n",
    "corp_code_api = 'https://opendart.fss.or.kr/api/corpCode.xml'\n",
    "result_zip = requests.get(corp_code_api, params={'crtfc_key':crtfc_key})\n",
    "\n",
    "\n",
    "file_zipped = zipfile.ZipFile(BytesIO(result_zip.content))\n",
    "print(file_zipped.namelist())"
   ]
  },
  {
   "cell_type": "code",
   "execution_count": 3,
   "metadata": {},
   "outputs": [],
   "source": [
    "data_xml = file_zipped.read('CORPCODE.xml').decode('utf-8')\n",
    "data_dict = xmltodict.parse(data_xml)\n",
    "data_result = json.loads(json.dumps(data_dict))\n",
    "data_read = data_result['result']['list']"
   ]
  },
  {
   "cell_type": "code",
   "execution_count": 4,
   "metadata": {},
   "outputs": [],
   "source": [
    "data_list = []\n",
    "for row in data_read:\n",
    "    value_row = list(row.values())\n",
    "    data_list.append(value_row)"
   ]
  },
  {
   "cell_type": "code",
   "execution_count": 5,
   "metadata": {},
   "outputs": [],
   "source": [
    "csv_temp = open(\"../raw_data/api_test.csv\", \"w\", newline=\"\")\n",
    "writer_temp = csv.writer(csv_temp)\n",
    "writer_temp.writerows(data_list)"
   ]
  }
 ],
 "metadata": {
  "kernelspec": {
   "display_name": "Python 3.10.4 64-bit",
   "language": "python",
   "name": "python3"
  },
  "language_info": {
   "codemirror_mode": {
    "name": "ipython",
    "version": 3
   },
   "file_extension": ".py",
   "mimetype": "text/x-python",
   "name": "python",
   "nbconvert_exporter": "python",
   "pygments_lexer": "ipython3",
   "version": "3.10.4"
  },
  "orig_nbformat": 4,
  "vscode": {
   "interpreter": {
    "hash": "d45b7667f15187787b62e9d1c54e096de9a2222ecb594bc9f5d6366f2c4af4e5"
   }
  }
 },
 "nbformat": 4,
 "nbformat_minor": 2
}
