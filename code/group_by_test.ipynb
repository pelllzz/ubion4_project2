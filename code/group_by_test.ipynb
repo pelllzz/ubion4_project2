{
 "cells": [
  {
   "cell_type": "code",
   "execution_count": 116,
   "metadata": {},
   "outputs": [],
   "source": [
    "import pandas as pd\n",
    "import numpy as np"
   ]
  },
  {
   "cell_type": "code",
   "execution_count": 117,
   "metadata": {},
   "outputs": [
    {
     "data": {
      "text/html": [
       "<div>\n",
       "<style scoped>\n",
       "    .dataframe tbody tr th:only-of-type {\n",
       "        vertical-align: middle;\n",
       "    }\n",
       "\n",
       "    .dataframe tbody tr th {\n",
       "        vertical-align: top;\n",
       "    }\n",
       "\n",
       "    .dataframe thead th {\n",
       "        text-align: right;\n",
       "    }\n",
       "</style>\n",
       "<table border=\"1\" class=\"dataframe\">\n",
       "  <thead>\n",
       "    <tr style=\"text-align: right;\">\n",
       "      <th></th>\n",
       "      <th>Unnamed: 0</th>\n",
       "      <th>회사명</th>\n",
       "      <th>거래소코드</th>\n",
       "      <th>회계년도</th>\n",
       "      <th>이자보상배율</th>\n",
       "    </tr>\n",
       "  </thead>\n",
       "  <tbody>\n",
       "    <tr>\n",
       "      <th>0</th>\n",
       "      <td>0</td>\n",
       "      <td>(주)DB하이텍</td>\n",
       "      <td>990</td>\n",
       "      <td>11-Dec</td>\n",
       "      <td>-0.75</td>\n",
       "    </tr>\n",
       "    <tr>\n",
       "      <th>1</th>\n",
       "      <td>1</td>\n",
       "      <td>(주)DB하이텍</td>\n",
       "      <td>990</td>\n",
       "      <td>12-Dec</td>\n",
       "      <td>-0.31</td>\n",
       "    </tr>\n",
       "    <tr>\n",
       "      <th>2</th>\n",
       "      <td>2</td>\n",
       "      <td>(주)DB하이텍</td>\n",
       "      <td>990</td>\n",
       "      <td>13-Dec</td>\n",
       "      <td>-0.16</td>\n",
       "    </tr>\n",
       "    <tr>\n",
       "      <th>3</th>\n",
       "      <td>3</td>\n",
       "      <td>(주)DB하이텍</td>\n",
       "      <td>990</td>\n",
       "      <td>14-Dec</td>\n",
       "      <td>0.67</td>\n",
       "    </tr>\n",
       "    <tr>\n",
       "      <th>4</th>\n",
       "      <td>4</td>\n",
       "      <td>(주)DB하이텍</td>\n",
       "      <td>990</td>\n",
       "      <td>15-Dec</td>\n",
       "      <td>2.50</td>\n",
       "    </tr>\n",
       "    <tr>\n",
       "      <th>...</th>\n",
       "      <td>...</td>\n",
       "      <td>...</td>\n",
       "      <td>...</td>\n",
       "      <td>...</td>\n",
       "      <td>...</td>\n",
       "    </tr>\n",
       "    <tr>\n",
       "      <th>4372</th>\n",
       "      <td>4471</td>\n",
       "      <td>흥아해운(주)</td>\n",
       "      <td>3280</td>\n",
       "      <td>14-Dec</td>\n",
       "      <td>1.12</td>\n",
       "    </tr>\n",
       "    <tr>\n",
       "      <th>4373</th>\n",
       "      <td>4472</td>\n",
       "      <td>흥아해운(주)</td>\n",
       "      <td>3280</td>\n",
       "      <td>15-Dec</td>\n",
       "      <td>1.02</td>\n",
       "    </tr>\n",
       "    <tr>\n",
       "      <th>4374</th>\n",
       "      <td>4473</td>\n",
       "      <td>흥아해운(주)</td>\n",
       "      <td>3280</td>\n",
       "      <td>16-Dec</td>\n",
       "      <td>0.21</td>\n",
       "    </tr>\n",
       "    <tr>\n",
       "      <th>4375</th>\n",
       "      <td>4474</td>\n",
       "      <td>흥아해운(주)</td>\n",
       "      <td>3280</td>\n",
       "      <td>17-Dec</td>\n",
       "      <td>-0.42</td>\n",
       "    </tr>\n",
       "    <tr>\n",
       "      <th>4376</th>\n",
       "      <td>4475</td>\n",
       "      <td>흥아해운(주)</td>\n",
       "      <td>3280</td>\n",
       "      <td>18-Dec</td>\n",
       "      <td>-1.16</td>\n",
       "    </tr>\n",
       "  </tbody>\n",
       "</table>\n",
       "<p>4377 rows × 5 columns</p>\n",
       "</div>"
      ],
      "text/plain": [
       "      Unnamed: 0       회사명  거래소코드    회계년도  이자보상배율\n",
       "0              0  (주)DB하이텍    990  11-Dec   -0.75\n",
       "1              1  (주)DB하이텍    990  12-Dec   -0.31\n",
       "2              2  (주)DB하이텍    990  13-Dec   -0.16\n",
       "3              3  (주)DB하이텍    990  14-Dec    0.67\n",
       "4              4  (주)DB하이텍    990  15-Dec    2.50\n",
       "...          ...       ...    ...     ...     ...\n",
       "4372        4471   흥아해운(주)   3280  14-Dec    1.12\n",
       "4373        4472   흥아해운(주)   3280  15-Dec    1.02\n",
       "4374        4473   흥아해운(주)   3280  16-Dec    0.21\n",
       "4375        4474   흥아해운(주)   3280  17-Dec   -0.42\n",
       "4376        4475   흥아해운(주)   3280  18-Dec   -1.16\n",
       "\n",
       "[4377 rows x 5 columns]"
      ]
     },
     "execution_count": 117,
     "metadata": {},
     "output_type": "execute_result"
    }
   ],
   "source": [
    "df = pd.read_csv(\"../csv_data/test_1_한계.csv\", thousands=',', encoding=\"CP949\")\n",
    "df"
   ]
  },
  {
   "cell_type": "code",
   "execution_count": 118,
   "metadata": {},
   "outputs": [],
   "source": [
    "df.drop(columns=['거래소코드', 'Unnamed: 0'], inplace=True)"
   ]
  },
  {
   "cell_type": "code",
   "execution_count": 119,
   "metadata": {},
   "outputs": [],
   "source": [
    "df['회계년도'] = pd.to_datetime(df['회계년도'].str.upper(), format=\"%d-%b\", yearfirst=False).dt.strftime(\"%d\")"
   ]
  },
  {
   "cell_type": "code",
   "execution_count": 120,
   "metadata": {},
   "outputs": [
    {
     "data": {
      "text/html": [
       "<div>\n",
       "<style scoped>\n",
       "    .dataframe tbody tr th:only-of-type {\n",
       "        vertical-align: middle;\n",
       "    }\n",
       "\n",
       "    .dataframe tbody tr th {\n",
       "        vertical-align: top;\n",
       "    }\n",
       "\n",
       "    .dataframe thead th {\n",
       "        text-align: right;\n",
       "    }\n",
       "</style>\n",
       "<table border=\"1\" class=\"dataframe\">\n",
       "  <thead>\n",
       "    <tr style=\"text-align: right;\">\n",
       "      <th></th>\n",
       "      <th>회사명</th>\n",
       "      <th>회계년도</th>\n",
       "      <th>이자보상배율</th>\n",
       "    </tr>\n",
       "  </thead>\n",
       "  <tbody>\n",
       "    <tr>\n",
       "      <th>0</th>\n",
       "      <td>(주)DB하이텍</td>\n",
       "      <td>11</td>\n",
       "      <td>-0.75</td>\n",
       "    </tr>\n",
       "    <tr>\n",
       "      <th>1</th>\n",
       "      <td>(주)DB하이텍</td>\n",
       "      <td>12</td>\n",
       "      <td>-0.31</td>\n",
       "    </tr>\n",
       "    <tr>\n",
       "      <th>2</th>\n",
       "      <td>(주)DB하이텍</td>\n",
       "      <td>13</td>\n",
       "      <td>-0.16</td>\n",
       "    </tr>\n",
       "    <tr>\n",
       "      <th>3</th>\n",
       "      <td>(주)DB하이텍</td>\n",
       "      <td>14</td>\n",
       "      <td>0.67</td>\n",
       "    </tr>\n",
       "    <tr>\n",
       "      <th>4</th>\n",
       "      <td>(주)DB하이텍</td>\n",
       "      <td>15</td>\n",
       "      <td>2.50</td>\n",
       "    </tr>\n",
       "    <tr>\n",
       "      <th>...</th>\n",
       "      <td>...</td>\n",
       "      <td>...</td>\n",
       "      <td>...</td>\n",
       "    </tr>\n",
       "    <tr>\n",
       "      <th>4372</th>\n",
       "      <td>흥아해운(주)</td>\n",
       "      <td>14</td>\n",
       "      <td>1.12</td>\n",
       "    </tr>\n",
       "    <tr>\n",
       "      <th>4373</th>\n",
       "      <td>흥아해운(주)</td>\n",
       "      <td>15</td>\n",
       "      <td>1.02</td>\n",
       "    </tr>\n",
       "    <tr>\n",
       "      <th>4374</th>\n",
       "      <td>흥아해운(주)</td>\n",
       "      <td>16</td>\n",
       "      <td>0.21</td>\n",
       "    </tr>\n",
       "    <tr>\n",
       "      <th>4375</th>\n",
       "      <td>흥아해운(주)</td>\n",
       "      <td>17</td>\n",
       "      <td>-0.42</td>\n",
       "    </tr>\n",
       "    <tr>\n",
       "      <th>4376</th>\n",
       "      <td>흥아해운(주)</td>\n",
       "      <td>18</td>\n",
       "      <td>-1.16</td>\n",
       "    </tr>\n",
       "  </tbody>\n",
       "</table>\n",
       "<p>4377 rows × 3 columns</p>\n",
       "</div>"
      ],
      "text/plain": [
       "           회사명 회계년도  이자보상배율\n",
       "0     (주)DB하이텍   11   -0.75\n",
       "1     (주)DB하이텍   12   -0.31\n",
       "2     (주)DB하이텍   13   -0.16\n",
       "3     (주)DB하이텍   14    0.67\n",
       "4     (주)DB하이텍   15    2.50\n",
       "...        ...  ...     ...\n",
       "4372   흥아해운(주)   14    1.12\n",
       "4373   흥아해운(주)   15    1.02\n",
       "4374   흥아해운(주)   16    0.21\n",
       "4375   흥아해운(주)   17   -0.42\n",
       "4376   흥아해운(주)   18   -1.16\n",
       "\n",
       "[4377 rows x 3 columns]"
      ]
     },
     "execution_count": 120,
     "metadata": {},
     "output_type": "execute_result"
    }
   ],
   "source": [
    "df"
   ]
  },
  {
   "cell_type": "code",
   "execution_count": 121,
   "metadata": {},
   "outputs": [
    {
     "data": {
      "text/html": [
       "<div>\n",
       "<style scoped>\n",
       "    .dataframe tbody tr th:only-of-type {\n",
       "        vertical-align: middle;\n",
       "    }\n",
       "\n",
       "    .dataframe tbody tr th {\n",
       "        vertical-align: top;\n",
       "    }\n",
       "\n",
       "    .dataframe thead th {\n",
       "        text-align: right;\n",
       "    }\n",
       "</style>\n",
       "<table border=\"1\" class=\"dataframe\">\n",
       "  <thead>\n",
       "    <tr style=\"text-align: right;\">\n",
       "      <th></th>\n",
       "      <th></th>\n",
       "      <th>이자보상배율</th>\n",
       "    </tr>\n",
       "    <tr>\n",
       "      <th>회사명</th>\n",
       "      <th>회계년도</th>\n",
       "      <th></th>\n",
       "    </tr>\n",
       "  </thead>\n",
       "  <tbody>\n",
       "    <tr>\n",
       "      <th rowspan=\"5\" valign=\"top\">(주)DB하이텍</th>\n",
       "      <th>11</th>\n",
       "      <td>-0.75</td>\n",
       "    </tr>\n",
       "    <tr>\n",
       "      <th>12</th>\n",
       "      <td>-0.31</td>\n",
       "    </tr>\n",
       "    <tr>\n",
       "      <th>13</th>\n",
       "      <td>-0.16</td>\n",
       "    </tr>\n",
       "    <tr>\n",
       "      <th>14</th>\n",
       "      <td>0.67</td>\n",
       "    </tr>\n",
       "    <tr>\n",
       "      <th>15</th>\n",
       "      <td>2.50</td>\n",
       "    </tr>\n",
       "    <tr>\n",
       "      <th>...</th>\n",
       "      <th>...</th>\n",
       "      <td>...</td>\n",
       "    </tr>\n",
       "    <tr>\n",
       "      <th rowspan=\"5\" valign=\"top\">흥아해운(주)</th>\n",
       "      <th>14</th>\n",
       "      <td>1.12</td>\n",
       "    </tr>\n",
       "    <tr>\n",
       "      <th>15</th>\n",
       "      <td>1.02</td>\n",
       "    </tr>\n",
       "    <tr>\n",
       "      <th>16</th>\n",
       "      <td>0.21</td>\n",
       "    </tr>\n",
       "    <tr>\n",
       "      <th>17</th>\n",
       "      <td>-0.42</td>\n",
       "    </tr>\n",
       "    <tr>\n",
       "      <th>18</th>\n",
       "      <td>-1.16</td>\n",
       "    </tr>\n",
       "  </tbody>\n",
       "</table>\n",
       "<p>4377 rows × 1 columns</p>\n",
       "</div>"
      ],
      "text/plain": [
       "               이자보상배율\n",
       "회사명      회계년도        \n",
       "(주)DB하이텍 11     -0.75\n",
       "         12     -0.31\n",
       "         13     -0.16\n",
       "         14      0.67\n",
       "         15      2.50\n",
       "...               ...\n",
       "흥아해운(주)  14      1.12\n",
       "         15      1.02\n",
       "         16      0.21\n",
       "         17     -0.42\n",
       "         18     -1.16\n",
       "\n",
       "[4377 rows x 1 columns]"
      ]
     },
     "execution_count": 121,
     "metadata": {},
     "output_type": "execute_result"
    }
   ],
   "source": [
    "df2 = df.groupby(['회사명', '회계년도']).mean()\n",
    "df2"
   ]
  },
  {
   "cell_type": "code",
   "execution_count": 122,
   "metadata": {},
   "outputs": [],
   "source": [
    "df2['부실기업'] = 0"
   ]
  },
  {
   "cell_type": "code",
   "execution_count": 123,
   "metadata": {},
   "outputs": [
    {
     "data": {
      "text/plain": [
       "'회사명'"
      ]
     },
     "execution_count": 123,
     "metadata": {},
     "output_type": "execute_result"
    }
   ],
   "source": [
    "df2.index.names[0]"
   ]
  },
  {
   "cell_type": "code",
   "execution_count": 124,
   "metadata": {},
   "outputs": [
    {
     "data": {
      "text/plain": [
       "'(주)DB하이텍'"
      ]
     },
     "execution_count": 124,
     "metadata": {},
     "output_type": "execute_result"
    }
   ],
   "source": [
    "df2.index.values[0][0]"
   ]
  },
  {
   "cell_type": "code",
   "execution_count": 125,
   "metadata": {},
   "outputs": [
    {
     "data": {
      "text/plain": [
       "-0.16"
      ]
     },
     "execution_count": 125,
     "metadata": {},
     "output_type": "execute_result"
    }
   ],
   "source": [
    "df2.values[2][0]"
   ]
  },
  {
   "cell_type": "code",
   "execution_count": 126,
   "metadata": {},
   "outputs": [],
   "source": [
    "f_company = [] # 한계기업을 저장하는 리스트\n",
    "f_company_x = [] # 4년 연속 이자보상배율 1 미만인 기업 삽입\n",
    "count = 0 # 한계기업 카운트용\n",
    "company = 'x' # 한계기업 기록용\n",
    "\n",
    "for i in range(0, len(df2)):\n",
    "    \n",
    "    # 회사명이 이미 기록된 상태에서 또 중복으로 적을 필요는 없습니다\n",
    "    if company == df2.index.values[i][0]:\n",
    "        # 다만 그 기업이 한계기업인데\n",
    "        if count > 3:\n",
    "            # 어머? 4년 연속이네요? 기록!!!\n",
    "            if df2.values[i][0] < 1:\n",
    "                f_company_x.append(company)\n",
    "                count = 0\n",
    "\n",
    "                # 반복문에서 볼일 다 끝났으니 통과합니다\n",
    "                continue\n",
    "        \n",
    "        # 그게 아니라면 반복문을 통과합니다\n",
    "        continue\n",
    "\n",
    "    # 이자보상배율이 1 미만인 경우 카운트를 늘립니다\n",
    "    if df2.values[i][0] < 1:\n",
    "            count += 1\n",
    "    # 도중에 이자보상배율이 1 미만이면 탈출합니다\n",
    "    else:\n",
    "        count = 0\n",
    "\n",
    "    # 한계 기업 클럽에 오셨습니다. 환영합니다.\n",
    "    if count == 3:\n",
    "        company = df2.index.values[i][0]\n",
    "        f_company.append(company)\n",
    "        count += 1"
   ]
  },
  {
   "cell_type": "code",
   "execution_count": 127,
   "metadata": {},
   "outputs": [
    {
     "data": {
      "text/html": [
       "<div>\n",
       "<style scoped>\n",
       "    .dataframe tbody tr th:only-of-type {\n",
       "        vertical-align: middle;\n",
       "    }\n",
       "\n",
       "    .dataframe tbody tr th {\n",
       "        vertical-align: top;\n",
       "    }\n",
       "\n",
       "    .dataframe thead th {\n",
       "        text-align: right;\n",
       "    }\n",
       "</style>\n",
       "<table border=\"1\" class=\"dataframe\">\n",
       "  <thead>\n",
       "    <tr style=\"text-align: right;\">\n",
       "      <th></th>\n",
       "      <th></th>\n",
       "      <th>이자보상배율</th>\n",
       "      <th>부실기업</th>\n",
       "    </tr>\n",
       "    <tr>\n",
       "      <th>회사명</th>\n",
       "      <th>회계년도</th>\n",
       "      <th></th>\n",
       "      <th></th>\n",
       "    </tr>\n",
       "  </thead>\n",
       "  <tbody>\n",
       "    <tr>\n",
       "      <th rowspan=\"5\" valign=\"top\">(주)DB하이텍</th>\n",
       "      <th>11</th>\n",
       "      <td>-0.75</td>\n",
       "      <td>0</td>\n",
       "    </tr>\n",
       "    <tr>\n",
       "      <th>12</th>\n",
       "      <td>-0.31</td>\n",
       "      <td>0</td>\n",
       "    </tr>\n",
       "    <tr>\n",
       "      <th>13</th>\n",
       "      <td>-0.16</td>\n",
       "      <td>0</td>\n",
       "    </tr>\n",
       "    <tr>\n",
       "      <th>14</th>\n",
       "      <td>0.67</td>\n",
       "      <td>0</td>\n",
       "    </tr>\n",
       "    <tr>\n",
       "      <th>15</th>\n",
       "      <td>2.50</td>\n",
       "      <td>0</td>\n",
       "    </tr>\n",
       "    <tr>\n",
       "      <th>...</th>\n",
       "      <th>...</th>\n",
       "      <td>...</td>\n",
       "      <td>...</td>\n",
       "    </tr>\n",
       "    <tr>\n",
       "      <th rowspan=\"5\" valign=\"top\">흥아해운(주)</th>\n",
       "      <th>14</th>\n",
       "      <td>1.12</td>\n",
       "      <td>0</td>\n",
       "    </tr>\n",
       "    <tr>\n",
       "      <th>15</th>\n",
       "      <td>1.02</td>\n",
       "      <td>0</td>\n",
       "    </tr>\n",
       "    <tr>\n",
       "      <th>16</th>\n",
       "      <td>0.21</td>\n",
       "      <td>0</td>\n",
       "    </tr>\n",
       "    <tr>\n",
       "      <th>17</th>\n",
       "      <td>-0.42</td>\n",
       "      <td>0</td>\n",
       "    </tr>\n",
       "    <tr>\n",
       "      <th>18</th>\n",
       "      <td>-1.16</td>\n",
       "      <td>0</td>\n",
       "    </tr>\n",
       "  </tbody>\n",
       "</table>\n",
       "<p>4377 rows × 2 columns</p>\n",
       "</div>"
      ],
      "text/plain": [
       "               이자보상배율  부실기업\n",
       "회사명      회계년도              \n",
       "(주)DB하이텍 11     -0.75     0\n",
       "         12     -0.31     0\n",
       "         13     -0.16     0\n",
       "         14      0.67     0\n",
       "         15      2.50     0\n",
       "...               ...   ...\n",
       "흥아해운(주)  14      1.12     0\n",
       "         15      1.02     0\n",
       "         16      0.21     0\n",
       "         17     -0.42     0\n",
       "         18     -1.16     0\n",
       "\n",
       "[4377 rows x 2 columns]"
      ]
     },
     "execution_count": 127,
     "metadata": {},
     "output_type": "execute_result"
    }
   ],
   "source": [
    "df2"
   ]
  },
  {
   "cell_type": "code",
   "execution_count": 137,
   "metadata": {},
   "outputs": [
    {
     "ename": "AttributeError",
     "evalue": "'tuple' object has no attribute 'isin'",
     "output_type": "error",
     "traceback": [
      "\u001b[1;31m---------------------------------------------------------------------------\u001b[0m",
      "\u001b[1;31mAttributeError\u001b[0m                            Traceback (most recent call last)",
      "\u001b[1;32mc:\\Users\\luck1\\Documents\\국비지원\\포트폴리오\\02_프로젝트2\\code\\group_by_test.ipynb 셀 13\u001b[0m in \u001b[0;36m<cell line: 1>\u001b[1;34m()\u001b[0m\n\u001b[1;32m----> <a href='vscode-notebook-cell:/c%3A/Users/luck1/Documents/%EA%B5%AD%EB%B9%84%EC%A7%80%EC%9B%90/%ED%8F%AC%ED%8A%B8%ED%8F%B4%EB%A6%AC%EC%98%A4/02_%ED%94%84%EB%A1%9C%EC%A0%9D%ED%8A%B82/code/group_by_test.ipynb#X15sZmlsZQ%3D%3D?line=0'>1</a>\u001b[0m df_4 \u001b[39m=\u001b[39m df2\u001b[39m.\u001b[39;49mindex\u001b[39m.\u001b[39;49mvalues[\u001b[39m0\u001b[39;49m]\u001b[39m.\u001b[39;49misin(f_company[\u001b[39m0\u001b[39m])\n\u001b[0;32m      <a href='vscode-notebook-cell:/c%3A/Users/luck1/Documents/%EA%B5%AD%EB%B9%84%EC%A7%80%EC%9B%90/%ED%8F%AC%ED%8A%B8%ED%8F%B4%EB%A6%AC%EC%98%A4/02_%ED%94%84%EB%A1%9C%EC%A0%9D%ED%8A%B82/code/group_by_test.ipynb#X15sZmlsZQ%3D%3D?line=1'>2</a>\u001b[0m df_4\n",
      "\u001b[1;31mAttributeError\u001b[0m: 'tuple' object has no attribute 'isin'"
     ]
    }
   ],
   "source": [
    "df_4 = df2.index.values[0].isin(f_company)\n",
    "df_4"
   ]
  },
  {
   "cell_type": "code",
   "execution_count": 135,
   "metadata": {},
   "outputs": [
    {
     "data": {
      "text/plain": [
       "'(주)DB하이텍'"
      ]
     },
     "execution_count": 135,
     "metadata": {},
     "output_type": "execute_result"
    }
   ],
   "source": [
    "df2.index.values[0][0]"
   ]
  },
  {
   "cell_type": "code",
   "execution_count": 129,
   "metadata": {},
   "outputs": [
    {
     "data": {
      "text/html": [
       "<div>\n",
       "<style scoped>\n",
       "    .dataframe tbody tr th:only-of-type {\n",
       "        vertical-align: middle;\n",
       "    }\n",
       "\n",
       "    .dataframe tbody tr th {\n",
       "        vertical-align: top;\n",
       "    }\n",
       "\n",
       "    .dataframe thead th {\n",
       "        text-align: right;\n",
       "    }\n",
       "</style>\n",
       "<table border=\"1\" class=\"dataframe\">\n",
       "  <thead>\n",
       "    <tr style=\"text-align: right;\">\n",
       "      <th></th>\n",
       "      <th>0</th>\n",
       "    </tr>\n",
       "  </thead>\n",
       "  <tbody>\n",
       "    <tr>\n",
       "      <th>0</th>\n",
       "      <td>(주)DB하이텍</td>\n",
       "    </tr>\n",
       "    <tr>\n",
       "      <th>1</th>\n",
       "      <td>(주)HJ중공업</td>\n",
       "    </tr>\n",
       "    <tr>\n",
       "      <th>2</th>\n",
       "      <td>(주)ST</td>\n",
       "    </tr>\n",
       "    <tr>\n",
       "      <th>3</th>\n",
       "      <td>(주)TCC스틸</td>\n",
       "    </tr>\n",
       "    <tr>\n",
       "      <th>4</th>\n",
       "      <td>(주)강원에너지</td>\n",
       "    </tr>\n",
       "    <tr>\n",
       "      <th>...</th>\n",
       "      <td>...</td>\n",
       "    </tr>\n",
       "    <tr>\n",
       "      <th>471</th>\n",
       "      <td>현대로템(주)</td>\n",
       "    </tr>\n",
       "    <tr>\n",
       "      <th>472</th>\n",
       "      <td>현우산업(주)</td>\n",
       "    </tr>\n",
       "    <tr>\n",
       "      <th>473</th>\n",
       "      <td>휴림로봇(주)</td>\n",
       "    </tr>\n",
       "    <tr>\n",
       "      <th>474</th>\n",
       "      <td>휴마시스(주)</td>\n",
       "    </tr>\n",
       "    <tr>\n",
       "      <th>475</th>\n",
       "      <td>흥아해운(주)</td>\n",
       "    </tr>\n",
       "  </tbody>\n",
       "</table>\n",
       "<p>476 rows × 1 columns</p>\n",
       "</div>"
      ],
      "text/plain": [
       "            0\n",
       "0    (주)DB하이텍\n",
       "1    (주)HJ중공업\n",
       "2       (주)ST\n",
       "3    (주)TCC스틸\n",
       "4    (주)강원에너지\n",
       "..        ...\n",
       "471   현대로템(주)\n",
       "472   현우산업(주)\n",
       "473   휴림로봇(주)\n",
       "474   휴마시스(주)\n",
       "475   흥아해운(주)\n",
       "\n",
       "[476 rows x 1 columns]"
      ]
     },
     "execution_count": 129,
     "metadata": {},
     "output_type": "execute_result"
    }
   ],
   "source": [
    "df_test = pd.DataFrame(f_company)\n",
    "df_test"
   ]
  },
  {
   "cell_type": "code",
   "execution_count": 146,
   "metadata": {},
   "outputs": [
    {
     "data": {
      "text/plain": [
       "'(주)HJ중공업'"
      ]
     },
     "execution_count": 146,
     "metadata": {},
     "output_type": "execute_result"
    }
   ],
   "source": [
    "df_test[0].iloc[1]"
   ]
  },
  {
   "cell_type": "code",
   "execution_count": 149,
   "metadata": {},
   "outputs": [
    {
     "data": {
      "text/plain": [
       "'(주)DB하이텍'"
      ]
     },
     "execution_count": 149,
     "metadata": {},
     "output_type": "execute_result"
    }
   ],
   "source": [
    "df2.index.values[2][0]"
   ]
  },
  {
   "cell_type": "code",
   "execution_count": 143,
   "metadata": {},
   "outputs": [
    {
     "name": "stdout",
     "output_type": "stream",
     "text": [
      "1\n"
     ]
    },
    {
     "ename": "IndexError",
     "evalue": "single positional indexer is out-of-bounds",
     "output_type": "error",
     "traceback": [
      "\u001b[1;31m---------------------------------------------------------------------------\u001b[0m",
      "\u001b[1;31mIndexError\u001b[0m                                Traceback (most recent call last)",
      "\u001b[1;32mc:\\Users\\luck1\\Documents\\국비지원\\포트폴리오\\02_프로젝트2\\code\\group_by_test.ipynb 셀 17\u001b[0m in \u001b[0;36m<cell line: 1>\u001b[1;34m()\u001b[0m\n\u001b[0;32m      <a href='vscode-notebook-cell:/c%3A/Users/luck1/Documents/%EA%B5%AD%EB%B9%84%EC%A7%80%EC%9B%90/%ED%8F%AC%ED%8A%B8%ED%8F%B4%EB%A6%AC%EC%98%A4/02_%ED%94%84%EB%A1%9C%EC%A0%9D%ED%8A%B82/code/group_by_test.ipynb#X22sZmlsZQ%3D%3D?line=0'>1</a>\u001b[0m \u001b[39mfor\u001b[39;00m i \u001b[39min\u001b[39;00m \u001b[39mrange\u001b[39m(\u001b[39m0\u001b[39m, \u001b[39mlen\u001b[39m(df2)):\n\u001b[0;32m      <a href='vscode-notebook-cell:/c%3A/Users/luck1/Documents/%EA%B5%AD%EB%B9%84%EC%A7%80%EC%9B%90/%ED%8F%AC%ED%8A%B8%ED%8F%B4%EB%A6%AC%EC%98%A4/02_%ED%94%84%EB%A1%9C%EC%A0%9D%ED%8A%B82/code/group_by_test.ipynb#X22sZmlsZQ%3D%3D?line=1'>2</a>\u001b[0m     \n\u001b[0;32m      <a href='vscode-notebook-cell:/c%3A/Users/luck1/Documents/%EA%B5%AD%EB%B9%84%EC%A7%80%EC%9B%90/%ED%8F%AC%ED%8A%B8%ED%8F%B4%EB%A6%AC%EC%98%A4/02_%ED%94%84%EB%A1%9C%EC%A0%9D%ED%8A%B82/code/group_by_test.ipynb#X22sZmlsZQ%3D%3D?line=2'>3</a>\u001b[0m     \u001b[39m# 회사명을 이런 식으로 찾아야하나\u001b[39;00m\n\u001b[1;32m----> <a href='vscode-notebook-cell:/c%3A/Users/luck1/Documents/%EA%B5%AD%EB%B9%84%EC%A7%80%EC%9B%90/%ED%8F%AC%ED%8A%B8%ED%8F%B4%EB%A6%AC%EC%98%A4/02_%ED%94%84%EB%A1%9C%EC%A0%9D%ED%8A%B82/code/group_by_test.ipynb#X22sZmlsZQ%3D%3D?line=3'>4</a>\u001b[0m     \u001b[39mif\u001b[39;00m df_test[\u001b[39m0\u001b[39;49m]\u001b[39m.\u001b[39;49miloc[i] \u001b[39m==\u001b[39m df2\u001b[39m.\u001b[39mindex\u001b[39m.\u001b[39mvalues[i][\u001b[39m0\u001b[39m]:\n\u001b[0;32m      <a href='vscode-notebook-cell:/c%3A/Users/luck1/Documents/%EA%B5%AD%EB%B9%84%EC%A7%80%EC%9B%90/%ED%8F%AC%ED%8A%B8%ED%8F%B4%EB%A6%AC%EC%98%A4/02_%ED%94%84%EB%A1%9C%EC%A0%9D%ED%8A%B82/code/group_by_test.ipynb#X22sZmlsZQ%3D%3D?line=4'>5</a>\u001b[0m         \u001b[39mprint\u001b[39m(\u001b[39m1\u001b[39m)\n",
      "File \u001b[1;32mc:\\Users\\luck1\\AppData\\Local\\Programs\\Python\\Python310\\lib\\site-packages\\pandas\\core\\indexing.py:967\u001b[0m, in \u001b[0;36m_LocationIndexer.__getitem__\u001b[1;34m(self, key)\u001b[0m\n\u001b[0;32m    964\u001b[0m axis \u001b[39m=\u001b[39m \u001b[39mself\u001b[39m\u001b[39m.\u001b[39maxis \u001b[39mor\u001b[39;00m \u001b[39m0\u001b[39m\n\u001b[0;32m    966\u001b[0m maybe_callable \u001b[39m=\u001b[39m com\u001b[39m.\u001b[39mapply_if_callable(key, \u001b[39mself\u001b[39m\u001b[39m.\u001b[39mobj)\n\u001b[1;32m--> 967\u001b[0m \u001b[39mreturn\u001b[39;00m \u001b[39mself\u001b[39;49m\u001b[39m.\u001b[39;49m_getitem_axis(maybe_callable, axis\u001b[39m=\u001b[39;49maxis)\n",
      "File \u001b[1;32mc:\\Users\\luck1\\AppData\\Local\\Programs\\Python\\Python310\\lib\\site-packages\\pandas\\core\\indexing.py:1520\u001b[0m, in \u001b[0;36m_iLocIndexer._getitem_axis\u001b[1;34m(self, key, axis)\u001b[0m\n\u001b[0;32m   1517\u001b[0m     \u001b[39mraise\u001b[39;00m \u001b[39mTypeError\u001b[39;00m(\u001b[39m\"\u001b[39m\u001b[39mCannot index by location index with a non-integer key\u001b[39m\u001b[39m\"\u001b[39m)\n\u001b[0;32m   1519\u001b[0m \u001b[39m# validate the location\u001b[39;00m\n\u001b[1;32m-> 1520\u001b[0m \u001b[39mself\u001b[39;49m\u001b[39m.\u001b[39;49m_validate_integer(key, axis)\n\u001b[0;32m   1522\u001b[0m \u001b[39mreturn\u001b[39;00m \u001b[39mself\u001b[39m\u001b[39m.\u001b[39mobj\u001b[39m.\u001b[39m_ixs(key, axis\u001b[39m=\u001b[39maxis)\n",
      "File \u001b[1;32mc:\\Users\\luck1\\AppData\\Local\\Programs\\Python\\Python310\\lib\\site-packages\\pandas\\core\\indexing.py:1452\u001b[0m, in \u001b[0;36m_iLocIndexer._validate_integer\u001b[1;34m(self, key, axis)\u001b[0m\n\u001b[0;32m   1450\u001b[0m len_axis \u001b[39m=\u001b[39m \u001b[39mlen\u001b[39m(\u001b[39mself\u001b[39m\u001b[39m.\u001b[39mobj\u001b[39m.\u001b[39m_get_axis(axis))\n\u001b[0;32m   1451\u001b[0m \u001b[39mif\u001b[39;00m key \u001b[39m>\u001b[39m\u001b[39m=\u001b[39m len_axis \u001b[39mor\u001b[39;00m key \u001b[39m<\u001b[39m \u001b[39m-\u001b[39mlen_axis:\n\u001b[1;32m-> 1452\u001b[0m     \u001b[39mraise\u001b[39;00m \u001b[39mIndexError\u001b[39;00m(\u001b[39m\"\u001b[39m\u001b[39msingle positional indexer is out-of-bounds\u001b[39m\u001b[39m\"\u001b[39m)\n",
      "\u001b[1;31mIndexError\u001b[0m: single positional indexer is out-of-bounds"
     ]
    }
   ],
   "source": [
    "for i in range(0, len(df2)):\n",
    "    \n",
    "    # 회사명을 이런 식으로 찾아야하나\n",
    "    if df_test[0].iloc[i] == df2.index.values[i][0]:\n",
    "        print(1)"
   ]
  }
 ],
 "metadata": {
  "kernelspec": {
   "display_name": "Python 3.10.4 64-bit",
   "language": "python",
   "name": "python3"
  },
  "language_info": {
   "codemirror_mode": {
    "name": "ipython",
    "version": 3
   },
   "file_extension": ".py",
   "mimetype": "text/x-python",
   "name": "python",
   "nbconvert_exporter": "python",
   "pygments_lexer": "ipython3",
   "version": "3.10.4"
  },
  "orig_nbformat": 4,
  "vscode": {
   "interpreter": {
    "hash": "d45b7667f15187787b62e9d1c54e096de9a2222ecb594bc9f5d6366f2c4af4e5"
   }
  }
 },
 "nbformat": 4,
 "nbformat_minor": 2
}
